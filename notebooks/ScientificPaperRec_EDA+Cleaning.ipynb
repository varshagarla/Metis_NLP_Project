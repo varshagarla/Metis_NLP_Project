{
 "cells": [
  {
   "cell_type": "markdown",
   "id": "7bb7fcff",
   "metadata": {},
   "source": [
    "## Import libraries"
   ]
  },
  {
   "cell_type": "code",
   "execution_count": 14,
   "id": "73aa397d",
   "metadata": {},
   "outputs": [],
   "source": [
    "import pandas as pd \n",
    "import numpy as np # linear algebra\n",
    "import matplotlib.pyplot as plt # plotting\n",
    "import seaborn as sns\n",
    "\n",
    "from sklearn import preprocessing\n",
    "\n",
    "from nltk.tokenize import sent_tokenize, word_tokenize \n",
    "from nltk.tag import pos_tag, pos_tag_sents\n",
    "from nltk.corpus import wordnet\n",
    "from nltk.stem import WordNetLemmatizer \n",
    "\n",
    "import re\n",
    "import string"
   ]
  },
  {
   "cell_type": "markdown",
   "id": "de916b09",
   "metadata": {},
   "source": [
    "## Read in the file"
   ]
  },
  {
   "cell_type": "code",
   "execution_count": 10,
   "id": "dcc45c5d",
   "metadata": {},
   "outputs": [],
   "source": [
    "df = pd.read_csv('PubmedAbstracts1519(10000).csv')\n",
    "df.reset_index(drop=True, inplace=True)"
   ]
  },
  {
   "cell_type": "markdown",
   "id": "69dd8abd",
   "metadata": {},
   "source": [
    "### About this file (Description from Kaggle)\n",
    "The dataset is abstracts of research articles between 2015 and 2019. \n",
    "The search keywords are \"tobacco\", \"alcohol\". There are a total of 10 thousand abstracts.\n",
    "- It contains two columns, document ID and Abstract."
   ]
  },
  {
   "cell_type": "markdown",
   "id": "1874d457",
   "metadata": {},
   "source": [
    "## Preliminary EDA"
   ]
  },
  {
   "cell_type": "markdown",
   "id": "0c23169f",
   "metadata": {},
   "source": [
    "### General Inspection"
   ]
  },
  {
   "cell_type": "markdown",
   "id": "b77596f7",
   "metadata": {},
   "source": [
    "#### Look at the top 5 rows"
   ]
  },
  {
   "cell_type": "code",
   "execution_count": 17,
   "id": "bed52d14",
   "metadata": {},
   "outputs": [
    {
     "data": {
      "text/html": [
       "<div>\n",
       "<style scoped>\n",
       "    .dataframe tbody tr th:only-of-type {\n",
       "        vertical-align: middle;\n",
       "    }\n",
       "\n",
       "    .dataframe tbody tr th {\n",
       "        vertical-align: top;\n",
       "    }\n",
       "\n",
       "    .dataframe thead th {\n",
       "        text-align: right;\n",
       "    }\n",
       "</style>\n",
       "<table border=\"1\" class=\"dataframe\">\n",
       "  <thead>\n",
       "    <tr style=\"text-align: right;\">\n",
       "      <th></th>\n",
       "      <th>Unnamed: 0</th>\n",
       "      <th>x</th>\n",
       "    </tr>\n",
       "  </thead>\n",
       "  <tbody>\n",
       "    <tr>\n",
       "      <th>0</th>\n",
       "      <td>1</td>\n",
       "      <td>This case report investigated the transactiona...</td>\n",
       "    </tr>\n",
       "    <tr>\n",
       "      <th>1</th>\n",
       "      <td>2</td>\n",
       "      <td>Does it matter what we eat for our mental heal...</td>\n",
       "    </tr>\n",
       "    <tr>\n",
       "      <th>2</th>\n",
       "      <td>3</td>\n",
       "      <td>Pubertal timing matters for psychological deve...</td>\n",
       "    </tr>\n",
       "    <tr>\n",
       "      <th>3</th>\n",
       "      <td>4</td>\n",
       "      <td>Plasminogen activator inhibitor 1 (PAI-1), whi...</td>\n",
       "    </tr>\n",
       "    <tr>\n",
       "      <th>4</th>\n",
       "      <td>5</td>\n",
       "      <td>The adolescent developmental stage appears to ...</td>\n",
       "    </tr>\n",
       "  </tbody>\n",
       "</table>\n",
       "</div>"
      ],
      "text/plain": [
       "   Unnamed: 0                                                  x\n",
       "0           1  This case report investigated the transactiona...\n",
       "1           2  Does it matter what we eat for our mental heal...\n",
       "2           3  Pubertal timing matters for psychological deve...\n",
       "3           4  Plasminogen activator inhibitor 1 (PAI-1), whi...\n",
       "4           5  The adolescent developmental stage appears to ..."
      ]
     },
     "execution_count": 17,
     "metadata": {},
     "output_type": "execute_result"
    }
   ],
   "source": [
    "df.head()"
   ]
  },
  {
   "cell_type": "markdown",
   "id": "fdc4a7d8",
   "metadata": {},
   "source": [
    "#### Rename column titles"
   ]
  },
  {
   "cell_type": "code",
   "execution_count": 22,
   "id": "0d9dfcb0",
   "metadata": {},
   "outputs": [
    {
     "data": {
      "text/html": [
       "<div>\n",
       "<style scoped>\n",
       "    .dataframe tbody tr th:only-of-type {\n",
       "        vertical-align: middle;\n",
       "    }\n",
       "\n",
       "    .dataframe tbody tr th {\n",
       "        vertical-align: top;\n",
       "    }\n",
       "\n",
       "    .dataframe thead th {\n",
       "        text-align: right;\n",
       "    }\n",
       "</style>\n",
       "<table border=\"1\" class=\"dataframe\">\n",
       "  <thead>\n",
       "    <tr style=\"text-align: right;\">\n",
       "      <th></th>\n",
       "      <th>PaperID</th>\n",
       "      <th>Abstract</th>\n",
       "    </tr>\n",
       "  </thead>\n",
       "  <tbody>\n",
       "    <tr>\n",
       "      <th>0</th>\n",
       "      <td>1</td>\n",
       "      <td>This case report investigated the transactiona...</td>\n",
       "    </tr>\n",
       "    <tr>\n",
       "      <th>1</th>\n",
       "      <td>2</td>\n",
       "      <td>Does it matter what we eat for our mental heal...</td>\n",
       "    </tr>\n",
       "    <tr>\n",
       "      <th>2</th>\n",
       "      <td>3</td>\n",
       "      <td>Pubertal timing matters for psychological deve...</td>\n",
       "    </tr>\n",
       "    <tr>\n",
       "      <th>3</th>\n",
       "      <td>4</td>\n",
       "      <td>Plasminogen activator inhibitor 1 (PAI-1), whi...</td>\n",
       "    </tr>\n",
       "    <tr>\n",
       "      <th>4</th>\n",
       "      <td>5</td>\n",
       "      <td>The adolescent developmental stage appears to ...</td>\n",
       "    </tr>\n",
       "  </tbody>\n",
       "</table>\n",
       "</div>"
      ],
      "text/plain": [
       "   PaperID                                           Abstract\n",
       "0        1  This case report investigated the transactiona...\n",
       "1        2  Does it matter what we eat for our mental heal...\n",
       "2        3  Pubertal timing matters for psychological deve...\n",
       "3        4  Plasminogen activator inhibitor 1 (PAI-1), whi...\n",
       "4        5  The adolescent developmental stage appears to ..."
      ]
     },
     "execution_count": 22,
     "metadata": {},
     "output_type": "execute_result"
    }
   ],
   "source": [
    "# Column Titles\n",
    "df.columns\n",
    "\n",
    "# Rename columns\n",
    "df.rename({'Unnamed: 0': 'PaperID', 'x': 'Abstract'}, axis=1, inplace=True)\n",
    "\n",
    "df.head()"
   ]
  },
  {
   "cell_type": "markdown",
   "id": "c9b26a9a",
   "metadata": {},
   "source": [
    "#### There are 9,179 observations (each represents one Pubmed article)"
   ]
  },
  {
   "cell_type": "code",
   "execution_count": 23,
   "id": "e146d611",
   "metadata": {},
   "outputs": [
    {
     "name": "stdout",
     "output_type": "stream",
     "text": [
      "There are 9719 rows and 2 columns\n"
     ]
    }
   ],
   "source": [
    "nRow, nCol = df.shape\n",
    "print(f'There are {nRow} rows and {nCol} columns')"
   ]
  },
  {
   "cell_type": "markdown",
   "id": "e02845b5",
   "metadata": {},
   "source": [
    "#### Looking at dataframe datatypes"
   ]
  },
  {
   "cell_type": "code",
   "execution_count": 25,
   "id": "1bbeeb58",
   "metadata": {},
   "outputs": [
    {
     "data": {
      "text/plain": [
       "PaperID      int64\n",
       "Abstract    object\n",
       "dtype: object"
      ]
     },
     "execution_count": 25,
     "metadata": {},
     "output_type": "execute_result"
    }
   ],
   "source": [
    "df.dtypes"
   ]
  },
  {
   "cell_type": "markdown",
   "id": "120af183",
   "metadata": {},
   "source": [
    "#### Look at the first few abstracts to see how the text should be handled"
   ]
  },
  {
   "cell_type": "code",
   "execution_count": 26,
   "id": "b8ed18bf",
   "metadata": {},
   "outputs": [
    {
     "data": {
      "text/plain": [
       "\"This case report investigated the transactional model of stress and coping as guidance for nursing care of an adolescent patient with thalassemia.A case study of a 15-year-old female patient with β-thalassemia major. Data were collected using patient medical records, an interview with the patient and physical examination.Four issues related to coping were isolated: Worsening physical symptoms; psychosocial consequences, coping process, and building supportive networks. These issues and the patient's adaption are explored via the transactional model.Having thalassemia was cognitively appraised by the patient as a stressful and taxing situation with detrimental consequences, such as changes in physical appearance, stigmatization, and depression. Nurses should evaluate each patient's physical and psychosocial needs, utilizing appropriate theoretical models for designing a suitable care plan. As the case study demonstrates, the transactional model was an effective guide for nurses in planning care of an adolescent patient with thalassemia.© 2019 Wiley Periodicals, Inc.\""
      ]
     },
     "execution_count": 26,
     "metadata": {},
     "output_type": "execute_result"
    }
   ],
   "source": [
    "df['Abstract'][0]"
   ]
  },
  {
   "cell_type": "markdown",
   "id": "ef1ac53c",
   "metadata": {},
   "source": [
    "This paper appears to be about coping for adolesscent patients with a blood disorder"
   ]
  },
  {
   "cell_type": "code",
   "execution_count": 27,
   "id": "8026e270",
   "metadata": {},
   "outputs": [
    {
     "data": {
      "text/plain": [
       "'Does it matter what we eat for our mental health? Accumulating data suggests that this may indeed be the case and that diet and nutrition are not only critical for human physiology and body composition, but also have significant effects on mood and mental wellbeing. While the determining factors of mental health are complex, increasing evidence indicates a strong association between a poor diet and the exacerbation of mood disorders, including anxiety and depression, as well as other neuropsychiatric conditions. There are common beliefs about the health effects of certain foods that are not supported by solid evidence and the scientific evidence demonstrating the unequivocal link between nutrition and mental health is only beginning to emerge. Current epidemiological data on nutrition and mental health do not provide information about causality or underlying mechanisms. Future studies should focus on elucidating mechanism. Randomized controlled trials should be of high quality, adequately powered and geared towards the advancement of knowledge from population-based observations towards personalized nutrition. Here, we provide an overview of the emerging field of nutritional psychiatry, exploring the scientific evidence exemplifying the importance of a well-balanced diet for mental health. We conclude that an experimental medicine approach and a mechanistic understanding is required to provide solid evidence on which future policies on diet and nutrition for mental health can be based.Copyright © 2019 The Author(s). Published by Elsevier B.V. All rights reserved.'"
      ]
     },
     "execution_count": 27,
     "metadata": {},
     "output_type": "execute_result"
    }
   ],
   "source": [
    "df['Abstract'][1]"
   ]
  },
  {
   "cell_type": "markdown",
   "id": "b30e2153",
   "metadata": {},
   "source": [
    "This paper appears to be about the effects of diet and nutrition on mental health"
   ]
  },
  {
   "cell_type": "code",
   "execution_count": 28,
   "id": "0c895a87",
   "metadata": {},
   "outputs": [
    {
     "data": {
      "text/plain": [
       "'Pubertal timing matters for psychological development. Early maturation in girls is linked to risk for depression and externalizing problems in adolescence and possibly adulthood, and early and late maturation in boys are linked to depression. It is unclear whether pubertal timing uniquely predicts problems; it might instead mediate the continuity of behavior problems from childhood to adolescence or create psychological risk specifically in youth with existing problems, thus moderating the link. We investigated these issues in 534 girls and 550 boys, measuring pubertal timing by a logistic model fit to annual self-report measures of development and, in girls, age at menarche. Prepuberty internalizing and externalizing behavior problems were reported by parents. Adolescent behavior problems were reported by parents and youth. As expected, behavior problems were moderately stable. Pubertal timing was not predicted by childhood problems, so it did not mediate the continuity of behavior problems from childhood to adolescence. Pubertal timing did not moderate links between early and later problems for girls. For boys, early maturation accentuated the link between childhood problems and adolescent substance use. Overall, the replicated links between puberty and behavior problems appear to reflect the unique effects of puberty and child behavior problems on the development of adolescent behavior problems.'"
      ]
     },
     "execution_count": 28,
     "metadata": {},
     "output_type": "execute_result"
    }
   ],
   "source": [
    "df['Abstract'][2]"
   ]
  },
  {
   "cell_type": "markdown",
   "id": "0b9fef2f",
   "metadata": {},
   "source": [
    "This paper appears to be about early maturation (puberty) and behavioral problems"
   ]
  },
  {
   "cell_type": "code",
   "execution_count": 31,
   "id": "75eefb4f",
   "metadata": {},
   "outputs": [
    {
     "data": {
      "text/plain": [
       "'Cognitive fatigue is among the most profound and disabling sequelae of pediatric acquired brain disorders, however the neural correlates of these symptoms in children remains unexplored. One hypothesis suggests that cognitive fatigue may arise from dysfunction of cortico-striatal networks (CSNs) implicated in effort output and outcome valuation. Using pediatric traumatic brain injury (TBI) as a model, this study investigated (i) the sub-acute effect of brain injury on CSN\\xa0volume; and (ii) potential relationships between cognitive fatigue and sub-acute volumetric abnormalities of the CSN. 3D T1 weighted magnetic resonance imaging sequences were acquired sub-acutely in 137 children (TBI: n\\xa0=\\xa0103; typically developing - TD\\xa0children: n\\xa0=\\xa034). 67 of the original 137 participants (49%) completed measures of cognitive fatigue and psychological functioning at 24-months post-injury. Results showed that compared to TD controls and children with milder injuries, children with severe TBI showed volumetric reductions in the overall CSN package, as well as regional gray matter volumetric change in cortical and subcortical regions of the CSN. Significantly greater cognitive fatigue in the TBI patients was associated with volumetric reductions in the CSN and its putative hub regions, even after adjusting for injury severity, socioeconomic status (SES) and depression. In the first study to evaluate prospective neuroanatomical correlates of cognitive fatigue in pediatric acquired brain disorder, these findings suggest that post-injury cognitive fatigue is related to structural abnormalities of cortico-striatal brain networks implicated in effort output and outcome valuation. Morphometric magnetic resonance imaging (MRI) may have potential to unlock early prognostic markers that may assist to identify children at elevated risk for cognitive fatigue post-TBI.Copyright © 2016 Elsevier Ltd. All rights reserved.'"
      ]
     },
     "execution_count": 31,
     "metadata": {},
     "output_type": "execute_result"
    }
   ],
   "source": [
    "df['Abstract'][9718]"
   ]
  },
  {
   "cell_type": "markdown",
   "id": "bd567b79",
   "metadata": {},
   "source": [
    "This paper appears to be about cognitive fatigue and brain disorders"
   ]
  },
  {
   "cell_type": "markdown",
   "id": "ed4f587c",
   "metadata": {},
   "source": [
    "**Observation: While these abstracts are supposedly from Pubmed from the search results for \"tobacco\" and \"alcohol\", they seem very loosely connected to tobacco and alcohol. None of them explicitly have the keywords in the abstracts. Maybe this is because 10,000 paper abstracts were scraped from PubMed so the relevance significantly declined. However, even the first few abstracts in the dataframe don't appear to be relevant. So maybe the papers are not in the order of the search results. This may pose problems for topic modeling.**"
   ]
  },
  {
   "cell_type": "markdown",
   "id": "e641f89c",
   "metadata": {},
   "source": [
    "### Inspecting content and relevance of abstracts more closely"
   ]
  },
  {
   "cell_type": "markdown",
   "id": "0e981537",
   "metadata": {},
   "source": [
    "#### Of the 9,719 abstracts in the dataframe, 726 contain the words \"tobacco\" or \"alcohol\""
   ]
  },
  {
   "cell_type": "code",
   "execution_count": 41,
   "id": "965b9703",
   "metadata": {},
   "outputs": [],
   "source": [
    "abstracts_lower = df['Abstract'].str.lower()"
   ]
  },
  {
   "cell_type": "code",
   "execution_count": 42,
   "id": "ef702390",
   "metadata": {},
   "outputs": [
    {
     "data": {
      "text/plain": [
       "0       this case report investigated the transactiona...\n",
       "1       does it matter what we eat for our mental heal...\n",
       "2       pubertal timing matters for psychological deve...\n",
       "3       plasminogen activator inhibitor 1 (pai-1), whi...\n",
       "4       the adolescent developmental stage appears to ...\n",
       "                              ...                        \n",
       "9714    several studies have identified associations b...\n",
       "9715    obsessive-compulsive disorder (ocd) has a chro...\n",
       "9716    this pilot randomized controlled trial (rct) i...\n",
       "9717    few studies have explored stress and coping am...\n",
       "9718    cognitive fatigue is among the most profound a...\n",
       "Name: Abstract, Length: 9719, dtype: object"
      ]
     },
     "execution_count": 42,
     "metadata": {},
     "output_type": "execute_result"
    }
   ],
   "source": [
    "abstracts_lower"
   ]
  },
  {
   "cell_type": "code",
   "execution_count": 43,
   "id": "785fb39c",
   "metadata": {},
   "outputs": [],
   "source": [
    "alcohol_series = abstracts_lower.str.contains('alcohol', regex=False)"
   ]
  },
  {
   "cell_type": "code",
   "execution_count": 44,
   "id": "a7a75cad",
   "metadata": {},
   "outputs": [
    {
     "data": {
      "text/plain": [
       "0       False\n",
       "1       False\n",
       "2       False\n",
       "3       False\n",
       "4       False\n",
       "        ...  \n",
       "9714    False\n",
       "9715    False\n",
       "9716    False\n",
       "9717    False\n",
       "9718    False\n",
       "Name: Abstract, Length: 9719, dtype: object"
      ]
     },
     "execution_count": 44,
     "metadata": {},
     "output_type": "execute_result"
    }
   ],
   "source": [
    "alcohol_series"
   ]
  },
  {
   "cell_type": "code",
   "execution_count": 45,
   "id": "7aa01a76",
   "metadata": {},
   "outputs": [
    {
     "data": {
      "text/plain": [
       "670"
      ]
     },
     "execution_count": 45,
     "metadata": {},
     "output_type": "execute_result"
    }
   ],
   "source": [
    "alcohol_series.sum()"
   ]
  },
  {
   "cell_type": "code",
   "execution_count": 46,
   "id": "daf7c422",
   "metadata": {},
   "outputs": [],
   "source": [
    "tobacco_series = abstracts_lower.str.contains('tobacco', regex=False)"
   ]
  },
  {
   "cell_type": "code",
   "execution_count": 47,
   "id": "68b1c0a8",
   "metadata": {},
   "outputs": [
    {
     "data": {
      "text/plain": [
       "135"
      ]
     },
     "execution_count": 47,
     "metadata": {},
     "output_type": "execute_result"
    }
   ],
   "source": [
    "tobacco_series.sum()"
   ]
  },
  {
   "cell_type": "code",
   "execution_count": 48,
   "id": "c676954c",
   "metadata": {},
   "outputs": [],
   "source": [
    "keywords_series = abstracts_lower.str.contains('tobacco|alcohol', regex=True)"
   ]
  },
  {
   "cell_type": "code",
   "execution_count": 49,
   "id": "3b4e3d68",
   "metadata": {},
   "outputs": [
    {
     "data": {
      "text/plain": [
       "9719"
      ]
     },
     "execution_count": 49,
     "metadata": {},
     "output_type": "execute_result"
    }
   ],
   "source": [
    "len(keywords_series)"
   ]
  },
  {
   "cell_type": "code",
   "execution_count": 50,
   "id": "08c6fbf5",
   "metadata": {},
   "outputs": [
    {
     "data": {
      "text/plain": [
       "726"
      ]
     },
     "execution_count": 50,
     "metadata": {},
     "output_type": "execute_result"
    }
   ],
   "source": [
    "keywords_series.sum()"
   ]
  },
  {
   "cell_type": "markdown",
   "id": "9046c3ea",
   "metadata": {},
   "source": [
    "#### Inspect a few of the abstracts that actually contain the keywords"
   ]
  },
  {
   "cell_type": "code",
   "execution_count": 51,
   "id": "67f304da",
   "metadata": {},
   "outputs": [
    {
     "data": {
      "text/plain": [
       "8       True\n",
       "12      True\n",
       "15      True\n",
       "43      True\n",
       "44      True\n",
       "        ... \n",
       "9692    True\n",
       "9693    True\n",
       "9694    True\n",
       "9708    True\n",
       "9713    True\n",
       "Name: Abstract, Length: 726, dtype: object"
      ]
     },
     "execution_count": 51,
     "metadata": {},
     "output_type": "execute_result"
    }
   ],
   "source": [
    "keywords_series[keywords_series == True]"
   ]
  },
  {
   "cell_type": "code",
   "execution_count": 52,
   "id": "6d15e590",
   "metadata": {},
   "outputs": [
    {
     "data": {
      "text/plain": [
       "'Background and Objectives: Psychological outcomes following termination of wanted pregnancies have not previously been studied. Does excluding such abortions affect estimates of psychological distress following abortion? To address this question this study examines long-term psychological outcomes by pregnancy intention (wanted or unwanted) following induced abortion relative to childbirth in the United States. Materials and Methods: Panel data on a nationally-representative cohort of 3935 ever-pregnant women assessed at mean age of 15, 22, and 28 years were examined from the National Longitudinal Survey of Adolescent to Adult Health (Add Health). Relative risk (RR) and incident rate ratios (IRR) for time-dynamic mental health outcomes, conditioned by pregnancy intention and abortion exposure, were estimated from population-averaged longitudinal logistic and Poisson regression models, with extensive adjustment for sociodemographic differences, pregnancy and mental health history, and other confounding factors. Outcomes were assessed using the Diagnostic and Statistical Manual, Version 4, American Psychiatric Association (DSM-IV) diagnostic criteria or another validated index for suicidal ideation, depression, and anxiety (affective problems); drug abuse, opioid abuse, alcohol abuse, and cannabis abuse (substance abuse problems); and summary total disorders. Results: Women who terminated one or more wanted pregnancies experienced a 43% higher risk of affective problems (RR 1.69, 95% CI 1.3-2.2) relative to childbirth, compared to women terminating only unwanted pregnancies (RR 1.18, 95% CI 1.0-1.4). Risks of depression (RR 2.22, 95% CI 1.3-3.8) and suicidality (RR 3.44 95% CI 1.5-7.7) were especially elevated with wanted pregnancy abortion. Relative risk of substance abuse disorders with any abortion was high, at about 2.0, but unaffected by pregnancy intention. Excluding wanted pregnancies artifactually reduced estimates of affective disorders by 72% from unity, substance abuse disorders by 11% from unity, and total disorders by 21% from unity. Conclusions: Excluding wanted pregnancies moderately understates overall risk and strongly understates affective risk of mental health difficulties for women following abortion. Compared to corresponding births, abortions of wanted pregnancies are associated with a greater risk of negative psychological affect, particularly depression and suicide ideation, but not greater risk of substance abuse, than are abortions of unwanted pregnancies. Clinical, research, and policy implications are discussed briefly.'"
      ]
     },
     "execution_count": 52,
     "metadata": {},
     "output_type": "execute_result"
    }
   ],
   "source": [
    "df['Abstract'][8]"
   ]
  },
  {
   "cell_type": "markdown",
   "id": "d328ad4a",
   "metadata": {},
   "source": [
    "This abstract is about psychological effects of termination of wanted pregnancies that includes substance abuse disorders"
   ]
  },
  {
   "cell_type": "code",
   "execution_count": 53,
   "id": "2a40426e",
   "metadata": {},
   "outputs": [
    {
     "data": {
      "text/plain": [
       "'Anxiety disorders in adolescence have been associated with several psychiatric outcomes. We sought to describe the prospective relationship between various levels of adolescent anxiety and psychiatric diagnoses (anxiety-, bipolar/psychotic-, depressive-, and alcohol and drug misuse disorders) and suicidal ideation in early adulthood while adjusting for childhood attention-deficit/hyperactivity disorder (ADHD), autism spectrum disorder (ASD), and developmental coordination disorder (DCD). Furthermore, we aimed to estimate the proportion attributable to the various anxiety levels for the outcomes.We used a nation-wide population-based Swedish twin study comprising 14,106 fifteen-year-old twins born in Sweden between 1994 and 2002 and a replication sample consisting of 9211 Dutch twins, born between 1985 and 1999. Adolescent anxiety was measured with parental and self-report. Psychiatric diagnoses and suicidal ideation were retrieved from the Swedish National Patient Register and via self-report.Adolescent anxiety, of various levels, predicted, in the Swedish National Patient Register, anxiety disorders: hazard ratio (HR)\\u2009=\\u20094.92 (CI 3.33-7.28); depressive disorders: HR\\u2009=\\u20094.79 (3.23-7.08), and any psychiatric outcome: HR\\u2009=\\u20093.40 (2.58-4.48), when adjusting for ADHD, ASD, and DCD. The results were replicated in the Dutch data. The proportion of psychiatric outcome attributable to adolescent anxiety over time (age 15-21) was 29% for any psychiatric outcome, 43-40% for anxiety disorders, and 39-38% for depressive disorders.Anxiety in adolescence constitutes an important risk factor in the development of psychiatric outcomes, revealing unique predictions for the different levels of anxiety, and beyond the risk conferred by childhood ADHD, ASD, and DCD. Developmental trajectories leading into psychiatric outcomes should further empirically investigated.'"
      ]
     },
     "execution_count": 53,
     "metadata": {},
     "output_type": "execute_result"
    }
   ],
   "source": [
    "df['Abstract'][12]"
   ]
  },
  {
   "cell_type": "markdown",
   "id": "52e5c069",
   "metadata": {},
   "source": [
    "This abstract is about anxiety disorders in adolescents  and alcohol and drug misuse."
   ]
  },
  {
   "cell_type": "code",
   "execution_count": 54,
   "id": "0bf83392",
   "metadata": {},
   "outputs": [
    {
     "data": {
      "text/plain": [
       "'Few studies have evaluated exercise interventions for smokers with depression or other psychiatric comorbidities. This pilot study evaluated the potential role of supervised vigorous exercise as a smoking cessation intervention for depressed females.Thirty adult women with moderate-severe depressive symptoms were enrolled and randomly assigned to 12 weeks of thrice weekly, in person sessions of vigorous intensity supervised exercise at a YMCA setting (EX; n = 15) or health education (HE; n = 15). All participants received behavioral smoking cessation counseling and nicotine patch therapy. Assessments were done in person at baseline, at the end of 12 weeks of treatment, and at 6 months post-target quit date. Primary end points were exercise adherence (proportion of 36 sessions attended) and biochemically confirmed 7-day point prevalence abstinence at Week 12. Biomarkers of inflammation were explored for differences between treatment groups and between women who smoked and those abstinent at Week 12.Treatment adherence was high for both groups (72% for EX and 66% for HE; p = .55). The Week 12 smoking abstinence rate was higher for EX than HE (11/15 [73%] vs. 5/15 [33%]; p = .028), but no significant differences emerged at 6-month follow-up. Interleukin-6 levels increased more for those smoking than women abstinent at Week 12 (p = .040).Vigorous intensity supervised exercise is feasible and enhances short-term smoking cessation among depressed female smokers. Innovative and cost-effective strategies to bolster long-term exercise adherence and smoking cessation need evaluation in this population. Inflammatory biomarkers could be examined in future research as mediators of treatment efficacy.This preliminary study found that vigorous intensity supervised exercise is feasible and enhances short-term smoking cessation among depressed female smokers. This research addressed an important gap in the field. Despite decades of research examining exercise interventions for smoking cessation, few studies were done among depressed smokers or those with comorbid psychiatric disorders. A novel finding was increases in levels of a pro-inflammatory biomarker observed among women who smoked at the end of the intervention compared to those who did not.© The Author 2016. Published by Oxford University Press on behalf of the Society for Research on Nicotine and Tobacco. All rights reserved. For permissions, please e-mail: journals.permissions@oup.com.'"
      ]
     },
     "execution_count": 54,
     "metadata": {},
     "output_type": "execute_result"
    }
   ],
   "source": [
    "df['Abstract'][9692]"
   ]
  },
  {
   "cell_type": "markdown",
   "id": "7114540c",
   "metadata": {},
   "source": [
    "This abstract is about exercise intervention for smokers with depression"
   ]
  },
  {
   "cell_type": "markdown",
   "id": "132e764d",
   "metadata": {},
   "source": [
    "#### After subsetting on the abstracts only explicitly containing the keywords, the papers appear to be more relevant, and may lend themselves to topic modeling and a recommender system"
   ]
  },
  {
   "cell_type": "markdown",
   "id": "af4d98dd",
   "metadata": {},
   "source": [
    "### Inspecting abstract lengths of entire dataset (have not yet excluded irrelevant articles)"
   ]
  },
  {
   "cell_type": "markdown",
   "id": "f599557e",
   "metadata": {},
   "source": [
    "#### Finding longest, shortest, and mean abstract length"
   ]
  },
  {
   "cell_type": "code",
   "execution_count": 56,
   "id": "610b9da1",
   "metadata": {},
   "outputs": [
    {
     "name": "stdout",
     "output_type": "stream",
     "text": [
      "Max abstract length - characters:  13897.0\n",
      "Max abstract length - words:  2084.0\n",
      "Min abstract length - characters:  5.0\n",
      "Min abstract length - words:  1.0\n",
      "Mean abstract length - characters:  1673.9989706639217\n",
      "Mean abstract length - words:  237.31168296448791\n"
     ]
    }
   ],
   "source": [
    "# Longest abstract length - characters\n",
    "max_abstract_c = df['Abstract'].str.len().max()\n",
    "# Longest abstract length - words \n",
    "max_abstract_w = df['Abstract'].str.split().str.len().max()\n",
    "\n",
    "# Shortest abstract length - characters\n",
    "min_abstract_c = df['Abstract'].str.len().min()\n",
    "# Shortest abstract length - words\n",
    "min_abstract_w = df['Abstract'].str.split().str.len().min()\n",
    "\n",
    "# Mean abstract length - characters\n",
    "mean_abstract_c = df['Abstract'].str.len().mean()\n",
    "# Mean abstract length - words\n",
    "mean_abstract_w = df['Abstract'].str.split().str.len().mean()\n",
    "\n",
    "print(\"Max abstract length - characters: \", max_abstract_c)\n",
    "print(\"Max abstract length - words: \", max_abstract_w)\n",
    "print(\"Min abstract length - characters: \", min_abstract_c)\n",
    "print(\"Min abstract length - words: \", min_abstract_w)\n",
    "print(\"Mean abstract length - characters: \", mean_abstract_c)\n",
    "print(\"Mean abstract length - words: \", mean_abstract_w)"
   ]
  },
  {
   "cell_type": "markdown",
   "id": "58041a2d",
   "metadata": {},
   "source": [
    "Observation: That's interesting... Scientific papers abstracts are usually 200 to 250 words."
   ]
  },
  {
   "cell_type": "markdown",
   "id": "c25b3172",
   "metadata": {},
   "source": [
    "#### Looking at abstracts with 10 words or fewer"
   ]
  },
  {
   "cell_type": "code",
   "execution_count": 57,
   "id": "689be9b0",
   "metadata": {},
   "outputs": [
    {
     "data": {
      "text/html": [
       "<div>\n",
       "<style scoped>\n",
       "    .dataframe tbody tr th:only-of-type {\n",
       "        vertical-align: middle;\n",
       "    }\n",
       "\n",
       "    .dataframe tbody tr th {\n",
       "        vertical-align: top;\n",
       "    }\n",
       "\n",
       "    .dataframe thead th {\n",
       "        text-align: right;\n",
       "    }\n",
       "</style>\n",
       "<table border=\"1\" class=\"dataframe\">\n",
       "  <thead>\n",
       "    <tr style=\"text-align: right;\">\n",
       "      <th></th>\n",
       "      <th>PaperID</th>\n",
       "      <th>Abstract</th>\n",
       "    </tr>\n",
       "  </thead>\n",
       "  <tbody>\n",
       "    <tr>\n",
       "      <th>2858</th>\n",
       "      <td>2859</td>\n",
       "      <td>Adolescents and millennials show the highest r...</td>\n",
       "    </tr>\n",
       "    <tr>\n",
       "      <th>3804</th>\n",
       "      <td>3805</td>\n",
       "      <td>NCT03022370. Registered 13 January 2017, retro...</td>\n",
       "    </tr>\n",
       "    <tr>\n",
       "      <th>4624</th>\n",
       "      <td>4625</td>\n",
       "      <td>[This corrects the article DOI: 10.1371/journa...</td>\n",
       "    </tr>\n",
       "    <tr>\n",
       "      <th>6054</th>\n",
       "      <td>6055</td>\n",
       "      <td>No abstract available.</td>\n",
       "    </tr>\n",
       "    <tr>\n",
       "      <th>8335</th>\n",
       "      <td>8336</td>\n",
       "      <td>&lt;p/&gt;.</td>\n",
       "    </tr>\n",
       "    <tr>\n",
       "      <th>9149</th>\n",
       "      <td>9150</td>\n",
       "      <td>© Georg Thieme Verlag KG Stuttgart · New York.</td>\n",
       "    </tr>\n",
       "  </tbody>\n",
       "</table>\n",
       "</div>"
      ],
      "text/plain": [
       "      PaperID                                           Abstract\n",
       "2858     2859  Adolescents and millennials show the highest r...\n",
       "3804     3805  NCT03022370. Registered 13 January 2017, retro...\n",
       "4624     4625  [This corrects the article DOI: 10.1371/journa...\n",
       "6054     6055                             No abstract available.\n",
       "8335     8336                                              <p/>.\n",
       "9149     9150     © Georg Thieme Verlag KG Stuttgart · New York."
      ]
     },
     "execution_count": 57,
     "metadata": {},
     "output_type": "execute_result"
    }
   ],
   "source": [
    "mask = (df['Abstract'].str.split().str.len() <= 10)\n",
    "df.loc[mask]"
   ]
  },
  {
   "cell_type": "code",
   "execution_count": 58,
   "id": "9da5cb33",
   "metadata": {},
   "outputs": [
    {
     "data": {
      "text/plain": [
       "'No abstract available.'"
      ]
     },
     "execution_count": 58,
     "metadata": {},
     "output_type": "execute_result"
    }
   ],
   "source": [
    "df['Abstract'][6054]"
   ]
  },
  {
   "cell_type": "code",
   "execution_count": 59,
   "id": "923cb717",
   "metadata": {},
   "outputs": [
    {
     "data": {
      "text/plain": [
       "'Adolescents and millennials show the highest rates of increase.'"
      ]
     },
     "execution_count": 59,
     "metadata": {},
     "output_type": "execute_result"
    }
   ],
   "source": [
    "df['Abstract'][2858]"
   ]
  },
  {
   "cell_type": "code",
   "execution_count": 90,
   "id": "9151defa",
   "metadata": {},
   "outputs": [
    {
     "data": {
      "text/plain": [
       "'NCT03022370. Registered 13 January 2017, retrospectively registered.'"
      ]
     },
     "execution_count": 90,
     "metadata": {},
     "output_type": "execute_result"
    }
   ],
   "source": [
    "df['Abstract'][3804]"
   ]
  },
  {
   "cell_type": "code",
   "execution_count": 91,
   "id": "89e065a5",
   "metadata": {},
   "outputs": [
    {
     "data": {
      "text/plain": [
       "'[This corrects the article DOI: 10.1371/journal.pone.0161062.].'"
      ]
     },
     "execution_count": 91,
     "metadata": {},
     "output_type": "execute_result"
    }
   ],
   "source": [
    "df['Abstract'][4624]"
   ]
  },
  {
   "cell_type": "code",
   "execution_count": 92,
   "id": "3e668fa4",
   "metadata": {},
   "outputs": [
    {
     "data": {
      "text/plain": [
       "'<p/>.'"
      ]
     },
     "execution_count": 92,
     "metadata": {},
     "output_type": "execute_result"
    }
   ],
   "source": [
    "df['Abstract'][8335]"
   ]
  },
  {
   "cell_type": "code",
   "execution_count": 93,
   "id": "afbc2913",
   "metadata": {},
   "outputs": [
    {
     "data": {
      "text/plain": [
       "'© Georg Thieme Verlag KG Stuttgart · New York.'"
      ]
     },
     "execution_count": 93,
     "metadata": {},
     "output_type": "execute_result"
    }
   ],
   "source": [
    "df['Abstract'][9149]"
   ]
  },
  {
   "cell_type": "markdown",
   "id": "e3028c9a",
   "metadata": {},
   "source": [
    "One sentence is not a conventional abstract!"
   ]
  },
  {
   "cell_type": "markdown",
   "id": "3c649ceb",
   "metadata": {},
   "source": [
    "We will need to throw these out since they are not useful"
   ]
  },
  {
   "cell_type": "markdown",
   "id": "5086d0de",
   "metadata": {},
   "source": [
    "#### Looking at abstracts with 100 or fewer words"
   ]
  },
  {
   "cell_type": "code",
   "execution_count": 65,
   "id": "b3af2b32",
   "metadata": {},
   "outputs": [
    {
     "data": {
      "text/html": [
       "<div>\n",
       "<style scoped>\n",
       "    .dataframe tbody tr th:only-of-type {\n",
       "        vertical-align: middle;\n",
       "    }\n",
       "\n",
       "    .dataframe tbody tr th {\n",
       "        vertical-align: top;\n",
       "    }\n",
       "\n",
       "    .dataframe thead th {\n",
       "        text-align: right;\n",
       "    }\n",
       "</style>\n",
       "<table border=\"1\" class=\"dataframe\">\n",
       "  <thead>\n",
       "    <tr style=\"text-align: right;\">\n",
       "      <th></th>\n",
       "      <th>PaperID</th>\n",
       "      <th>Abstract</th>\n",
       "    </tr>\n",
       "  </thead>\n",
       "  <tbody>\n",
       "    <tr>\n",
       "      <th>24</th>\n",
       "      <td>25</td>\n",
       "      <td>The mental health of children and young people...</td>\n",
       "    </tr>\n",
       "    <tr>\n",
       "      <th>86</th>\n",
       "      <td>87</td>\n",
       "      <td>[This corrects the article DOI: 10.2196/14734....</td>\n",
       "    </tr>\n",
       "    <tr>\n",
       "      <th>95</th>\n",
       "      <td>96</td>\n",
       "      <td>Axon guidance molecules direct growing axons t...</td>\n",
       "    </tr>\n",
       "    <tr>\n",
       "      <th>98</th>\n",
       "      <td>99</td>\n",
       "      <td>This review examines sex differences in sleep ...</td>\n",
       "    </tr>\n",
       "    <tr>\n",
       "      <th>119</th>\n",
       "      <td>120</td>\n",
       "      <td>The impacts of body dissatisfaction have been ...</td>\n",
       "    </tr>\n",
       "    <tr>\n",
       "      <th>...</th>\n",
       "      <td>...</td>\n",
       "      <td>...</td>\n",
       "    </tr>\n",
       "    <tr>\n",
       "      <th>9149</th>\n",
       "      <td>9150</td>\n",
       "      <td>© Georg Thieme Verlag KG Stuttgart · New York.</td>\n",
       "    </tr>\n",
       "    <tr>\n",
       "      <th>9438</th>\n",
       "      <td>9439</td>\n",
       "      <td>The Socio-Economic Panel (SOEP) has outstandin...</td>\n",
       "    </tr>\n",
       "    <tr>\n",
       "      <th>9534</th>\n",
       "      <td>9535</td>\n",
       "      <td>Emetophobia is the specific fear of vomiting t...</td>\n",
       "    </tr>\n",
       "    <tr>\n",
       "      <th>9557</th>\n",
       "      <td>9558</td>\n",
       "      <td>We don't know which selective serotonin reupta...</td>\n",
       "    </tr>\n",
       "    <tr>\n",
       "      <th>9706</th>\n",
       "      <td>9707</td>\n",
       "      <td>Many African Americans (AAs) use clergy as the...</td>\n",
       "    </tr>\n",
       "  </tbody>\n",
       "</table>\n",
       "<p>119 rows × 2 columns</p>\n",
       "</div>"
      ],
      "text/plain": [
       "      PaperID                                           Abstract\n",
       "24         25  The mental health of children and young people...\n",
       "86         87  [This corrects the article DOI: 10.2196/14734....\n",
       "95         96  Axon guidance molecules direct growing axons t...\n",
       "98         99  This review examines sex differences in sleep ...\n",
       "119       120  The impacts of body dissatisfaction have been ...\n",
       "...       ...                                                ...\n",
       "9149     9150     © Georg Thieme Verlag KG Stuttgart · New York.\n",
       "9438     9439  The Socio-Economic Panel (SOEP) has outstandin...\n",
       "9534     9535  Emetophobia is the specific fear of vomiting t...\n",
       "9557     9558  We don't know which selective serotonin reupta...\n",
       "9706     9707  Many African Americans (AAs) use clergy as the...\n",
       "\n",
       "[119 rows x 2 columns]"
      ]
     },
     "execution_count": 65,
     "metadata": {},
     "output_type": "execute_result"
    }
   ],
   "source": [
    "mask = (df['Abstract'].str.split().str.len() <= 100)\n",
    "df.loc[mask]"
   ]
  },
  {
   "cell_type": "code",
   "execution_count": 94,
   "id": "58cbb903",
   "metadata": {},
   "outputs": [
    {
     "data": {
      "text/plain": [
       "'This review examines sex differences in sleep disturbance and risk for psychopathology, with a particular focus on the emergence of insomnia and risk for depression among adolescents. Possible explanations for the female preponderance of adolescent insomnia is discussed. The significance of the temporal relationship between adolescent insomnia and depression is discussed, as the extant literature suggests that insomnia tends to precede depression more than the inverse. Whether a causal relationship may exist between the two conditions and possible mechanisms underlying sex differences are highlighted along with important areas for future research.Copyright © 2019 Elsevier Ltd. All rights reserved.'"
      ]
     },
     "execution_count": 94,
     "metadata": {},
     "output_type": "execute_result"
    }
   ],
   "source": [
    "df['Abstract'][98]"
   ]
  },
  {
   "cell_type": "code",
   "execution_count": 95,
   "id": "f17fd698",
   "metadata": {},
   "outputs": [
    {
     "data": {
      "text/plain": [
       "'Emetophobia is the specific fear of vomiting that usually commences during childhood and adolescence. Cognitive behavioral therapy aims to expose patients to vomiting. In this paper, a newly developed metacognitive concept and treatment approach to this disorder is illustrated within a small case series.Three adolescent girls with emetophobia were treated with metacognitive therapy (MCT). Measures of anxiety, worry, depression, and metacognitions before and after the treatment were documented.All patients recovered during the course of 8 to 11 sessions, and measurements of anxiety, worry, depression, and metacognitions dropped markedly.MCT presents a valuable treatment option for emetophobia in adolescents.'"
      ]
     },
     "execution_count": 95,
     "metadata": {},
     "output_type": "execute_result"
    }
   ],
   "source": [
    "df['Abstract'][9534]"
   ]
  },
  {
   "cell_type": "code",
   "execution_count": 96,
   "id": "87ab57a2",
   "metadata": {},
   "outputs": [
    {
     "data": {
      "text/plain": [
       "\"We don't know which selective serotonin reuptake inhibitors (SSRIs) are the most effective and safe because no studies have compared these antidepressants with each other. Three SSRI antidepressant medications--fluoxetine, sertraline, and escitalopram--produce modest improvements (about 5% to 10%) in standardized depression scores without a significant increase in the risk of suicide-related outcomes (suicidal behavior or ideation) in adolescent patients with major depression of moderate severity.\""
      ]
     },
     "execution_count": 96,
     "metadata": {},
     "output_type": "execute_result"
    }
   ],
   "source": [
    "df['Abstract'][9557]"
   ]
  },
  {
   "cell_type": "code",
   "execution_count": 97,
   "id": "1e79219d",
   "metadata": {},
   "outputs": [
    {
     "data": {
      "text/plain": [
       "\"Many African Americans (AAs) use clergy as their primary source of help for depression, with few being referred to mental health providers. This study used face-to-face workshops to train AA clergy to recognize the symptoms and levels of severity of depression. A pretest/posttest format was used to test knowledge (N = 42) about depression symptoms. Results showed that the participation improved the clergy's ability to recognize depression symptoms. Faith community nurses can develop workshops for clergy to improve recognition and treatment of depression. \""
      ]
     },
     "execution_count": 97,
     "metadata": {},
     "output_type": "execute_result"
    }
   ],
   "source": [
    "df['Abstract'][9706]"
   ]
  },
  {
   "cell_type": "markdown",
   "id": "7b236a49",
   "metadata": {},
   "source": [
    "**Now, we should either make a new dataframe with abstracts of a length and check the remaining number that have keywords. \n",
    "Or we should make a new dataframe with abstracts containing the keywords, and then explore the lengths.**\n",
    "\n",
    "**Objective: see how many abstracts containing the keywords \"tobacco\" and \"alcohol\" are a valid abstracts that are long enough for topic modeling**"
   ]
  },
  {
   "cell_type": "markdown",
   "id": "72467186",
   "metadata": {},
   "source": [
    "#### Abstracts with 20 words or less"
   ]
  },
  {
   "cell_type": "code",
   "execution_count": 70,
   "id": "4a471c8a",
   "metadata": {},
   "outputs": [
    {
     "data": {
      "text/html": [
       "<div>\n",
       "<style scoped>\n",
       "    .dataframe tbody tr th:only-of-type {\n",
       "        vertical-align: middle;\n",
       "    }\n",
       "\n",
       "    .dataframe tbody tr th {\n",
       "        vertical-align: top;\n",
       "    }\n",
       "\n",
       "    .dataframe thead th {\n",
       "        text-align: right;\n",
       "    }\n",
       "</style>\n",
       "<table border=\"1\" class=\"dataframe\">\n",
       "  <thead>\n",
       "    <tr style=\"text-align: right;\">\n",
       "      <th></th>\n",
       "      <th>PaperID</th>\n",
       "      <th>Abstract</th>\n",
       "    </tr>\n",
       "  </thead>\n",
       "  <tbody>\n",
       "    <tr>\n",
       "      <th>2858</th>\n",
       "      <td>2859</td>\n",
       "      <td>Adolescents and millennials show the highest r...</td>\n",
       "    </tr>\n",
       "    <tr>\n",
       "      <th>3804</th>\n",
       "      <td>3805</td>\n",
       "      <td>NCT03022370. Registered 13 January 2017, retro...</td>\n",
       "    </tr>\n",
       "    <tr>\n",
       "      <th>4624</th>\n",
       "      <td>4625</td>\n",
       "      <td>[This corrects the article DOI: 10.1371/journa...</td>\n",
       "    </tr>\n",
       "    <tr>\n",
       "      <th>6054</th>\n",
       "      <td>6055</td>\n",
       "      <td>No abstract available.</td>\n",
       "    </tr>\n",
       "    <tr>\n",
       "      <th>8335</th>\n",
       "      <td>8336</td>\n",
       "      <td>&lt;p/&gt;.</td>\n",
       "    </tr>\n",
       "    <tr>\n",
       "      <th>9149</th>\n",
       "      <td>9150</td>\n",
       "      <td>© Georg Thieme Verlag KG Stuttgart · New York.</td>\n",
       "    </tr>\n",
       "  </tbody>\n",
       "</table>\n",
       "</div>"
      ],
      "text/plain": [
       "      PaperID                                           Abstract\n",
       "2858     2859  Adolescents and millennials show the highest r...\n",
       "3804     3805  NCT03022370. Registered 13 January 2017, retro...\n",
       "4624     4625  [This corrects the article DOI: 10.1371/journa...\n",
       "6054     6055                             No abstract available.\n",
       "8335     8336                                              <p/>.\n",
       "9149     9150     © Georg Thieme Verlag KG Stuttgart · New York."
      ]
     },
     "execution_count": 70,
     "metadata": {},
     "output_type": "execute_result"
    }
   ],
   "source": [
    "mask = (df['Abstract'].str.split().str.len() <= 20)\n",
    "df.loc[mask]"
   ]
  },
  {
   "cell_type": "markdown",
   "id": "671b9bc0",
   "metadata": {},
   "source": [
    "All invalid."
   ]
  },
  {
   "cell_type": "markdown",
   "id": "9136c48d",
   "metadata": {},
   "source": [
    "#### Abstracts with less than 30 words"
   ]
  },
  {
   "cell_type": "code",
   "execution_count": 71,
   "id": "5923a8ba",
   "metadata": {},
   "outputs": [
    {
     "data": {
      "text/html": [
       "<div>\n",
       "<style scoped>\n",
       "    .dataframe tbody tr th:only-of-type {\n",
       "        vertical-align: middle;\n",
       "    }\n",
       "\n",
       "    .dataframe tbody tr th {\n",
       "        vertical-align: top;\n",
       "    }\n",
       "\n",
       "    .dataframe thead th {\n",
       "        text-align: right;\n",
       "    }\n",
       "</style>\n",
       "<table border=\"1\" class=\"dataframe\">\n",
       "  <thead>\n",
       "    <tr style=\"text-align: right;\">\n",
       "      <th></th>\n",
       "      <th>PaperID</th>\n",
       "      <th>Abstract</th>\n",
       "    </tr>\n",
       "  </thead>\n",
       "  <tbody>\n",
       "    <tr>\n",
       "      <th>86</th>\n",
       "      <td>87</td>\n",
       "      <td>[This corrects the article DOI: 10.2196/14734....</td>\n",
       "    </tr>\n",
       "    <tr>\n",
       "      <th>1526</th>\n",
       "      <td>1527</td>\n",
       "      <td>The original version of this paper [1] did not...</td>\n",
       "    </tr>\n",
       "    <tr>\n",
       "      <th>2858</th>\n",
       "      <td>2859</td>\n",
       "      <td>Adolescents and millennials show the highest r...</td>\n",
       "    </tr>\n",
       "    <tr>\n",
       "      <th>3804</th>\n",
       "      <td>3805</td>\n",
       "      <td>NCT03022370. Registered 13 January 2017, retro...</td>\n",
       "    </tr>\n",
       "    <tr>\n",
       "      <th>4624</th>\n",
       "      <td>4625</td>\n",
       "      <td>[This corrects the article DOI: 10.1371/journa...</td>\n",
       "    </tr>\n",
       "    <tr>\n",
       "      <th>6054</th>\n",
       "      <td>6055</td>\n",
       "      <td>No abstract available.</td>\n",
       "    </tr>\n",
       "    <tr>\n",
       "      <th>8335</th>\n",
       "      <td>8336</td>\n",
       "      <td>&lt;p/&gt;.</td>\n",
       "    </tr>\n",
       "    <tr>\n",
       "      <th>9021</th>\n",
       "      <td>9022</td>\n",
       "      <td>Adolescent girls taking combined oral contrace...</td>\n",
       "    </tr>\n",
       "    <tr>\n",
       "      <th>9149</th>\n",
       "      <td>9150</td>\n",
       "      <td>© Georg Thieme Verlag KG Stuttgart · New York.</td>\n",
       "    </tr>\n",
       "  </tbody>\n",
       "</table>\n",
       "</div>"
      ],
      "text/plain": [
       "      PaperID                                           Abstract\n",
       "86         87  [This corrects the article DOI: 10.2196/14734....\n",
       "1526     1527  The original version of this paper [1] did not...\n",
       "2858     2859  Adolescents and millennials show the highest r...\n",
       "3804     3805  NCT03022370. Registered 13 January 2017, retro...\n",
       "4624     4625  [This corrects the article DOI: 10.1371/journa...\n",
       "6054     6055                             No abstract available.\n",
       "8335     8336                                              <p/>.\n",
       "9021     9022  Adolescent girls taking combined oral contrace...\n",
       "9149     9150     © Georg Thieme Verlag KG Stuttgart · New York."
      ]
     },
     "execution_count": 71,
     "metadata": {},
     "output_type": "execute_result"
    }
   ],
   "source": [
    "mask = (df['Abstract'].str.split().str.len() <= 30)\n",
    "df.loc[mask]"
   ]
  },
  {
   "cell_type": "markdown",
   "id": "b58afff8",
   "metadata": {},
   "source": [
    "All invalid."
   ]
  },
  {
   "cell_type": "markdown",
   "id": "c10b9687",
   "metadata": {},
   "source": [
    "#### Abstracts with 40 words or less"
   ]
  },
  {
   "cell_type": "code",
   "execution_count": 72,
   "id": "6423eff7",
   "metadata": {},
   "outputs": [
    {
     "data": {
      "text/html": [
       "<div>\n",
       "<style scoped>\n",
       "    .dataframe tbody tr th:only-of-type {\n",
       "        vertical-align: middle;\n",
       "    }\n",
       "\n",
       "    .dataframe tbody tr th {\n",
       "        vertical-align: top;\n",
       "    }\n",
       "\n",
       "    .dataframe thead th {\n",
       "        text-align: right;\n",
       "    }\n",
       "</style>\n",
       "<table border=\"1\" class=\"dataframe\">\n",
       "  <thead>\n",
       "    <tr style=\"text-align: right;\">\n",
       "      <th></th>\n",
       "      <th>PaperID</th>\n",
       "      <th>Abstract</th>\n",
       "    </tr>\n",
       "  </thead>\n",
       "  <tbody>\n",
       "    <tr>\n",
       "      <th>86</th>\n",
       "      <td>87</td>\n",
       "      <td>[This corrects the article DOI: 10.2196/14734....</td>\n",
       "    </tr>\n",
       "    <tr>\n",
       "      <th>309</th>\n",
       "      <td>310</td>\n",
       "      <td>[This corrects the article DOI: 10.2196/13628....</td>\n",
       "    </tr>\n",
       "    <tr>\n",
       "      <th>1526</th>\n",
       "      <td>1527</td>\n",
       "      <td>The original version of this paper [1] did not...</td>\n",
       "    </tr>\n",
       "    <tr>\n",
       "      <th>2858</th>\n",
       "      <td>2859</td>\n",
       "      <td>Adolescents and millennials show the highest r...</td>\n",
       "    </tr>\n",
       "    <tr>\n",
       "      <th>3252</th>\n",
       "      <td>3253</td>\n",
       "      <td>Trichotillomania, or hair-pulling disorder, is...</td>\n",
       "    </tr>\n",
       "    <tr>\n",
       "      <th>3804</th>\n",
       "      <td>3805</td>\n",
       "      <td>NCT03022370. Registered 13 January 2017, retro...</td>\n",
       "    </tr>\n",
       "    <tr>\n",
       "      <th>4624</th>\n",
       "      <td>4625</td>\n",
       "      <td>[This corrects the article DOI: 10.1371/journa...</td>\n",
       "    </tr>\n",
       "    <tr>\n",
       "      <th>6054</th>\n",
       "      <td>6055</td>\n",
       "      <td>No abstract available.</td>\n",
       "    </tr>\n",
       "    <tr>\n",
       "      <th>8335</th>\n",
       "      <td>8336</td>\n",
       "      <td>&lt;p/&gt;.</td>\n",
       "    </tr>\n",
       "    <tr>\n",
       "      <th>8809</th>\n",
       "      <td>8810</td>\n",
       "      <td>King's College London researchers have called ...</td>\n",
       "    </tr>\n",
       "    <tr>\n",
       "      <th>9021</th>\n",
       "      <td>9022</td>\n",
       "      <td>Adolescent girls taking combined oral contrace...</td>\n",
       "    </tr>\n",
       "    <tr>\n",
       "      <th>9149</th>\n",
       "      <td>9150</td>\n",
       "      <td>© Georg Thieme Verlag KG Stuttgart · New York.</td>\n",
       "    </tr>\n",
       "  </tbody>\n",
       "</table>\n",
       "</div>"
      ],
      "text/plain": [
       "      PaperID                                           Abstract\n",
       "86         87  [This corrects the article DOI: 10.2196/14734....\n",
       "309       310  [This corrects the article DOI: 10.2196/13628....\n",
       "1526     1527  The original version of this paper [1] did not...\n",
       "2858     2859  Adolescents and millennials show the highest r...\n",
       "3252     3253  Trichotillomania, or hair-pulling disorder, is...\n",
       "3804     3805  NCT03022370. Registered 13 January 2017, retro...\n",
       "4624     4625  [This corrects the article DOI: 10.1371/journa...\n",
       "6054     6055                             No abstract available.\n",
       "8335     8336                                              <p/>.\n",
       "8809     8810  King's College London researchers have called ...\n",
       "9021     9022  Adolescent girls taking combined oral contrace...\n",
       "9149     9150     © Georg Thieme Verlag KG Stuttgart · New York."
      ]
     },
     "execution_count": 72,
     "metadata": {},
     "output_type": "execute_result"
    }
   ],
   "source": [
    "mask = (df['Abstract'].str.split().str.len() <= 40)\n",
    "df.loc[mask]"
   ]
  },
  {
   "cell_type": "markdown",
   "id": "74802916",
   "metadata": {},
   "source": [
    "All invalid or irrelevant."
   ]
  },
  {
   "cell_type": "markdown",
   "id": "8c58f3c9",
   "metadata": {},
   "source": [
    "#### Abstracts with 50 words or less"
   ]
  },
  {
   "cell_type": "code",
   "execution_count": 73,
   "id": "5f0fa88b",
   "metadata": {},
   "outputs": [
    {
     "data": {
      "text/html": [
       "<div>\n",
       "<style scoped>\n",
       "    .dataframe tbody tr th:only-of-type {\n",
       "        vertical-align: middle;\n",
       "    }\n",
       "\n",
       "    .dataframe tbody tr th {\n",
       "        vertical-align: top;\n",
       "    }\n",
       "\n",
       "    .dataframe thead th {\n",
       "        text-align: right;\n",
       "    }\n",
       "</style>\n",
       "<table border=\"1\" class=\"dataframe\">\n",
       "  <thead>\n",
       "    <tr style=\"text-align: right;\">\n",
       "      <th></th>\n",
       "      <th>PaperID</th>\n",
       "      <th>Abstract</th>\n",
       "    </tr>\n",
       "  </thead>\n",
       "  <tbody>\n",
       "    <tr>\n",
       "      <th>24</th>\n",
       "      <td>25</td>\n",
       "      <td>The mental health of children and young people...</td>\n",
       "    </tr>\n",
       "    <tr>\n",
       "      <th>86</th>\n",
       "      <td>87</td>\n",
       "      <td>[This corrects the article DOI: 10.2196/14734....</td>\n",
       "    </tr>\n",
       "    <tr>\n",
       "      <th>309</th>\n",
       "      <td>310</td>\n",
       "      <td>[This corrects the article DOI: 10.2196/13628....</td>\n",
       "    </tr>\n",
       "    <tr>\n",
       "      <th>1526</th>\n",
       "      <td>1527</td>\n",
       "      <td>The original version of this paper [1] did not...</td>\n",
       "    </tr>\n",
       "    <tr>\n",
       "      <th>2121</th>\n",
       "      <td>2122</td>\n",
       "      <td>This study tested the feasibility, acceptabili...</td>\n",
       "    </tr>\n",
       "    <tr>\n",
       "      <th>2858</th>\n",
       "      <td>2859</td>\n",
       "      <td>Adolescents and millennials show the highest r...</td>\n",
       "    </tr>\n",
       "    <tr>\n",
       "      <th>3252</th>\n",
       "      <td>3253</td>\n",
       "      <td>Trichotillomania, or hair-pulling disorder, is...</td>\n",
       "    </tr>\n",
       "    <tr>\n",
       "      <th>3804</th>\n",
       "      <td>3805</td>\n",
       "      <td>NCT03022370. Registered 13 January 2017, retro...</td>\n",
       "    </tr>\n",
       "    <tr>\n",
       "      <th>4624</th>\n",
       "      <td>4625</td>\n",
       "      <td>[This corrects the article DOI: 10.1371/journa...</td>\n",
       "    </tr>\n",
       "    <tr>\n",
       "      <th>5633</th>\n",
       "      <td>5634</td>\n",
       "      <td>Neurofibromatosis type 1 (NF1) is an inherited...</td>\n",
       "    </tr>\n",
       "    <tr>\n",
       "      <th>6054</th>\n",
       "      <td>6055</td>\n",
       "      <td>No abstract available.</td>\n",
       "    </tr>\n",
       "    <tr>\n",
       "      <th>8335</th>\n",
       "      <td>8336</td>\n",
       "      <td>&lt;p/&gt;.</td>\n",
       "    </tr>\n",
       "    <tr>\n",
       "      <th>8809</th>\n",
       "      <td>8810</td>\n",
       "      <td>King's College London researchers have called ...</td>\n",
       "    </tr>\n",
       "    <tr>\n",
       "      <th>9021</th>\n",
       "      <td>9022</td>\n",
       "      <td>Adolescent girls taking combined oral contrace...</td>\n",
       "    </tr>\n",
       "    <tr>\n",
       "      <th>9149</th>\n",
       "      <td>9150</td>\n",
       "      <td>© Georg Thieme Verlag KG Stuttgart · New York.</td>\n",
       "    </tr>\n",
       "  </tbody>\n",
       "</table>\n",
       "</div>"
      ],
      "text/plain": [
       "      PaperID                                           Abstract\n",
       "24         25  The mental health of children and young people...\n",
       "86         87  [This corrects the article DOI: 10.2196/14734....\n",
       "309       310  [This corrects the article DOI: 10.2196/13628....\n",
       "1526     1527  The original version of this paper [1] did not...\n",
       "2121     2122  This study tested the feasibility, acceptabili...\n",
       "2858     2859  Adolescents and millennials show the highest r...\n",
       "3252     3253  Trichotillomania, or hair-pulling disorder, is...\n",
       "3804     3805  NCT03022370. Registered 13 January 2017, retro...\n",
       "4624     4625  [This corrects the article DOI: 10.1371/journa...\n",
       "5633     5634  Neurofibromatosis type 1 (NF1) is an inherited...\n",
       "6054     6055                             No abstract available.\n",
       "8335     8336                                              <p/>.\n",
       "8809     8810  King's College London researchers have called ...\n",
       "9021     9022  Adolescent girls taking combined oral contrace...\n",
       "9149     9150     © Georg Thieme Verlag KG Stuttgart · New York."
      ]
     },
     "execution_count": 73,
     "metadata": {},
     "output_type": "execute_result"
    }
   ],
   "source": [
    "mask = (df['Abstract'].str.split().str.len() <= 50)\n",
    "df.loc[mask]"
   ]
  },
  {
   "cell_type": "markdown",
   "id": "1eb8c22d",
   "metadata": {},
   "source": [
    "All irrelevant or invalid."
   ]
  },
  {
   "cell_type": "markdown",
   "id": "c68d83d1",
   "metadata": {},
   "source": [
    "#### A lot more abstracts have <60 words than <50 words"
   ]
  },
  {
   "cell_type": "code",
   "execution_count": 77,
   "id": "72d9bc5f",
   "metadata": {},
   "outputs": [
    {
     "data": {
      "text/html": [
       "<div>\n",
       "<style scoped>\n",
       "    .dataframe tbody tr th:only-of-type {\n",
       "        vertical-align: middle;\n",
       "    }\n",
       "\n",
       "    .dataframe tbody tr th {\n",
       "        vertical-align: top;\n",
       "    }\n",
       "\n",
       "    .dataframe thead th {\n",
       "        text-align: right;\n",
       "    }\n",
       "</style>\n",
       "<table border=\"1\" class=\"dataframe\">\n",
       "  <thead>\n",
       "    <tr style=\"text-align: right;\">\n",
       "      <th></th>\n",
       "      <th>PaperID</th>\n",
       "      <th>Abstract</th>\n",
       "    </tr>\n",
       "  </thead>\n",
       "  <tbody>\n",
       "    <tr>\n",
       "      <th>24</th>\n",
       "      <td>25</td>\n",
       "      <td>The mental health of children and young people...</td>\n",
       "    </tr>\n",
       "    <tr>\n",
       "      <th>86</th>\n",
       "      <td>87</td>\n",
       "      <td>[This corrects the article DOI: 10.2196/14734....</td>\n",
       "    </tr>\n",
       "    <tr>\n",
       "      <th>309</th>\n",
       "      <td>310</td>\n",
       "      <td>[This corrects the article DOI: 10.2196/13628....</td>\n",
       "    </tr>\n",
       "    <tr>\n",
       "      <th>771</th>\n",
       "      <td>772</td>\n",
       "      <td>Adolescent depression is a prevalent disorder ...</td>\n",
       "    </tr>\n",
       "    <tr>\n",
       "      <th>1526</th>\n",
       "      <td>1527</td>\n",
       "      <td>The original version of this paper [1] did not...</td>\n",
       "    </tr>\n",
       "    <tr>\n",
       "      <th>2121</th>\n",
       "      <td>2122</td>\n",
       "      <td>This study tested the feasibility, acceptabili...</td>\n",
       "    </tr>\n",
       "    <tr>\n",
       "      <th>2858</th>\n",
       "      <td>2859</td>\n",
       "      <td>Adolescents and millennials show the highest r...</td>\n",
       "    </tr>\n",
       "    <tr>\n",
       "      <th>3252</th>\n",
       "      <td>3253</td>\n",
       "      <td>Trichotillomania, or hair-pulling disorder, is...</td>\n",
       "    </tr>\n",
       "    <tr>\n",
       "      <th>3654</th>\n",
       "      <td>3655</td>\n",
       "      <td>We would like to respond to some concerns rais...</td>\n",
       "    </tr>\n",
       "    <tr>\n",
       "      <th>3804</th>\n",
       "      <td>3805</td>\n",
       "      <td>NCT03022370. Registered 13 January 2017, retro...</td>\n",
       "    </tr>\n",
       "    <tr>\n",
       "      <th>4624</th>\n",
       "      <td>4625</td>\n",
       "      <td>[This corrects the article DOI: 10.1371/journa...</td>\n",
       "    </tr>\n",
       "    <tr>\n",
       "      <th>5053</th>\n",
       "      <td>5054</td>\n",
       "      <td>Bladder cancer is one of the most common cance...</td>\n",
       "    </tr>\n",
       "    <tr>\n",
       "      <th>5633</th>\n",
       "      <td>5634</td>\n",
       "      <td>Neurofibromatosis type 1 (NF1) is an inherited...</td>\n",
       "    </tr>\n",
       "    <tr>\n",
       "      <th>5908</th>\n",
       "      <td>5909</td>\n",
       "      <td>Psychoneurologic symptoms commonly reported by...</td>\n",
       "    </tr>\n",
       "    <tr>\n",
       "      <th>6054</th>\n",
       "      <td>6055</td>\n",
       "      <td>No abstract available.</td>\n",
       "    </tr>\n",
       "    <tr>\n",
       "      <th>8335</th>\n",
       "      <td>8336</td>\n",
       "      <td>&lt;p/&gt;.</td>\n",
       "    </tr>\n",
       "    <tr>\n",
       "      <th>8809</th>\n",
       "      <td>8810</td>\n",
       "      <td>King's College London researchers have called ...</td>\n",
       "    </tr>\n",
       "    <tr>\n",
       "      <th>8828</th>\n",
       "      <td>8829</td>\n",
       "      <td>Care for patients with eating disorders is com...</td>\n",
       "    </tr>\n",
       "    <tr>\n",
       "      <th>8939</th>\n",
       "      <td>8940</td>\n",
       "      <td>Although research papers show antidepressants ...</td>\n",
       "    </tr>\n",
       "    <tr>\n",
       "      <th>9021</th>\n",
       "      <td>9022</td>\n",
       "      <td>Adolescent girls taking combined oral contrace...</td>\n",
       "    </tr>\n",
       "    <tr>\n",
       "      <th>9149</th>\n",
       "      <td>9150</td>\n",
       "      <td>© Georg Thieme Verlag KG Stuttgart · New York.</td>\n",
       "    </tr>\n",
       "  </tbody>\n",
       "</table>\n",
       "</div>"
      ],
      "text/plain": [
       "      PaperID                                           Abstract\n",
       "24         25  The mental health of children and young people...\n",
       "86         87  [This corrects the article DOI: 10.2196/14734....\n",
       "309       310  [This corrects the article DOI: 10.2196/13628....\n",
       "771       772  Adolescent depression is a prevalent disorder ...\n",
       "1526     1527  The original version of this paper [1] did not...\n",
       "2121     2122  This study tested the feasibility, acceptabili...\n",
       "2858     2859  Adolescents and millennials show the highest r...\n",
       "3252     3253  Trichotillomania, or hair-pulling disorder, is...\n",
       "3654     3655  We would like to respond to some concerns rais...\n",
       "3804     3805  NCT03022370. Registered 13 January 2017, retro...\n",
       "4624     4625  [This corrects the article DOI: 10.1371/journa...\n",
       "5053     5054  Bladder cancer is one of the most common cance...\n",
       "5633     5634  Neurofibromatosis type 1 (NF1) is an inherited...\n",
       "5908     5909  Psychoneurologic symptoms commonly reported by...\n",
       "6054     6055                             No abstract available.\n",
       "8335     8336                                              <p/>.\n",
       "8809     8810  King's College London researchers have called ...\n",
       "8828     8829  Care for patients with eating disorders is com...\n",
       "8939     8940  Although research papers show antidepressants ...\n",
       "9021     9022  Adolescent girls taking combined oral contrace...\n",
       "9149     9150     © Georg Thieme Verlag KG Stuttgart · New York."
      ]
     },
     "execution_count": 77,
     "metadata": {},
     "output_type": "execute_result"
    }
   ],
   "source": [
    "mask = (df['Abstract'].str.split().str.len() <= 60)\n",
    "df.loc[mask]"
   ]
  },
  {
   "cell_type": "code",
   "execution_count": 104,
   "id": "c855237b",
   "metadata": {},
   "outputs": [
    {
     "data": {
      "text/plain": [
       "\"Adolescent depression is a prevalent disorder that increases risk for significant functional impairment and suicidality.1-3 Several psychotherapies are available, and it has been widely assumed that failure to complete these therapies will undermine benefit. The important study by O'Keeffe et\\xa0al. raises questions about that assumption.4.Copyright © 2019. Published by Elsevier Inc.\""
      ]
     },
     "execution_count": 104,
     "metadata": {},
     "output_type": "execute_result"
    }
   ],
   "source": [
    "df['Abstract'][771]"
   ]
  },
  {
   "cell_type": "code",
   "execution_count": 105,
   "id": "25fb0e31",
   "metadata": {},
   "outputs": [
    {
     "data": {
      "text/plain": [
       "'The original version of this paper [1] did not specify that a website was used in the final year of recruitment, in addition to the other stated recruitment methods.'"
      ]
     },
     "execution_count": 105,
     "metadata": {},
     "output_type": "execute_result"
    }
   ],
   "source": [
    "df['Abstract'][1526]"
   ]
  },
  {
   "cell_type": "code",
   "execution_count": 106,
   "id": "994da536",
   "metadata": {},
   "outputs": [
    {
     "data": {
      "text/plain": [
       "'Adolescents and millennials show the highest rates of increase.'"
      ]
     },
     "execution_count": 106,
     "metadata": {},
     "output_type": "execute_result"
    }
   ],
   "source": [
    "df['Abstract'][2858]"
   ]
  },
  {
   "cell_type": "code",
   "execution_count": 107,
   "id": "8499b781",
   "metadata": {},
   "outputs": [
    {
     "data": {
      "text/plain": [
       "'We would like to respond to some concerns raised by Dr.\\xa0McClellan in his editorial comment1 on our article that reported the results of a placebo-controlled study of lurasidone for the treatment of children and adolescents with bipolar I depression.2.Copyright © 2018 American Academy of Child and Adolescent Psychiatry. Published by Elsevier Inc. All rights reserved.'"
      ]
     },
     "execution_count": 107,
     "metadata": {},
     "output_type": "execute_result"
    }
   ],
   "source": [
    "df['Abstract'][3654]"
   ]
  },
  {
   "cell_type": "code",
   "execution_count": 108,
   "id": "83bb4af0",
   "metadata": {},
   "outputs": [
    {
     "data": {
      "text/plain": [
       "'Bladder cancer is one of the most common cancers among urologic cancers.\\r\\nIntravesical instillation following transurethral resection of bladder tumor\\r\\n(TURBT) is used as a treatment of bladder cancer. According to results of this\\r\\nstudy, before and after intravesical instillations following TURBT have no effect\\r\\non symptom outcomes of patients with superficial bladder cancer.'"
      ]
     },
     "execution_count": 108,
     "metadata": {},
     "output_type": "execute_result"
    }
   ],
   "source": [
    "df['Abstract'][5053]"
   ]
  },
  {
   "cell_type": "code",
   "execution_count": 109,
   "id": "3ce89cbb",
   "metadata": {},
   "outputs": [
    {
     "data": {
      "text/plain": [
       "'Neurofibromatosis type 1 (NF1) is an inherited disorder often associated with optic nerve gliomas, low-grade brain tumors, and readily visible signs. Though these features are frequently emphasized, the psychosocial and emotional morbidities are often overlooked. We present a patient with depressive disorder resulting in suicide in a patient with NF1.'"
      ]
     },
     "execution_count": 109,
     "metadata": {},
     "output_type": "execute_result"
    }
   ],
   "source": [
    "df['Abstract'][5633]"
   ]
  },
  {
   "cell_type": "code",
   "execution_count": 110,
   "id": "2bdc9ea2",
   "metadata": {},
   "outputs": [
    {
     "data": {
      "text/plain": [
       "'Psychoneurologic symptoms commonly reported by adolescents and young adults (AYAs) following hematopoetic stem cell transplantation (HSCT) include anxiety, depression, fatigue, and pain. Complementary and alternative medicine (CAM) appeals to AYAs as a means of coping with these symptoms. One example of CAM is a publicly available illness blog authored by a young adult woman undergoing HSCT. \\u2029.'"
      ]
     },
     "execution_count": 110,
     "metadata": {},
     "output_type": "execute_result"
    }
   ],
   "source": [
    "df['Abstract'][5908]"
   ]
  },
  {
   "cell_type": "code",
   "execution_count": 111,
   "id": "b7345e18",
   "metadata": {},
   "outputs": [
    {
     "data": {
      "text/plain": [
       "\"King's College London researchers have called for a greater focus on the mental health of young people with chronic liver conditions, after a study showed an increased risk of anxiety and depression.\""
      ]
     },
     "execution_count": 111,
     "metadata": {},
     "output_type": "execute_result"
    }
   ],
   "source": [
    "df['Abstract'][8809]"
   ]
  },
  {
   "cell_type": "code",
   "execution_count": 112,
   "id": "cf118188",
   "metadata": {},
   "outputs": [
    {
     "data": {
      "text/plain": [
       "'Care for patients with eating disorders is complex and plurimodal. Care plans need to be adapted in order to take into account the body in crisis. A series of hospital admissions combined with specific psychomotor approaches, can contribute to the patient being reappropriated with their own body.Copyright Â© 2016 Elsevier Masson SAS. All rights reserved.'"
      ]
     },
     "execution_count": 112,
     "metadata": {},
     "output_type": "execute_result"
    }
   ],
   "source": [
    "df['Abstract'][8828]"
   ]
  },
  {
   "cell_type": "code",
   "execution_count": 113,
   "id": "423251ff",
   "metadata": {},
   "outputs": [
    {
     "data": {
      "text/plain": [
       "'Although research papers show antidepressants have been used as first-line therapies for children and young people, in this article Edward Freshwater examines non-pharmacological therapies and suggests they can be effective when used as preventative interventions. He urges nurses to develop knowledge in lifestyle interventions such as diet and exercise to inform health promotion.'"
      ]
     },
     "execution_count": 113,
     "metadata": {},
     "output_type": "execute_result"
    }
   ],
   "source": [
    "df['Abstract'][8939]"
   ]
  },
  {
   "cell_type": "markdown",
   "id": "4354f53d",
   "metadata": {},
   "source": [
    "None of the above are relevant to tobacco or alcohol."
   ]
  },
  {
   "cell_type": "markdown",
   "id": "e480444a",
   "metadata": {},
   "source": [
    "#### Abstracts with 70 words or less"
   ]
  },
  {
   "cell_type": "code",
   "execution_count": 78,
   "id": "5ca9655b",
   "metadata": {},
   "outputs": [
    {
     "data": {
      "text/html": [
       "<div>\n",
       "<style scoped>\n",
       "    .dataframe tbody tr th:only-of-type {\n",
       "        vertical-align: middle;\n",
       "    }\n",
       "\n",
       "    .dataframe tbody tr th {\n",
       "        vertical-align: top;\n",
       "    }\n",
       "\n",
       "    .dataframe thead th {\n",
       "        text-align: right;\n",
       "    }\n",
       "</style>\n",
       "<table border=\"1\" class=\"dataframe\">\n",
       "  <thead>\n",
       "    <tr style=\"text-align: right;\">\n",
       "      <th></th>\n",
       "      <th>PaperID</th>\n",
       "      <th>Abstract</th>\n",
       "    </tr>\n",
       "  </thead>\n",
       "  <tbody>\n",
       "    <tr>\n",
       "      <th>24</th>\n",
       "      <td>25</td>\n",
       "      <td>The mental health of children and young people...</td>\n",
       "    </tr>\n",
       "    <tr>\n",
       "      <th>86</th>\n",
       "      <td>87</td>\n",
       "      <td>[This corrects the article DOI: 10.2196/14734....</td>\n",
       "    </tr>\n",
       "    <tr>\n",
       "      <th>309</th>\n",
       "      <td>310</td>\n",
       "      <td>[This corrects the article DOI: 10.2196/13628....</td>\n",
       "    </tr>\n",
       "    <tr>\n",
       "      <th>728</th>\n",
       "      <td>729</td>\n",
       "      <td>This article summarizes current knowledge and ...</td>\n",
       "    </tr>\n",
       "    <tr>\n",
       "      <th>771</th>\n",
       "      <td>772</td>\n",
       "      <td>Adolescent depression is a prevalent disorder ...</td>\n",
       "    </tr>\n",
       "    <tr>\n",
       "      <th>1015</th>\n",
       "      <td>1016</td>\n",
       "      <td>Amenorrhea is one of the clinical consequences...</td>\n",
       "    </tr>\n",
       "    <tr>\n",
       "      <th>1526</th>\n",
       "      <td>1527</td>\n",
       "      <td>The original version of this paper [1] did not...</td>\n",
       "    </tr>\n",
       "    <tr>\n",
       "      <th>2121</th>\n",
       "      <td>2122</td>\n",
       "      <td>This study tested the feasibility, acceptabili...</td>\n",
       "    </tr>\n",
       "    <tr>\n",
       "      <th>2858</th>\n",
       "      <td>2859</td>\n",
       "      <td>Adolescents and millennials show the highest r...</td>\n",
       "    </tr>\n",
       "    <tr>\n",
       "      <th>3252</th>\n",
       "      <td>3253</td>\n",
       "      <td>Trichotillomania, or hair-pulling disorder, is...</td>\n",
       "    </tr>\n",
       "    <tr>\n",
       "      <th>3574</th>\n",
       "      <td>3575</td>\n",
       "      <td>Psychogenic dystonia is one of the most common...</td>\n",
       "    </tr>\n",
       "    <tr>\n",
       "      <th>3654</th>\n",
       "      <td>3655</td>\n",
       "      <td>We would like to respond to some concerns rais...</td>\n",
       "    </tr>\n",
       "    <tr>\n",
       "      <th>3804</th>\n",
       "      <td>3805</td>\n",
       "      <td>NCT03022370. Registered 13 January 2017, retro...</td>\n",
       "    </tr>\n",
       "    <tr>\n",
       "      <th>4624</th>\n",
       "      <td>4625</td>\n",
       "      <td>[This corrects the article DOI: 10.1371/journa...</td>\n",
       "    </tr>\n",
       "    <tr>\n",
       "      <th>5053</th>\n",
       "      <td>5054</td>\n",
       "      <td>Bladder cancer is one of the most common cance...</td>\n",
       "    </tr>\n",
       "    <tr>\n",
       "      <th>5315</th>\n",
       "      <td>5316</td>\n",
       "      <td>Grief is ubiquitous in the experience of child...</td>\n",
       "    </tr>\n",
       "    <tr>\n",
       "      <th>5353</th>\n",
       "      <td>5354</td>\n",
       "      <td>The relationship between depressive symptoms a...</td>\n",
       "    </tr>\n",
       "    <tr>\n",
       "      <th>5549</th>\n",
       "      <td>5550</td>\n",
       "      <td>Anxiety and depression are highly prevalent di...</td>\n",
       "    </tr>\n",
       "    <tr>\n",
       "      <th>5633</th>\n",
       "      <td>5634</td>\n",
       "      <td>Neurofibromatosis type 1 (NF1) is an inherited...</td>\n",
       "    </tr>\n",
       "    <tr>\n",
       "      <th>5908</th>\n",
       "      <td>5909</td>\n",
       "      <td>Psychoneurologic symptoms commonly reported by...</td>\n",
       "    </tr>\n",
       "    <tr>\n",
       "      <th>6054</th>\n",
       "      <td>6055</td>\n",
       "      <td>No abstract available.</td>\n",
       "    </tr>\n",
       "    <tr>\n",
       "      <th>7581</th>\n",
       "      <td>7582</td>\n",
       "      <td>In this editorial, we discuss Morina and colle...</td>\n",
       "    </tr>\n",
       "    <tr>\n",
       "      <th>7606</th>\n",
       "      <td>7607</td>\n",
       "      <td>This study reports that short-term social inst...</td>\n",
       "    </tr>\n",
       "    <tr>\n",
       "      <th>7676</th>\n",
       "      <td>7677</td>\n",
       "      <td>This study investigated whether hopelessness a...</td>\n",
       "    </tr>\n",
       "    <tr>\n",
       "      <th>8335</th>\n",
       "      <td>8336</td>\n",
       "      <td>&lt;p/&gt;.</td>\n",
       "    </tr>\n",
       "    <tr>\n",
       "      <th>8645</th>\n",
       "      <td>8646</td>\n",
       "      <td>Venlafaxine is a selective serotonin noradrena...</td>\n",
       "    </tr>\n",
       "    <tr>\n",
       "      <th>8809</th>\n",
       "      <td>8810</td>\n",
       "      <td>King's College London researchers have called ...</td>\n",
       "    </tr>\n",
       "    <tr>\n",
       "      <th>8828</th>\n",
       "      <td>8829</td>\n",
       "      <td>Care for patients with eating disorders is com...</td>\n",
       "    </tr>\n",
       "    <tr>\n",
       "      <th>8939</th>\n",
       "      <td>8940</td>\n",
       "      <td>Although research papers show antidepressants ...</td>\n",
       "    </tr>\n",
       "    <tr>\n",
       "      <th>9021</th>\n",
       "      <td>9022</td>\n",
       "      <td>Adolescent girls taking combined oral contrace...</td>\n",
       "    </tr>\n",
       "    <tr>\n",
       "      <th>9149</th>\n",
       "      <td>9150</td>\n",
       "      <td>© Georg Thieme Verlag KG Stuttgart · New York.</td>\n",
       "    </tr>\n",
       "    <tr>\n",
       "      <th>9557</th>\n",
       "      <td>9558</td>\n",
       "      <td>We don't know which selective serotonin reupta...</td>\n",
       "    </tr>\n",
       "  </tbody>\n",
       "</table>\n",
       "</div>"
      ],
      "text/plain": [
       "      PaperID                                           Abstract\n",
       "24         25  The mental health of children and young people...\n",
       "86         87  [This corrects the article DOI: 10.2196/14734....\n",
       "309       310  [This corrects the article DOI: 10.2196/13628....\n",
       "728       729  This article summarizes current knowledge and ...\n",
       "771       772  Adolescent depression is a prevalent disorder ...\n",
       "1015     1016  Amenorrhea is one of the clinical consequences...\n",
       "1526     1527  The original version of this paper [1] did not...\n",
       "2121     2122  This study tested the feasibility, acceptabili...\n",
       "2858     2859  Adolescents and millennials show the highest r...\n",
       "3252     3253  Trichotillomania, or hair-pulling disorder, is...\n",
       "3574     3575  Psychogenic dystonia is one of the most common...\n",
       "3654     3655  We would like to respond to some concerns rais...\n",
       "3804     3805  NCT03022370. Registered 13 January 2017, retro...\n",
       "4624     4625  [This corrects the article DOI: 10.1371/journa...\n",
       "5053     5054  Bladder cancer is one of the most common cance...\n",
       "5315     5316  Grief is ubiquitous in the experience of child...\n",
       "5353     5354  The relationship between depressive symptoms a...\n",
       "5549     5550  Anxiety and depression are highly prevalent di...\n",
       "5633     5634  Neurofibromatosis type 1 (NF1) is an inherited...\n",
       "5908     5909  Psychoneurologic symptoms commonly reported by...\n",
       "6054     6055                             No abstract available.\n",
       "7581     7582  In this editorial, we discuss Morina and colle...\n",
       "7606     7607  This study reports that short-term social inst...\n",
       "7676     7677  This study investigated whether hopelessness a...\n",
       "8335     8336                                              <p/>.\n",
       "8645     8646  Venlafaxine is a selective serotonin noradrena...\n",
       "8809     8810  King's College London researchers have called ...\n",
       "8828     8829  Care for patients with eating disorders is com...\n",
       "8939     8940  Although research papers show antidepressants ...\n",
       "9021     9022  Adolescent girls taking combined oral contrace...\n",
       "9149     9150     © Georg Thieme Verlag KG Stuttgart · New York.\n",
       "9557     9558  We don't know which selective serotonin reupta..."
      ]
     },
     "execution_count": 78,
     "metadata": {},
     "output_type": "execute_result"
    }
   ],
   "source": [
    "mask = (df['Abstract'].str.split().str.len() <= 70)\n",
    "df.loc[mask]"
   ]
  },
  {
   "cell_type": "markdown",
   "id": "660f1fb8",
   "metadata": {},
   "source": [
    "#### Abstracts with 80 words or less"
   ]
  },
  {
   "cell_type": "code",
   "execution_count": 115,
   "id": "e89fcaf7",
   "metadata": {},
   "outputs": [
    {
     "data": {
      "text/html": [
       "<div>\n",
       "<style scoped>\n",
       "    .dataframe tbody tr th:only-of-type {\n",
       "        vertical-align: middle;\n",
       "    }\n",
       "\n",
       "    .dataframe tbody tr th {\n",
       "        vertical-align: top;\n",
       "    }\n",
       "\n",
       "    .dataframe thead th {\n",
       "        text-align: right;\n",
       "    }\n",
       "</style>\n",
       "<table border=\"1\" class=\"dataframe\">\n",
       "  <thead>\n",
       "    <tr style=\"text-align: right;\">\n",
       "      <th></th>\n",
       "      <th>PaperID</th>\n",
       "      <th>Abstract</th>\n",
       "    </tr>\n",
       "  </thead>\n",
       "  <tbody>\n",
       "    <tr>\n",
       "      <th>24</th>\n",
       "      <td>25</td>\n",
       "      <td>The mental health of children and young people...</td>\n",
       "    </tr>\n",
       "    <tr>\n",
       "      <th>86</th>\n",
       "      <td>87</td>\n",
       "      <td>[This corrects the article DOI: 10.2196/14734....</td>\n",
       "    </tr>\n",
       "    <tr>\n",
       "      <th>309</th>\n",
       "      <td>310</td>\n",
       "      <td>[This corrects the article DOI: 10.2196/13628....</td>\n",
       "    </tr>\n",
       "    <tr>\n",
       "      <th>728</th>\n",
       "      <td>729</td>\n",
       "      <td>This article summarizes current knowledge and ...</td>\n",
       "    </tr>\n",
       "    <tr>\n",
       "      <th>730</th>\n",
       "      <td>731</td>\n",
       "      <td>Depression risk is 2 to 3 times higher in medi...</td>\n",
       "    </tr>\n",
       "    <tr>\n",
       "      <th>771</th>\n",
       "      <td>772</td>\n",
       "      <td>Adolescent depression is a prevalent disorder ...</td>\n",
       "    </tr>\n",
       "    <tr>\n",
       "      <th>1015</th>\n",
       "      <td>1016</td>\n",
       "      <td>Amenorrhea is one of the clinical consequences...</td>\n",
       "    </tr>\n",
       "    <tr>\n",
       "      <th>1526</th>\n",
       "      <td>1527</td>\n",
       "      <td>The original version of this paper [1] did not...</td>\n",
       "    </tr>\n",
       "    <tr>\n",
       "      <th>1939</th>\n",
       "      <td>1940</td>\n",
       "      <td>Major depression is a common illness that seve...</td>\n",
       "    </tr>\n",
       "    <tr>\n",
       "      <th>1959</th>\n",
       "      <td>1960</td>\n",
       "      <td>Transcranial direct current stimulation (tDCS)...</td>\n",
       "    </tr>\n",
       "    <tr>\n",
       "      <th>2121</th>\n",
       "      <td>2122</td>\n",
       "      <td>This study tested the feasibility, acceptabili...</td>\n",
       "    </tr>\n",
       "    <tr>\n",
       "      <th>2858</th>\n",
       "      <td>2859</td>\n",
       "      <td>Adolescents and millennials show the highest r...</td>\n",
       "    </tr>\n",
       "    <tr>\n",
       "      <th>3252</th>\n",
       "      <td>3253</td>\n",
       "      <td>Trichotillomania, or hair-pulling disorder, is...</td>\n",
       "    </tr>\n",
       "    <tr>\n",
       "      <th>3365</th>\n",
       "      <td>3366</td>\n",
       "      <td>Bipolar disorder among children has gained acc...</td>\n",
       "    </tr>\n",
       "    <tr>\n",
       "      <th>3574</th>\n",
       "      <td>3575</td>\n",
       "      <td>Psychogenic dystonia is one of the most common...</td>\n",
       "    </tr>\n",
       "    <tr>\n",
       "      <th>3654</th>\n",
       "      <td>3655</td>\n",
       "      <td>We would like to respond to some concerns rais...</td>\n",
       "    </tr>\n",
       "    <tr>\n",
       "      <th>3655</th>\n",
       "      <td>3656</td>\n",
       "      <td>We would like to respond to the thought-provok...</td>\n",
       "    </tr>\n",
       "    <tr>\n",
       "      <th>3804</th>\n",
       "      <td>3805</td>\n",
       "      <td>NCT03022370. Registered 13 January 2017, retro...</td>\n",
       "    </tr>\n",
       "    <tr>\n",
       "      <th>3998</th>\n",
       "      <td>3999</td>\n",
       "      <td>We describe the difficulties of treating acne ...</td>\n",
       "    </tr>\n",
       "    <tr>\n",
       "      <th>4624</th>\n",
       "      <td>4625</td>\n",
       "      <td>[This corrects the article DOI: 10.1371/journa...</td>\n",
       "    </tr>\n",
       "    <tr>\n",
       "      <th>4877</th>\n",
       "      <td>4878</td>\n",
       "      <td>Mental health issues such as depression are ri...</td>\n",
       "    </tr>\n",
       "    <tr>\n",
       "      <th>4978</th>\n",
       "      <td>4979</td>\n",
       "      <td>Behavioral health emergencies most commonly pr...</td>\n",
       "    </tr>\n",
       "    <tr>\n",
       "      <th>5053</th>\n",
       "      <td>5054</td>\n",
       "      <td>Bladder cancer is one of the most common cance...</td>\n",
       "    </tr>\n",
       "    <tr>\n",
       "      <th>5315</th>\n",
       "      <td>5316</td>\n",
       "      <td>Grief is ubiquitous in the experience of child...</td>\n",
       "    </tr>\n",
       "    <tr>\n",
       "      <th>5353</th>\n",
       "      <td>5354</td>\n",
       "      <td>The relationship between depressive symptoms a...</td>\n",
       "    </tr>\n",
       "    <tr>\n",
       "      <th>5549</th>\n",
       "      <td>5550</td>\n",
       "      <td>Anxiety and depression are highly prevalent di...</td>\n",
       "    </tr>\n",
       "    <tr>\n",
       "      <th>5633</th>\n",
       "      <td>5634</td>\n",
       "      <td>Neurofibromatosis type 1 (NF1) is an inherited...</td>\n",
       "    </tr>\n",
       "    <tr>\n",
       "      <th>5908</th>\n",
       "      <td>5909</td>\n",
       "      <td>Psychoneurologic symptoms commonly reported by...</td>\n",
       "    </tr>\n",
       "    <tr>\n",
       "      <th>6054</th>\n",
       "      <td>6055</td>\n",
       "      <td>No abstract available.</td>\n",
       "    </tr>\n",
       "    <tr>\n",
       "      <th>6913</th>\n",
       "      <td>6914</td>\n",
       "      <td>In both phase III studies of LUM/IVA, as well ...</td>\n",
       "    </tr>\n",
       "    <tr>\n",
       "      <th>6957</th>\n",
       "      <td>6958</td>\n",
       "      <td>As a common disorder, depression must be diagn...</td>\n",
       "    </tr>\n",
       "    <tr>\n",
       "      <th>7581</th>\n",
       "      <td>7582</td>\n",
       "      <td>In this editorial, we discuss Morina and colle...</td>\n",
       "    </tr>\n",
       "    <tr>\n",
       "      <th>7606</th>\n",
       "      <td>7607</td>\n",
       "      <td>This study reports that short-term social inst...</td>\n",
       "    </tr>\n",
       "    <tr>\n",
       "      <th>7676</th>\n",
       "      <td>7677</td>\n",
       "      <td>This study investigated whether hopelessness a...</td>\n",
       "    </tr>\n",
       "    <tr>\n",
       "      <th>8335</th>\n",
       "      <td>8336</td>\n",
       "      <td>&lt;p/&gt;.</td>\n",
       "    </tr>\n",
       "    <tr>\n",
       "      <th>8645</th>\n",
       "      <td>8646</td>\n",
       "      <td>Venlafaxine is a selective serotonin noradrena...</td>\n",
       "    </tr>\n",
       "    <tr>\n",
       "      <th>8809</th>\n",
       "      <td>8810</td>\n",
       "      <td>King's College London researchers have called ...</td>\n",
       "    </tr>\n",
       "    <tr>\n",
       "      <th>8828</th>\n",
       "      <td>8829</td>\n",
       "      <td>Care for patients with eating disorders is com...</td>\n",
       "    </tr>\n",
       "    <tr>\n",
       "      <th>8939</th>\n",
       "      <td>8940</td>\n",
       "      <td>Although research papers show antidepressants ...</td>\n",
       "    </tr>\n",
       "    <tr>\n",
       "      <th>9021</th>\n",
       "      <td>9022</td>\n",
       "      <td>Adolescent girls taking combined oral contrace...</td>\n",
       "    </tr>\n",
       "    <tr>\n",
       "      <th>9149</th>\n",
       "      <td>9150</td>\n",
       "      <td>© Georg Thieme Verlag KG Stuttgart · New York.</td>\n",
       "    </tr>\n",
       "    <tr>\n",
       "      <th>9557</th>\n",
       "      <td>9558</td>\n",
       "      <td>We don't know which selective serotonin reupta...</td>\n",
       "    </tr>\n",
       "  </tbody>\n",
       "</table>\n",
       "</div>"
      ],
      "text/plain": [
       "      PaperID                                           Abstract\n",
       "24         25  The mental health of children and young people...\n",
       "86         87  [This corrects the article DOI: 10.2196/14734....\n",
       "309       310  [This corrects the article DOI: 10.2196/13628....\n",
       "728       729  This article summarizes current knowledge and ...\n",
       "730       731  Depression risk is 2 to 3 times higher in medi...\n",
       "771       772  Adolescent depression is a prevalent disorder ...\n",
       "1015     1016  Amenorrhea is one of the clinical consequences...\n",
       "1526     1527  The original version of this paper [1] did not...\n",
       "1939     1940  Major depression is a common illness that seve...\n",
       "1959     1960  Transcranial direct current stimulation (tDCS)...\n",
       "2121     2122  This study tested the feasibility, acceptabili...\n",
       "2858     2859  Adolescents and millennials show the highest r...\n",
       "3252     3253  Trichotillomania, or hair-pulling disorder, is...\n",
       "3365     3366  Bipolar disorder among children has gained acc...\n",
       "3574     3575  Psychogenic dystonia is one of the most common...\n",
       "3654     3655  We would like to respond to some concerns rais...\n",
       "3655     3656  We would like to respond to the thought-provok...\n",
       "3804     3805  NCT03022370. Registered 13 January 2017, retro...\n",
       "3998     3999  We describe the difficulties of treating acne ...\n",
       "4624     4625  [This corrects the article DOI: 10.1371/journa...\n",
       "4877     4878  Mental health issues such as depression are ri...\n",
       "4978     4979  Behavioral health emergencies most commonly pr...\n",
       "5053     5054  Bladder cancer is one of the most common cance...\n",
       "5315     5316  Grief is ubiquitous in the experience of child...\n",
       "5353     5354  The relationship between depressive symptoms a...\n",
       "5549     5550  Anxiety and depression are highly prevalent di...\n",
       "5633     5634  Neurofibromatosis type 1 (NF1) is an inherited...\n",
       "5908     5909  Psychoneurologic symptoms commonly reported by...\n",
       "6054     6055                             No abstract available.\n",
       "6913     6914  In both phase III studies of LUM/IVA, as well ...\n",
       "6957     6958  As a common disorder, depression must be diagn...\n",
       "7581     7582  In this editorial, we discuss Morina and colle...\n",
       "7606     7607  This study reports that short-term social inst...\n",
       "7676     7677  This study investigated whether hopelessness a...\n",
       "8335     8336                                              <p/>.\n",
       "8645     8646  Venlafaxine is a selective serotonin noradrena...\n",
       "8809     8810  King's College London researchers have called ...\n",
       "8828     8829  Care for patients with eating disorders is com...\n",
       "8939     8940  Although research papers show antidepressants ...\n",
       "9021     9022  Adolescent girls taking combined oral contrace...\n",
       "9149     9150     © Georg Thieme Verlag KG Stuttgart · New York.\n",
       "9557     9558  We don't know which selective serotonin reupta..."
      ]
     },
     "execution_count": 115,
     "metadata": {},
     "output_type": "execute_result"
    }
   ],
   "source": [
    "mask = (df['Abstract'].str.split().str.len() <= 80)\n",
    "df.loc[mask]"
   ]
  },
  {
   "cell_type": "markdown",
   "id": "d4c5b9b5",
   "metadata": {},
   "source": [
    "#### Abstracts with 90 words or less"
   ]
  },
  {
   "cell_type": "code",
   "execution_count": 117,
   "id": "2c675e03",
   "metadata": {},
   "outputs": [
    {
     "data": {
      "text/html": [
       "<div>\n",
       "<style scoped>\n",
       "    .dataframe tbody tr th:only-of-type {\n",
       "        vertical-align: middle;\n",
       "    }\n",
       "\n",
       "    .dataframe tbody tr th {\n",
       "        vertical-align: top;\n",
       "    }\n",
       "\n",
       "    .dataframe thead th {\n",
       "        text-align: right;\n",
       "    }\n",
       "</style>\n",
       "<table border=\"1\" class=\"dataframe\">\n",
       "  <thead>\n",
       "    <tr style=\"text-align: right;\">\n",
       "      <th></th>\n",
       "      <th>PaperID</th>\n",
       "      <th>Abstract</th>\n",
       "    </tr>\n",
       "  </thead>\n",
       "  <tbody>\n",
       "    <tr>\n",
       "      <th>24</th>\n",
       "      <td>25</td>\n",
       "      <td>The mental health of children and young people...</td>\n",
       "    </tr>\n",
       "    <tr>\n",
       "      <th>86</th>\n",
       "      <td>87</td>\n",
       "      <td>[This corrects the article DOI: 10.2196/14734....</td>\n",
       "    </tr>\n",
       "    <tr>\n",
       "      <th>309</th>\n",
       "      <td>310</td>\n",
       "      <td>[This corrects the article DOI: 10.2196/13628....</td>\n",
       "    </tr>\n",
       "    <tr>\n",
       "      <th>728</th>\n",
       "      <td>729</td>\n",
       "      <td>This article summarizes current knowledge and ...</td>\n",
       "    </tr>\n",
       "    <tr>\n",
       "      <th>730</th>\n",
       "      <td>731</td>\n",
       "      <td>Depression risk is 2 to 3 times higher in medi...</td>\n",
       "    </tr>\n",
       "    <tr>\n",
       "      <th>771</th>\n",
       "      <td>772</td>\n",
       "      <td>Adolescent depression is a prevalent disorder ...</td>\n",
       "    </tr>\n",
       "    <tr>\n",
       "      <th>1015</th>\n",
       "      <td>1016</td>\n",
       "      <td>Amenorrhea is one of the clinical consequences...</td>\n",
       "    </tr>\n",
       "    <tr>\n",
       "      <th>1069</th>\n",
       "      <td>1070</td>\n",
       "      <td>Levetiracetam is an antiepileptic agent that i...</td>\n",
       "    </tr>\n",
       "    <tr>\n",
       "      <th>1526</th>\n",
       "      <td>1527</td>\n",
       "      <td>The original version of this paper [1] did not...</td>\n",
       "    </tr>\n",
       "    <tr>\n",
       "      <th>1580</th>\n",
       "      <td>1581</td>\n",
       "      <td>Psychological treatments for adolescent depres...</td>\n",
       "    </tr>\n",
       "    <tr>\n",
       "      <th>1939</th>\n",
       "      <td>1940</td>\n",
       "      <td>Major depression is a common illness that seve...</td>\n",
       "    </tr>\n",
       "    <tr>\n",
       "      <th>1959</th>\n",
       "      <td>1960</td>\n",
       "      <td>Transcranial direct current stimulation (tDCS)...</td>\n",
       "    </tr>\n",
       "    <tr>\n",
       "      <th>1974</th>\n",
       "      <td>1975</td>\n",
       "      <td>Chronic pain in youth is a common experience t...</td>\n",
       "    </tr>\n",
       "    <tr>\n",
       "      <th>2121</th>\n",
       "      <td>2122</td>\n",
       "      <td>This study tested the feasibility, acceptabili...</td>\n",
       "    </tr>\n",
       "    <tr>\n",
       "      <th>2628</th>\n",
       "      <td>2629</td>\n",
       "      <td>Amenorrhea, oligomenorrhea, galactorrhoea, gyn...</td>\n",
       "    </tr>\n",
       "    <tr>\n",
       "      <th>2691</th>\n",
       "      <td>2692</td>\n",
       "      <td>For children and adolescents with uncomplicate...</td>\n",
       "    </tr>\n",
       "    <tr>\n",
       "      <th>2858</th>\n",
       "      <td>2859</td>\n",
       "      <td>Adolescents and millennials show the highest r...</td>\n",
       "    </tr>\n",
       "    <tr>\n",
       "      <th>2917</th>\n",
       "      <td>2918</td>\n",
       "      <td>Epilepsy disorders are the most common treatab...</td>\n",
       "    </tr>\n",
       "    <tr>\n",
       "      <th>3252</th>\n",
       "      <td>3253</td>\n",
       "      <td>Trichotillomania, or hair-pulling disorder, is...</td>\n",
       "    </tr>\n",
       "    <tr>\n",
       "      <th>3317</th>\n",
       "      <td>3318</td>\n",
       "      <td>Sleep disturbances are often observed in child...</td>\n",
       "    </tr>\n",
       "    <tr>\n",
       "      <th>3365</th>\n",
       "      <td>3366</td>\n",
       "      <td>Bipolar disorder among children has gained acc...</td>\n",
       "    </tr>\n",
       "    <tr>\n",
       "      <th>3574</th>\n",
       "      <td>3575</td>\n",
       "      <td>Psychogenic dystonia is one of the most common...</td>\n",
       "    </tr>\n",
       "    <tr>\n",
       "      <th>3654</th>\n",
       "      <td>3655</td>\n",
       "      <td>We would like to respond to some concerns rais...</td>\n",
       "    </tr>\n",
       "    <tr>\n",
       "      <th>3655</th>\n",
       "      <td>3656</td>\n",
       "      <td>We would like to respond to the thought-provok...</td>\n",
       "    </tr>\n",
       "    <tr>\n",
       "      <th>3804</th>\n",
       "      <td>3805</td>\n",
       "      <td>NCT03022370. Registered 13 January 2017, retro...</td>\n",
       "    </tr>\n",
       "    <tr>\n",
       "      <th>3998</th>\n",
       "      <td>3999</td>\n",
       "      <td>We describe the difficulties of treating acne ...</td>\n",
       "    </tr>\n",
       "    <tr>\n",
       "      <th>4131</th>\n",
       "      <td>4132</td>\n",
       "      <td>The complexity of depressive diagnosis and oth...</td>\n",
       "    </tr>\n",
       "    <tr>\n",
       "      <th>4624</th>\n",
       "      <td>4625</td>\n",
       "      <td>[This corrects the article DOI: 10.1371/journa...</td>\n",
       "    </tr>\n",
       "    <tr>\n",
       "      <th>4626</th>\n",
       "      <td>4627</td>\n",
       "      <td>Parry-Romberg syndrome (PRS) may overlap local...</td>\n",
       "    </tr>\n",
       "    <tr>\n",
       "      <th>4877</th>\n",
       "      <td>4878</td>\n",
       "      <td>Mental health issues such as depression are ri...</td>\n",
       "    </tr>\n",
       "    <tr>\n",
       "      <th>4978</th>\n",
       "      <td>4979</td>\n",
       "      <td>Behavioral health emergencies most commonly pr...</td>\n",
       "    </tr>\n",
       "    <tr>\n",
       "      <th>5053</th>\n",
       "      <td>5054</td>\n",
       "      <td>Bladder cancer is one of the most common cance...</td>\n",
       "    </tr>\n",
       "    <tr>\n",
       "      <th>5239</th>\n",
       "      <td>5240</td>\n",
       "      <td>Bipolar disorder is a debilitating illness tha...</td>\n",
       "    </tr>\n",
       "    <tr>\n",
       "      <th>5315</th>\n",
       "      <td>5316</td>\n",
       "      <td>Grief is ubiquitous in the experience of child...</td>\n",
       "    </tr>\n",
       "    <tr>\n",
       "      <th>5353</th>\n",
       "      <td>5354</td>\n",
       "      <td>The relationship between depressive symptoms a...</td>\n",
       "    </tr>\n",
       "    <tr>\n",
       "      <th>5549</th>\n",
       "      <td>5550</td>\n",
       "      <td>Anxiety and depression are highly prevalent di...</td>\n",
       "    </tr>\n",
       "    <tr>\n",
       "      <th>5633</th>\n",
       "      <td>5634</td>\n",
       "      <td>Neurofibromatosis type 1 (NF1) is an inherited...</td>\n",
       "    </tr>\n",
       "    <tr>\n",
       "      <th>5816</th>\n",
       "      <td>5817</td>\n",
       "      <td>Child and adolescent depression is often unkno...</td>\n",
       "    </tr>\n",
       "    <tr>\n",
       "      <th>5908</th>\n",
       "      <td>5909</td>\n",
       "      <td>Psychoneurologic symptoms commonly reported by...</td>\n",
       "    </tr>\n",
       "    <tr>\n",
       "      <th>6054</th>\n",
       "      <td>6055</td>\n",
       "      <td>No abstract available.</td>\n",
       "    </tr>\n",
       "    <tr>\n",
       "      <th>6363</th>\n",
       "      <td>6364</td>\n",
       "      <td>Depression and suicide ideation co-occur regul...</td>\n",
       "    </tr>\n",
       "    <tr>\n",
       "      <th>6469</th>\n",
       "      <td>6470</td>\n",
       "      <td>This article focuses on the recognition and di...</td>\n",
       "    </tr>\n",
       "    <tr>\n",
       "      <th>6913</th>\n",
       "      <td>6914</td>\n",
       "      <td>In both phase III studies of LUM/IVA, as well ...</td>\n",
       "    </tr>\n",
       "    <tr>\n",
       "      <th>6957</th>\n",
       "      <td>6958</td>\n",
       "      <td>As a common disorder, depression must be diagn...</td>\n",
       "    </tr>\n",
       "    <tr>\n",
       "      <th>7062</th>\n",
       "      <td>7063</td>\n",
       "      <td>Although a student presenting with altered men...</td>\n",
       "    </tr>\n",
       "    <tr>\n",
       "      <th>7581</th>\n",
       "      <td>7582</td>\n",
       "      <td>In this editorial, we discuss Morina and colle...</td>\n",
       "    </tr>\n",
       "    <tr>\n",
       "      <th>7606</th>\n",
       "      <td>7607</td>\n",
       "      <td>This study reports that short-term social inst...</td>\n",
       "    </tr>\n",
       "    <tr>\n",
       "      <th>7676</th>\n",
       "      <td>7677</td>\n",
       "      <td>This study investigated whether hopelessness a...</td>\n",
       "    </tr>\n",
       "    <tr>\n",
       "      <th>8335</th>\n",
       "      <td>8336</td>\n",
       "      <td>&lt;p/&gt;.</td>\n",
       "    </tr>\n",
       "    <tr>\n",
       "      <th>8645</th>\n",
       "      <td>8646</td>\n",
       "      <td>Venlafaxine is a selective serotonin noradrena...</td>\n",
       "    </tr>\n",
       "    <tr>\n",
       "      <th>8647</th>\n",
       "      <td>8648</td>\n",
       "      <td>The overall health of children and teenagers i...</td>\n",
       "    </tr>\n",
       "    <tr>\n",
       "      <th>8667</th>\n",
       "      <td>8668</td>\n",
       "      <td>Childhood disadvantage has repeatedly been lin...</td>\n",
       "    </tr>\n",
       "    <tr>\n",
       "      <th>8809</th>\n",
       "      <td>8810</td>\n",
       "      <td>King's College London researchers have called ...</td>\n",
       "    </tr>\n",
       "    <tr>\n",
       "      <th>8828</th>\n",
       "      <td>8829</td>\n",
       "      <td>Care for patients with eating disorders is com...</td>\n",
       "    </tr>\n",
       "    <tr>\n",
       "      <th>8915</th>\n",
       "      <td>8916</td>\n",
       "      <td>A 17-year-old male with ADHD who was treated w...</td>\n",
       "    </tr>\n",
       "    <tr>\n",
       "      <th>8939</th>\n",
       "      <td>8940</td>\n",
       "      <td>Although research papers show antidepressants ...</td>\n",
       "    </tr>\n",
       "    <tr>\n",
       "      <th>9021</th>\n",
       "      <td>9022</td>\n",
       "      <td>Adolescent girls taking combined oral contrace...</td>\n",
       "    </tr>\n",
       "    <tr>\n",
       "      <th>9149</th>\n",
       "      <td>9150</td>\n",
       "      <td>© Georg Thieme Verlag KG Stuttgart · New York.</td>\n",
       "    </tr>\n",
       "    <tr>\n",
       "      <th>9557</th>\n",
       "      <td>9558</td>\n",
       "      <td>We don't know which selective serotonin reupta...</td>\n",
       "    </tr>\n",
       "    <tr>\n",
       "      <th>9706</th>\n",
       "      <td>9707</td>\n",
       "      <td>Many African Americans (AAs) use clergy as the...</td>\n",
       "    </tr>\n",
       "  </tbody>\n",
       "</table>\n",
       "</div>"
      ],
      "text/plain": [
       "      PaperID                                           Abstract\n",
       "24         25  The mental health of children and young people...\n",
       "86         87  [This corrects the article DOI: 10.2196/14734....\n",
       "309       310  [This corrects the article DOI: 10.2196/13628....\n",
       "728       729  This article summarizes current knowledge and ...\n",
       "730       731  Depression risk is 2 to 3 times higher in medi...\n",
       "771       772  Adolescent depression is a prevalent disorder ...\n",
       "1015     1016  Amenorrhea is one of the clinical consequences...\n",
       "1069     1070  Levetiracetam is an antiepileptic agent that i...\n",
       "1526     1527  The original version of this paper [1] did not...\n",
       "1580     1581  Psychological treatments for adolescent depres...\n",
       "1939     1940  Major depression is a common illness that seve...\n",
       "1959     1960  Transcranial direct current stimulation (tDCS)...\n",
       "1974     1975  Chronic pain in youth is a common experience t...\n",
       "2121     2122  This study tested the feasibility, acceptabili...\n",
       "2628     2629  Amenorrhea, oligomenorrhea, galactorrhoea, gyn...\n",
       "2691     2692  For children and adolescents with uncomplicate...\n",
       "2858     2859  Adolescents and millennials show the highest r...\n",
       "2917     2918  Epilepsy disorders are the most common treatab...\n",
       "3252     3253  Trichotillomania, or hair-pulling disorder, is...\n",
       "3317     3318  Sleep disturbances are often observed in child...\n",
       "3365     3366  Bipolar disorder among children has gained acc...\n",
       "3574     3575  Psychogenic dystonia is one of the most common...\n",
       "3654     3655  We would like to respond to some concerns rais...\n",
       "3655     3656  We would like to respond to the thought-provok...\n",
       "3804     3805  NCT03022370. Registered 13 January 2017, retro...\n",
       "3998     3999  We describe the difficulties of treating acne ...\n",
       "4131     4132  The complexity of depressive diagnosis and oth...\n",
       "4624     4625  [This corrects the article DOI: 10.1371/journa...\n",
       "4626     4627  Parry-Romberg syndrome (PRS) may overlap local...\n",
       "4877     4878  Mental health issues such as depression are ri...\n",
       "4978     4979  Behavioral health emergencies most commonly pr...\n",
       "5053     5054  Bladder cancer is one of the most common cance...\n",
       "5239     5240  Bipolar disorder is a debilitating illness tha...\n",
       "5315     5316  Grief is ubiquitous in the experience of child...\n",
       "5353     5354  The relationship between depressive symptoms a...\n",
       "5549     5550  Anxiety and depression are highly prevalent di...\n",
       "5633     5634  Neurofibromatosis type 1 (NF1) is an inherited...\n",
       "5816     5817  Child and adolescent depression is often unkno...\n",
       "5908     5909  Psychoneurologic symptoms commonly reported by...\n",
       "6054     6055                             No abstract available.\n",
       "6363     6364  Depression and suicide ideation co-occur regul...\n",
       "6469     6470  This article focuses on the recognition and di...\n",
       "6913     6914  In both phase III studies of LUM/IVA, as well ...\n",
       "6957     6958  As a common disorder, depression must be diagn...\n",
       "7062     7063  Although a student presenting with altered men...\n",
       "7581     7582  In this editorial, we discuss Morina and colle...\n",
       "7606     7607  This study reports that short-term social inst...\n",
       "7676     7677  This study investigated whether hopelessness a...\n",
       "8335     8336                                              <p/>.\n",
       "8645     8646  Venlafaxine is a selective serotonin noradrena...\n",
       "8647     8648  The overall health of children and teenagers i...\n",
       "8667     8668  Childhood disadvantage has repeatedly been lin...\n",
       "8809     8810  King's College London researchers have called ...\n",
       "8828     8829  Care for patients with eating disorders is com...\n",
       "8915     8916  A 17-year-old male with ADHD who was treated w...\n",
       "8939     8940  Although research papers show antidepressants ...\n",
       "9021     9022  Adolescent girls taking combined oral contrace...\n",
       "9149     9150     © Georg Thieme Verlag KG Stuttgart · New York.\n",
       "9557     9558  We don't know which selective serotonin reupta...\n",
       "9706     9707  Many African Americans (AAs) use clergy as the..."
      ]
     },
     "execution_count": 117,
     "metadata": {},
     "output_type": "execute_result"
    }
   ],
   "source": [
    "mask = (df['Abstract'].str.split().str.len() <= 90)\n",
    "df.loc[mask]"
   ]
  },
  {
   "cell_type": "markdown",
   "id": "95f49f26",
   "metadata": {},
   "source": [
    "We should inspect these and check for relevance"
   ]
  },
  {
   "cell_type": "markdown",
   "id": "366a2373",
   "metadata": {},
   "source": [
    "#### Let's inspect the abstracts above and see if any are valid length/relevant for keeping."
   ]
  },
  {
   "cell_type": "code",
   "execution_count": 180,
   "id": "53fc0c2c",
   "metadata": {},
   "outputs": [
    {
     "data": {
      "text/plain": [
       "\"Many African Americans (AAs) use clergy as their primary source of help for depression, with few being referred to mental health providers. This study used face-to-face workshops to train AA clergy to recognize the symptoms and levels of severity of depression. A pretest/posttest format was used to test knowledge (N = 42) about depression symptoms. Results showed that the participation improved the clergy's ability to recognize depression symptoms. Faith community nurses can develop workshops for clergy to improve recognition and treatment of depression. \""
      ]
     },
     "execution_count": 180,
     "metadata": {},
     "output_type": "execute_result"
    }
   ],
   "source": [
    "df['Abstract'][24]\n",
    "df['Abstract'][86]\n",
    "df['Abstract'][309]\n",
    "df['Abstract'][728] #valid but irrelevant\n",
    "df['Abstract'][730] #valid but irrelevant\n",
    "df['Abstract'][771] #valid but irrelevant\n",
    "df['Abstract'][1015] #valid but irrelevant\n",
    "df['Abstract'][1069] #valid but irrelevant\n",
    "df['Abstract'][1526]\n",
    "df['Abstract'][1580] #valid but irrelevant\n",
    "df['Abstract'][1939] #valid but irrelevant\n",
    "df['Abstract'][1959] #valid but irrelevant\n",
    "df['Abstract'][1974] #valid but irrelevant\n",
    "df['Abstract'][2121] #valid but irrelevant\n",
    "df['Abstract'][2628] #valid but irrelevant\n",
    "df['Abstract'][2691] #valid but irrelevant\n",
    "df['Abstract'][2858]\n",
    "df['Abstract'][2917] #valid but irrelevant\n",
    "df['Abstract'][3252] #valid but irrelevant\n",
    "df['Abstract'][3317] #valid but irrelevant\n",
    "df['Abstract'][3365] #valid but irrelevant\n",
    "df['Abstract'][3574] #valid but irrelevant\n",
    "df['Abstract'][3654]\n",
    "df['Abstract'][3655]\n",
    "df['Abstract'][3804]\n",
    "df['Abstract'][3998] #valid but irrelevant\n",
    "df['Abstract'][4131] #valid but irrelevant\n",
    "df['Abstract'][4624]\n",
    "df['Abstract'][4626] #valid but irrelevant\n",
    "df['Abstract'][4877] #somewhat relevant; mental health issues for college students who may benefit from online depression info\n",
    "df['Abstract'][4978] #valid but irrelevant\n",
    "df['Abstract'][5053] #valid but irrelevant\n",
    "df['Abstract'][5239] #valid but irrelevant\n",
    "df['Abstract'][5315] #somewhat relevant; grief in adolescents\n",
    "df['Abstract'][5353] #valid but irrelevant\n",
    "df['Abstract'][5549] #somewhat relevant; anxiety and depression in youth\n",
    "df['Abstract'][5633] #valid but irrelevant\n",
    "df['Abstract'][5816] #somewhat relevant; child and adolescent depression\n",
    "df['Abstract'][5908]\n",
    "df['Abstract'][6363] #somewhat relevant; depression and suicide ideation\n",
    "df['Abstract'][6469] #somewhat relevant; risk management, signs and symptoms of depression in children\n",
    "df['Abstract'][6913]\n",
    "df['Abstract'][6957]\n",
    "df['Abstract'][7581]\n",
    "df['Abstract'][7606]\n",
    "df['Abstract'][7676] #somewhat relevant; hopelessness and suicide risk in college students\n",
    "df['Abstract'][8645]\n",
    "df['Abstract'][8647]\n",
    "df['Abstract'][8667] #somewhat relevant; childhood predictors of adult physical morbidity and mortality\n",
    "df['Abstract'][8809]\n",
    "df['Abstract'][8828]\n",
    "df['Abstract'][8915] #valid but irrelevant\n",
    "df['Abstract'][8939]\n",
    "df['Abstract'][9021]\n",
    "df['Abstract'][9149]\n",
    "df['Abstract'][9557] #valid but irrelevant\n",
    "df['Abstract'][9706] #valid but irrelevant"
   ]
  },
  {
   "cell_type": "markdown",
   "id": "4e7248ca",
   "metadata": {},
   "source": [
    "#### New dataframe with only abstracts having more than 90 words"
   ]
  },
  {
   "cell_type": "code",
   "execution_count": 186,
   "id": "9141f34d",
   "metadata": {},
   "outputs": [],
   "source": [
    "# New dataframe with only abstracts having more than 90 words\n",
    "mask = (df['Abstract'].str.split().str.len() > 90)\n",
    "above_90w = df.loc[mask]"
   ]
  },
  {
   "cell_type": "code",
   "execution_count": 187,
   "id": "ddb00e9d",
   "metadata": {},
   "outputs": [
    {
     "data": {
      "text/html": [
       "<div>\n",
       "<style scoped>\n",
       "    .dataframe tbody tr th:only-of-type {\n",
       "        vertical-align: middle;\n",
       "    }\n",
       "\n",
       "    .dataframe tbody tr th {\n",
       "        vertical-align: top;\n",
       "    }\n",
       "\n",
       "    .dataframe thead th {\n",
       "        text-align: right;\n",
       "    }\n",
       "</style>\n",
       "<table border=\"1\" class=\"dataframe\">\n",
       "  <thead>\n",
       "    <tr style=\"text-align: right;\">\n",
       "      <th></th>\n",
       "      <th>PaperID</th>\n",
       "      <th>Abstract</th>\n",
       "    </tr>\n",
       "  </thead>\n",
       "  <tbody>\n",
       "    <tr>\n",
       "      <th>0</th>\n",
       "      <td>1</td>\n",
       "      <td>This case report investigated the transactiona...</td>\n",
       "    </tr>\n",
       "    <tr>\n",
       "      <th>1</th>\n",
       "      <td>2</td>\n",
       "      <td>Does it matter what we eat for our mental heal...</td>\n",
       "    </tr>\n",
       "    <tr>\n",
       "      <th>2</th>\n",
       "      <td>3</td>\n",
       "      <td>Pubertal timing matters for psychological deve...</td>\n",
       "    </tr>\n",
       "    <tr>\n",
       "      <th>3</th>\n",
       "      <td>4</td>\n",
       "      <td>Plasminogen activator inhibitor 1 (PAI-1), whi...</td>\n",
       "    </tr>\n",
       "    <tr>\n",
       "      <th>4</th>\n",
       "      <td>5</td>\n",
       "      <td>The adolescent developmental stage appears to ...</td>\n",
       "    </tr>\n",
       "    <tr>\n",
       "      <th>...</th>\n",
       "      <td>...</td>\n",
       "      <td>...</td>\n",
       "    </tr>\n",
       "    <tr>\n",
       "      <th>9714</th>\n",
       "      <td>9715</td>\n",
       "      <td>Several studies have identified associations b...</td>\n",
       "    </tr>\n",
       "    <tr>\n",
       "      <th>9715</th>\n",
       "      <td>9716</td>\n",
       "      <td>Obsessive-compulsive disorder (OCD) has a chro...</td>\n",
       "    </tr>\n",
       "    <tr>\n",
       "      <th>9716</th>\n",
       "      <td>9717</td>\n",
       "      <td>This pilot randomized controlled trial (RCT) i...</td>\n",
       "    </tr>\n",
       "    <tr>\n",
       "      <th>9717</th>\n",
       "      <td>9718</td>\n",
       "      <td>Few studies have explored stress and coping am...</td>\n",
       "    </tr>\n",
       "    <tr>\n",
       "      <th>9718</th>\n",
       "      <td>9719</td>\n",
       "      <td>Cognitive fatigue is among the most profound a...</td>\n",
       "    </tr>\n",
       "  </tbody>\n",
       "</table>\n",
       "<p>9655 rows × 2 columns</p>\n",
       "</div>"
      ],
      "text/plain": [
       "      PaperID                                           Abstract\n",
       "0           1  This case report investigated the transactiona...\n",
       "1           2  Does it matter what we eat for our mental heal...\n",
       "2           3  Pubertal timing matters for psychological deve...\n",
       "3           4  Plasminogen activator inhibitor 1 (PAI-1), whi...\n",
       "4           5  The adolescent developmental stage appears to ...\n",
       "...       ...                                                ...\n",
       "9714     9715  Several studies have identified associations b...\n",
       "9715     9716  Obsessive-compulsive disorder (OCD) has a chro...\n",
       "9716     9717  This pilot randomized controlled trial (RCT) i...\n",
       "9717     9718  Few studies have explored stress and coping am...\n",
       "9718     9719  Cognitive fatigue is among the most profound a...\n",
       "\n",
       "[9655 rows x 2 columns]"
      ]
     },
     "execution_count": 187,
     "metadata": {},
     "output_type": "execute_result"
    }
   ],
   "source": [
    "above_90w"
   ]
  },
  {
   "cell_type": "markdown",
   "id": "ca5b6aa5",
   "metadata": {},
   "source": [
    "#### Inspect some abstracts that have 90-100 words"
   ]
  },
  {
   "cell_type": "code",
   "execution_count": 188,
   "id": "a543750c",
   "metadata": {},
   "outputs": [
    {
     "data": {
      "text/html": [
       "<div>\n",
       "<style scoped>\n",
       "    .dataframe tbody tr th:only-of-type {\n",
       "        vertical-align: middle;\n",
       "    }\n",
       "\n",
       "    .dataframe tbody tr th {\n",
       "        vertical-align: top;\n",
       "    }\n",
       "\n",
       "    .dataframe thead th {\n",
       "        text-align: right;\n",
       "    }\n",
       "</style>\n",
       "<table border=\"1\" class=\"dataframe\">\n",
       "  <thead>\n",
       "    <tr style=\"text-align: right;\">\n",
       "      <th></th>\n",
       "      <th>PaperID</th>\n",
       "      <th>Abstract</th>\n",
       "    </tr>\n",
       "  </thead>\n",
       "  <tbody>\n",
       "    <tr>\n",
       "      <th>95</th>\n",
       "      <td>96</td>\n",
       "      <td>Axon guidance molecules direct growing axons t...</td>\n",
       "    </tr>\n",
       "    <tr>\n",
       "      <th>98</th>\n",
       "      <td>99</td>\n",
       "      <td>This review examines sex differences in sleep ...</td>\n",
       "    </tr>\n",
       "    <tr>\n",
       "      <th>119</th>\n",
       "      <td>120</td>\n",
       "      <td>The impacts of body dissatisfaction have been ...</td>\n",
       "    </tr>\n",
       "    <tr>\n",
       "      <th>627</th>\n",
       "      <td>628</td>\n",
       "      <td>Depression is the number one cause of disabili...</td>\n",
       "    </tr>\n",
       "    <tr>\n",
       "      <th>678</th>\n",
       "      <td>679</td>\n",
       "      <td>Adverse childhood experiences (ACE) are associ...</td>\n",
       "    </tr>\n",
       "    <tr>\n",
       "      <th>734</th>\n",
       "      <td>735</td>\n",
       "      <td>There are special considerations when treating...</td>\n",
       "    </tr>\n",
       "    <tr>\n",
       "      <th>1009</th>\n",
       "      <td>1010</td>\n",
       "      <td>This cross-sectional German study examined the...</td>\n",
       "    </tr>\n",
       "    <tr>\n",
       "      <th>1424</th>\n",
       "      <td>1425</td>\n",
       "      <td>Transdiagnostic approach has a long history in...</td>\n",
       "    </tr>\n",
       "    <tr>\n",
       "      <th>1823</th>\n",
       "      <td>1824</td>\n",
       "      <td>Postpartum depression (PPD) is a common and di...</td>\n",
       "    </tr>\n",
       "    <tr>\n",
       "      <th>1857</th>\n",
       "      <td>1858</td>\n",
       "      <td>Depression is one of the most frequent mood di...</td>\n",
       "    </tr>\n",
       "    <tr>\n",
       "      <th>1960</th>\n",
       "      <td>1961</td>\n",
       "      <td>Transcranial magnetic stimulation (TMS) is a t...</td>\n",
       "    </tr>\n",
       "    <tr>\n",
       "      <th>1961</th>\n",
       "      <td>1962</td>\n",
       "      <td>Adolescent depression is a substantial global ...</td>\n",
       "    </tr>\n",
       "    <tr>\n",
       "      <th>2057</th>\n",
       "      <td>2058</td>\n",
       "      <td>Schizophrenia is serious illness with high com...</td>\n",
       "    </tr>\n",
       "    <tr>\n",
       "      <th>2220</th>\n",
       "      <td>2221</td>\n",
       "      <td>An important goal in the field of psychiatry i...</td>\n",
       "    </tr>\n",
       "    <tr>\n",
       "      <th>2287</th>\n",
       "      <td>2288</td>\n",
       "      <td>This study aimed to assess hopelessness in 170...</td>\n",
       "    </tr>\n",
       "    <tr>\n",
       "      <th>2326</th>\n",
       "      <td>2327</td>\n",
       "      <td>The effects of a resilience enhancement progra...</td>\n",
       "    </tr>\n",
       "    <tr>\n",
       "      <th>2359</th>\n",
       "      <td>2360</td>\n",
       "      <td>The purpose of this paper is to present a conc...</td>\n",
       "    </tr>\n",
       "    <tr>\n",
       "      <th>2661</th>\n",
       "      <td>2662</td>\n",
       "      <td>Depression, violence, and infant complications...</td>\n",
       "    </tr>\n",
       "    <tr>\n",
       "      <th>2968</th>\n",
       "      <td>2969</td>\n",
       "      <td>The severity of depressive symptoms across two...</td>\n",
       "    </tr>\n",
       "    <tr>\n",
       "      <th>3122</th>\n",
       "      <td>3123</td>\n",
       "      <td>Mobile health interventions to promote adheren...</td>\n",
       "    </tr>\n",
       "    <tr>\n",
       "      <th>3212</th>\n",
       "      <td>3213</td>\n",
       "      <td>A growing population of youth who acquired HIV...</td>\n",
       "    </tr>\n",
       "    <tr>\n",
       "      <th>3321</th>\n",
       "      <td>3322</td>\n",
       "      <td>The data supporting the use of \"antidepressant...</td>\n",
       "    </tr>\n",
       "    <tr>\n",
       "      <th>3338</th>\n",
       "      <td>3339</td>\n",
       "      <td>Depression is a common disorder in youth, and ...</td>\n",
       "    </tr>\n",
       "    <tr>\n",
       "      <th>3460</th>\n",
       "      <td>3461</td>\n",
       "      <td>According to the World Health Organization, 10...</td>\n",
       "    </tr>\n",
       "    <tr>\n",
       "      <th>3554</th>\n",
       "      <td>3555</td>\n",
       "      <td>Two moderated social media websites were desig...</td>\n",
       "    </tr>\n",
       "    <tr>\n",
       "      <th>3807</th>\n",
       "      <td>3808</td>\n",
       "      <td>Selective serotonin reuptake inhibitors (SSRIs...</td>\n",
       "    </tr>\n",
       "    <tr>\n",
       "      <th>3897</th>\n",
       "      <td>3898</td>\n",
       "      <td>Current evidence suggests that acute depressio...</td>\n",
       "    </tr>\n",
       "    <tr>\n",
       "      <th>4098</th>\n",
       "      <td>4099</td>\n",
       "      <td>Universal health care programmes have the pote...</td>\n",
       "    </tr>\n",
       "    <tr>\n",
       "      <th>4353</th>\n",
       "      <td>4354</td>\n",
       "      <td>An organizing framework for understanding adol...</td>\n",
       "    </tr>\n",
       "    <tr>\n",
       "      <th>4668</th>\n",
       "      <td>4669</td>\n",
       "      <td>Positivity biases in autobiographical memory a...</td>\n",
       "    </tr>\n",
       "    <tr>\n",
       "      <th>4688</th>\n",
       "      <td>4689</td>\n",
       "      <td>Multivariate dynamic relationships among suici...</td>\n",
       "    </tr>\n",
       "    <tr>\n",
       "      <th>4770</th>\n",
       "      <td>4771</td>\n",
       "      <td>Female juvenile justice-involved (JJI) youth e...</td>\n",
       "    </tr>\n",
       "    <tr>\n",
       "      <th>4771</th>\n",
       "      <td>4772</td>\n",
       "      <td>The study aimed to evaluate the measurement pr...</td>\n",
       "    </tr>\n",
       "    <tr>\n",
       "      <th>4920</th>\n",
       "      <td>4921</td>\n",
       "      <td>Gender dysphoria is a new entity introduced in...</td>\n",
       "    </tr>\n",
       "    <tr>\n",
       "      <th>5069</th>\n",
       "      <td>5070</td>\n",
       "      <td>Our aims were to confirm the relationship betw...</td>\n",
       "    </tr>\n",
       "    <tr>\n",
       "      <th>5228</th>\n",
       "      <td>5229</td>\n",
       "      <td>Monthly disruptive behavior treatment progress...</td>\n",
       "    </tr>\n",
       "    <tr>\n",
       "      <th>5241</th>\n",
       "      <td>5242</td>\n",
       "      <td>The refusal of treatment is frequent in human ...</td>\n",
       "    </tr>\n",
       "    <tr>\n",
       "      <th>5243</th>\n",
       "      <td>5244</td>\n",
       "      <td>The increasing prevalence of euthanasia in Bel...</td>\n",
       "    </tr>\n",
       "    <tr>\n",
       "      <th>5380</th>\n",
       "      <td>5381</td>\n",
       "      <td>Filipinos are a large, yet invisible, minority...</td>\n",
       "    </tr>\n",
       "    <tr>\n",
       "      <th>5408</th>\n",
       "      <td>5409</td>\n",
       "      <td>This study examines whether social network fac...</td>\n",
       "    </tr>\n",
       "    <tr>\n",
       "      <th>5430</th>\n",
       "      <td>5431</td>\n",
       "      <td>PTSD (Posttraumatic Stress Disorder) is a comm...</td>\n",
       "    </tr>\n",
       "    <tr>\n",
       "      <th>5531</th>\n",
       "      <td>5532</td>\n",
       "      <td>Family-based treatment principles have been in...</td>\n",
       "    </tr>\n",
       "    <tr>\n",
       "      <th>5846</th>\n",
       "      <td>5847</td>\n",
       "      <td>The aim of this research was to understand the...</td>\n",
       "    </tr>\n",
       "    <tr>\n",
       "      <th>5864</th>\n",
       "      <td>5865</td>\n",
       "      <td>Understanding predictors of adolescent inpatie...</td>\n",
       "    </tr>\n",
       "    <tr>\n",
       "      <th>6000</th>\n",
       "      <td>6001</td>\n",
       "      <td>The purposes of this study were to investigate...</td>\n",
       "    </tr>\n",
       "    <tr>\n",
       "      <th>6598</th>\n",
       "      <td>6599</td>\n",
       "      <td>This pilot study examines anxiety, depression,...</td>\n",
       "    </tr>\n",
       "    <tr>\n",
       "      <th>6825</th>\n",
       "      <td>6826</td>\n",
       "      <td>Drawing on Thomas Ogden's notion of 'reverie',...</td>\n",
       "    </tr>\n",
       "    <tr>\n",
       "      <th>6857</th>\n",
       "      <td>6858</td>\n",
       "      <td>Psychosocial stress and negative emotions have...</td>\n",
       "    </tr>\n",
       "    <tr>\n",
       "      <th>7018</th>\n",
       "      <td>7019</td>\n",
       "      <td>The aim of this study was to examine how depre...</td>\n",
       "    </tr>\n",
       "    <tr>\n",
       "      <th>7204</th>\n",
       "      <td>7205</td>\n",
       "      <td>Obsessive Compulsive Inventory-Child Version (...</td>\n",
       "    </tr>\n",
       "    <tr>\n",
       "      <th>7291</th>\n",
       "      <td>7292</td>\n",
       "      <td>Suicide from depression is the second leading ...</td>\n",
       "    </tr>\n",
       "    <tr>\n",
       "      <th>7293</th>\n",
       "      <td>7294</td>\n",
       "      <td>The polymorphism of ERK and PTPRR in MDD is ra...</td>\n",
       "    </tr>\n",
       "    <tr>\n",
       "      <th>7485</th>\n",
       "      <td>7486</td>\n",
       "      <td>We recently conducted a comprehensive systemat...</td>\n",
       "    </tr>\n",
       "    <tr>\n",
       "      <th>7677</th>\n",
       "      <td>7678</td>\n",
       "      <td>Findings from an online survey of 350 adults w...</td>\n",
       "    </tr>\n",
       "    <tr>\n",
       "      <th>7951</th>\n",
       "      <td>7952</td>\n",
       "      <td>Gay and bisexual men in Jamaica encounter stig...</td>\n",
       "    </tr>\n",
       "    <tr>\n",
       "      <th>8066</th>\n",
       "      <td>8067</td>\n",
       "      <td>This study examined the associations between p...</td>\n",
       "    </tr>\n",
       "    <tr>\n",
       "      <th>8690</th>\n",
       "      <td>8691</td>\n",
       "      <td>We tested a model consistent with the notion t...</td>\n",
       "    </tr>\n",
       "    <tr>\n",
       "      <th>9438</th>\n",
       "      <td>9439</td>\n",
       "      <td>The Socio-Economic Panel (SOEP) has outstandin...</td>\n",
       "    </tr>\n",
       "    <tr>\n",
       "      <th>9534</th>\n",
       "      <td>9535</td>\n",
       "      <td>Emetophobia is the specific fear of vomiting t...</td>\n",
       "    </tr>\n",
       "  </tbody>\n",
       "</table>\n",
       "</div>"
      ],
      "text/plain": [
       "      PaperID                                           Abstract\n",
       "95         96  Axon guidance molecules direct growing axons t...\n",
       "98         99  This review examines sex differences in sleep ...\n",
       "119       120  The impacts of body dissatisfaction have been ...\n",
       "627       628  Depression is the number one cause of disabili...\n",
       "678       679  Adverse childhood experiences (ACE) are associ...\n",
       "734       735  There are special considerations when treating...\n",
       "1009     1010  This cross-sectional German study examined the...\n",
       "1424     1425  Transdiagnostic approach has a long history in...\n",
       "1823     1824  Postpartum depression (PPD) is a common and di...\n",
       "1857     1858  Depression is one of the most frequent mood di...\n",
       "1960     1961  Transcranial magnetic stimulation (TMS) is a t...\n",
       "1961     1962  Adolescent depression is a substantial global ...\n",
       "2057     2058  Schizophrenia is serious illness with high com...\n",
       "2220     2221  An important goal in the field of psychiatry i...\n",
       "2287     2288  This study aimed to assess hopelessness in 170...\n",
       "2326     2327  The effects of a resilience enhancement progra...\n",
       "2359     2360  The purpose of this paper is to present a conc...\n",
       "2661     2662  Depression, violence, and infant complications...\n",
       "2968     2969  The severity of depressive symptoms across two...\n",
       "3122     3123  Mobile health interventions to promote adheren...\n",
       "3212     3213  A growing population of youth who acquired HIV...\n",
       "3321     3322  The data supporting the use of \"antidepressant...\n",
       "3338     3339  Depression is a common disorder in youth, and ...\n",
       "3460     3461  According to the World Health Organization, 10...\n",
       "3554     3555  Two moderated social media websites were desig...\n",
       "3807     3808  Selective serotonin reuptake inhibitors (SSRIs...\n",
       "3897     3898  Current evidence suggests that acute depressio...\n",
       "4098     4099  Universal health care programmes have the pote...\n",
       "4353     4354  An organizing framework for understanding adol...\n",
       "4668     4669  Positivity biases in autobiographical memory a...\n",
       "4688     4689  Multivariate dynamic relationships among suici...\n",
       "4770     4771  Female juvenile justice-involved (JJI) youth e...\n",
       "4771     4772  The study aimed to evaluate the measurement pr...\n",
       "4920     4921  Gender dysphoria is a new entity introduced in...\n",
       "5069     5070  Our aims were to confirm the relationship betw...\n",
       "5228     5229  Monthly disruptive behavior treatment progress...\n",
       "5241     5242  The refusal of treatment is frequent in human ...\n",
       "5243     5244  The increasing prevalence of euthanasia in Bel...\n",
       "5380     5381  Filipinos are a large, yet invisible, minority...\n",
       "5408     5409  This study examines whether social network fac...\n",
       "5430     5431  PTSD (Posttraumatic Stress Disorder) is a comm...\n",
       "5531     5532  Family-based treatment principles have been in...\n",
       "5846     5847  The aim of this research was to understand the...\n",
       "5864     5865  Understanding predictors of adolescent inpatie...\n",
       "6000     6001  The purposes of this study were to investigate...\n",
       "6598     6599  This pilot study examines anxiety, depression,...\n",
       "6825     6826  Drawing on Thomas Ogden's notion of 'reverie',...\n",
       "6857     6858  Psychosocial stress and negative emotions have...\n",
       "7018     7019  The aim of this study was to examine how depre...\n",
       "7204     7205  Obsessive Compulsive Inventory-Child Version (...\n",
       "7291     7292  Suicide from depression is the second leading ...\n",
       "7293     7294  The polymorphism of ERK and PTPRR in MDD is ra...\n",
       "7485     7486  We recently conducted a comprehensive systemat...\n",
       "7677     7678  Findings from an online survey of 350 adults w...\n",
       "7951     7952  Gay and bisexual men in Jamaica encounter stig...\n",
       "8066     8067  This study examined the associations between p...\n",
       "8690     8691  We tested a model consistent with the notion t...\n",
       "9438     9439  The Socio-Economic Panel (SOEP) has outstandin...\n",
       "9534     9535  Emetophobia is the specific fear of vomiting t..."
      ]
     },
     "execution_count": 188,
     "metadata": {},
     "output_type": "execute_result"
    }
   ],
   "source": [
    "# Now see how many have 90-100 words\n",
    "mask = (above_90w['Abstract'].str.split().str.len() <= 100)\n",
    "above_90w.loc[mask]"
   ]
  },
  {
   "cell_type": "markdown",
   "id": "f46eb7b1",
   "metadata": {},
   "source": [
    "By simply scanning and glancing at these, they all appear to be valid."
   ]
  },
  {
   "cell_type": "markdown",
   "id": "62aef329",
   "metadata": {},
   "source": [
    "#### Inspect abstracts that have more than 250 words"
   ]
  },
  {
   "cell_type": "code",
   "execution_count": 190,
   "id": "4ffcf444",
   "metadata": {},
   "outputs": [
    {
     "data": {
      "text/html": [
       "<div>\n",
       "<style scoped>\n",
       "    .dataframe tbody tr th:only-of-type {\n",
       "        vertical-align: middle;\n",
       "    }\n",
       "\n",
       "    .dataframe tbody tr th {\n",
       "        vertical-align: top;\n",
       "    }\n",
       "\n",
       "    .dataframe thead th {\n",
       "        text-align: right;\n",
       "    }\n",
       "</style>\n",
       "<table border=\"1\" class=\"dataframe\">\n",
       "  <thead>\n",
       "    <tr style=\"text-align: right;\">\n",
       "      <th></th>\n",
       "      <th>PaperID</th>\n",
       "      <th>Abstract</th>\n",
       "    </tr>\n",
       "  </thead>\n",
       "  <tbody>\n",
       "    <tr>\n",
       "      <th>5</th>\n",
       "      <td>6</td>\n",
       "      <td>Adolescence is a neuroplastic period for self-...</td>\n",
       "    </tr>\n",
       "    <tr>\n",
       "      <th>7</th>\n",
       "      <td>8</td>\n",
       "      <td>To assess the prevalence of psychiatric disord...</td>\n",
       "    </tr>\n",
       "    <tr>\n",
       "      <th>8</th>\n",
       "      <td>9</td>\n",
       "      <td>Background and Objectives: Psychological outco...</td>\n",
       "    </tr>\n",
       "    <tr>\n",
       "      <th>11</th>\n",
       "      <td>12</td>\n",
       "      <td>Depression represents a major public health co...</td>\n",
       "    </tr>\n",
       "    <tr>\n",
       "      <th>13</th>\n",
       "      <td>14</td>\n",
       "      <td>Minimal/non-response to antipsychotic treatmen...</td>\n",
       "    </tr>\n",
       "    <tr>\n",
       "      <th>...</th>\n",
       "      <td>...</td>\n",
       "      <td>...</td>\n",
       "    </tr>\n",
       "    <tr>\n",
       "      <th>9705</th>\n",
       "      <td>9706</td>\n",
       "      <td>Collaborative, nurse-led care is a well-establ...</td>\n",
       "    </tr>\n",
       "    <tr>\n",
       "      <th>9709</th>\n",
       "      <td>9710</td>\n",
       "      <td>Does mode of conception [spontaneous/after inf...</td>\n",
       "    </tr>\n",
       "    <tr>\n",
       "      <th>9712</th>\n",
       "      <td>9713</td>\n",
       "      <td>Depression is one of the most common mental he...</td>\n",
       "    </tr>\n",
       "    <tr>\n",
       "      <th>9714</th>\n",
       "      <td>9715</td>\n",
       "      <td>Several studies have identified associations b...</td>\n",
       "    </tr>\n",
       "    <tr>\n",
       "      <th>9718</th>\n",
       "      <td>9719</td>\n",
       "      <td>Cognitive fatigue is among the most profound a...</td>\n",
       "    </tr>\n",
       "  </tbody>\n",
       "</table>\n",
       "<p>3419 rows × 2 columns</p>\n",
       "</div>"
      ],
      "text/plain": [
       "      PaperID                                           Abstract\n",
       "5           6  Adolescence is a neuroplastic period for self-...\n",
       "7           8  To assess the prevalence of psychiatric disord...\n",
       "8           9  Background and Objectives: Psychological outco...\n",
       "11         12  Depression represents a major public health co...\n",
       "13         14  Minimal/non-response to antipsychotic treatmen...\n",
       "...       ...                                                ...\n",
       "9705     9706  Collaborative, nurse-led care is a well-establ...\n",
       "9709     9710  Does mode of conception [spontaneous/after inf...\n",
       "9712     9713  Depression is one of the most common mental he...\n",
       "9714     9715  Several studies have identified associations b...\n",
       "9718     9719  Cognitive fatigue is among the most profound a...\n",
       "\n",
       "[3419 rows x 2 columns]"
      ]
     },
     "execution_count": 190,
     "metadata": {},
     "output_type": "execute_result"
    }
   ],
   "source": [
    "# Now see how many have more than 250 words\n",
    "mask = (above_90w['Abstract'].str.split().str.len() > 250)\n",
    "above_90w.loc[mask]"
   ]
  },
  {
   "cell_type": "markdown",
   "id": "9a4e7f88",
   "metadata": {},
   "source": [
    "#### Inspect abstracts that have more than 300 words"
   ]
  },
  {
   "cell_type": "code",
   "execution_count": 191,
   "id": "d10928eb",
   "metadata": {},
   "outputs": [
    {
     "data": {
      "text/html": [
       "<div>\n",
       "<style scoped>\n",
       "    .dataframe tbody tr th:only-of-type {\n",
       "        vertical-align: middle;\n",
       "    }\n",
       "\n",
       "    .dataframe tbody tr th {\n",
       "        vertical-align: top;\n",
       "    }\n",
       "\n",
       "    .dataframe thead th {\n",
       "        text-align: right;\n",
       "    }\n",
       "</style>\n",
       "<table border=\"1\" class=\"dataframe\">\n",
       "  <thead>\n",
       "    <tr style=\"text-align: right;\">\n",
       "      <th></th>\n",
       "      <th>PaperID</th>\n",
       "      <th>Abstract</th>\n",
       "    </tr>\n",
       "  </thead>\n",
       "  <tbody>\n",
       "    <tr>\n",
       "      <th>8</th>\n",
       "      <td>9</td>\n",
       "      <td>Background and Objectives: Psychological outco...</td>\n",
       "    </tr>\n",
       "    <tr>\n",
       "      <th>26</th>\n",
       "      <td>27</td>\n",
       "      <td>Antenatal maternal psychological distress is c...</td>\n",
       "    </tr>\n",
       "    <tr>\n",
       "      <th>30</th>\n",
       "      <td>31</td>\n",
       "      <td>Background: Depression is common among women i...</td>\n",
       "    </tr>\n",
       "    <tr>\n",
       "      <th>34</th>\n",
       "      <td>35</td>\n",
       "      <td>Over the past decade, more and more children a...</td>\n",
       "    </tr>\n",
       "    <tr>\n",
       "      <th>44</th>\n",
       "      <td>45</td>\n",
       "      <td>To measure health-related behaviors and risk f...</td>\n",
       "    </tr>\n",
       "    <tr>\n",
       "      <th>...</th>\n",
       "      <td>...</td>\n",
       "      <td>...</td>\n",
       "    </tr>\n",
       "    <tr>\n",
       "      <th>9694</th>\n",
       "      <td>9695</td>\n",
       "      <td>Pregnancy is a strong motivator to quit smokin...</td>\n",
       "    </tr>\n",
       "    <tr>\n",
       "      <th>9699</th>\n",
       "      <td>9700</td>\n",
       "      <td>Patients with affective disorders of different...</td>\n",
       "    </tr>\n",
       "    <tr>\n",
       "      <th>9701</th>\n",
       "      <td>9702</td>\n",
       "      <td>As data on the phenotype, characteristics and ...</td>\n",
       "    </tr>\n",
       "    <tr>\n",
       "      <th>9705</th>\n",
       "      <td>9706</td>\n",
       "      <td>Collaborative, nurse-led care is a well-establ...</td>\n",
       "    </tr>\n",
       "    <tr>\n",
       "      <th>9709</th>\n",
       "      <td>9710</td>\n",
       "      <td>Does mode of conception [spontaneous/after inf...</td>\n",
       "    </tr>\n",
       "  </tbody>\n",
       "</table>\n",
       "<p>1146 rows × 2 columns</p>\n",
       "</div>"
      ],
      "text/plain": [
       "      PaperID                                           Abstract\n",
       "8           9  Background and Objectives: Psychological outco...\n",
       "26         27  Antenatal maternal psychological distress is c...\n",
       "30         31  Background: Depression is common among women i...\n",
       "34         35  Over the past decade, more and more children a...\n",
       "44         45  To measure health-related behaviors and risk f...\n",
       "...       ...                                                ...\n",
       "9694     9695  Pregnancy is a strong motivator to quit smokin...\n",
       "9699     9700  Patients with affective disorders of different...\n",
       "9701     9702  As data on the phenotype, characteristics and ...\n",
       "9705     9706  Collaborative, nurse-led care is a well-establ...\n",
       "9709     9710  Does mode of conception [spontaneous/after inf...\n",
       "\n",
       "[1146 rows x 2 columns]"
      ]
     },
     "execution_count": 191,
     "metadata": {},
     "output_type": "execute_result"
    }
   ],
   "source": [
    "# Now see how many have more than 300 words\n",
    "mask = (above_90w['Abstract'].str.split().str.len() > 300)\n",
    "above_90w.loc[mask]"
   ]
  },
  {
   "cell_type": "code",
   "execution_count": 192,
   "id": "49d2af28",
   "metadata": {},
   "outputs": [
    {
     "data": {
      "text/plain": [
       "\"Does mode of conception [spontaneous/after infertility treatment (IT)], type of pregnancy (singleton/twin) and parent gender have an effect on anxiety and depression levels and trajectories during pregnancy and the post-partum period?Conception after IT was associated with a transitory increase in anxiety during the perinatal period for parents of singletons, while for IT parents of twins higher levels of psychopathological symptoms tended to persist during pregnancy and the post-partum period.Most previous studies have shown that successful IT is not associated with poor psychological well-being during pregnancy and the post-partum period, but there is also some evidence for heightened pregnancy-related anxiety, lower self-esteem and lower self-efficacy. Parents of twins experience increased postnatal anxiety and depression.This prospective longitudinal study assessed 267 couples (N\\xa0=\\xa0534) at each trimester of pregnancy, after childbirth and at 3 months post-partum.The sample comprised 36 couples who had conceived after IT (19 twin pairs and 17 singletons) and 231 couples who had conceived spontaneously (SC; 28 twin pairs and 203 singletons). Couples were recruited at four public hospitals in Portugal, and self-report measures of anxiety and depression symptoms were administered.IT parents reported higher anxiety after childbirth than parents who SC,\\xa0regardless of pregnancy type. IT parents of twins showed higher anxiety at mid-pregnancy, as well as higher anxiety and depression at 3 months post-partum than IT parents of singletons. Among IT mothers, those who had twins exhibited higher depression after childbirth than those who had singletons. Differences according to mode of conception, pregnancy type and parents gender over time were also noted. During pregnancy, IT parents of twins showed no significant change in depression scores, while the other groups depression scores statistically significantly decreased over time. From pregnancy to the post-partum period, (i) IT parents showed an increase in anxiety scores, whereas SC parents exhibited no changes in anxiety scores; (ii) IT women exhibited an increase in depression scores, while SC women depression scores decreased. During the post-partum period, IT and SC parents of twins showed no changes in anxiety scores, while IT and SC parents of singletons anxiety scores declined.Due to the small number of IT couples, the interpretation and generalization of the results should be done with caution.The adverse impact of IT on psychopathological symptoms depends mostly on time and type of pregnancy, and is greater for twin pregnancies. These findings are important for tailoring interventions that address parents' specific needs at different moments.This work was supported by a grant (SFRH/BD/40146/2007) to the first author from the FCT, Foundation for Science and Technology (Portuguese Ministry of Education and Science), by the Operational Program Science and Innovation 2010 (POCI 2010) of the Community Support Board III, by FEDER Funds through the Operational Competitiveness Programme, COMPETE, and through national funding from the FCT under the projects: POCI/SAU-ESP/ 56397/2004 and PTDC/SAU/SAP/116738/2010. The authors have no conflicts of interest.© The Author 2016. Published by Oxford University Press on behalf of the European Society of Human Reproduction and Embryology. All rights reserved. For Permissions, please email: journals.permissions@oup.com.\""
      ]
     },
     "execution_count": 192,
     "metadata": {},
     "output_type": "execute_result"
    }
   ],
   "source": [
    "above_90w['Abstract'][9709]"
   ]
  },
  {
   "cell_type": "code",
   "execution_count": 193,
   "id": "27c7edb7",
   "metadata": {},
   "outputs": [
    {
     "data": {
      "text/plain": [
       "'Pregnancy is a strong motivator to quit smoking, yet postpartum relapse rates are high. Growing evidence suggests a role of sex hormones in drug abuse behavior and given the precipitous drop in sex hormones at delivery, they may play a role in postpartum relapse. This pilot study evaluates the feasibility and potential role of exogenous progesterone in postpartum smoking relapse.This 12-week double-blind placebo-controlled randomized pilot trial randomized 46 abstinent postpartum women to active progesterone (PRO; 200mg twice a day) versus placebo (PBO) for 4 weeks. Participants were followed for relapse for 12 weeks. Main study outcomes include abstinence (point prevalence), feasibility (compliance per number of clinic visits attended, pill counts and Electronic Data Capture [EDC] completed) and self-reported acceptability. Safety was also measured by depressive symptom scores, adverse events, and breastfeeding.Overall retention rate was 87% at week 12. At week 4, abstinence rates were 75% in the PRO group and 68.2% in the PBO group (p = .75). Medication adherence was 68% and clinic visit attendance was 80%, with no differences by randomization. Depressive symptom scores, adverse events, and breastfeeding did not vary by randomization.Although the study was not powered to evaluate abstinence rates, we did observe a higher prevalence of abstinence at week 4 in the PRO group. Further, exogenous progesterone was well tolerated and did not adversely affect depressive symptoms or breastfeeding. Thus, the results of this pilot study indicate further investigation into progesterone as a postpartum relapse prevention strategy is warranted.This innovative pilot trial determined the feasibility of delivering exogenous progesterone as a potential prevention of postpartum smoking relapse. We observed high retention and moderate adherence rates, as well as high acceptability among participants. Further, though not statistically significant, more women in the treatment group remained abstinent from smoking during follow-up. This project adds to the growing body of literature on the role of sex hormones in smoking relapse and also provides support for a fully powered clinical trial.© The Author 2016. Published by Oxford University Press on behalf of the Society for Research on Nicotine and Tobacco. All rights reserved. For permissions, please e-mail: journals.permissions@oup.com.'"
      ]
     },
     "execution_count": 193,
     "metadata": {},
     "output_type": "execute_result"
    }
   ],
   "source": [
    "above_90w['Abstract'][9694]"
   ]
  },
  {
   "cell_type": "code",
   "execution_count": 194,
   "id": "d649951e",
   "metadata": {},
   "outputs": [
    {
     "data": {
      "text/plain": [
       "'Background and Objectives: Psychological outcomes following termination of wanted pregnancies have not previously been studied. Does excluding such abortions affect estimates of psychological distress following abortion? To address this question this study examines long-term psychological outcomes by pregnancy intention (wanted or unwanted) following induced abortion relative to childbirth in the United States. Materials and Methods: Panel data on a nationally-representative cohort of 3935 ever-pregnant women assessed at mean age of 15, 22, and 28 years were examined from the National Longitudinal Survey of Adolescent to Adult Health (Add Health). Relative risk (RR) and incident rate ratios (IRR) for time-dynamic mental health outcomes, conditioned by pregnancy intention and abortion exposure, were estimated from population-averaged longitudinal logistic and Poisson regression models, with extensive adjustment for sociodemographic differences, pregnancy and mental health history, and other confounding factors. Outcomes were assessed using the Diagnostic and Statistical Manual, Version 4, American Psychiatric Association (DSM-IV) diagnostic criteria or another validated index for suicidal ideation, depression, and anxiety (affective problems); drug abuse, opioid abuse, alcohol abuse, and cannabis abuse (substance abuse problems); and summary total disorders. Results: Women who terminated one or more wanted pregnancies experienced a 43% higher risk of affective problems (RR 1.69, 95% CI 1.3-2.2) relative to childbirth, compared to women terminating only unwanted pregnancies (RR 1.18, 95% CI 1.0-1.4). Risks of depression (RR 2.22, 95% CI 1.3-3.8) and suicidality (RR 3.44 95% CI 1.5-7.7) were especially elevated with wanted pregnancy abortion. Relative risk of substance abuse disorders with any abortion was high, at about 2.0, but unaffected by pregnancy intention. Excluding wanted pregnancies artifactually reduced estimates of affective disorders by 72% from unity, substance abuse disorders by 11% from unity, and total disorders by 21% from unity. Conclusions: Excluding wanted pregnancies moderately understates overall risk and strongly understates affective risk of mental health difficulties for women following abortion. Compared to corresponding births, abortions of wanted pregnancies are associated with a greater risk of negative psychological affect, particularly depression and suicide ideation, but not greater risk of substance abuse, than are abortions of unwanted pregnancies. Clinical, research, and policy implications are discussed briefly.'"
      ]
     },
     "execution_count": 194,
     "metadata": {},
     "output_type": "execute_result"
    }
   ],
   "source": [
    "above_90w['Abstract'][8]"
   ]
  },
  {
   "cell_type": "markdown",
   "id": "56d43511",
   "metadata": {},
   "source": [
    "These are long but still appear to be valid, single-paragraph abstracts."
   ]
  },
  {
   "cell_type": "markdown",
   "id": "7f6698e1",
   "metadata": {},
   "source": [
    "#### Inspect abstracts that have greater than 400 words"
   ]
  },
  {
   "cell_type": "code",
   "execution_count": 195,
   "id": "3d103598",
   "metadata": {},
   "outputs": [
    {
     "data": {
      "text/html": [
       "<div>\n",
       "<style scoped>\n",
       "    .dataframe tbody tr th:only-of-type {\n",
       "        vertical-align: middle;\n",
       "    }\n",
       "\n",
       "    .dataframe tbody tr th {\n",
       "        vertical-align: top;\n",
       "    }\n",
       "\n",
       "    .dataframe thead th {\n",
       "        text-align: right;\n",
       "    }\n",
       "</style>\n",
       "<table border=\"1\" class=\"dataframe\">\n",
       "  <thead>\n",
       "    <tr style=\"text-align: right;\">\n",
       "      <th></th>\n",
       "      <th>PaperID</th>\n",
       "      <th>Abstract</th>\n",
       "    </tr>\n",
       "  </thead>\n",
       "  <tbody>\n",
       "    <tr>\n",
       "      <th>69</th>\n",
       "      <td>70</td>\n",
       "      <td>Childhood stress exposure is associated with i...</td>\n",
       "    </tr>\n",
       "    <tr>\n",
       "      <th>74</th>\n",
       "      <td>75</td>\n",
       "      <td>Mood and psychotic syndromes most often emerge...</td>\n",
       "    </tr>\n",
       "    <tr>\n",
       "      <th>84</th>\n",
       "      <td>85</td>\n",
       "      <td>An increasing prevalence of adult attention-de...</td>\n",
       "    </tr>\n",
       "    <tr>\n",
       "      <th>139</th>\n",
       "      <td>140</td>\n",
       "      <td>Bipolar disorder is a severe and common mental...</td>\n",
       "    </tr>\n",
       "    <tr>\n",
       "      <th>170</th>\n",
       "      <td>171</td>\n",
       "      <td>National longitudinal studies that examine the...</td>\n",
       "    </tr>\n",
       "    <tr>\n",
       "      <th>...</th>\n",
       "      <td>...</td>\n",
       "      <td>...</td>\n",
       "    </tr>\n",
       "    <tr>\n",
       "      <th>9577</th>\n",
       "      <td>9578</td>\n",
       "      <td>Many mental health disorders emerge in late ch...</td>\n",
       "    </tr>\n",
       "    <tr>\n",
       "      <th>9614</th>\n",
       "      <td>9615</td>\n",
       "      <td>Mental health of migrant populations has becom...</td>\n",
       "    </tr>\n",
       "    <tr>\n",
       "      <th>9664</th>\n",
       "      <td>9665</td>\n",
       "      <td>With increasing age at pregnancy, the likeliho...</td>\n",
       "    </tr>\n",
       "    <tr>\n",
       "      <th>9671</th>\n",
       "      <td>9672</td>\n",
       "      <td>Depression disorder may become the first cause...</td>\n",
       "    </tr>\n",
       "    <tr>\n",
       "      <th>9709</th>\n",
       "      <td>9710</td>\n",
       "      <td>Does mode of conception [spontaneous/after inf...</td>\n",
       "    </tr>\n",
       "  </tbody>\n",
       "</table>\n",
       "<p>260 rows × 2 columns</p>\n",
       "</div>"
      ],
      "text/plain": [
       "      PaperID                                           Abstract\n",
       "69         70  Childhood stress exposure is associated with i...\n",
       "74         75  Mood and psychotic syndromes most often emerge...\n",
       "84         85  An increasing prevalence of adult attention-de...\n",
       "139       140  Bipolar disorder is a severe and common mental...\n",
       "170       171  National longitudinal studies that examine the...\n",
       "...       ...                                                ...\n",
       "9577     9578  Many mental health disorders emerge in late ch...\n",
       "9614     9615  Mental health of migrant populations has becom...\n",
       "9664     9665  With increasing age at pregnancy, the likeliho...\n",
       "9671     9672  Depression disorder may become the first cause...\n",
       "9709     9710  Does mode of conception [spontaneous/after inf...\n",
       "\n",
       "[260 rows x 2 columns]"
      ]
     },
     "execution_count": 195,
     "metadata": {},
     "output_type": "execute_result"
    }
   ],
   "source": [
    "# Now see how many have more than 400 words\n",
    "mask = (above_90w['Abstract'].str.split().str.len() > 400)\n",
    "above_90w.loc[mask]"
   ]
  },
  {
   "cell_type": "code",
   "execution_count": 200,
   "id": "21b59dcd",
   "metadata": {},
   "outputs": [
    {
     "data": {
      "text/plain": [
       "'National longitudinal studies that examine the linkages between early family experiences and sex-specific development of depression across the life course are lacking despite the urgent need for interventions in family settings to prevent adult depression.To examine whether positive adolescent family relationships are associated with reduced depressive symptoms among women and men as they enter midlife.This study analyzed data from the National Longitudinal Study of Adolescent to Adult Health, which used a multistage, stratified school-based design to select a prospective cohort of 20\\u202f745 adolescents in grades 7 to 12 from January 3, 1994, to December 26, 1995 (wave 1). Respondents were followed up during 4 additional waves from April 14 to September 9, 1996 (wave 2); April 2, 2001, to May 9, 2002 (wave 3); April 3, 2007, to February 1, 2009 (wave 4); and March 3, 2016, to May 8, 2017 (sample 1, wave 5), when the cohort was aged 32 to 42 years. The study sample of 8952 male adolescents and 9233 female adolescents that were analyzed was a US national representation of all population subgroups by sex, race/ethnicity, socioeconomic status, and geography.Adolescent family cohesion and low parent-child conflict.Levels of depressive symptoms (Center for Epidemiologic Studies-Depression Scale [CES-D]) from ages 12 to 42 years were used to estimate propensity score-weighted growth curve models to assess sex differences in trajectories of depression by levels of positive adolescent family relationships.A total of 18 185 individuals (mean [SD] age at wave 1, 15.42 [0.12] years; 9233 [50.8%] female) participated in the study. Females and males who experienced positive adolescent family relationships had significantly lower levels of depressive symptoms from early adolescence to midlife than did those who experienced less positive adolescent family relationships. For example, depressive symptoms were lower among those with high levels of family cohesion compared with those with low cohesion between 12 (1.26 lower CES-D score; 95% CI, 1.10-1.42) and 40 (0.78 lower CES-D score; 95% CI, 0.50-1.06) years of age among females and between 12 (0.72 lower CES-D score; 95% CI, 0.57-0.86) and 37 (0.21 lower CES-D score; 95% CI, 0.00-0.41) years of age among males. The reduction in depressive symptoms associated with positive adolescent family relationships was greater for females than males during the adolescent and early adulthood years (ie, early 20s) (eg, low-high cohesion difference in mean CES-D score, -1.26 [95% CI, -1.42 to -1.10] for females and -0.72 [95% CI, -0.86 to -0.57] for males at 12 years of age; low-high cohesion difference in mean CES-D score, -0.61 [95% CI, -0.69 to -0.53] for females and -0.40 [95% CI, -0.48 to -0.31] for males at 20 years of age), after which females and males benefited equally from positive adolescent relationships throughout young adulthood to midlife.The findings suggest that positive adolescent family relationships are associated with better mental health among females and males from early adolescence to midlife. Interventions in early family life to foster healthy mental development throughout the life course appear to be important.'"
      ]
     },
     "execution_count": 200,
     "metadata": {},
     "output_type": "execute_result"
    }
   ],
   "source": [
    "above_90w['Abstract'][9709]\n",
    "above_90w['Abstract'][84] #This has some funky characters and nonsense words so we should remove it\n",
    "above_90w['Abstract'][9577]#This has some funky characters and nonsense words, looks like some words or characters got distorted or corrupted\n",
    "above_90w['Abstract'][170]\n",
    "\n",
    "\n",
    "# Note: We can probably use regex to remove any words enclosed in parentheses because these are unnecessary"
   ]
  },
  {
   "cell_type": "markdown",
   "id": "26be13ea",
   "metadata": {},
   "source": [
    "#### Inspect abstracts that have greater than 600 words"
   ]
  },
  {
   "cell_type": "code",
   "execution_count": 201,
   "id": "062c4ddc",
   "metadata": {},
   "outputs": [
    {
     "data": {
      "text/html": [
       "<div>\n",
       "<style scoped>\n",
       "    .dataframe tbody tr th:only-of-type {\n",
       "        vertical-align: middle;\n",
       "    }\n",
       "\n",
       "    .dataframe tbody tr th {\n",
       "        vertical-align: top;\n",
       "    }\n",
       "\n",
       "    .dataframe thead th {\n",
       "        text-align: right;\n",
       "    }\n",
       "</style>\n",
       "<table border=\"1\" class=\"dataframe\">\n",
       "  <thead>\n",
       "    <tr style=\"text-align: right;\">\n",
       "      <th></th>\n",
       "      <th>PaperID</th>\n",
       "      <th>Abstract</th>\n",
       "    </tr>\n",
       "  </thead>\n",
       "  <tbody>\n",
       "    <tr>\n",
       "      <th>74</th>\n",
       "      <td>75</td>\n",
       "      <td>Mood and psychotic syndromes most often emerge...</td>\n",
       "    </tr>\n",
       "    <tr>\n",
       "      <th>139</th>\n",
       "      <td>140</td>\n",
       "      <td>Bipolar disorder is a severe and common mental...</td>\n",
       "    </tr>\n",
       "    <tr>\n",
       "      <th>220</th>\n",
       "      <td>221</td>\n",
       "      <td>Depression is usually managed in primary care,...</td>\n",
       "    </tr>\n",
       "    <tr>\n",
       "      <th>594</th>\n",
       "      <td>595</td>\n",
       "      <td>Substance use disorders (SUDs) can have a deva...</td>\n",
       "    </tr>\n",
       "    <tr>\n",
       "      <th>633</th>\n",
       "      <td>634</td>\n",
       "      <td>Previous research has documented differences i...</td>\n",
       "    </tr>\n",
       "    <tr>\n",
       "      <th>865</th>\n",
       "      <td>866</td>\n",
       "      <td>The term “ptosis” is derived from the Greek wo...</td>\n",
       "    </tr>\n",
       "    <tr>\n",
       "      <th>898</th>\n",
       "      <td>899</td>\n",
       "      <td>This is the first update of a review published...</td>\n",
       "    </tr>\n",
       "    <tr>\n",
       "      <th>984</th>\n",
       "      <td>985</td>\n",
       "      <td>Psychological therapies for parents of childre...</td>\n",
       "    </tr>\n",
       "    <tr>\n",
       "      <th>1308</th>\n",
       "      <td>1309</td>\n",
       "      <td>Anaemia is a condition in which the number of ...</td>\n",
       "    </tr>\n",
       "    <tr>\n",
       "      <th>1376</th>\n",
       "      <td>1377</td>\n",
       "      <td>Clinical guidelines recommend outpatient care ...</td>\n",
       "    </tr>\n",
       "    <tr>\n",
       "      <th>1524</th>\n",
       "      <td>1525</td>\n",
       "      <td>To understand the health risk behaviors preval...</td>\n",
       "    </tr>\n",
       "    <tr>\n",
       "      <th>1571</th>\n",
       "      <td>1572</td>\n",
       "      <td>Long-term physical conditions affect 10% to 12...</td>\n",
       "    </tr>\n",
       "    <tr>\n",
       "      <th>1790</th>\n",
       "      <td>1791</td>\n",
       "      <td>School environments affect health and academic...</td>\n",
       "    </tr>\n",
       "    <tr>\n",
       "      <th>1882</th>\n",
       "      <td>1883</td>\n",
       "      <td>There is limited evidence for public health po...</td>\n",
       "    </tr>\n",
       "    <tr>\n",
       "      <th>2059</th>\n",
       "      <td>2060</td>\n",
       "      <td>L'objectif est de guider les femmes enceintes ...</td>\n",
       "    </tr>\n",
       "    <tr>\n",
       "      <th>2172</th>\n",
       "      <td>2173</td>\n",
       "      <td>The objective is to provide guidance for pregn...</td>\n",
       "    </tr>\n",
       "    <tr>\n",
       "      <th>2222</th>\n",
       "      <td>2223</td>\n",
       "      <td>Purpose The purpose of this paper is to assess...</td>\n",
       "    </tr>\n",
       "    <tr>\n",
       "      <th>2239</th>\n",
       "      <td>2240</td>\n",
       "      <td>This is an update of the original Cochrane rev...</td>\n",
       "    </tr>\n",
       "    <tr>\n",
       "      <th>2392</th>\n",
       "      <td>2393</td>\n",
       "      <td>Poverty has significant, detrimental, and long...</td>\n",
       "    </tr>\n",
       "    <tr>\n",
       "      <th>2663</th>\n",
       "      <td>2664</td>\n",
       "      <td>Long-term physical conditions affect 10% to 12...</td>\n",
       "    </tr>\n",
       "    <tr>\n",
       "      <th>2831</th>\n",
       "      <td>2832</td>\n",
       "      <td>The rates of mental health diagnoses in childr...</td>\n",
       "    </tr>\n",
       "    <tr>\n",
       "      <th>3048</th>\n",
       "      <td>3049</td>\n",
       "      <td>People living in humanitarian settings in low-...</td>\n",
       "    </tr>\n",
       "    <tr>\n",
       "      <th>3110</th>\n",
       "      <td>3111</td>\n",
       "      <td>Chronic conditions and disorders (e.g., diabet...</td>\n",
       "    </tr>\n",
       "    <tr>\n",
       "      <th>3838</th>\n",
       "      <td>3839</td>\n",
       "      <td>Scoliosis is a lateral curvature of the spine ...</td>\n",
       "    </tr>\n",
       "    <tr>\n",
       "      <th>4331</th>\n",
       "      <td>4332</td>\n",
       "      <td>Lone parents in high-income countries have hig...</td>\n",
       "    </tr>\n",
       "    <tr>\n",
       "      <th>4729</th>\n",
       "      <td>4730</td>\n",
       "      <td>Preconception health is a broad term that enco...</td>\n",
       "    </tr>\n",
       "    <tr>\n",
       "      <th>5488</th>\n",
       "      <td>5489</td>\n",
       "      <td>The current study had two objectives: (1) to a...</td>\n",
       "    </tr>\n",
       "    <tr>\n",
       "      <th>5995</th>\n",
       "      <td>5996</td>\n",
       "      <td>As mortality rates decline, life expectancy in...</td>\n",
       "    </tr>\n",
       "    <tr>\n",
       "      <th>6098</th>\n",
       "      <td>6099</td>\n",
       "      <td>The majority of persons with multiple sclerosi...</td>\n",
       "    </tr>\n",
       "    <tr>\n",
       "      <th>6249</th>\n",
       "      <td>6250</td>\n",
       "      <td>Lone parents in high-income countries have hig...</td>\n",
       "    </tr>\n",
       "    <tr>\n",
       "      <th>6340</th>\n",
       "      <td>6341</td>\n",
       "      <td>This is an update of the original Cochrane Rev...</td>\n",
       "    </tr>\n",
       "    <tr>\n",
       "      <th>6372</th>\n",
       "      <td>6373</td>\n",
       "      <td>Pain is a common feature of childhood and adol...</td>\n",
       "    </tr>\n",
       "    <tr>\n",
       "      <th>6373</th>\n",
       "      <td>6374</td>\n",
       "      <td>Pain is a common feature of childhood and adol...</td>\n",
       "    </tr>\n",
       "    <tr>\n",
       "      <th>6679</th>\n",
       "      <td>6680</td>\n",
       "      <td>A number of school systems worldwide have prop...</td>\n",
       "    </tr>\n",
       "    <tr>\n",
       "      <th>6914</th>\n",
       "      <td>6915</td>\n",
       "      <td>Modification of sleep behaviors in teenagers h...</td>\n",
       "    </tr>\n",
       "    <tr>\n",
       "      <th>6927</th>\n",
       "      <td>6928</td>\n",
       "      <td>Head-to-head trials to guide antipsychotic tre...</td>\n",
       "    </tr>\n",
       "    <tr>\n",
       "      <th>7509</th>\n",
       "      <td>7510</td>\n",
       "      <td>Although there are effective psychological tre...</td>\n",
       "    </tr>\n",
       "    <tr>\n",
       "      <th>7613</th>\n",
       "      <td>7614</td>\n",
       "      <td>The Big Five Inventory (BFI) developed by John...</td>\n",
       "    </tr>\n",
       "    <tr>\n",
       "      <th>8450</th>\n",
       "      <td>8451</td>\n",
       "      <td>Are copy number variations (CNVs) in the pseud...</td>\n",
       "    </tr>\n",
       "    <tr>\n",
       "      <th>8661</th>\n",
       "      <td>8662</td>\n",
       "      <td>Automated telephone communication systems (ATC...</td>\n",
       "    </tr>\n",
       "    <tr>\n",
       "      <th>8870</th>\n",
       "      <td>8871</td>\n",
       "      <td>Adolescence is a unique phase of the human dev...</td>\n",
       "    </tr>\n",
       "    <tr>\n",
       "      <th>9124</th>\n",
       "      <td>9125</td>\n",
       "      <td>Sickle cell disease is a group of genetic dise...</td>\n",
       "    </tr>\n",
       "    <tr>\n",
       "      <th>9232</th>\n",
       "      <td>9233</td>\n",
       "      <td>Poor medication adherence contributes to negat...</td>\n",
       "    </tr>\n",
       "  </tbody>\n",
       "</table>\n",
       "</div>"
      ],
      "text/plain": [
       "      PaperID                                           Abstract\n",
       "74         75  Mood and psychotic syndromes most often emerge...\n",
       "139       140  Bipolar disorder is a severe and common mental...\n",
       "220       221  Depression is usually managed in primary care,...\n",
       "594       595  Substance use disorders (SUDs) can have a deva...\n",
       "633       634  Previous research has documented differences i...\n",
       "865       866  The term “ptosis” is derived from the Greek wo...\n",
       "898       899  This is the first update of a review published...\n",
       "984       985  Psychological therapies for parents of childre...\n",
       "1308     1309  Anaemia is a condition in which the number of ...\n",
       "1376     1377  Clinical guidelines recommend outpatient care ...\n",
       "1524     1525  To understand the health risk behaviors preval...\n",
       "1571     1572  Long-term physical conditions affect 10% to 12...\n",
       "1790     1791  School environments affect health and academic...\n",
       "1882     1883  There is limited evidence for public health po...\n",
       "2059     2060  L'objectif est de guider les femmes enceintes ...\n",
       "2172     2173  The objective is to provide guidance for pregn...\n",
       "2222     2223  Purpose The purpose of this paper is to assess...\n",
       "2239     2240  This is an update of the original Cochrane rev...\n",
       "2392     2393  Poverty has significant, detrimental, and long...\n",
       "2663     2664  Long-term physical conditions affect 10% to 12...\n",
       "2831     2832  The rates of mental health diagnoses in childr...\n",
       "3048     3049  People living in humanitarian settings in low-...\n",
       "3110     3111  Chronic conditions and disorders (e.g., diabet...\n",
       "3838     3839  Scoliosis is a lateral curvature of the spine ...\n",
       "4331     4332  Lone parents in high-income countries have hig...\n",
       "4729     4730  Preconception health is a broad term that enco...\n",
       "5488     5489  The current study had two objectives: (1) to a...\n",
       "5995     5996  As mortality rates decline, life expectancy in...\n",
       "6098     6099  The majority of persons with multiple sclerosi...\n",
       "6249     6250  Lone parents in high-income countries have hig...\n",
       "6340     6341  This is an update of the original Cochrane Rev...\n",
       "6372     6373  Pain is a common feature of childhood and adol...\n",
       "6373     6374  Pain is a common feature of childhood and adol...\n",
       "6679     6680  A number of school systems worldwide have prop...\n",
       "6914     6915  Modification of sleep behaviors in teenagers h...\n",
       "6927     6928  Head-to-head trials to guide antipsychotic tre...\n",
       "7509     7510  Although there are effective psychological tre...\n",
       "7613     7614  The Big Five Inventory (BFI) developed by John...\n",
       "8450     8451  Are copy number variations (CNVs) in the pseud...\n",
       "8661     8662  Automated telephone communication systems (ATC...\n",
       "8870     8871  Adolescence is a unique phase of the human dev...\n",
       "9124     9125  Sickle cell disease is a group of genetic dise...\n",
       "9232     9233  Poor medication adherence contributes to negat..."
      ]
     },
     "execution_count": 201,
     "metadata": {},
     "output_type": "execute_result"
    }
   ],
   "source": [
    "# Now see how many have more than 600 words\n",
    "mask = (above_90w['Abstract'].str.split().str.len() > 600)\n",
    "above_90w.loc[mask]"
   ]
  },
  {
   "cell_type": "code",
   "execution_count": 205,
   "id": "f8b9298d",
   "metadata": {},
   "outputs": [
    {
     "data": {
      "text/plain": [
       "'Poor medication adherence contributes to negative treatment response, symptom relapse, and hospitalizations in schizophrenia. Many health plans use claims-based measures like medication possession ratios or proportion of days covered (PDC) to measure patient adherence to antipsychotics. Classifying patients solely on the basis of a single average PDC measure, however, may mask clinically meaningful variations over time in how patients arrive at an average PDC level.To model patterns of medication adherence evolving over time for patients with schizophrenia who initiated treatment with an oral atypical antipsychotic and, based on these patterns, to identify groups of patients with different adherence behaviors.We analyzed health insurance claims for patients aged ≥ 18 years with schizophrenia and newly prescribed oral atypical antipsychotics in 2007-2013 from 3 U.S. insurance claims databases: Truven MarketScan (Medicaid and commercial) and Humana (Medicare). Group-based trajectory modeling (GBTM) was used to stratify patients into groups with distinct trends in adherence and to estimate trends for each group. The response variable was the probability of adherence (defined as PDC ≥ 80%) in each 30-day period after the patient initiated antipsychotic therapy. GBTM proceeds from the premise that there are multiple distinct adherence groups. Patient demographics, health status characteristics, and health care resource use metrics were used to identify differences in patient populations across adherence trajectory groups.Among the 29,607 patients who met the inclusion criteria, 6 distinct adherence trajectory groups emerged from the data: adherent (33%); gradual discontinuation after 3 months (15%), 6 months (7%), and 9 months (5%); stop-start after 6 months (15%); and immediate discontinuation (25%). Compared to patients 18-24 years of age in the adherent group, patients displaying a stop-start pattern after 6 months had greater odds of having a history of drug abuse (OR = 1.46; 95% CI = 1.26-1.66; P < 0.001), alcohol abuse (OR = 1.34; 95% CI = 1.14-1.53; P< 0.001), and a codiagnosis of major depressive disorder (OR = 1.24; 95% CI = 1.05-1.44; P < 0.001) and were less likely to be aged 35-54 years (OR = 0.66; 95% CI = 0.46-0.85; P < 0.001).Longitudinal medication adherence patterns can be expressed as distinct trajectories associated with specific patient characteristics and health care utilization patterns. We found 6 distinct patterns of adherence to antipsychotics over 12 months. Patients in different groups may warrant different types of clinical interventions to prevent hospitalizations, longer hospital stays, and increased clinical complexity. For example, clinicians may consider regular home visits, assertive community treatment, and other related interventions for patients at high risk of immediate discontinuation. Health plans should consider supplementing claims-based adherence measures with new technologies that are able to track patient adherence patterns over time.Otsuka Pharmaceutical Development & Commercialization provided support for this research. MacEwan and Shafrin are employees of Precision Health Economics, which was contracted by Otsuka Pharmaceutical Development & Commercialization to conduct this study. Lakdawalla is the Chief Scientific Officer and a founding partner of Precision Health Economics. Forma is an employee of Otsuka Pharmaceutical Development & Commercialization. Hatch is a former employee of Otsuka Pharmaceutical Development & Commercialization and is a current employee of ODH, Inc. Lindenmayer has received grant/research support from Janssen, Lilly, AstraZeneca, Johnson & Johnson, Pfizer, BMS, Otsuka, Dainippon, and Roche and is a consultant for Janssen, Lilly, Merck, Shire, and Lundbeck. Portions of this study were presented as a poster at the American Society of Clinical Psychopharmacology Annual Meeting in Miami Beach, Florida; June 23, 2015; and at the 28th Annual U.S. Psychiatric and Mental Health Congress; San Diego, California; September 12, 2015. Study concept and design were contributed by Forma, Ladkawalla, MacEwan, and Shafrin, along with Hatch and Lindenmayer. MacEwan, Shafrin, Forma, and Lakdawalla collected the data, along with Hatch and Lindenmayer. Data interpretation was performed by Hatch, Lindenmayer, MacEwan, and Shafrin, assisted by Forma and Lakdawalla. The manuscript was written and revised by MacEwan, Forma, and Shafrin, along with Hatch Lakdawalla, and Lindenmayer.'"
      ]
     },
     "execution_count": 205,
     "metadata": {},
     "output_type": "execute_result"
    }
   ],
   "source": [
    "# Randomly inspect some\n",
    "above_90w['Abstract'][9124]\n",
    "above_90w['Abstract'][1308]\n",
    "above_90w['Abstract'][3838] #This looks like a long literature review\n",
    "above_90w['Abstract'][9232]"
   ]
  },
  {
   "cell_type": "markdown",
   "id": "01f4213f",
   "metadata": {},
   "source": [
    "#### Inspect abstracts that have greater than 1000 words"
   ]
  },
  {
   "cell_type": "code",
   "execution_count": 206,
   "id": "30ca916a",
   "metadata": {},
   "outputs": [
    {
     "data": {
      "text/html": [
       "<div>\n",
       "<style scoped>\n",
       "    .dataframe tbody tr th:only-of-type {\n",
       "        vertical-align: middle;\n",
       "    }\n",
       "\n",
       "    .dataframe tbody tr th {\n",
       "        vertical-align: top;\n",
       "    }\n",
       "\n",
       "    .dataframe thead th {\n",
       "        text-align: right;\n",
       "    }\n",
       "</style>\n",
       "<table border=\"1\" class=\"dataframe\">\n",
       "  <thead>\n",
       "    <tr style=\"text-align: right;\">\n",
       "      <th></th>\n",
       "      <th>PaperID</th>\n",
       "      <th>Abstract</th>\n",
       "    </tr>\n",
       "  </thead>\n",
       "  <tbody>\n",
       "    <tr>\n",
       "      <th>74</th>\n",
       "      <td>75</td>\n",
       "      <td>Mood and psychotic syndromes most often emerge...</td>\n",
       "    </tr>\n",
       "    <tr>\n",
       "      <th>865</th>\n",
       "      <td>866</td>\n",
       "      <td>The term “ptosis” is derived from the Greek wo...</td>\n",
       "    </tr>\n",
       "    <tr>\n",
       "      <th>2059</th>\n",
       "      <td>2060</td>\n",
       "      <td>L'objectif est de guider les femmes enceintes ...</td>\n",
       "    </tr>\n",
       "    <tr>\n",
       "      <th>2172</th>\n",
       "      <td>2173</td>\n",
       "      <td>The objective is to provide guidance for pregn...</td>\n",
       "    </tr>\n",
       "    <tr>\n",
       "      <th>2392</th>\n",
       "      <td>2393</td>\n",
       "      <td>Poverty has significant, detrimental, and long...</td>\n",
       "    </tr>\n",
       "    <tr>\n",
       "      <th>3838</th>\n",
       "      <td>3839</td>\n",
       "      <td>Scoliosis is a lateral curvature of the spine ...</td>\n",
       "    </tr>\n",
       "  </tbody>\n",
       "</table>\n",
       "</div>"
      ],
      "text/plain": [
       "      PaperID                                           Abstract\n",
       "74         75  Mood and psychotic syndromes most often emerge...\n",
       "865       866  The term “ptosis” is derived from the Greek wo...\n",
       "2059     2060  L'objectif est de guider les femmes enceintes ...\n",
       "2172     2173  The objective is to provide guidance for pregn...\n",
       "2392     2393  Poverty has significant, detrimental, and long...\n",
       "3838     3839  Scoliosis is a lateral curvature of the spine ..."
      ]
     },
     "execution_count": 206,
     "metadata": {},
     "output_type": "execute_result"
    }
   ],
   "source": [
    "# Inspect abstracts that have greater than 1000 words\n",
    "mask = (above_90w['Abstract'].str.split().str.len() > 1000)\n",
    "above_90w.loc[mask]"
   ]
  },
  {
   "cell_type": "code",
   "execution_count": 209,
   "id": "e335c263",
   "metadata": {},
   "outputs": [
    {
     "data": {
      "text/plain": [
       "'The objective is to provide guidance for pregnant women, and obstetric care and exercise professionals, on prenatal physical activity.The outcomes evaluated were maternal, fetal, or neonatal morbidity or fetal mortality during and following pregnancy.Literature was retrieved through searches of Medline, EMBASE, PsycINFO, Cochrane Database of Systematic Reviews, Cochrane Central Register of Controlled Trials, Scopus and Web of Science Core Collection, CINAHL Plus with Full-text, Child Development & Adolescent Studies, ERIC, Sport Discus, ClinicalTrials.gov, and the Trip Database from database inception up to January 6, 2017. Primary studies of any design were eligible, except case studies. Results were limited to English, Spanish, or French language materials. Articles related to maternal physical activity during pregnancy reporting on maternal, fetal, or neonatal morbidity or fetal mortality were eligible for inclusion. The quality of evidence was rated using the Grading of Recommendations Assessment, Development, and Evaluation (GRADE) methodology.The Guidelines Consensus Panel solicited feedback from end-users (obstetric care providers, exercise professionals, researchers, policy organizations, and pregnant and postpartum women). The development of this guideline followed the Appraisal of Guidelines for Research Evaluation (AGREE) II instrument.The benefits of prenatal physical activity are moderate, and no harms were identified; therefore, the difference between desirable and undesirable consequences (net benefit) is expected to be moderate. The majority of stakeholders and end-users indicated that following these recommendations would be feasible, acceptable, and equitable. Following these recommendations is likely to require minimal resources from both individual and health systems perspectives.This guideline provide evidence-based recommendations regarding physical activity throughout pregnancy in the promotion of maternal, fetal, and neonatal health. In the absence of contraindications (see later for a detailed list), following this guideline is associated with: (1) fewer newborn complications (i.e., large for gestational age); and (2) maternal health benefits (i.e., decreased risk of preeclampsia, gestational hypertension, gestational diabetes, Caesarean section, instrumental delivery, urinary incontinence, excessive gestational weight gain, and depression; improved blood glucose; decreased total gestational weight gain; and decreased severity of depressive symptoms and lumbopelvic pain). Physical activity is not associated with miscarriage, stillbirth, neonatal death, preterm birth, preterm/prelabour rupture of membranes, neonatal hypoglycemia, low birth weight, birth defects, induction of labour, or birth complications. In general, more physical activity (frequency, duration, and/or volume) is associated with greater benefits. However, evidence was not identified regarding the safety or additional benefit of exercising at levels significantly above the recommendations. Prenatal physical activity should be considered a front-line therapy for reducing the risk of pregnancy complications and enhancing maternal physical and mental health. For pregnant women not currently meeting this guideline, a progressive adjustment toward them is recommended. Previously active women may continue physical activity throughout pregnancy. Women may need to modify physical activity as pregnancy progresses. There may be periods when following the guideline is not possible due to fatigue and/or discomforts of pregnancy; women are encouraged to do what they can and to return to following the recommendations when they are able. This guideline were informed by an extensive systematic review of the literature, expert opinion, end-user consultation and considerations of feasibility, acceptability, costs, and equity.The specific recommendations in this 2019 Canadian Guideline for Physical Activity Throughout Pregnancy are provided below with corresponding statements indicating the quality of the evidence informing the recommendations and the strength of the recommendations (explanations follow).All pregnant women can participate in physical activity throughout pregnancy with the exception of those who have contraindications (listed below). Women with absolute contraindications may continue their usual activities of daily living but should not participate in more strenuous activities. Women with relative contraindications should discuss the advantages and disadvantages of moderate-to-vigorous intensity physical activity with their obstetric care provider prior to participation. Absolute contraindications to exercise are the following: Relative contraindications to exercise are the following: STRENGTH OF THE RECOMMENDATIONS: The GRADE system was utilized to grade the strength of the recommendations. Recommendations are rated as strong or weak based on the: (1) balance between benefits and harms; (2) overall quality of the evidence; (3) importance of outcomes (i.e., values and preferences of pregnant women); (4) use of resources (i.e., cost); (5) impact on health equity; (6) feasibility, and (7) acceptability. Strong recommendation: Most or all pregnant women will be best served by the recommended course of action. Weak recommendation: Not all pregnant women will be best served by the recommended course of action; there is a need to consider other factors such as the individual\\'s circumstances, preferences, values, resources available, or setting. Consultation with an obstetric care provider may assist in decision-making.The quality of the evidence refers to the level of confidence in the evidence and ranges from very low to high. High quality: The Guideline Consensus Panel is very confident that the estimated effect of physical activity on the health outcome is close to the true effect. Moderate quality: The Guideline Consensus Panel is moderately confident in the estimated effect of physical activity on the health outcome; the estimate of the effect is likely to be close to the true effect, but there is a possibility that it is substantially different. Low quality: The Guideline Consensus Panel\\'s confidence in the estimated effect of physical activity on the health outcome is limited; the estimate of the effect may be substantially different from the true effect. Very low quality: The Guideline Consensus Panel has very little confidence in the estimated effect of physical activity on the health outcome; the estimate of the effect is likely to be substantially different from the true effect. aThis was a weak recommendation because the quality of evidence was low, and the net benefit between women who were physically active and those who were not was small. bThis was a strong recommendation because, despite low quality evidence supporting physical activity during pregnancy for women categorized as overweight or obese, there was evidence from randomized controlled trials demonstrating an improvement in gestational weight gain and blood glucose. cModerate-intensity physical activity is intense enough to noticeably increase heart rate; a person can talk but not sing during activities of this intensity. Examples of moderate-intensity physical activity include brisk walking, water aerobics, stationary cycling (moderate effort), resistance training, carrying moderate loads, and household chores (e.g., gardening, washing windows). dThis was a weak recommendation because urinary incontinence was was not rated as a \"critical\" outcome and the evidence was low quality. eThis was a weak recommendation because: (1) the quality of evidence was very low; and (2) although harms were investigated there was limited available information to inform the balance of benefits and harms. This recommendation was primarily based on expert opinion.Copyright © 2018. Published by Elsevier Inc.'"
      ]
     },
     "execution_count": 209,
     "metadata": {},
     "output_type": "execute_result"
    }
   ],
   "source": [
    "above_90w['Abstract'][2059] #This is french, we should delete this\n",
    "above_90w['Abstract'][865] #This is way too long, would be too much info for topic modelling\n",
    "above_90w['Abstract'][2172]"
   ]
  },
  {
   "cell_type": "markdown",
   "id": "73d88f67",
   "metadata": {},
   "source": [
    "#### Inspect how many abstracts with more than 90 words have keywords tobacco and alcohol"
   ]
  },
  {
   "cell_type": "code",
   "execution_count": null,
   "id": "0815507f",
   "metadata": {},
   "outputs": [],
   "source": [
    "alcohol_series = abstracts_lower.str.contains('alcohol', regex=False)\n",
    "tobacco_series = abstracts_lower.str.contains('tobacco', regex=False)\n",
    "keywords_series = abstracts_lower.str.contains('tobacco|alcohol', regex=True)"
   ]
  },
  {
   "cell_type": "code",
   "execution_count": 211,
   "id": "38203e5d",
   "metadata": {},
   "outputs": [],
   "source": [
    "abstracts_lower = above_90w['Abstract'].str.lower()"
   ]
  },
  {
   "cell_type": "code",
   "execution_count": 219,
   "id": "0aeb5b85",
   "metadata": {},
   "outputs": [
    {
     "name": "stdout",
     "output_type": "stream",
     "text": [
      "Num abstracts containing alcohol keyword: 670\n"
     ]
    }
   ],
   "source": [
    "alcohol_series = abstracts_lower.str.contains('alcohol', regex=False)\n",
    "print(f'Num abstracts containing alcohol keyword: {alcohol_series.sum()}')"
   ]
  },
  {
   "cell_type": "code",
   "execution_count": 233,
   "id": "6bc777b6",
   "metadata": {},
   "outputs": [
    {
     "name": "stdout",
     "output_type": "stream",
     "text": [
      "Num abstracts containing tobacco keyword: 135\n"
     ]
    }
   ],
   "source": [
    "tobacco_series = abstracts_lower.str.contains('tobacco', regex=False)\n",
    "print(f'Num abstracts containing tobacco keyword: {tobacco_series.sum()}')"
   ]
  },
  {
   "cell_type": "code",
   "execution_count": 225,
   "id": "ad357bb4",
   "metadata": {},
   "outputs": [],
   "source": [
    "keywords_series = abstracts_lower.str.contains('alcohol|tobacco', regex=True)"
   ]
  },
  {
   "cell_type": "code",
   "execution_count": 226,
   "id": "9085d960",
   "metadata": {},
   "outputs": [
    {
     "data": {
      "text/plain": [
       "726"
      ]
     },
     "execution_count": 226,
     "metadata": {},
     "output_type": "execute_result"
    }
   ],
   "source": [
    "keywords_series.sum()"
   ]
  },
  {
   "cell_type": "code",
   "execution_count": 224,
   "id": "1fca7f09",
   "metadata": {},
   "outputs": [
    {
     "data": {
      "text/plain": [
       "805"
      ]
     },
     "execution_count": 224,
     "metadata": {},
     "output_type": "execute_result"
    }
   ],
   "source": [
    "670 + 135"
   ]
  },
  {
   "cell_type": "code",
   "execution_count": 227,
   "id": "53d1a285",
   "metadata": {},
   "outputs": [
    {
     "data": {
      "text/html": [
       "<div>\n",
       "<style scoped>\n",
       "    .dataframe tbody tr th:only-of-type {\n",
       "        vertical-align: middle;\n",
       "    }\n",
       "\n",
       "    .dataframe tbody tr th {\n",
       "        vertical-align: top;\n",
       "    }\n",
       "\n",
       "    .dataframe thead th {\n",
       "        text-align: right;\n",
       "    }\n",
       "</style>\n",
       "<table border=\"1\" class=\"dataframe\">\n",
       "  <thead>\n",
       "    <tr style=\"text-align: right;\">\n",
       "      <th></th>\n",
       "      <th>PaperID</th>\n",
       "      <th>Abstract</th>\n",
       "    </tr>\n",
       "  </thead>\n",
       "  <tbody>\n",
       "    <tr>\n",
       "      <th>15</th>\n",
       "      <td>16</td>\n",
       "      <td>Cannabis use patterns vary considerably, with ...</td>\n",
       "    </tr>\n",
       "    <tr>\n",
       "      <th>43</th>\n",
       "      <td>44</td>\n",
       "      <td>To date, studies have highlighted cross-sectio...</td>\n",
       "    </tr>\n",
       "    <tr>\n",
       "      <th>161</th>\n",
       "      <td>162</td>\n",
       "      <td>In the United States (US), rates of teenage pr...</td>\n",
       "    </tr>\n",
       "    <tr>\n",
       "      <th>235</th>\n",
       "      <td>236</td>\n",
       "      <td>The quality of the mother-child relationship i...</td>\n",
       "    </tr>\n",
       "    <tr>\n",
       "      <th>322</th>\n",
       "      <td>323</td>\n",
       "      <td>Perinatal depression affects 21-50% of women i...</td>\n",
       "    </tr>\n",
       "    <tr>\n",
       "      <th>...</th>\n",
       "      <td>...</td>\n",
       "      <td>...</td>\n",
       "    </tr>\n",
       "    <tr>\n",
       "      <th>9601</th>\n",
       "      <td>9602</td>\n",
       "      <td>Perinatal smoking is associated with a wide ra...</td>\n",
       "    </tr>\n",
       "    <tr>\n",
       "      <th>9692</th>\n",
       "      <td>9693</td>\n",
       "      <td>Few studies have evaluated exercise interventi...</td>\n",
       "    </tr>\n",
       "    <tr>\n",
       "      <th>9693</th>\n",
       "      <td>9694</td>\n",
       "      <td>American Indians and Alaska Natives (AI/AN) ha...</td>\n",
       "    </tr>\n",
       "    <tr>\n",
       "      <th>9694</th>\n",
       "      <td>9695</td>\n",
       "      <td>Pregnancy is a strong motivator to quit smokin...</td>\n",
       "    </tr>\n",
       "    <tr>\n",
       "      <th>9713</th>\n",
       "      <td>9714</td>\n",
       "      <td>The purpose of this study was to examine the a...</td>\n",
       "    </tr>\n",
       "  </tbody>\n",
       "</table>\n",
       "<p>135 rows × 2 columns</p>\n",
       "</div>"
      ],
      "text/plain": [
       "      PaperID                                           Abstract\n",
       "15         16  Cannabis use patterns vary considerably, with ...\n",
       "43         44  To date, studies have highlighted cross-sectio...\n",
       "161       162  In the United States (US), rates of teenage pr...\n",
       "235       236  The quality of the mother-child relationship i...\n",
       "322       323  Perinatal depression affects 21-50% of women i...\n",
       "...       ...                                                ...\n",
       "9601     9602  Perinatal smoking is associated with a wide ra...\n",
       "9692     9693  Few studies have evaluated exercise interventi...\n",
       "9693     9694  American Indians and Alaska Natives (AI/AN) ha...\n",
       "9694     9695  Pregnancy is a strong motivator to quit smokin...\n",
       "9713     9714  The purpose of this study was to examine the a...\n",
       "\n",
       "[135 rows x 2 columns]"
      ]
     },
     "execution_count": 227,
     "metadata": {},
     "output_type": "execute_result"
    }
   ],
   "source": [
    "mask = above_90w['Abstract'].str.lower().str.contains('tobacco', regex=False)\n",
    "above_90w[mask]"
   ]
  },
  {
   "cell_type": "code",
   "execution_count": 228,
   "id": "c8ab84fc",
   "metadata": {},
   "outputs": [
    {
     "data": {
      "text/html": [
       "<div>\n",
       "<style scoped>\n",
       "    .dataframe tbody tr th:only-of-type {\n",
       "        vertical-align: middle;\n",
       "    }\n",
       "\n",
       "    .dataframe tbody tr th {\n",
       "        vertical-align: top;\n",
       "    }\n",
       "\n",
       "    .dataframe thead th {\n",
       "        text-align: right;\n",
       "    }\n",
       "</style>\n",
       "<table border=\"1\" class=\"dataframe\">\n",
       "  <thead>\n",
       "    <tr style=\"text-align: right;\">\n",
       "      <th></th>\n",
       "      <th>PaperID</th>\n",
       "      <th>Abstract</th>\n",
       "    </tr>\n",
       "  </thead>\n",
       "  <tbody>\n",
       "    <tr>\n",
       "      <th>8</th>\n",
       "      <td>9</td>\n",
       "      <td>Background and Objectives: Psychological outco...</td>\n",
       "    </tr>\n",
       "    <tr>\n",
       "      <th>12</th>\n",
       "      <td>13</td>\n",
       "      <td>Anxiety disorders in adolescence have been ass...</td>\n",
       "    </tr>\n",
       "    <tr>\n",
       "      <th>15</th>\n",
       "      <td>16</td>\n",
       "      <td>Cannabis use patterns vary considerably, with ...</td>\n",
       "    </tr>\n",
       "    <tr>\n",
       "      <th>43</th>\n",
       "      <td>44</td>\n",
       "      <td>To date, studies have highlighted cross-sectio...</td>\n",
       "    </tr>\n",
       "    <tr>\n",
       "      <th>44</th>\n",
       "      <td>45</td>\n",
       "      <td>To measure health-related behaviors and risk f...</td>\n",
       "    </tr>\n",
       "    <tr>\n",
       "      <th>...</th>\n",
       "      <td>...</td>\n",
       "      <td>...</td>\n",
       "    </tr>\n",
       "    <tr>\n",
       "      <th>9627</th>\n",
       "      <td>9628</td>\n",
       "      <td>Previous research has shown racial/ethnic diff...</td>\n",
       "    </tr>\n",
       "    <tr>\n",
       "      <th>9635</th>\n",
       "      <td>9636</td>\n",
       "      <td>A young refugee woman attended antenatal clini...</td>\n",
       "    </tr>\n",
       "    <tr>\n",
       "      <th>9654</th>\n",
       "      <td>9655</td>\n",
       "      <td>To investigate whether mental health services ...</td>\n",
       "    </tr>\n",
       "    <tr>\n",
       "      <th>9674</th>\n",
       "      <td>9675</td>\n",
       "      <td>Desvenlafaxine is used to treat major depressi...</td>\n",
       "    </tr>\n",
       "    <tr>\n",
       "      <th>9708</th>\n",
       "      <td>9709</td>\n",
       "      <td>Depressive symptoms and drinking to cope with ...</td>\n",
       "    </tr>\n",
       "  </tbody>\n",
       "</table>\n",
       "<p>670 rows × 2 columns</p>\n",
       "</div>"
      ],
      "text/plain": [
       "      PaperID                                           Abstract\n",
       "8           9  Background and Objectives: Psychological outco...\n",
       "12         13  Anxiety disorders in adolescence have been ass...\n",
       "15         16  Cannabis use patterns vary considerably, with ...\n",
       "43         44  To date, studies have highlighted cross-sectio...\n",
       "44         45  To measure health-related behaviors and risk f...\n",
       "...       ...                                                ...\n",
       "9627     9628  Previous research has shown racial/ethnic diff...\n",
       "9635     9636  A young refugee woman attended antenatal clini...\n",
       "9654     9655  To investigate whether mental health services ...\n",
       "9674     9675  Desvenlafaxine is used to treat major depressi...\n",
       "9708     9709  Depressive symptoms and drinking to cope with ...\n",
       "\n",
       "[670 rows x 2 columns]"
      ]
     },
     "execution_count": 228,
     "metadata": {},
     "output_type": "execute_result"
    }
   ],
   "source": [
    "mask = above_90w['Abstract'].str.lower().str.contains('alcohol', regex=False)\n",
    "above_90w[mask]"
   ]
  },
  {
   "cell_type": "code",
   "execution_count": 232,
   "id": "3c11543a",
   "metadata": {},
   "outputs": [
    {
     "data": {
      "text/html": [
       "<div>\n",
       "<style scoped>\n",
       "    .dataframe tbody tr th:only-of-type {\n",
       "        vertical-align: middle;\n",
       "    }\n",
       "\n",
       "    .dataframe tbody tr th {\n",
       "        vertical-align: top;\n",
       "    }\n",
       "\n",
       "    .dataframe thead th {\n",
       "        text-align: right;\n",
       "    }\n",
       "</style>\n",
       "<table border=\"1\" class=\"dataframe\">\n",
       "  <thead>\n",
       "    <tr style=\"text-align: right;\">\n",
       "      <th></th>\n",
       "      <th>PaperID</th>\n",
       "      <th>Abstract</th>\n",
       "    </tr>\n",
       "  </thead>\n",
       "  <tbody>\n",
       "    <tr>\n",
       "      <th>8</th>\n",
       "      <td>9</td>\n",
       "      <td>Background and Objectives: Psychological outco...</td>\n",
       "    </tr>\n",
       "    <tr>\n",
       "      <th>12</th>\n",
       "      <td>13</td>\n",
       "      <td>Anxiety disorders in adolescence have been ass...</td>\n",
       "    </tr>\n",
       "    <tr>\n",
       "      <th>15</th>\n",
       "      <td>16</td>\n",
       "      <td>Cannabis use patterns vary considerably, with ...</td>\n",
       "    </tr>\n",
       "    <tr>\n",
       "      <th>43</th>\n",
       "      <td>44</td>\n",
       "      <td>To date, studies have highlighted cross-sectio...</td>\n",
       "    </tr>\n",
       "    <tr>\n",
       "      <th>44</th>\n",
       "      <td>45</td>\n",
       "      <td>To measure health-related behaviors and risk f...</td>\n",
       "    </tr>\n",
       "    <tr>\n",
       "      <th>...</th>\n",
       "      <td>...</td>\n",
       "      <td>...</td>\n",
       "    </tr>\n",
       "    <tr>\n",
       "      <th>9692</th>\n",
       "      <td>9693</td>\n",
       "      <td>Few studies have evaluated exercise interventi...</td>\n",
       "    </tr>\n",
       "    <tr>\n",
       "      <th>9693</th>\n",
       "      <td>9694</td>\n",
       "      <td>American Indians and Alaska Natives (AI/AN) ha...</td>\n",
       "    </tr>\n",
       "    <tr>\n",
       "      <th>9694</th>\n",
       "      <td>9695</td>\n",
       "      <td>Pregnancy is a strong motivator to quit smokin...</td>\n",
       "    </tr>\n",
       "    <tr>\n",
       "      <th>9708</th>\n",
       "      <td>9709</td>\n",
       "      <td>Depressive symptoms and drinking to cope with ...</td>\n",
       "    </tr>\n",
       "    <tr>\n",
       "      <th>9713</th>\n",
       "      <td>9714</td>\n",
       "      <td>The purpose of this study was to examine the a...</td>\n",
       "    </tr>\n",
       "  </tbody>\n",
       "</table>\n",
       "<p>726 rows × 2 columns</p>\n",
       "</div>"
      ],
      "text/plain": [
       "      PaperID                                           Abstract\n",
       "8           9  Background and Objectives: Psychological outco...\n",
       "12         13  Anxiety disorders in adolescence have been ass...\n",
       "15         16  Cannabis use patterns vary considerably, with ...\n",
       "43         44  To date, studies have highlighted cross-sectio...\n",
       "44         45  To measure health-related behaviors and risk f...\n",
       "...       ...                                                ...\n",
       "9692     9693  Few studies have evaluated exercise interventi...\n",
       "9693     9694  American Indians and Alaska Natives (AI/AN) ha...\n",
       "9694     9695  Pregnancy is a strong motivator to quit smokin...\n",
       "9708     9709  Depressive symptoms and drinking to cope with ...\n",
       "9713     9714  The purpose of this study was to examine the a...\n",
       "\n",
       "[726 rows x 2 columns]"
      ]
     },
     "execution_count": 232,
     "metadata": {},
     "output_type": "execute_result"
    }
   ],
   "source": [
    "mask = above_90w['Abstract'].str.lower().str.contains('tobacco|alcohol')\n",
    "above_90w[mask]"
   ]
  },
  {
   "cell_type": "markdown",
   "id": "18e0456c",
   "metadata": {},
   "source": [
    "When I use regex to check for alcohol OR tobacco, I get 726 results. However, when I check for tobacco and alcohol separately, I get 135 and 670 which sums to 805."
   ]
  },
  {
   "cell_type": "code",
   "execution_count": 235,
   "id": "5085bca8",
   "metadata": {},
   "outputs": [
    {
     "data": {
      "text/html": [
       "<div>\n",
       "<style scoped>\n",
       "    .dataframe tbody tr th:only-of-type {\n",
       "        vertical-align: middle;\n",
       "    }\n",
       "\n",
       "    .dataframe tbody tr th {\n",
       "        vertical-align: top;\n",
       "    }\n",
       "\n",
       "    .dataframe thead th {\n",
       "        text-align: right;\n",
       "    }\n",
       "</style>\n",
       "<table border=\"1\" class=\"dataframe\">\n",
       "  <thead>\n",
       "    <tr style=\"text-align: right;\">\n",
       "      <th></th>\n",
       "      <th>PaperID</th>\n",
       "      <th>Abstract</th>\n",
       "    </tr>\n",
       "  </thead>\n",
       "  <tbody>\n",
       "    <tr>\n",
       "      <th>15</th>\n",
       "      <td>16</td>\n",
       "      <td>Cannabis use patterns vary considerably, with ...</td>\n",
       "    </tr>\n",
       "    <tr>\n",
       "      <th>43</th>\n",
       "      <td>44</td>\n",
       "      <td>To date, studies have highlighted cross-sectio...</td>\n",
       "    </tr>\n",
       "    <tr>\n",
       "      <th>161</th>\n",
       "      <td>162</td>\n",
       "      <td>In the United States (US), rates of teenage pr...</td>\n",
       "    </tr>\n",
       "    <tr>\n",
       "      <th>235</th>\n",
       "      <td>236</td>\n",
       "      <td>The quality of the mother-child relationship i...</td>\n",
       "    </tr>\n",
       "    <tr>\n",
       "      <th>322</th>\n",
       "      <td>323</td>\n",
       "      <td>Perinatal depression affects 21-50% of women i...</td>\n",
       "    </tr>\n",
       "    <tr>\n",
       "      <th>...</th>\n",
       "      <td>...</td>\n",
       "      <td>...</td>\n",
       "    </tr>\n",
       "    <tr>\n",
       "      <th>9601</th>\n",
       "      <td>9602</td>\n",
       "      <td>Perinatal smoking is associated with a wide ra...</td>\n",
       "    </tr>\n",
       "    <tr>\n",
       "      <th>9692</th>\n",
       "      <td>9693</td>\n",
       "      <td>Few studies have evaluated exercise interventi...</td>\n",
       "    </tr>\n",
       "    <tr>\n",
       "      <th>9693</th>\n",
       "      <td>9694</td>\n",
       "      <td>American Indians and Alaska Natives (AI/AN) ha...</td>\n",
       "    </tr>\n",
       "    <tr>\n",
       "      <th>9694</th>\n",
       "      <td>9695</td>\n",
       "      <td>Pregnancy is a strong motivator to quit smokin...</td>\n",
       "    </tr>\n",
       "    <tr>\n",
       "      <th>9713</th>\n",
       "      <td>9714</td>\n",
       "      <td>The purpose of this study was to examine the a...</td>\n",
       "    </tr>\n",
       "  </tbody>\n",
       "</table>\n",
       "<p>135 rows × 2 columns</p>\n",
       "</div>"
      ],
      "text/plain": [
       "      PaperID                                           Abstract\n",
       "15         16  Cannabis use patterns vary considerably, with ...\n",
       "43         44  To date, studies have highlighted cross-sectio...\n",
       "161       162  In the United States (US), rates of teenage pr...\n",
       "235       236  The quality of the mother-child relationship i...\n",
       "322       323  Perinatal depression affects 21-50% of women i...\n",
       "...       ...                                                ...\n",
       "9601     9602  Perinatal smoking is associated with a wide ra...\n",
       "9692     9693  Few studies have evaluated exercise interventi...\n",
       "9693     9694  American Indians and Alaska Natives (AI/AN) ha...\n",
       "9694     9695  Pregnancy is a strong motivator to quit smokin...\n",
       "9713     9714  The purpose of this study was to examine the a...\n",
       "\n",
       "[135 rows x 2 columns]"
      ]
     },
     "execution_count": 235,
     "metadata": {},
     "output_type": "execute_result"
    }
   ],
   "source": [
    "# Dataframe with abstracts containing 'tobacco' keyword\n",
    "mask = above_90w['Abstract'].str.lower().str.contains('tobacco', regex=False)\n",
    "above_90w_tobacco = above_90w[mask]\n",
    "above_90w_tobacco"
   ]
  },
  {
   "cell_type": "code",
   "execution_count": 236,
   "id": "90f82ca6",
   "metadata": {},
   "outputs": [
    {
     "data": {
      "text/html": [
       "<div>\n",
       "<style scoped>\n",
       "    .dataframe tbody tr th:only-of-type {\n",
       "        vertical-align: middle;\n",
       "    }\n",
       "\n",
       "    .dataframe tbody tr th {\n",
       "        vertical-align: top;\n",
       "    }\n",
       "\n",
       "    .dataframe thead th {\n",
       "        text-align: right;\n",
       "    }\n",
       "</style>\n",
       "<table border=\"1\" class=\"dataframe\">\n",
       "  <thead>\n",
       "    <tr style=\"text-align: right;\">\n",
       "      <th></th>\n",
       "      <th>PaperID</th>\n",
       "      <th>Abstract</th>\n",
       "    </tr>\n",
       "  </thead>\n",
       "  <tbody>\n",
       "    <tr>\n",
       "      <th>8</th>\n",
       "      <td>9</td>\n",
       "      <td>Background and Objectives: Psychological outco...</td>\n",
       "    </tr>\n",
       "    <tr>\n",
       "      <th>12</th>\n",
       "      <td>13</td>\n",
       "      <td>Anxiety disorders in adolescence have been ass...</td>\n",
       "    </tr>\n",
       "    <tr>\n",
       "      <th>15</th>\n",
       "      <td>16</td>\n",
       "      <td>Cannabis use patterns vary considerably, with ...</td>\n",
       "    </tr>\n",
       "    <tr>\n",
       "      <th>43</th>\n",
       "      <td>44</td>\n",
       "      <td>To date, studies have highlighted cross-sectio...</td>\n",
       "    </tr>\n",
       "    <tr>\n",
       "      <th>44</th>\n",
       "      <td>45</td>\n",
       "      <td>To measure health-related behaviors and risk f...</td>\n",
       "    </tr>\n",
       "    <tr>\n",
       "      <th>...</th>\n",
       "      <td>...</td>\n",
       "      <td>...</td>\n",
       "    </tr>\n",
       "    <tr>\n",
       "      <th>9627</th>\n",
       "      <td>9628</td>\n",
       "      <td>Previous research has shown racial/ethnic diff...</td>\n",
       "    </tr>\n",
       "    <tr>\n",
       "      <th>9635</th>\n",
       "      <td>9636</td>\n",
       "      <td>A young refugee woman attended antenatal clini...</td>\n",
       "    </tr>\n",
       "    <tr>\n",
       "      <th>9654</th>\n",
       "      <td>9655</td>\n",
       "      <td>To investigate whether mental health services ...</td>\n",
       "    </tr>\n",
       "    <tr>\n",
       "      <th>9674</th>\n",
       "      <td>9675</td>\n",
       "      <td>Desvenlafaxine is used to treat major depressi...</td>\n",
       "    </tr>\n",
       "    <tr>\n",
       "      <th>9708</th>\n",
       "      <td>9709</td>\n",
       "      <td>Depressive symptoms and drinking to cope with ...</td>\n",
       "    </tr>\n",
       "  </tbody>\n",
       "</table>\n",
       "<p>670 rows × 2 columns</p>\n",
       "</div>"
      ],
      "text/plain": [
       "      PaperID                                           Abstract\n",
       "8           9  Background and Objectives: Psychological outco...\n",
       "12         13  Anxiety disorders in adolescence have been ass...\n",
       "15         16  Cannabis use patterns vary considerably, with ...\n",
       "43         44  To date, studies have highlighted cross-sectio...\n",
       "44         45  To measure health-related behaviors and risk f...\n",
       "...       ...                                                ...\n",
       "9627     9628  Previous research has shown racial/ethnic diff...\n",
       "9635     9636  A young refugee woman attended antenatal clini...\n",
       "9654     9655  To investigate whether mental health services ...\n",
       "9674     9675  Desvenlafaxine is used to treat major depressi...\n",
       "9708     9709  Depressive symptoms and drinking to cope with ...\n",
       "\n",
       "[670 rows x 2 columns]"
      ]
     },
     "execution_count": 236,
     "metadata": {},
     "output_type": "execute_result"
    }
   ],
   "source": [
    "# Dataframe with abstracts containing 'alcohol' keyword\n",
    "mask = above_90w['Abstract'].str.lower().str.contains('alcohol', regex=False)\n",
    "above_90w_alcohol = above_90w[mask]\n",
    "above_90w_alcohol"
   ]
  },
  {
   "cell_type": "markdown",
   "id": "e54ff613",
   "metadata": {},
   "source": [
    "### Concatenate tobacco and alcohol dataframes"
   ]
  },
  {
   "cell_type": "code",
   "execution_count": 242,
   "id": "7edd4370",
   "metadata": {},
   "outputs": [],
   "source": [
    "above_90_keywords = pd.concat([above_90w_tobacco, above_90w_alcohol], join=\"inner\")"
   ]
  },
  {
   "cell_type": "code",
   "execution_count": 247,
   "id": "43bb2da1",
   "metadata": {},
   "outputs": [
    {
     "data": {
      "text/html": [
       "<div>\n",
       "<style scoped>\n",
       "    .dataframe tbody tr th:only-of-type {\n",
       "        vertical-align: middle;\n",
       "    }\n",
       "\n",
       "    .dataframe tbody tr th {\n",
       "        vertical-align: top;\n",
       "    }\n",
       "\n",
       "    .dataframe thead th {\n",
       "        text-align: right;\n",
       "    }\n",
       "</style>\n",
       "<table border=\"1\" class=\"dataframe\">\n",
       "  <thead>\n",
       "    <tr style=\"text-align: right;\">\n",
       "      <th></th>\n",
       "      <th>PaperID</th>\n",
       "      <th>Abstract</th>\n",
       "    </tr>\n",
       "  </thead>\n",
       "  <tbody>\n",
       "    <tr>\n",
       "      <th>15</th>\n",
       "      <td>16</td>\n",
       "      <td>Cannabis use patterns vary considerably, with ...</td>\n",
       "    </tr>\n",
       "    <tr>\n",
       "      <th>43</th>\n",
       "      <td>44</td>\n",
       "      <td>To date, studies have highlighted cross-sectio...</td>\n",
       "    </tr>\n",
       "    <tr>\n",
       "      <th>161</th>\n",
       "      <td>162</td>\n",
       "      <td>In the United States (US), rates of teenage pr...</td>\n",
       "    </tr>\n",
       "    <tr>\n",
       "      <th>235</th>\n",
       "      <td>236</td>\n",
       "      <td>The quality of the mother-child relationship i...</td>\n",
       "    </tr>\n",
       "    <tr>\n",
       "      <th>322</th>\n",
       "      <td>323</td>\n",
       "      <td>Perinatal depression affects 21-50% of women i...</td>\n",
       "    </tr>\n",
       "    <tr>\n",
       "      <th>...</th>\n",
       "      <td>...</td>\n",
       "      <td>...</td>\n",
       "    </tr>\n",
       "    <tr>\n",
       "      <th>9627</th>\n",
       "      <td>9628</td>\n",
       "      <td>Previous research has shown racial/ethnic diff...</td>\n",
       "    </tr>\n",
       "    <tr>\n",
       "      <th>9635</th>\n",
       "      <td>9636</td>\n",
       "      <td>A young refugee woman attended antenatal clini...</td>\n",
       "    </tr>\n",
       "    <tr>\n",
       "      <th>9654</th>\n",
       "      <td>9655</td>\n",
       "      <td>To investigate whether mental health services ...</td>\n",
       "    </tr>\n",
       "    <tr>\n",
       "      <th>9674</th>\n",
       "      <td>9675</td>\n",
       "      <td>Desvenlafaxine is used to treat major depressi...</td>\n",
       "    </tr>\n",
       "    <tr>\n",
       "      <th>9708</th>\n",
       "      <td>9709</td>\n",
       "      <td>Depressive symptoms and drinking to cope with ...</td>\n",
       "    </tr>\n",
       "  </tbody>\n",
       "</table>\n",
       "<p>805 rows × 2 columns</p>\n",
       "</div>"
      ],
      "text/plain": [
       "      PaperID                                           Abstract\n",
       "15         16  Cannabis use patterns vary considerably, with ...\n",
       "43         44  To date, studies have highlighted cross-sectio...\n",
       "161       162  In the United States (US), rates of teenage pr...\n",
       "235       236  The quality of the mother-child relationship i...\n",
       "322       323  Perinatal depression affects 21-50% of women i...\n",
       "...       ...                                                ...\n",
       "9627     9628  Previous research has shown racial/ethnic diff...\n",
       "9635     9636  A young refugee woman attended antenatal clini...\n",
       "9654     9655  To investigate whether mental health services ...\n",
       "9674     9675  Desvenlafaxine is used to treat major depressi...\n",
       "9708     9709  Depressive symptoms and drinking to cope with ...\n",
       "\n",
       "[805 rows x 2 columns]"
      ]
     },
     "execution_count": 247,
     "metadata": {},
     "output_type": "execute_result"
    }
   ],
   "source": [
    "above_90_keywords"
   ]
  },
  {
   "cell_type": "markdown",
   "id": "f90640b9",
   "metadata": {},
   "source": [
    "### Now inspect abstract word counts now that we only have abstracts with the keywords"
   ]
  },
  {
   "cell_type": "code",
   "execution_count": 248,
   "id": "c6a6da84",
   "metadata": {},
   "outputs": [
    {
     "name": "stdout",
     "output_type": "stream",
     "text": [
      "Max abstract length - words:  1392\n",
      "Min abstract length - words:  101\n",
      "Mean abstract length - words:  256.15403726708075\n"
     ]
    }
   ],
   "source": [
    "# Longest abstract length - words \n",
    "max_abstract_w = above_90_keywords['Abstract'].str.split().str.len().max()\n",
    "\n",
    "# Shortest abstract length - words\n",
    "min_abstract_w = above_90_keywords['Abstract'].str.split().str.len().min()\n",
    "\n",
    "# Mean abstract length - words\n",
    "mean_abstract_w = above_90_keywords['Abstract'].str.split().str.len().mean()\n",
    "\n",
    "print(\"Max abstract length - words: \", max_abstract_w)\n",
    "print(\"Min abstract length - words: \", min_abstract_w)\n",
    "print(\"Mean abstract length - words: \", mean_abstract_w)"
   ]
  },
  {
   "cell_type": "code",
   "execution_count": 251,
   "id": "70e59e99",
   "metadata": {},
   "outputs": [
    {
     "data": {
      "text/html": [
       "<div>\n",
       "<style scoped>\n",
       "    .dataframe tbody tr th:only-of-type {\n",
       "        vertical-align: middle;\n",
       "    }\n",
       "\n",
       "    .dataframe tbody tr th {\n",
       "        vertical-align: top;\n",
       "    }\n",
       "\n",
       "    .dataframe thead th {\n",
       "        text-align: right;\n",
       "    }\n",
       "</style>\n",
       "<table border=\"1\" class=\"dataframe\">\n",
       "  <thead>\n",
       "    <tr style=\"text-align: right;\">\n",
       "      <th></th>\n",
       "      <th>PaperID</th>\n",
       "      <th>Abstract</th>\n",
       "    </tr>\n",
       "  </thead>\n",
       "  <tbody>\n",
       "    <tr>\n",
       "      <th>74</th>\n",
       "      <td>75</td>\n",
       "      <td>Mood and psychotic syndromes most often emerge...</td>\n",
       "    </tr>\n",
       "  </tbody>\n",
       "</table>\n",
       "</div>"
      ],
      "text/plain": [
       "    PaperID                                           Abstract\n",
       "74       75  Mood and psychotic syndromes most often emerge..."
      ]
     },
     "execution_count": 251,
     "metadata": {},
     "output_type": "execute_result"
    }
   ],
   "source": [
    "# Now see how many have more than 1000 words\n",
    "mask = (above_90_keywords['Abstract'].str.split().str.len() > 1000)\n",
    "above_90_keywords.loc[mask]"
   ]
  },
  {
   "cell_type": "code",
   "execution_count": 252,
   "id": "0f3ecc3f",
   "metadata": {},
   "outputs": [
    {
     "data": {
      "text/plain": [
       "\"Mood and psychotic syndromes most often emerge during adolescence and young adulthood, a period characterised by major physical and social change. Consequently, the effects of adolescent-onset mood and psychotic syndromes can have long term consequences. A key clinical challenge for youth mental health is to develop and test new systems that align with current evidence for comorbid presentations and underlying neurobiology, and are useful for predicting outcomes and guiding decisions regarding the provision of appropriate and effective care. Our highly personalised and measurement-based care model includes three core concepts: ▶ A multidimensional assessment and outcomes framework that includes: social and occupational function; self-harm, suicidal thoughts and behaviour; alcohol or other substance misuse; physical health; and illness trajectory. ▶ Clinical stage. ▶ Three common illness subtypes (psychosis, anxious depression, bipolar spectrum) based on proposed pathophysiological mechanisms (neurodevelopmental, hyperarousal, circadian). The model explicitly aims to prevent progression to more complex and severe forms of illness and is better aligned to contemporary models of the patterns of emergence of psychopathology. Inherent within this highly personalised approach is the incorporation of other evidence-based processes, including real-time measurement-based care as well as utilisation of multidisciplinary teams of health professionals. Data-driven local system modelling and personalised health information technologies provide crucial infrastructure support to these processes for better access to, and higher quality, mental health care for young people. CHAPTER 1: MULTIDIMENSIONAL OUTCOMES IN YOUTH MENTAL HEALTH CARE: WHAT MATTERS AND WHY?: Mood and psychotic syndromes present one of the most serious public health challenges that we face in the 21st century. Factors including prevalence, age of onset, and chronicity contribute to substantial burden and secondary risks such as alcohol or other substance misuse. Mood and psychotic syndromes most often emerge during adolescence and young adulthood, a period characterised by major physical and social change; thus, effects can have long term consequences. We propose five key domains which make up a multidimensional outcomes framework that aims to address the specific needs of young people presenting to health services with emerging mental illness. These include social and occupational function; self-harm, suicidal thoughts and behaviours; alcohol or other substance misuse; physical health; and illness type, stage and trajectory. Impairment and concurrent morbidity are well established in young people by the time they present for mental health care. Despite this, services and health professionals tend to focus on only one aspect of the presentation - illness type, stage and trajectory - and are often at odds with the preferences of young people and their families. There is a need to address the disconnect between mental health, physical health and social services and interventions, to ensure that youth mental health care focuses on the outcomes that matter to young people. CHAPTER 2: COMBINING CLINICAL STAGE AND PATHOPHYSIOLOGICAL MECHANISMS TO UNDERSTAND ILLNESS TRAJECTORIES IN YOUNG PEOPLE WITH EMERGING MOOD AND PSYCHOTIC SYNDROMES: Traditional diagnostic classification systems for mental disorders map poorly onto the early stages of illness experienced by young people, and purport categorical distinctions that are not readily supported by research into genetic, environmental and neurobiological risk factors. Consequently, a key clinical challenge in youth mental health is to develop and test new classification systems that align with current evidence on comorbid presentations, are consistent with current understanding of underlying neurobiology, and provide utility for predicting outcomes and guiding decisions regarding the provision of appropriate and effective care. This chapter outlines a transdiagnostic framework for classifying common adolescent-onset mood and psychotic syndromes, combining two independent but complementary dimensions: clinical staging, and three proposed pathophysiological mechanisms. Clinical staging reflects the progression of mental disorders and is in line with the concept used in general medicine, where more advanced stages are associated with a poorer prognosis and a need for more intensive interventions with a higher risk-to-benefit ratio. The three proposed pathophysiological mechanisms are neurodevelopmental abnormalities, hyperarousal and circadian dysfunction, which, over time, have illness trajectories (or pathways) to psychosis, anxious depression and bipolar spectrum disorders, respectively. The transdiagnostic framework has been evaluated in young people presenting to youth mental health clinics of the University of Sydney's Brain and Mind Centre, alongside a range of clinical and objective measures. Our research to date provides support for this framework, and we are now exploring its application to the development of more personalised models of care. CHAPTER 3: A COMPREHENSIVE ASSESSMENT FRAMEWORK FOR YOUTH MENTAL HEALTH: GUIDING HIGHLY PERSONALISED AND MEASUREMENT-BASED CARE USING MULTIDIMENSIONAL AND OBJECTIVE MEASURES: There is an urgent need for improved care for young people with mental health problems, in particular those with subthreshold mental disorders that are not sufficiently severe to meet traditional diagnostic criteria. New comprehensive assessment frameworks are needed to capture the biopsychosocial profile of a young person to drive highly personalised and measurement-based mental health care. We present a range of multidimensional measures involving five key domains: social and occupational function; self-harm, suicidal thoughts and behaviours; alcohol or other substance misuse; physical health; and illness type, stage and trajectory. Objective measures include: neuropsychological function; sleep-wake behaviours and circadian rhythms; metabolic and immune markers; and brain structure and function. The recommended multidimensional measures facilitate the development of a comprehensive clinical picture. The objective measures help to further develop informative and novel insights into underlying pathophysiological mechanisms and illness trajectories to guide personalised care plans. A panel of specific multidimensional and objective measures are recommended as standard clinical practice, while others are recommended secondarily to provide deeper insights with the aim of revealing alternative clinical paths for targeted interventions and treatments matched to the clinical stage and proposed pathophysiological mechanisms of the young person. CHAPTER 4: PERSONALISING CARE OPTIONS IN YOUTH MENTAL HEALTH: USING MULTIDIMENSIONAL ASSESSMENT, CLINICAL STAGE, PATHOPHYSIOLOGICAL MECHANISMS, AND INDIVIDUAL ILLNESS TRAJECTORIES TO GUIDE TREATMENT SELECTION: New models of mental health care for young people require that interventions be matched to illness type, clinical stage, underlying pathophysiological mechanisms and individual illness trajectories. Narrow syndrome-focused classifications often direct clinical attention away from other key factors such as functional impairment, self-harm and suicidality, alcohol or other substance misuse, and poor physical health. By contrast, we outline a treatment selection guide for early intervention for adolescent-onset mood and psychotic syndromes (ie, active treatments and indicated and more specific secondary prevention strategies). This guide is based on experiences with the Brain and Mind Centre's highly personalised and measurement-based care model to manage youth mental health. The model incorporates three complementary core concepts: ▶A multidimensional assessment and outcomes framework including: social and occupational function; self-harm, suicidal thoughts and behaviours; alcohol or other substance misuse; physical health; and illness trajectory. ▶Clinical stage. ▶Three common illness subtypes (psychosis, anxious depression, bipolar spectrum) based on three underlying pathophysiological mechanisms (neurodevelopmental, hyperarousal, circadian). These core concepts are not mutually exclusive and together may facilitate improved outcomes through a clinical stage-appropriate and transdiagnostic framework that helps guide decisions regarding the provision of appropriate and effective care options. Given its emphasis on adolescent-onset mood and psychotic syndromes, the Brain and Mind Centre's model of care also respects a fundamental developmental perspective - categorising childhood problems (eg, anxiety and neurodevelopmental difficulties) as risk factors and respecting the fact that young people are in a period of major biological and social transition. Based on these factors, a range of social, psychological and pharmacological interventions are recommended, with an emphasis on balancing the personal benefit-to-cost ratio. CHAPTER 5: A SERVICE DELIVERY MODEL TO SUPPORT HIGHLY PERSONALISED AND MEASUREMENT-BASED CARE IN YOUTH MENTAL HEALTH: Over the past decade, we have seen a growing focus on creating mental health service delivery models that better meet the unique needs of young Australians. Recent policy directives from the Australian Government recommend the adoption of stepped-care services to improve the appropriateness of care, determined by severity of need. Here, we propose that a highly personalised approach enhances stepped-care models by incorporating clinical staging and a young person's current and multidimensional needs. It explicitly aims to prevent progression to more complex and severe forms of illness and is better aligned to contemporary models of the patterns of emergence of psychopathology. Inherent within a highly personalised approach is the incorporation of other evidence-based processes, including real-time measurement-based care and use of multidisciplinary teams of health professionals. Data-driven local system modelling and personalised health information technologies provide crucial infrastructure support to these processes for better access to, and higher quality of, mental health care for young people.© 2019 AMPCo Pty Ltd.\""
      ]
     },
     "execution_count": 252,
     "metadata": {},
     "output_type": "execute_result"
    }
   ],
   "source": [
    "above_90_keywords['Abstract'][74] #relevant but really long"
   ]
  },
  {
   "cell_type": "code",
   "execution_count": 254,
   "id": "fc19115d",
   "metadata": {},
   "outputs": [
    {
     "data": {
      "text/html": [
       "<div>\n",
       "<style scoped>\n",
       "    .dataframe tbody tr th:only-of-type {\n",
       "        vertical-align: middle;\n",
       "    }\n",
       "\n",
       "    .dataframe tbody tr th {\n",
       "        vertical-align: top;\n",
       "    }\n",
       "\n",
       "    .dataframe thead th {\n",
       "        text-align: right;\n",
       "    }\n",
       "</style>\n",
       "<table border=\"1\" class=\"dataframe\">\n",
       "  <thead>\n",
       "    <tr style=\"text-align: right;\">\n",
       "      <th></th>\n",
       "      <th>PaperID</th>\n",
       "      <th>Abstract</th>\n",
       "    </tr>\n",
       "  </thead>\n",
       "  <tbody>\n",
       "    <tr>\n",
       "      <th>74</th>\n",
       "      <td>75</td>\n",
       "      <td>Mood and psychotic syndromes most often emerge...</td>\n",
       "    </tr>\n",
       "    <tr>\n",
       "      <th>4729</th>\n",
       "      <td>4730</td>\n",
       "      <td>Preconception health is a broad term that enco...</td>\n",
       "    </tr>\n",
       "    <tr>\n",
       "      <th>8661</th>\n",
       "      <td>8662</td>\n",
       "      <td>Automated telephone communication systems (ATC...</td>\n",
       "    </tr>\n",
       "  </tbody>\n",
       "</table>\n",
       "</div>"
      ],
      "text/plain": [
       "      PaperID                                           Abstract\n",
       "74         75  Mood and psychotic syndromes most often emerge...\n",
       "4729     4730  Preconception health is a broad term that enco...\n",
       "8661     8662  Automated telephone communication systems (ATC..."
      ]
     },
     "execution_count": 254,
     "metadata": {},
     "output_type": "execute_result"
    }
   ],
   "source": [
    "# Now see how many have more than 800 words\n",
    "mask = (above_90_keywords['Abstract'].str.split().str.len() > 800)\n",
    "above_90_keywords.loc[mask]"
   ]
  },
  {
   "cell_type": "code",
   "execution_count": 256,
   "id": "1b689a3f",
   "metadata": {},
   "outputs": [
    {
     "data": {
      "text/plain": [
       "\"Preconception health is a broad term that encompasses the overall health of nonpregnant women during their reproductive years (defined here as aged 18-44 years). Improvement of both birth outcomes and the woman's health occurs when preconception health is optimized. Improving preconception health before and between pregnancies is critical for reducing maternal and infant mortality and pregnancy-related complications. The National Preconception Health and Health Care Initiative's Surveillance and Research work group suggests ten prioritized indicators that states can use to monitor programs or activities for improving the preconception health status of women of reproductive age. This report includes overall and stratified estimates for nine of these preconception health indicators.2013-2015.Survey data from two surveillance systems are included in this report. The Behavioral Risk Factor Surveillance System (BRFSS) is an ongoing state-based, landline and cellular telephone survey of noninstitutionalized adults in the United States aged ≥18 years that is conducted by state and territorial health departments. BRFSS is the main source of self-reported data for states on health risk behaviors, chronic health conditions, and preventive health services primarily related to chronic disease in the United States. The Pregnancy Risk Assessment Monitoring System (PRAMS) is an ongoing U.S. state- and population-based surveillance system administered collaboratively by CDC and state health departments. PRAMS is designed to monitor selected maternal behaviors, conditions, and experiences that occur before, during, and shortly after pregnancy that are self-reported by women who recently delivered a live-born infant. This report summarizes BRFSS and PRAMS data on nine of 10 prioritized preconception health indicators (i.e., depression, diabetes, hypertension, current cigarette smoking, normal weight, recommended physical activity, recent unwanted pregnancy, prepregnancy multivitamin use, and postpartum use of a most or moderately effective contraceptive method) for which the most recent data are available. BRFSS data from all 50 states and the District of Columbia were used for six preconception health indicators: depression, diabetes (excluded if occurring only during pregnancy or if limited to borderline/prediabetes conditions), hypertension (excluded if occurring only during pregnancy or if limited to borderline/prehypertension conditions), current cigarette smoking, normal weight, and recommended physical activity. PRAMS data from 30 states, the District of Columbia, and New York City were used for three preconception health indicators: recent unwanted pregnancy, prepregnancy multivitamin use, and postpartum use of a most or moderately effective contraceptive method by women or their husbands or partners (i.e., male or female sterilization, hormonal implant, intrauterine device, injectable contraceptive, oral contraceptive, hormonal patch, or vaginal ring). Heavy alcohol use during the 3 months before pregnancy also was included in the prioritized set of 10 indicators, but PRAMS data for each reporting area are not available until 2016 for that indicator. Therefore, estimates for heavy alcohol use are not included in this report. All BRFSS preconception health estimates are based on 2014-2015 data except two (hypertension and recommended physical activity are based on 2013 and 2015 data). All PRAMS preconception health estimates rely on 2013-2014 data. Prevalence estimates of indicators are reported for women aged 18-44 years overall, by age group, race-ethnicity, health insurance status, and reporting area. Chi-square tests were conducted to assess differences in indicators by age group, race/ethnicity, and insurance status.During 2013-2015, prevalence estimates of indicators representing risk factors were generally highest and prevalence estimates of health-promoting indicators were generally lowest among older women (35-44 years), non-Hispanic black women, uninsured women, and those residing in southern states. For example, prevalence of ever having been told by a health care provider that they had a depressive disorder was highest among women aged 35-44 years (23.1%) and lowest among women aged 18-24 years (19.2%). Prevalence of postpartum use of a most or moderately effective method of contraception was lowest among women aged 35-44 years (50.6%) and highest among younger women aged 18-24 years (64.9%). Self-reported prepregnancy multivitamin use and getting recommended levels of physical activity were lowest among non-Hispanic black women (21.6% and 42.8%, respectively) and highest among non-Hispanic white women (37.8% and 53.8%, respectively). Recent unwanted pregnancy was lowest among non-Hispanic white women and highest among non-Hispanic black women (5.0% and 11.6%, respectively). All but three indicators (diabetes, hypertension, and use of a most or moderately effective contraceptive method) varied by insurance status; for instance, prevalence of current cigarette smoking was higher among uninsured women (21.0%) compared with insured women (16.1%), and prevalence of normal weight was lower among women who were uninsured (38.6%), compared with women who were insured (46.1%). By reporting area, the range of women reporting ever having been told by a health care provider that they had diabetes was 5.0% (Alabama) to 1.9% (Utah), and women reporting ever having been told by a health care provider that they had hypertension ranged from 19.2% (Mississippi) to 7.0% (Minnesota).Preconception health risk factors and health-promoting indicators varied by age group, race/ethnicity, insurance status, and reporting area. These disparities highlight subpopulations that might benefit most from interventions that improve preconception health.Eliminating disparities in preconception health can potentially reduce disparities in two of the leading causes of death in early and middle adulthood (i.e., heart disease and diabetes). Public health officials can use this information to provide a baseline against which to evaluate state efforts to improve preconception health.\""
      ]
     },
     "execution_count": 256,
     "metadata": {},
     "output_type": "execute_result"
    }
   ],
   "source": [
    "above_90_keywords['Abstract'][4729] #relevant but really long"
   ]
  },
  {
   "cell_type": "markdown",
   "id": "42876005",
   "metadata": {},
   "source": [
    "### Save dataframe with abstracts containing keywords and more than 90 words to csv"
   ]
  },
  {
   "cell_type": "code",
   "execution_count": 257,
   "id": "99212893",
   "metadata": {},
   "outputs": [],
   "source": [
    "above_90_keywords.to_csv('abstracts_keywords.csv')"
   ]
  },
  {
   "cell_type": "code",
   "execution_count": null,
   "id": "833a6d4c",
   "metadata": {},
   "outputs": [],
   "source": []
  }
 ],
 "metadata": {
  "kernelspec": {
   "display_name": "Python 3",
   "language": "python",
   "name": "python3"
  },
  "language_info": {
   "codemirror_mode": {
    "name": "ipython",
    "version": 3
   },
   "file_extension": ".py",
   "mimetype": "text/x-python",
   "name": "python",
   "nbconvert_exporter": "python",
   "pygments_lexer": "ipython3",
   "version": "3.8.8"
  }
 },
 "nbformat": 4,
 "nbformat_minor": 5
}
