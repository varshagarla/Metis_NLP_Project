{
 "cells": [
  {
   "cell_type": "markdown",
   "id": "bf1fc723",
   "metadata": {},
   "source": [
    "### Import packages"
   ]
  },
  {
   "cell_type": "code",
   "execution_count": 204,
   "id": "f1a4cf11",
   "metadata": {},
   "outputs": [
    {
     "name": "stderr",
     "output_type": "stream",
     "text": [
      "/Users/varshagarla/opt/anaconda3/lib/python3.8/site-packages/ipykernel/ipkernel.py:287: DeprecationWarning: `should_run_async` will not call `transform_cell` automatically in the future. Please pass the result to `transformed_cell` argument and any exception that happen during thetransform in `preprocessing_exc_tuple` in IPython 7.17 and above.\n",
      "  and should_run_async(code)\n"
     ]
    }
   ],
   "source": [
    "#pip install gensim"
   ]
  },
  {
   "cell_type": "code",
   "execution_count": 202,
   "id": "9c0b1f10",
   "metadata": {},
   "outputs": [
    {
     "name": "stderr",
     "output_type": "stream",
     "text": [
      "/Users/varshagarla/opt/anaconda3/lib/python3.8/site-packages/ipykernel/ipkernel.py:287: DeprecationWarning: `should_run_async` will not call `transform_cell` automatically in the future. Please pass the result to `transformed_cell` argument and any exception that happen during thetransform in `preprocessing_exc_tuple` in IPython 7.17 and above.\n",
      "  and should_run_async(code)\n",
      "[nltk_data] Downloading package stopwords to\n",
      "[nltk_data]     /Users/varshagarla/nltk_data...\n",
      "[nltk_data]   Package stopwords is already up-to-date!\n",
      "[nltk_data] Downloading package words to\n",
      "[nltk_data]     /Users/varshagarla/nltk_data...\n",
      "[nltk_data]   Package words is already up-to-date!\n",
      "[nltk_data] Downloading package wordnet to\n",
      "[nltk_data]     /Users/varshagarla/nltk_data...\n",
      "[nltk_data]   Package wordnet is already up-to-date!\n"
     ]
    },
    {
     "ename": "ModuleNotFoundError",
     "evalue": "No module named 'wordcloud'",
     "output_type": "error",
     "traceback": [
      "\u001b[0;31m---------------------------------------------------------------------------\u001b[0m",
      "\u001b[0;31mModuleNotFoundError\u001b[0m                       Traceback (most recent call last)",
      "\u001b[0;32m<ipython-input-202-6de82a305d46>\u001b[0m in \u001b[0;36m<module>\u001b[0;34m\u001b[0m\n\u001b[1;32m     25\u001b[0m \u001b[0;32mfrom\u001b[0m \u001b[0mgensim\u001b[0m \u001b[0;32mimport\u001b[0m \u001b[0mcorpora\u001b[0m\u001b[0;34m,\u001b[0m \u001b[0mmodels\u001b[0m\u001b[0;34m,\u001b[0m \u001b[0msimilarities\u001b[0m\u001b[0;34m,\u001b[0m \u001b[0mmatutils\u001b[0m\u001b[0;34m\u001b[0m\u001b[0;34m\u001b[0m\u001b[0m\n\u001b[1;32m     26\u001b[0m \u001b[0;34m\u001b[0m\u001b[0m\n\u001b[0;32m---> 27\u001b[0;31m \u001b[0;32mfrom\u001b[0m \u001b[0mwordcloud\u001b[0m \u001b[0;32mimport\u001b[0m \u001b[0mWordCloud\u001b[0m\u001b[0;34m\u001b[0m\u001b[0;34m\u001b[0m\u001b[0m\n\u001b[0m\u001b[1;32m     28\u001b[0m \u001b[0;34m\u001b[0m\u001b[0m\n\u001b[1;32m     29\u001b[0m \u001b[0;32mimport\u001b[0m \u001b[0mumap\u001b[0m\u001b[0;34m\u001b[0m\u001b[0;34m\u001b[0m\u001b[0m\n",
      "\u001b[0;31mModuleNotFoundError\u001b[0m: No module named 'wordcloud'"
     ]
    }
   ],
   "source": [
    "#Import packages \n",
    "\n",
    "import pandas as pd\n",
    "import numpy as np\n",
    "import re\n",
    "import string\n",
    "import nltk\n",
    "nltk.download('stopwords')\n",
    "nltk.download('words')\n",
    "nltk.download('wordnet')\n",
    "from nltk.tokenize import word_tokenize, sent_tokenize,RegexpTokenizer\n",
    "from nltk.stem import PorterStemmer, WordNetLemmatizer\n",
    "from nltk.stem.lancaster import LancasterStemmer\n",
    "from nltk.util import ngrams\n",
    "from nltk.corpus import stopwords\n",
    "set(stopwords.words('english'))\n",
    "\n",
    "from sklearn.feature_extraction.text import CountVectorizer\n",
    "from sklearn.feature_extraction.text import TfidfVectorizer\n",
    "from sklearn.decomposition import TruncatedSVD\n",
    "from sklearn.decomposition import NMF\n",
    "from sklearn.metrics.pairwise import cosine_similarity\n",
    "from sklearn.metrics import pairwise_distances\n",
    "\n",
    "from gensim import corpora, models, similarities, matutils\n",
    "\n",
    "from wordcloud import WordCloud\n",
    "\n",
    "import umap\n",
    "import seaborn as sns\n",
    "import sklearn.cluster as cluster\n",
    "\n",
    "import pyLDAvis\n",
    "import pyLDAvis.gensim_models"
   ]
  },
  {
   "cell_type": "code",
   "execution_count": 9,
   "id": "026640da",
   "metadata": {},
   "outputs": [
    {
     "name": "stderr",
     "output_type": "stream",
     "text": [
      "/Users/varshagarla/opt/anaconda3/lib/python3.8/site-packages/ipykernel/ipkernel.py:287: DeprecationWarning: `should_run_async` will not call `transform_cell` automatically in the future. Please pass the result to `transformed_cell` argument and any exception that happen during thetransform in `preprocessing_exc_tuple` in IPython 7.17 and above.\n",
      "  and should_run_async(code)\n"
     ]
    }
   ],
   "source": [
    "#pip install numpy"
   ]
  },
  {
   "cell_type": "code",
   "execution_count": 10,
   "id": "f765cd84",
   "metadata": {},
   "outputs": [
    {
     "name": "stderr",
     "output_type": "stream",
     "text": [
      "/Users/varshagarla/opt/anaconda3/lib/python3.8/site-packages/ipykernel/ipkernel.py:287: DeprecationWarning: `should_run_async` will not call `transform_cell` automatically in the future. Please pass the result to `transformed_cell` argument and any exception that happen during thetransform in `preprocessing_exc_tuple` in IPython 7.17 and above.\n",
      "  and should_run_async(code)\n"
     ]
    }
   ],
   "source": [
    "#pip install gensim==3.8.3"
   ]
  },
  {
   "cell_type": "markdown",
   "id": "b92a20b8",
   "metadata": {},
   "source": [
    "### Read in processed abstracts file"
   ]
  },
  {
   "cell_type": "code",
   "execution_count": 11,
   "id": "cfd034b4",
   "metadata": {},
   "outputs": [
    {
     "name": "stderr",
     "output_type": "stream",
     "text": [
      "/Users/varshagarla/opt/anaconda3/lib/python3.8/site-packages/ipykernel/ipkernel.py:287: DeprecationWarning: `should_run_async` will not call `transform_cell` automatically in the future. Please pass the result to `transformed_cell` argument and any exception that happen during thetransform in `preprocessing_exc_tuple` in IPython 7.17 and above.\n",
      "  and should_run_async(code)\n"
     ]
    }
   ],
   "source": [
    "df = pd.read_csv('abstracts_for_modeling.csv')"
   ]
  },
  {
   "cell_type": "code",
   "execution_count": 12,
   "id": "b0d12010",
   "metadata": {},
   "outputs": [
    {
     "name": "stderr",
     "output_type": "stream",
     "text": [
      "/Users/varshagarla/opt/anaconda3/lib/python3.8/site-packages/ipykernel/ipkernel.py:287: DeprecationWarning: `should_run_async` will not call `transform_cell` automatically in the future. Please pass the result to `transformed_cell` argument and any exception that happen during thetransform in `preprocessing_exc_tuple` in IPython 7.17 and above.\n",
      "  and should_run_async(code)\n"
     ]
    },
    {
     "data": {
      "text/html": [
       "<div>\n",
       "<style scoped>\n",
       "    .dataframe tbody tr th:only-of-type {\n",
       "        vertical-align: middle;\n",
       "    }\n",
       "\n",
       "    .dataframe tbody tr th {\n",
       "        vertical-align: top;\n",
       "    }\n",
       "\n",
       "    .dataframe thead th {\n",
       "        text-align: right;\n",
       "    }\n",
       "</style>\n",
       "<table border=\"1\" class=\"dataframe\">\n",
       "  <thead>\n",
       "    <tr style=\"text-align: right;\">\n",
       "      <th></th>\n",
       "      <th>PaperID</th>\n",
       "      <th>Abstract</th>\n",
       "      <th>Abstract_modeling</th>\n",
       "    </tr>\n",
       "  </thead>\n",
       "  <tbody>\n",
       "    <tr>\n",
       "      <th>0</th>\n",
       "      <td>236</td>\n",
       "      <td>the quality of the mother child relationship i...</td>\n",
       "      <td>['quality', 'mother', 'child', 'relationship',...</td>\n",
       "    </tr>\n",
       "    <tr>\n",
       "      <th>1</th>\n",
       "      <td>323</td>\n",
       "      <td>perinatal depression affects      of women in ...</td>\n",
       "      <td>['depression', 'significant', 'health', 'depre...</td>\n",
       "    </tr>\n",
       "    <tr>\n",
       "      <th>2</th>\n",
       "      <td>874</td>\n",
       "      <td>sexual minority  sm  young adults  such as tho...</td>\n",
       "      <td>['sexual', 'minority', 'young', 'identify', 'g...</td>\n",
       "    </tr>\n",
       "    <tr>\n",
       "      <th>3</th>\n",
       "      <td>1098</td>\n",
       "      <td>the increasingly female face of chronic obstru...</td>\n",
       "      <td>['female', 'face', 'chronic', 'obstructive', '...</td>\n",
       "    </tr>\n",
       "    <tr>\n",
       "      <th>4</th>\n",
       "      <td>1427</td>\n",
       "      <td>the prevalence of korean adolescents with depr...</td>\n",
       "      <td>['prevalence', 'depression', 'suicide', 'rate'...</td>\n",
       "    </tr>\n",
       "  </tbody>\n",
       "</table>\n",
       "</div>"
      ],
      "text/plain": [
       "   PaperID                                           Abstract  \\\n",
       "0      236  the quality of the mother child relationship i...   \n",
       "1      323  perinatal depression affects      of women in ...   \n",
       "2      874  sexual minority  sm  young adults  such as tho...   \n",
       "3     1098  the increasingly female face of chronic obstru...   \n",
       "4     1427  the prevalence of korean adolescents with depr...   \n",
       "\n",
       "                                   Abstract_modeling  \n",
       "0  ['quality', 'mother', 'child', 'relationship',...  \n",
       "1  ['depression', 'significant', 'health', 'depre...  \n",
       "2  ['sexual', 'minority', 'young', 'identify', 'g...  \n",
       "3  ['female', 'face', 'chronic', 'obstructive', '...  \n",
       "4  ['prevalence', 'depression', 'suicide', 'rate'...  "
      ]
     },
     "execution_count": 12,
     "metadata": {},
     "output_type": "execute_result"
    }
   ],
   "source": [
    "df.head()"
   ]
  },
  {
   "cell_type": "markdown",
   "id": "9348ba81",
   "metadata": {},
   "source": [
    "### Vectorize documents"
   ]
  },
  {
   "cell_type": "markdown",
   "id": "38ba86f7",
   "metadata": {},
   "source": [
    "#### CountVectorizer"
   ]
  },
  {
   "cell_type": "code",
   "execution_count": 13,
   "id": "62f14031",
   "metadata": {},
   "outputs": [
    {
     "name": "stderr",
     "output_type": "stream",
     "text": [
      "/Users/varshagarla/opt/anaconda3/lib/python3.8/site-packages/ipykernel/ipkernel.py:287: DeprecationWarning: `should_run_async` will not call `transform_cell` automatically in the future. Please pass the result to `transformed_cell` argument and any exception that happen during thetransform in `preprocessing_exc_tuple` in IPython 7.17 and above.\n",
      "  and should_run_async(code)\n"
     ]
    }
   ],
   "source": [
    "docs = df['Abstract_modeling']"
   ]
  },
  {
   "cell_type": "code",
   "execution_count": 15,
   "id": "6b1da73b",
   "metadata": {},
   "outputs": [
    {
     "name": "stderr",
     "output_type": "stream",
     "text": [
      "/Users/varshagarla/opt/anaconda3/lib/python3.8/site-packages/ipykernel/ipkernel.py:287: DeprecationWarning: `should_run_async` will not call `transform_cell` automatically in the future. Please pass the result to `transformed_cell` argument and any exception that happen during thetransform in `preprocessing_exc_tuple` in IPython 7.17 and above.\n",
      "  and should_run_async(code)\n"
     ]
    }
   ],
   "source": [
    "#Make count vectorizer with remove stop words in english\n",
    "#unigrams and bigrams\n",
    "cv = CountVectorizer(ngram_range=(1, 2), min_df=0.1, max_df=0.8, binary=True)"
   ]
  },
  {
   "cell_type": "code",
   "execution_count": 16,
   "id": "cce85632",
   "metadata": {},
   "outputs": [
    {
     "name": "stderr",
     "output_type": "stream",
     "text": [
      "/Users/varshagarla/opt/anaconda3/lib/python3.8/site-packages/ipykernel/ipkernel.py:287: DeprecationWarning: `should_run_async` will not call `transform_cell` automatically in the future. Please pass the result to `transformed_cell` argument and any exception that happen during thetransform in `preprocessing_exc_tuple` in IPython 7.17 and above.\n",
      "  and should_run_async(code)\n"
     ]
    }
   ],
   "source": [
    "#Fit vectorizer onto data\n",
    "abstracts_cv = cv.fit_transform(docs)"
   ]
  },
  {
   "cell_type": "code",
   "execution_count": 17,
   "id": "392eaf38",
   "metadata": {},
   "outputs": [
    {
     "name": "stderr",
     "output_type": "stream",
     "text": [
      "/Users/varshagarla/opt/anaconda3/lib/python3.8/site-packages/ipykernel/ipkernel.py:287: DeprecationWarning: `should_run_async` will not call `transform_cell` automatically in the future. Please pass the result to `transformed_cell` argument and any exception that happen during thetransform in `preprocessing_exc_tuple` in IPython 7.17 and above.\n",
      "  and should_run_async(code)\n"
     ]
    },
    {
     "data": {
      "text/html": [
       "<div>\n",
       "<style scoped>\n",
       "    .dataframe tbody tr th:only-of-type {\n",
       "        vertical-align: middle;\n",
       "    }\n",
       "\n",
       "    .dataframe tbody tr th {\n",
       "        vertical-align: top;\n",
       "    }\n",
       "\n",
       "    .dataframe thead th {\n",
       "        text-align: right;\n",
       "    }\n",
       "</style>\n",
       "<table border=\"1\" class=\"dataframe\">\n",
       "  <thead>\n",
       "    <tr style=\"text-align: right;\">\n",
       "      <th></th>\n",
       "      <th>abuse</th>\n",
       "      <th>across</th>\n",
       "      <th>adolescence</th>\n",
       "      <th>adolescent</th>\n",
       "      <th>adult</th>\n",
       "      <th>age</th>\n",
       "      <th>aim</th>\n",
       "      <th>alcohol consumption</th>\n",
       "      <th>alcohol use</th>\n",
       "      <th>among</th>\n",
       "      <th>...</th>\n",
       "      <th>total</th>\n",
       "      <th>treatment</th>\n",
       "      <th>two</th>\n",
       "      <th>use disorder</th>\n",
       "      <th>whether</th>\n",
       "      <th>within</th>\n",
       "      <th>without</th>\n",
       "      <th>year</th>\n",
       "      <th>young</th>\n",
       "      <th>youth</th>\n",
       "    </tr>\n",
       "  </thead>\n",
       "  <tbody>\n",
       "    <tr>\n",
       "      <th>0</th>\n",
       "      <td>0</td>\n",
       "      <td>1</td>\n",
       "      <td>0</td>\n",
       "      <td>0</td>\n",
       "      <td>0</td>\n",
       "      <td>1</td>\n",
       "      <td>0</td>\n",
       "      <td>0</td>\n",
       "      <td>0</td>\n",
       "      <td>0</td>\n",
       "      <td>...</td>\n",
       "      <td>0</td>\n",
       "      <td>0</td>\n",
       "      <td>0</td>\n",
       "      <td>0</td>\n",
       "      <td>0</td>\n",
       "      <td>0</td>\n",
       "      <td>0</td>\n",
       "      <td>1</td>\n",
       "      <td>0</td>\n",
       "      <td>0</td>\n",
       "    </tr>\n",
       "    <tr>\n",
       "      <th>1</th>\n",
       "      <td>0</td>\n",
       "      <td>0</td>\n",
       "      <td>0</td>\n",
       "      <td>0</td>\n",
       "      <td>0</td>\n",
       "      <td>0</td>\n",
       "      <td>0</td>\n",
       "      <td>0</td>\n",
       "      <td>0</td>\n",
       "      <td>1</td>\n",
       "      <td>...</td>\n",
       "      <td>0</td>\n",
       "      <td>0</td>\n",
       "      <td>0</td>\n",
       "      <td>0</td>\n",
       "      <td>0</td>\n",
       "      <td>0</td>\n",
       "      <td>0</td>\n",
       "      <td>0</td>\n",
       "      <td>0</td>\n",
       "      <td>0</td>\n",
       "    </tr>\n",
       "    <tr>\n",
       "      <th>2</th>\n",
       "      <td>0</td>\n",
       "      <td>0</td>\n",
       "      <td>0</td>\n",
       "      <td>0</td>\n",
       "      <td>1</td>\n",
       "      <td>0</td>\n",
       "      <td>0</td>\n",
       "      <td>0</td>\n",
       "      <td>0</td>\n",
       "      <td>0</td>\n",
       "      <td>...</td>\n",
       "      <td>0</td>\n",
       "      <td>0</td>\n",
       "      <td>0</td>\n",
       "      <td>0</td>\n",
       "      <td>0</td>\n",
       "      <td>0</td>\n",
       "      <td>0</td>\n",
       "      <td>1</td>\n",
       "      <td>1</td>\n",
       "      <td>0</td>\n",
       "    </tr>\n",
       "    <tr>\n",
       "      <th>3</th>\n",
       "      <td>0</td>\n",
       "      <td>0</td>\n",
       "      <td>0</td>\n",
       "      <td>0</td>\n",
       "      <td>0</td>\n",
       "      <td>0</td>\n",
       "      <td>0</td>\n",
       "      <td>0</td>\n",
       "      <td>0</td>\n",
       "      <td>1</td>\n",
       "      <td>...</td>\n",
       "      <td>0</td>\n",
       "      <td>1</td>\n",
       "      <td>0</td>\n",
       "      <td>0</td>\n",
       "      <td>0</td>\n",
       "      <td>0</td>\n",
       "      <td>0</td>\n",
       "      <td>0</td>\n",
       "      <td>0</td>\n",
       "      <td>0</td>\n",
       "    </tr>\n",
       "    <tr>\n",
       "      <th>4</th>\n",
       "      <td>0</td>\n",
       "      <td>0</td>\n",
       "      <td>0</td>\n",
       "      <td>1</td>\n",
       "      <td>0</td>\n",
       "      <td>0</td>\n",
       "      <td>0</td>\n",
       "      <td>0</td>\n",
       "      <td>0</td>\n",
       "      <td>1</td>\n",
       "      <td>...</td>\n",
       "      <td>0</td>\n",
       "      <td>0</td>\n",
       "      <td>0</td>\n",
       "      <td>0</td>\n",
       "      <td>0</td>\n",
       "      <td>0</td>\n",
       "      <td>0</td>\n",
       "      <td>0</td>\n",
       "      <td>0</td>\n",
       "      <td>1</td>\n",
       "    </tr>\n",
       "    <tr>\n",
       "      <th>...</th>\n",
       "      <td>...</td>\n",
       "      <td>...</td>\n",
       "      <td>...</td>\n",
       "      <td>...</td>\n",
       "      <td>...</td>\n",
       "      <td>...</td>\n",
       "      <td>...</td>\n",
       "      <td>...</td>\n",
       "      <td>...</td>\n",
       "      <td>...</td>\n",
       "      <td>...</td>\n",
       "      <td>...</td>\n",
       "      <td>...</td>\n",
       "      <td>...</td>\n",
       "      <td>...</td>\n",
       "      <td>...</td>\n",
       "      <td>...</td>\n",
       "      <td>...</td>\n",
       "      <td>...</td>\n",
       "      <td>...</td>\n",
       "      <td>...</td>\n",
       "    </tr>\n",
       "    <tr>\n",
       "      <th>721</th>\n",
       "      <td>0</td>\n",
       "      <td>0</td>\n",
       "      <td>0</td>\n",
       "      <td>0</td>\n",
       "      <td>0</td>\n",
       "      <td>1</td>\n",
       "      <td>0</td>\n",
       "      <td>1</td>\n",
       "      <td>0</td>\n",
       "      <td>0</td>\n",
       "      <td>...</td>\n",
       "      <td>0</td>\n",
       "      <td>1</td>\n",
       "      <td>0</td>\n",
       "      <td>0</td>\n",
       "      <td>0</td>\n",
       "      <td>0</td>\n",
       "      <td>0</td>\n",
       "      <td>0</td>\n",
       "      <td>0</td>\n",
       "      <td>0</td>\n",
       "    </tr>\n",
       "    <tr>\n",
       "      <th>722</th>\n",
       "      <td>0</td>\n",
       "      <td>0</td>\n",
       "      <td>0</td>\n",
       "      <td>0</td>\n",
       "      <td>0</td>\n",
       "      <td>0</td>\n",
       "      <td>0</td>\n",
       "      <td>0</td>\n",
       "      <td>0</td>\n",
       "      <td>0</td>\n",
       "      <td>...</td>\n",
       "      <td>0</td>\n",
       "      <td>0</td>\n",
       "      <td>0</td>\n",
       "      <td>0</td>\n",
       "      <td>0</td>\n",
       "      <td>0</td>\n",
       "      <td>0</td>\n",
       "      <td>0</td>\n",
       "      <td>1</td>\n",
       "      <td>0</td>\n",
       "    </tr>\n",
       "    <tr>\n",
       "      <th>723</th>\n",
       "      <td>0</td>\n",
       "      <td>0</td>\n",
       "      <td>0</td>\n",
       "      <td>0</td>\n",
       "      <td>0</td>\n",
       "      <td>0</td>\n",
       "      <td>0</td>\n",
       "      <td>1</td>\n",
       "      <td>0</td>\n",
       "      <td>0</td>\n",
       "      <td>...</td>\n",
       "      <td>0</td>\n",
       "      <td>1</td>\n",
       "      <td>0</td>\n",
       "      <td>0</td>\n",
       "      <td>1</td>\n",
       "      <td>0</td>\n",
       "      <td>0</td>\n",
       "      <td>0</td>\n",
       "      <td>1</td>\n",
       "      <td>0</td>\n",
       "    </tr>\n",
       "    <tr>\n",
       "      <th>724</th>\n",
       "      <td>0</td>\n",
       "      <td>0</td>\n",
       "      <td>0</td>\n",
       "      <td>0</td>\n",
       "      <td>0</td>\n",
       "      <td>1</td>\n",
       "      <td>0</td>\n",
       "      <td>0</td>\n",
       "      <td>0</td>\n",
       "      <td>0</td>\n",
       "      <td>...</td>\n",
       "      <td>0</td>\n",
       "      <td>1</td>\n",
       "      <td>0</td>\n",
       "      <td>0</td>\n",
       "      <td>0</td>\n",
       "      <td>0</td>\n",
       "      <td>0</td>\n",
       "      <td>1</td>\n",
       "      <td>0</td>\n",
       "      <td>0</td>\n",
       "    </tr>\n",
       "    <tr>\n",
       "      <th>725</th>\n",
       "      <td>0</td>\n",
       "      <td>1</td>\n",
       "      <td>0</td>\n",
       "      <td>0</td>\n",
       "      <td>0</td>\n",
       "      <td>0</td>\n",
       "      <td>0</td>\n",
       "      <td>1</td>\n",
       "      <td>0</td>\n",
       "      <td>1</td>\n",
       "      <td>...</td>\n",
       "      <td>0</td>\n",
       "      <td>0</td>\n",
       "      <td>1</td>\n",
       "      <td>0</td>\n",
       "      <td>0</td>\n",
       "      <td>0</td>\n",
       "      <td>0</td>\n",
       "      <td>1</td>\n",
       "      <td>0</td>\n",
       "      <td>0</td>\n",
       "    </tr>\n",
       "  </tbody>\n",
       "</table>\n",
       "<p>726 rows × 151 columns</p>\n",
       "</div>"
      ],
      "text/plain": [
       "     abuse  across  adolescence  adolescent  adult  age  aim  \\\n",
       "0        0       1            0           0      0    1    0   \n",
       "1        0       0            0           0      0    0    0   \n",
       "2        0       0            0           0      1    0    0   \n",
       "3        0       0            0           0      0    0    0   \n",
       "4        0       0            0           1      0    0    0   \n",
       "..     ...     ...          ...         ...    ...  ...  ...   \n",
       "721      0       0            0           0      0    1    0   \n",
       "722      0       0            0           0      0    0    0   \n",
       "723      0       0            0           0      0    0    0   \n",
       "724      0       0            0           0      0    1    0   \n",
       "725      0       1            0           0      0    0    0   \n",
       "\n",
       "     alcohol consumption  alcohol use  among  ...  total  treatment  two  \\\n",
       "0                      0            0      0  ...      0          0    0   \n",
       "1                      0            0      1  ...      0          0    0   \n",
       "2                      0            0      0  ...      0          0    0   \n",
       "3                      0            0      1  ...      0          1    0   \n",
       "4                      0            0      1  ...      0          0    0   \n",
       "..                   ...          ...    ...  ...    ...        ...  ...   \n",
       "721                    1            0      0  ...      0          1    0   \n",
       "722                    0            0      0  ...      0          0    0   \n",
       "723                    1            0      0  ...      0          1    0   \n",
       "724                    0            0      0  ...      0          1    0   \n",
       "725                    1            0      1  ...      0          0    1   \n",
       "\n",
       "     use disorder  whether  within  without  year  young  youth  \n",
       "0               0        0       0        0     1      0      0  \n",
       "1               0        0       0        0     0      0      0  \n",
       "2               0        0       0        0     1      1      0  \n",
       "3               0        0       0        0     0      0      0  \n",
       "4               0        0       0        0     0      0      1  \n",
       "..            ...      ...     ...      ...   ...    ...    ...  \n",
       "721             0        0       0        0     0      0      0  \n",
       "722             0        0       0        0     0      1      0  \n",
       "723             0        1       0        0     0      1      0  \n",
       "724             0        0       0        0     1      0      0  \n",
       "725             0        0       0        0     1      0      0  \n",
       "\n",
       "[726 rows x 151 columns]"
      ]
     },
     "execution_count": 17,
     "metadata": {},
     "output_type": "execute_result"
    }
   ],
   "source": [
    "#View as df with words as columns\n",
    "pd.DataFrame(abstracts_cv.toarray(), columns=cv.get_feature_names())"
   ]
  },
  {
   "cell_type": "markdown",
   "id": "bcbc6260",
   "metadata": {},
   "source": [
    "#### TF-IDF"
   ]
  },
  {
   "cell_type": "code",
   "execution_count": 20,
   "id": "7395d81b",
   "metadata": {},
   "outputs": [
    {
     "name": "stderr",
     "output_type": "stream",
     "text": [
      "/Users/varshagarla/opt/anaconda3/lib/python3.8/site-packages/ipykernel/ipkernel.py:287: DeprecationWarning: `should_run_async` will not call `transform_cell` automatically in the future. Please pass the result to `transformed_cell` argument and any exception that happen during thetransform in `preprocessing_exc_tuple` in IPython 7.17 and above.\n",
      "  and should_run_async(code)\n"
     ]
    }
   ],
   "source": [
    "#Run text-frequency inverse document frequency \n",
    "\n",
    "tfidf = TfidfVectorizer(ngram_range=(1, 2), stop_words='english', min_df=0.1, max_df=0.8, binary=True)\n",
    "abstracts_tfidf = tfidf.fit_transform(docs)\n",
    "tfidf_df = pd.DataFrame(abstracts_tfidf.toarray(), columns = tfidf.get_feature_names())"
   ]
  },
  {
   "cell_type": "code",
   "execution_count": 21,
   "id": "a7a519c7",
   "metadata": {},
   "outputs": [
    {
     "name": "stderr",
     "output_type": "stream",
     "text": [
      "/Users/varshagarla/opt/anaconda3/lib/python3.8/site-packages/ipykernel/ipkernel.py:287: DeprecationWarning: `should_run_async` will not call `transform_cell` automatically in the future. Please pass the result to `transformed_cell` argument and any exception that happen during thetransform in `preprocessing_exc_tuple` in IPython 7.17 and above.\n",
      "  and should_run_async(code)\n"
     ]
    },
    {
     "data": {
      "text/html": [
       "<div>\n",
       "<style scoped>\n",
       "    .dataframe tbody tr th:only-of-type {\n",
       "        vertical-align: middle;\n",
       "    }\n",
       "\n",
       "    .dataframe tbody tr th {\n",
       "        vertical-align: top;\n",
       "    }\n",
       "\n",
       "    .dataframe thead th {\n",
       "        text-align: right;\n",
       "    }\n",
       "</style>\n",
       "<table border=\"1\" class=\"dataframe\">\n",
       "  <thead>\n",
       "    <tr style=\"text-align: right;\">\n",
       "      <th></th>\n",
       "      <th>abuse</th>\n",
       "      <th>adolescence</th>\n",
       "      <th>adolescent</th>\n",
       "      <th>adult</th>\n",
       "      <th>age</th>\n",
       "      <th>aim</th>\n",
       "      <th>alcohol consumption</th>\n",
       "      <th>alcohol use</th>\n",
       "      <th>analysis</th>\n",
       "      <th>anxiety</th>\n",
       "      <th>...</th>\n",
       "      <th>survey</th>\n",
       "      <th>test</th>\n",
       "      <th>time</th>\n",
       "      <th>tobacco</th>\n",
       "      <th>total</th>\n",
       "      <th>treatment</th>\n",
       "      <th>use disorder</th>\n",
       "      <th>year</th>\n",
       "      <th>young</th>\n",
       "      <th>youth</th>\n",
       "    </tr>\n",
       "  </thead>\n",
       "  <tbody>\n",
       "    <tr>\n",
       "      <th>0</th>\n",
       "      <td>0.0</td>\n",
       "      <td>0.0</td>\n",
       "      <td>0.000000</td>\n",
       "      <td>0.000000</td>\n",
       "      <td>0.136011</td>\n",
       "      <td>0.0</td>\n",
       "      <td>0.000000</td>\n",
       "      <td>0.0</td>\n",
       "      <td>0.000000</td>\n",
       "      <td>0.000000</td>\n",
       "      <td>...</td>\n",
       "      <td>0.000000</td>\n",
       "      <td>0.000000</td>\n",
       "      <td>0.000000</td>\n",
       "      <td>0.217260</td>\n",
       "      <td>0.0</td>\n",
       "      <td>0.000000</td>\n",
       "      <td>0.0</td>\n",
       "      <td>0.222818</td>\n",
       "      <td>0.000000</td>\n",
       "      <td>0.000000</td>\n",
       "    </tr>\n",
       "    <tr>\n",
       "      <th>1</th>\n",
       "      <td>0.0</td>\n",
       "      <td>0.0</td>\n",
       "      <td>0.000000</td>\n",
       "      <td>0.000000</td>\n",
       "      <td>0.000000</td>\n",
       "      <td>0.0</td>\n",
       "      <td>0.000000</td>\n",
       "      <td>0.0</td>\n",
       "      <td>0.000000</td>\n",
       "      <td>0.000000</td>\n",
       "      <td>...</td>\n",
       "      <td>0.000000</td>\n",
       "      <td>0.000000</td>\n",
       "      <td>0.216744</td>\n",
       "      <td>0.240977</td>\n",
       "      <td>0.0</td>\n",
       "      <td>0.000000</td>\n",
       "      <td>0.0</td>\n",
       "      <td>0.000000</td>\n",
       "      <td>0.000000</td>\n",
       "      <td>0.000000</td>\n",
       "    </tr>\n",
       "    <tr>\n",
       "      <th>2</th>\n",
       "      <td>0.0</td>\n",
       "      <td>0.0</td>\n",
       "      <td>0.000000</td>\n",
       "      <td>0.211275</td>\n",
       "      <td>0.000000</td>\n",
       "      <td>0.0</td>\n",
       "      <td>0.000000</td>\n",
       "      <td>0.0</td>\n",
       "      <td>0.000000</td>\n",
       "      <td>0.000000</td>\n",
       "      <td>...</td>\n",
       "      <td>0.000000</td>\n",
       "      <td>0.202512</td>\n",
       "      <td>0.000000</td>\n",
       "      <td>0.195755</td>\n",
       "      <td>0.0</td>\n",
       "      <td>0.000000</td>\n",
       "      <td>0.0</td>\n",
       "      <td>0.200763</td>\n",
       "      <td>0.201342</td>\n",
       "      <td>0.000000</td>\n",
       "    </tr>\n",
       "    <tr>\n",
       "      <th>3</th>\n",
       "      <td>0.0</td>\n",
       "      <td>0.0</td>\n",
       "      <td>0.000000</td>\n",
       "      <td>0.000000</td>\n",
       "      <td>0.000000</td>\n",
       "      <td>0.0</td>\n",
       "      <td>0.000000</td>\n",
       "      <td>0.0</td>\n",
       "      <td>0.000000</td>\n",
       "      <td>0.167003</td>\n",
       "      <td>...</td>\n",
       "      <td>0.000000</td>\n",
       "      <td>0.000000</td>\n",
       "      <td>0.000000</td>\n",
       "      <td>0.223286</td>\n",
       "      <td>0.0</td>\n",
       "      <td>0.218517</td>\n",
       "      <td>0.0</td>\n",
       "      <td>0.000000</td>\n",
       "      <td>0.000000</td>\n",
       "      <td>0.000000</td>\n",
       "    </tr>\n",
       "    <tr>\n",
       "      <th>4</th>\n",
       "      <td>0.0</td>\n",
       "      <td>0.0</td>\n",
       "      <td>0.162472</td>\n",
       "      <td>0.000000</td>\n",
       "      <td>0.000000</td>\n",
       "      <td>0.0</td>\n",
       "      <td>0.000000</td>\n",
       "      <td>0.0</td>\n",
       "      <td>0.000000</td>\n",
       "      <td>0.000000</td>\n",
       "      <td>...</td>\n",
       "      <td>0.146623</td>\n",
       "      <td>0.000000</td>\n",
       "      <td>0.000000</td>\n",
       "      <td>0.171683</td>\n",
       "      <td>0.0</td>\n",
       "      <td>0.000000</td>\n",
       "      <td>0.0</td>\n",
       "      <td>0.000000</td>\n",
       "      <td>0.000000</td>\n",
       "      <td>0.201084</td>\n",
       "    </tr>\n",
       "    <tr>\n",
       "      <th>...</th>\n",
       "      <td>...</td>\n",
       "      <td>...</td>\n",
       "      <td>...</td>\n",
       "      <td>...</td>\n",
       "      <td>...</td>\n",
       "      <td>...</td>\n",
       "      <td>...</td>\n",
       "      <td>...</td>\n",
       "      <td>...</td>\n",
       "      <td>...</td>\n",
       "      <td>...</td>\n",
       "      <td>...</td>\n",
       "      <td>...</td>\n",
       "      <td>...</td>\n",
       "      <td>...</td>\n",
       "      <td>...</td>\n",
       "      <td>...</td>\n",
       "      <td>...</td>\n",
       "      <td>...</td>\n",
       "      <td>...</td>\n",
       "      <td>...</td>\n",
       "    </tr>\n",
       "    <tr>\n",
       "      <th>721</th>\n",
       "      <td>0.0</td>\n",
       "      <td>0.0</td>\n",
       "      <td>0.000000</td>\n",
       "      <td>0.000000</td>\n",
       "      <td>0.131449</td>\n",
       "      <td>0.0</td>\n",
       "      <td>0.231777</td>\n",
       "      <td>0.0</td>\n",
       "      <td>0.000000</td>\n",
       "      <td>0.000000</td>\n",
       "      <td>...</td>\n",
       "      <td>0.000000</td>\n",
       "      <td>0.217219</td>\n",
       "      <td>0.000000</td>\n",
       "      <td>0.000000</td>\n",
       "      <td>0.0</td>\n",
       "      <td>0.205488</td>\n",
       "      <td>0.0</td>\n",
       "      <td>0.000000</td>\n",
       "      <td>0.000000</td>\n",
       "      <td>0.000000</td>\n",
       "    </tr>\n",
       "    <tr>\n",
       "      <th>722</th>\n",
       "      <td>0.0</td>\n",
       "      <td>0.0</td>\n",
       "      <td>0.000000</td>\n",
       "      <td>0.000000</td>\n",
       "      <td>0.000000</td>\n",
       "      <td>0.0</td>\n",
       "      <td>0.000000</td>\n",
       "      <td>0.0</td>\n",
       "      <td>0.000000</td>\n",
       "      <td>0.000000</td>\n",
       "      <td>...</td>\n",
       "      <td>0.000000</td>\n",
       "      <td>0.000000</td>\n",
       "      <td>0.000000</td>\n",
       "      <td>0.000000</td>\n",
       "      <td>0.0</td>\n",
       "      <td>0.000000</td>\n",
       "      <td>0.0</td>\n",
       "      <td>0.000000</td>\n",
       "      <td>0.252618</td>\n",
       "      <td>0.000000</td>\n",
       "    </tr>\n",
       "    <tr>\n",
       "      <th>723</th>\n",
       "      <td>0.0</td>\n",
       "      <td>0.0</td>\n",
       "      <td>0.000000</td>\n",
       "      <td>0.000000</td>\n",
       "      <td>0.000000</td>\n",
       "      <td>0.0</td>\n",
       "      <td>0.235840</td>\n",
       "      <td>0.0</td>\n",
       "      <td>0.168309</td>\n",
       "      <td>0.000000</td>\n",
       "      <td>...</td>\n",
       "      <td>0.182466</td>\n",
       "      <td>0.000000</td>\n",
       "      <td>0.192168</td>\n",
       "      <td>0.000000</td>\n",
       "      <td>0.0</td>\n",
       "      <td>0.209090</td>\n",
       "      <td>0.0</td>\n",
       "      <td>0.000000</td>\n",
       "      <td>0.219750</td>\n",
       "      <td>0.000000</td>\n",
       "    </tr>\n",
       "    <tr>\n",
       "      <th>724</th>\n",
       "      <td>0.0</td>\n",
       "      <td>0.0</td>\n",
       "      <td>0.000000</td>\n",
       "      <td>0.000000</td>\n",
       "      <td>0.156262</td>\n",
       "      <td>0.0</td>\n",
       "      <td>0.000000</td>\n",
       "      <td>0.0</td>\n",
       "      <td>0.000000</td>\n",
       "      <td>0.000000</td>\n",
       "      <td>...</td>\n",
       "      <td>0.000000</td>\n",
       "      <td>0.000000</td>\n",
       "      <td>0.224507</td>\n",
       "      <td>0.000000</td>\n",
       "      <td>0.0</td>\n",
       "      <td>0.244277</td>\n",
       "      <td>0.0</td>\n",
       "      <td>0.255993</td>\n",
       "      <td>0.000000</td>\n",
       "      <td>0.000000</td>\n",
       "    </tr>\n",
       "    <tr>\n",
       "      <th>725</th>\n",
       "      <td>0.0</td>\n",
       "      <td>0.0</td>\n",
       "      <td>0.000000</td>\n",
       "      <td>0.000000</td>\n",
       "      <td>0.000000</td>\n",
       "      <td>0.0</td>\n",
       "      <td>0.229189</td>\n",
       "      <td>0.0</td>\n",
       "      <td>0.000000</td>\n",
       "      <td>0.000000</td>\n",
       "      <td>...</td>\n",
       "      <td>0.000000</td>\n",
       "      <td>0.000000</td>\n",
       "      <td>0.000000</td>\n",
       "      <td>0.000000</td>\n",
       "      <td>0.0</td>\n",
       "      <td>0.000000</td>\n",
       "      <td>0.0</td>\n",
       "      <td>0.212939</td>\n",
       "      <td>0.000000</td>\n",
       "      <td>0.000000</td>\n",
       "    </tr>\n",
       "  </tbody>\n",
       "</table>\n",
       "<p>726 rows × 140 columns</p>\n",
       "</div>"
      ],
      "text/plain": [
       "     abuse  adolescence  adolescent     adult       age  aim  \\\n",
       "0      0.0          0.0    0.000000  0.000000  0.136011  0.0   \n",
       "1      0.0          0.0    0.000000  0.000000  0.000000  0.0   \n",
       "2      0.0          0.0    0.000000  0.211275  0.000000  0.0   \n",
       "3      0.0          0.0    0.000000  0.000000  0.000000  0.0   \n",
       "4      0.0          0.0    0.162472  0.000000  0.000000  0.0   \n",
       "..     ...          ...         ...       ...       ...  ...   \n",
       "721    0.0          0.0    0.000000  0.000000  0.131449  0.0   \n",
       "722    0.0          0.0    0.000000  0.000000  0.000000  0.0   \n",
       "723    0.0          0.0    0.000000  0.000000  0.000000  0.0   \n",
       "724    0.0          0.0    0.000000  0.000000  0.156262  0.0   \n",
       "725    0.0          0.0    0.000000  0.000000  0.000000  0.0   \n",
       "\n",
       "     alcohol consumption  alcohol use  analysis   anxiety  ...    survey  \\\n",
       "0               0.000000          0.0  0.000000  0.000000  ...  0.000000   \n",
       "1               0.000000          0.0  0.000000  0.000000  ...  0.000000   \n",
       "2               0.000000          0.0  0.000000  0.000000  ...  0.000000   \n",
       "3               0.000000          0.0  0.000000  0.167003  ...  0.000000   \n",
       "4               0.000000          0.0  0.000000  0.000000  ...  0.146623   \n",
       "..                   ...          ...       ...       ...  ...       ...   \n",
       "721             0.231777          0.0  0.000000  0.000000  ...  0.000000   \n",
       "722             0.000000          0.0  0.000000  0.000000  ...  0.000000   \n",
       "723             0.235840          0.0  0.168309  0.000000  ...  0.182466   \n",
       "724             0.000000          0.0  0.000000  0.000000  ...  0.000000   \n",
       "725             0.229189          0.0  0.000000  0.000000  ...  0.000000   \n",
       "\n",
       "         test      time   tobacco  total  treatment  use disorder      year  \\\n",
       "0    0.000000  0.000000  0.217260    0.0   0.000000           0.0  0.222818   \n",
       "1    0.000000  0.216744  0.240977    0.0   0.000000           0.0  0.000000   \n",
       "2    0.202512  0.000000  0.195755    0.0   0.000000           0.0  0.200763   \n",
       "3    0.000000  0.000000  0.223286    0.0   0.218517           0.0  0.000000   \n",
       "4    0.000000  0.000000  0.171683    0.0   0.000000           0.0  0.000000   \n",
       "..        ...       ...       ...    ...        ...           ...       ...   \n",
       "721  0.217219  0.000000  0.000000    0.0   0.205488           0.0  0.000000   \n",
       "722  0.000000  0.000000  0.000000    0.0   0.000000           0.0  0.000000   \n",
       "723  0.000000  0.192168  0.000000    0.0   0.209090           0.0  0.000000   \n",
       "724  0.000000  0.224507  0.000000    0.0   0.244277           0.0  0.255993   \n",
       "725  0.000000  0.000000  0.000000    0.0   0.000000           0.0  0.212939   \n",
       "\n",
       "        young     youth  \n",
       "0    0.000000  0.000000  \n",
       "1    0.000000  0.000000  \n",
       "2    0.201342  0.000000  \n",
       "3    0.000000  0.000000  \n",
       "4    0.000000  0.201084  \n",
       "..        ...       ...  \n",
       "721  0.000000  0.000000  \n",
       "722  0.252618  0.000000  \n",
       "723  0.219750  0.000000  \n",
       "724  0.000000  0.000000  \n",
       "725  0.000000  0.000000  \n",
       "\n",
       "[726 rows x 140 columns]"
      ]
     },
     "execution_count": 21,
     "metadata": {},
     "output_type": "execute_result"
    }
   ],
   "source": [
    "tfidf_df"
   ]
  },
  {
   "cell_type": "markdown",
   "id": "d120133b",
   "metadata": {},
   "source": [
    "### Topic Modeling"
   ]
  },
  {
   "cell_type": "markdown",
   "id": "95c7d4d3",
   "metadata": {},
   "source": [
    "### Baseline Models with 10 Topics"
   ]
  },
  {
   "cell_type": "code",
   "execution_count": 25,
   "id": "f794266d",
   "metadata": {},
   "outputs": [
    {
     "name": "stderr",
     "output_type": "stream",
     "text": [
      "/Users/varshagarla/opt/anaconda3/lib/python3.8/site-packages/ipykernel/ipkernel.py:287: DeprecationWarning: `should_run_async` will not call `transform_cell` automatically in the future. Please pass the result to `transformed_cell` argument and any exception that happen during thetransform in `preprocessing_exc_tuple` in IPython 7.17 and above.\n",
      "  and should_run_async(code)\n"
     ]
    }
   ],
   "source": [
    "#This is how you display what topics fall under which component\n",
    "\n",
    "def display_topics(model, feature_names, no_top_words, topic_names=None):\n",
    "    for ix, topic in enumerate(model.components_):\n",
    "        if not topic_names or not topic_names[ix]:\n",
    "            print(\"\\nTopic \", ix)\n",
    "        else:\n",
    "            print(\"\\nTopic: '\",topic_names[ix],\"'\")\n",
    "        print(\", \".join([feature_names[i]\n",
    "                        for i in topic.argsort()[:-no_top_words - 1:-1]]))"
   ]
  },
  {
   "cell_type": "markdown",
   "id": "858a9217",
   "metadata": {},
   "source": [
    "### 1. Non-negative Matrix Factorization (NMF)"
   ]
  },
  {
   "cell_type": "markdown",
   "id": "2af7767e",
   "metadata": {},
   "source": [
    "#### NMF with CountVectorizer"
   ]
  },
  {
   "cell_type": "code",
   "execution_count": 22,
   "id": "aeb2879e",
   "metadata": {},
   "outputs": [
    {
     "name": "stderr",
     "output_type": "stream",
     "text": [
      "/Users/varshagarla/opt/anaconda3/lib/python3.8/site-packages/ipykernel/ipkernel.py:287: DeprecationWarning: `should_run_async` will not call `transform_cell` automatically in the future. Please pass the result to `transformed_cell` argument and any exception that happen during thetransform in `preprocessing_exc_tuple` in IPython 7.17 and above.\n",
      "  and should_run_async(code)\n",
      "/Users/varshagarla/opt/anaconda3/lib/python3.8/site-packages/sklearn/decomposition/_nmf.py:312: FutureWarning: The 'init' value, when 'init=None' and n_components is less than n_samples and n_features, will be changed from 'nndsvd' to 'nndsvda' in 1.1 (renaming of 0.26).\n",
      "  warnings.warn((\"The 'init' value, when 'init=None' and \"\n",
      "/Users/varshagarla/opt/anaconda3/lib/python3.8/site-packages/sklearn/decomposition/_nmf.py:1090: ConvergenceWarning: Maximum number of iterations 200 reached. Increase it to improve convergence.\n",
      "  warnings.warn(\"Maximum number of iterations %d reached. Increase it to\"\n"
     ]
    }
   ],
   "source": [
    "# 10 topics\n",
    "nmf_model = NMF(10)\n",
    "doc_topic = nmf_model.fit_transform(abstracts_cv)"
   ]
  },
  {
   "cell_type": "code",
   "execution_count": 23,
   "id": "b0cebb5a",
   "metadata": {},
   "outputs": [
    {
     "name": "stderr",
     "output_type": "stream",
     "text": [
      "/Users/varshagarla/opt/anaconda3/lib/python3.8/site-packages/ipykernel/ipkernel.py:287: DeprecationWarning: `should_run_async` will not call `transform_cell` automatically in the future. Please pass the result to `transformed_cell` argument and any exception that happen during thetransform in `preprocessing_exc_tuple` in IPython 7.17 and above.\n",
      "  and should_run_async(code)\n"
     ]
    },
    {
     "data": {
      "text/html": [
       "<div>\n",
       "<style scoped>\n",
       "    .dataframe tbody tr th:only-of-type {\n",
       "        vertical-align: middle;\n",
       "    }\n",
       "\n",
       "    .dataframe tbody tr th {\n",
       "        vertical-align: top;\n",
       "    }\n",
       "\n",
       "    .dataframe thead th {\n",
       "        text-align: right;\n",
       "    }\n",
       "</style>\n",
       "<table border=\"1\" class=\"dataframe\">\n",
       "  <thead>\n",
       "    <tr style=\"text-align: right;\">\n",
       "      <th></th>\n",
       "      <th>abuse</th>\n",
       "      <th>across</th>\n",
       "      <th>adolescence</th>\n",
       "      <th>adolescent</th>\n",
       "      <th>adult</th>\n",
       "      <th>age</th>\n",
       "      <th>aim</th>\n",
       "      <th>alcohol consumption</th>\n",
       "      <th>alcohol use</th>\n",
       "      <th>among</th>\n",
       "      <th>...</th>\n",
       "      <th>total</th>\n",
       "      <th>treatment</th>\n",
       "      <th>two</th>\n",
       "      <th>use disorder</th>\n",
       "      <th>whether</th>\n",
       "      <th>within</th>\n",
       "      <th>without</th>\n",
       "      <th>year</th>\n",
       "      <th>young</th>\n",
       "      <th>youth</th>\n",
       "    </tr>\n",
       "  </thead>\n",
       "  <tbody>\n",
       "    <tr>\n",
       "      <th>component_0</th>\n",
       "      <td>0.000</td>\n",
       "      <td>0.596</td>\n",
       "      <td>0.000</td>\n",
       "      <td>0.000</td>\n",
       "      <td>0.000</td>\n",
       "      <td>0.187</td>\n",
       "      <td>0.420</td>\n",
       "      <td>0.000</td>\n",
       "      <td>2.033</td>\n",
       "      <td>1.736</td>\n",
       "      <td>...</td>\n",
       "      <td>0.291</td>\n",
       "      <td>0.000</td>\n",
       "      <td>0.640</td>\n",
       "      <td>0.000</td>\n",
       "      <td>0.000</td>\n",
       "      <td>0.000</td>\n",
       "      <td>0.085</td>\n",
       "      <td>0.000</td>\n",
       "      <td>0.749</td>\n",
       "      <td>0.372</td>\n",
       "    </tr>\n",
       "    <tr>\n",
       "      <th>component_1</th>\n",
       "      <td>0.198</td>\n",
       "      <td>0.000</td>\n",
       "      <td>0.000</td>\n",
       "      <td>0.038</td>\n",
       "      <td>0.050</td>\n",
       "      <td>0.060</td>\n",
       "      <td>0.113</td>\n",
       "      <td>0.098</td>\n",
       "      <td>0.000</td>\n",
       "      <td>0.165</td>\n",
       "      <td>...</td>\n",
       "      <td>0.027</td>\n",
       "      <td>0.000</td>\n",
       "      <td>0.029</td>\n",
       "      <td>0.000</td>\n",
       "      <td>0.000</td>\n",
       "      <td>0.000</td>\n",
       "      <td>0.000</td>\n",
       "      <td>0.000</td>\n",
       "      <td>0.000</td>\n",
       "      <td>0.000</td>\n",
       "    </tr>\n",
       "    <tr>\n",
       "      <th>component_2</th>\n",
       "      <td>0.229</td>\n",
       "      <td>0.323</td>\n",
       "      <td>0.000</td>\n",
       "      <td>0.000</td>\n",
       "      <td>0.000</td>\n",
       "      <td>0.000</td>\n",
       "      <td>0.000</td>\n",
       "      <td>0.000</td>\n",
       "      <td>0.019</td>\n",
       "      <td>0.000</td>\n",
       "      <td>...</td>\n",
       "      <td>0.000</td>\n",
       "      <td>0.122</td>\n",
       "      <td>0.027</td>\n",
       "      <td>0.000</td>\n",
       "      <td>0.000</td>\n",
       "      <td>0.055</td>\n",
       "      <td>0.000</td>\n",
       "      <td>0.084</td>\n",
       "      <td>0.186</td>\n",
       "      <td>0.043</td>\n",
       "    </tr>\n",
       "    <tr>\n",
       "      <th>component_3</th>\n",
       "      <td>0.103</td>\n",
       "      <td>0.389</td>\n",
       "      <td>0.154</td>\n",
       "      <td>0.669</td>\n",
       "      <td>0.015</td>\n",
       "      <td>0.000</td>\n",
       "      <td>0.000</td>\n",
       "      <td>0.000</td>\n",
       "      <td>0.061</td>\n",
       "      <td>0.136</td>\n",
       "      <td>...</td>\n",
       "      <td>0.000</td>\n",
       "      <td>0.147</td>\n",
       "      <td>0.094</td>\n",
       "      <td>0.075</td>\n",
       "      <td>0.154</td>\n",
       "      <td>0.000</td>\n",
       "      <td>0.000</td>\n",
       "      <td>0.083</td>\n",
       "      <td>0.000</td>\n",
       "      <td>0.486</td>\n",
       "    </tr>\n",
       "    <tr>\n",
       "      <th>component_4</th>\n",
       "      <td>0.548</td>\n",
       "      <td>0.000</td>\n",
       "      <td>0.000</td>\n",
       "      <td>0.000</td>\n",
       "      <td>0.129</td>\n",
       "      <td>0.642</td>\n",
       "      <td>0.032</td>\n",
       "      <td>0.000</td>\n",
       "      <td>0.762</td>\n",
       "      <td>0.326</td>\n",
       "      <td>...</td>\n",
       "      <td>0.000</td>\n",
       "      <td>1.019</td>\n",
       "      <td>0.151</td>\n",
       "      <td>1.230</td>\n",
       "      <td>0.045</td>\n",
       "      <td>0.221</td>\n",
       "      <td>0.486</td>\n",
       "      <td>0.091</td>\n",
       "      <td>0.049</td>\n",
       "      <td>0.000</td>\n",
       "    </tr>\n",
       "    <tr>\n",
       "      <th>component_5</th>\n",
       "      <td>0.193</td>\n",
       "      <td>0.007</td>\n",
       "      <td>0.000</td>\n",
       "      <td>0.000</td>\n",
       "      <td>0.000</td>\n",
       "      <td>0.697</td>\n",
       "      <td>0.241</td>\n",
       "      <td>0.128</td>\n",
       "      <td>0.069</td>\n",
       "      <td>0.500</td>\n",
       "      <td>...</td>\n",
       "      <td>0.134</td>\n",
       "      <td>0.000</td>\n",
       "      <td>0.000</td>\n",
       "      <td>0.000</td>\n",
       "      <td>0.000</td>\n",
       "      <td>0.000</td>\n",
       "      <td>0.078</td>\n",
       "      <td>0.000</td>\n",
       "      <td>0.020</td>\n",
       "      <td>0.000</td>\n",
       "    </tr>\n",
       "    <tr>\n",
       "      <th>component_6</th>\n",
       "      <td>0.193</td>\n",
       "      <td>0.000</td>\n",
       "      <td>0.000</td>\n",
       "      <td>0.018</td>\n",
       "      <td>0.347</td>\n",
       "      <td>0.161</td>\n",
       "      <td>0.282</td>\n",
       "      <td>0.000</td>\n",
       "      <td>0.023</td>\n",
       "      <td>0.000</td>\n",
       "      <td>...</td>\n",
       "      <td>0.751</td>\n",
       "      <td>0.347</td>\n",
       "      <td>0.388</td>\n",
       "      <td>0.000</td>\n",
       "      <td>0.238</td>\n",
       "      <td>0.137</td>\n",
       "      <td>0.335</td>\n",
       "      <td>0.154</td>\n",
       "      <td>0.059</td>\n",
       "      <td>0.000</td>\n",
       "    </tr>\n",
       "    <tr>\n",
       "      <th>component_7</th>\n",
       "      <td>0.000</td>\n",
       "      <td>0.000</td>\n",
       "      <td>0.000</td>\n",
       "      <td>0.119</td>\n",
       "      <td>0.000</td>\n",
       "      <td>0.000</td>\n",
       "      <td>0.027</td>\n",
       "      <td>1.322</td>\n",
       "      <td>0.319</td>\n",
       "      <td>0.359</td>\n",
       "      <td>...</td>\n",
       "      <td>0.000</td>\n",
       "      <td>0.085</td>\n",
       "      <td>0.110</td>\n",
       "      <td>0.000</td>\n",
       "      <td>0.506</td>\n",
       "      <td>0.261</td>\n",
       "      <td>0.046</td>\n",
       "      <td>0.226</td>\n",
       "      <td>0.000</td>\n",
       "      <td>0.000</td>\n",
       "    </tr>\n",
       "    <tr>\n",
       "      <th>component_8</th>\n",
       "      <td>0.225</td>\n",
       "      <td>0.306</td>\n",
       "      <td>1.010</td>\n",
       "      <td>1.275</td>\n",
       "      <td>0.463</td>\n",
       "      <td>2.694</td>\n",
       "      <td>0.000</td>\n",
       "      <td>0.000</td>\n",
       "      <td>0.422</td>\n",
       "      <td>0.000</td>\n",
       "      <td>...</td>\n",
       "      <td>0.000</td>\n",
       "      <td>0.000</td>\n",
       "      <td>0.315</td>\n",
       "      <td>0.000</td>\n",
       "      <td>0.712</td>\n",
       "      <td>0.320</td>\n",
       "      <td>0.000</td>\n",
       "      <td>0.239</td>\n",
       "      <td>0.545</td>\n",
       "      <td>0.381</td>\n",
       "    </tr>\n",
       "    <tr>\n",
       "      <th>component_9</th>\n",
       "      <td>0.000</td>\n",
       "      <td>0.005</td>\n",
       "      <td>0.000</td>\n",
       "      <td>0.000</td>\n",
       "      <td>0.469</td>\n",
       "      <td>0.554</td>\n",
       "      <td>0.000</td>\n",
       "      <td>0.000</td>\n",
       "      <td>0.000</td>\n",
       "      <td>1.522</td>\n",
       "      <td>...</td>\n",
       "      <td>0.296</td>\n",
       "      <td>0.127</td>\n",
       "      <td>0.000</td>\n",
       "      <td>0.000</td>\n",
       "      <td>0.000</td>\n",
       "      <td>0.000</td>\n",
       "      <td>0.076</td>\n",
       "      <td>0.787</td>\n",
       "      <td>0.000</td>\n",
       "      <td>0.000</td>\n",
       "    </tr>\n",
       "  </tbody>\n",
       "</table>\n",
       "<p>10 rows × 151 columns</p>\n",
       "</div>"
      ],
      "text/plain": [
       "             abuse  across  adolescence  adolescent  adult    age    aim  \\\n",
       "component_0  0.000   0.596        0.000       0.000  0.000  0.187  0.420   \n",
       "component_1  0.198   0.000        0.000       0.038  0.050  0.060  0.113   \n",
       "component_2  0.229   0.323        0.000       0.000  0.000  0.000  0.000   \n",
       "component_3  0.103   0.389        0.154       0.669  0.015  0.000  0.000   \n",
       "component_4  0.548   0.000        0.000       0.000  0.129  0.642  0.032   \n",
       "component_5  0.193   0.007        0.000       0.000  0.000  0.697  0.241   \n",
       "component_6  0.193   0.000        0.000       0.018  0.347  0.161  0.282   \n",
       "component_7  0.000   0.000        0.000       0.119  0.000  0.000  0.027   \n",
       "component_8  0.225   0.306        1.010       1.275  0.463  2.694  0.000   \n",
       "component_9  0.000   0.005        0.000       0.000  0.469  0.554  0.000   \n",
       "\n",
       "             alcohol consumption  alcohol use  among  ...  total  treatment  \\\n",
       "component_0                0.000        2.033  1.736  ...  0.291      0.000   \n",
       "component_1                0.098        0.000  0.165  ...  0.027      0.000   \n",
       "component_2                0.000        0.019  0.000  ...  0.000      0.122   \n",
       "component_3                0.000        0.061  0.136  ...  0.000      0.147   \n",
       "component_4                0.000        0.762  0.326  ...  0.000      1.019   \n",
       "component_5                0.128        0.069  0.500  ...  0.134      0.000   \n",
       "component_6                0.000        0.023  0.000  ...  0.751      0.347   \n",
       "component_7                1.322        0.319  0.359  ...  0.000      0.085   \n",
       "component_8                0.000        0.422  0.000  ...  0.000      0.000   \n",
       "component_9                0.000        0.000  1.522  ...  0.296      0.127   \n",
       "\n",
       "               two  use disorder  whether  within  without   year  young  \\\n",
       "component_0  0.640         0.000    0.000   0.000    0.085  0.000  0.749   \n",
       "component_1  0.029         0.000    0.000   0.000    0.000  0.000  0.000   \n",
       "component_2  0.027         0.000    0.000   0.055    0.000  0.084  0.186   \n",
       "component_3  0.094         0.075    0.154   0.000    0.000  0.083  0.000   \n",
       "component_4  0.151         1.230    0.045   0.221    0.486  0.091  0.049   \n",
       "component_5  0.000         0.000    0.000   0.000    0.078  0.000  0.020   \n",
       "component_6  0.388         0.000    0.238   0.137    0.335  0.154  0.059   \n",
       "component_7  0.110         0.000    0.506   0.261    0.046  0.226  0.000   \n",
       "component_8  0.315         0.000    0.712   0.320    0.000  0.239  0.545   \n",
       "component_9  0.000         0.000    0.000   0.000    0.076  0.787  0.000   \n",
       "\n",
       "             youth  \n",
       "component_0  0.372  \n",
       "component_1  0.000  \n",
       "component_2  0.043  \n",
       "component_3  0.486  \n",
       "component_4  0.000  \n",
       "component_5  0.000  \n",
       "component_6  0.000  \n",
       "component_7  0.000  \n",
       "component_8  0.381  \n",
       "component_9  0.000  \n",
       "\n",
       "[10 rows x 151 columns]"
      ]
     },
     "execution_count": 23,
     "metadata": {},
     "output_type": "execute_result"
    }
   ],
   "source": [
    "topic_word = pd.DataFrame(nmf_model.components_.round(3),\n",
    "             index = [\"component_0\",\"component_1\",\"component_2\",\"component_3\",\"component_4\",\n",
    "                     \"component_5\",\"component_6\",\"component_7\",\"component_8\",\"component_9\"],\n",
    "             columns = cv.get_feature_names())\n",
    "topic_word"
   ]
  },
  {
   "cell_type": "code",
   "execution_count": 27,
   "id": "9dbdfca4",
   "metadata": {},
   "outputs": [
    {
     "name": "stdout",
     "output_type": "stream",
     "text": [
      "\n",
      "Topic  0\n",
      "high, low, risk, alcohol use, among, depression, sample, associate, young, group\n",
      "\n",
      "Topic  1\n",
      "regression, logistic, logistic regression, associate, association, analysis, odds, significant, depression, examine\n",
      "\n",
      "Topic  2\n",
      "mental, mental health, health, care, base, need, depression, one, physical, population\n",
      "\n",
      "Topic  3\n",
      "substance, substance use, drug, drug use, adolescent, sample, effect, youth, school, risk\n",
      "\n",
      "Topic  4\n",
      "disorder, depressive, major, use disorder, psychiatric, treatment, clinical, prevalence, diagnosis, alcohol use\n",
      "\n",
      "Topic  5\n",
      "cross, sectional, cross sectional, associate, age, depression, self, prevalence, among, questionnaire\n",
      "\n",
      "Topic  6\n",
      "anxiety, depression anxiety, depression, stress, include, total, assess, self, scale, disorder\n",
      "\n",
      "Topic  7\n",
      "effect, consumption, drink, alcohol consumption, drinking, depressive, relate, negative, depression, current\n",
      "\n",
      "Topic  8\n",
      "age, data, time, risk, longitudinal, adolescent, early, cohort, self, adolescence\n",
      "\n",
      "Topic  9\n",
      "survey, national, data, among, health, past, drug, tobacco, drug use, prevalence\n"
     ]
    },
    {
     "name": "stderr",
     "output_type": "stream",
     "text": [
      "/Users/varshagarla/opt/anaconda3/lib/python3.8/site-packages/ipykernel/ipkernel.py:287: DeprecationWarning: `should_run_async` will not call `transform_cell` automatically in the future. Please pass the result to `transformed_cell` argument and any exception that happen during thetransform in `preprocessing_exc_tuple` in IPython 7.17 and above.\n",
      "  and should_run_async(code)\n"
     ]
    }
   ],
   "source": [
    "display_topics(nmf_model, cv.get_feature_names(), 10)"
   ]
  },
  {
   "cell_type": "markdown",
   "id": "63690725",
   "metadata": {},
   "source": [
    "#### NMF with TF-IDF"
   ]
  },
  {
   "cell_type": "code",
   "execution_count": 28,
   "id": "71a66de1",
   "metadata": {},
   "outputs": [
    {
     "name": "stderr",
     "output_type": "stream",
     "text": [
      "/Users/varshagarla/opt/anaconda3/lib/python3.8/site-packages/ipykernel/ipkernel.py:287: DeprecationWarning: `should_run_async` will not call `transform_cell` automatically in the future. Please pass the result to `transformed_cell` argument and any exception that happen during thetransform in `preprocessing_exc_tuple` in IPython 7.17 and above.\n",
      "  and should_run_async(code)\n",
      "/Users/varshagarla/opt/anaconda3/lib/python3.8/site-packages/sklearn/decomposition/_nmf.py:312: FutureWarning: The 'init' value, when 'init=None' and n_components is less than n_samples and n_features, will be changed from 'nndsvd' to 'nndsvda' in 1.1 (renaming of 0.26).\n",
      "  warnings.warn((\"The 'init' value, when 'init=None' and \"\n"
     ]
    }
   ],
   "source": [
    "# 10 topics\n",
    "nmf_model = NMF(10)\n",
    "doc_topic = nmf_model.fit_transform(abstracts_tfidf)"
   ]
  },
  {
   "cell_type": "code",
   "execution_count": 30,
   "id": "4ae110af",
   "metadata": {},
   "outputs": [
    {
     "name": "stderr",
     "output_type": "stream",
     "text": [
      "/Users/varshagarla/opt/anaconda3/lib/python3.8/site-packages/ipykernel/ipkernel.py:287: DeprecationWarning: `should_run_async` will not call `transform_cell` automatically in the future. Please pass the result to `transformed_cell` argument and any exception that happen during thetransform in `preprocessing_exc_tuple` in IPython 7.17 and above.\n",
      "  and should_run_async(code)\n"
     ]
    },
    {
     "data": {
      "text/html": [
       "<div>\n",
       "<style scoped>\n",
       "    .dataframe tbody tr th:only-of-type {\n",
       "        vertical-align: middle;\n",
       "    }\n",
       "\n",
       "    .dataframe tbody tr th {\n",
       "        vertical-align: top;\n",
       "    }\n",
       "\n",
       "    .dataframe thead th {\n",
       "        text-align: right;\n",
       "    }\n",
       "</style>\n",
       "<table border=\"1\" class=\"dataframe\">\n",
       "  <thead>\n",
       "    <tr style=\"text-align: right;\">\n",
       "      <th></th>\n",
       "      <th>abuse</th>\n",
       "      <th>adolescence</th>\n",
       "      <th>adolescent</th>\n",
       "      <th>adult</th>\n",
       "      <th>age</th>\n",
       "      <th>aim</th>\n",
       "      <th>alcohol consumption</th>\n",
       "      <th>alcohol use</th>\n",
       "      <th>analysis</th>\n",
       "      <th>anxiety</th>\n",
       "      <th>...</th>\n",
       "      <th>survey</th>\n",
       "      <th>test</th>\n",
       "      <th>time</th>\n",
       "      <th>tobacco</th>\n",
       "      <th>total</th>\n",
       "      <th>treatment</th>\n",
       "      <th>use disorder</th>\n",
       "      <th>year</th>\n",
       "      <th>young</th>\n",
       "      <th>youth</th>\n",
       "    </tr>\n",
       "  </thead>\n",
       "  <tbody>\n",
       "    <tr>\n",
       "      <th>component_0</th>\n",
       "      <td>0.098</td>\n",
       "      <td>0.000</td>\n",
       "      <td>0.000</td>\n",
       "      <td>0.093</td>\n",
       "      <td>0.281</td>\n",
       "      <td>0.240</td>\n",
       "      <td>0.000</td>\n",
       "      <td>0.296</td>\n",
       "      <td>0.290</td>\n",
       "      <td>1.027</td>\n",
       "      <td>...</td>\n",
       "      <td>0.000</td>\n",
       "      <td>0.433</td>\n",
       "      <td>0.000</td>\n",
       "      <td>0.000</td>\n",
       "      <td>0.624</td>\n",
       "      <td>0.000</td>\n",
       "      <td>0.000</td>\n",
       "      <td>0.076</td>\n",
       "      <td>0.234</td>\n",
       "      <td>0.000</td>\n",
       "    </tr>\n",
       "    <tr>\n",
       "      <th>component_1</th>\n",
       "      <td>0.000</td>\n",
       "      <td>0.000</td>\n",
       "      <td>0.000</td>\n",
       "      <td>0.058</td>\n",
       "      <td>0.137</td>\n",
       "      <td>0.000</td>\n",
       "      <td>0.645</td>\n",
       "      <td>0.165</td>\n",
       "      <td>0.063</td>\n",
       "      <td>0.000</td>\n",
       "      <td>...</td>\n",
       "      <td>0.037</td>\n",
       "      <td>0.171</td>\n",
       "      <td>0.025</td>\n",
       "      <td>0.000</td>\n",
       "      <td>0.000</td>\n",
       "      <td>0.000</td>\n",
       "      <td>0.000</td>\n",
       "      <td>0.074</td>\n",
       "      <td>0.071</td>\n",
       "      <td>0.000</td>\n",
       "    </tr>\n",
       "    <tr>\n",
       "      <th>component_2</th>\n",
       "      <td>0.059</td>\n",
       "      <td>0.000</td>\n",
       "      <td>0.014</td>\n",
       "      <td>0.092</td>\n",
       "      <td>0.104</td>\n",
       "      <td>0.101</td>\n",
       "      <td>0.056</td>\n",
       "      <td>0.000</td>\n",
       "      <td>0.326</td>\n",
       "      <td>0.000</td>\n",
       "      <td>...</td>\n",
       "      <td>0.114</td>\n",
       "      <td>0.000</td>\n",
       "      <td>0.033</td>\n",
       "      <td>0.223</td>\n",
       "      <td>0.027</td>\n",
       "      <td>0.000</td>\n",
       "      <td>0.000</td>\n",
       "      <td>0.034</td>\n",
       "      <td>0.000</td>\n",
       "      <td>0.000</td>\n",
       "    </tr>\n",
       "    <tr>\n",
       "      <th>component_3</th>\n",
       "      <td>0.026</td>\n",
       "      <td>0.000</td>\n",
       "      <td>0.052</td>\n",
       "      <td>0.000</td>\n",
       "      <td>0.042</td>\n",
       "      <td>0.000</td>\n",
       "      <td>0.000</td>\n",
       "      <td>0.019</td>\n",
       "      <td>0.051</td>\n",
       "      <td>0.082</td>\n",
       "      <td>...</td>\n",
       "      <td>0.000</td>\n",
       "      <td>0.000</td>\n",
       "      <td>0.000</td>\n",
       "      <td>0.114</td>\n",
       "      <td>0.000</td>\n",
       "      <td>0.096</td>\n",
       "      <td>0.078</td>\n",
       "      <td>0.000</td>\n",
       "      <td>0.000</td>\n",
       "      <td>0.077</td>\n",
       "    </tr>\n",
       "    <tr>\n",
       "      <th>component_4</th>\n",
       "      <td>0.089</td>\n",
       "      <td>0.000</td>\n",
       "      <td>0.000</td>\n",
       "      <td>0.000</td>\n",
       "      <td>0.136</td>\n",
       "      <td>0.103</td>\n",
       "      <td>0.000</td>\n",
       "      <td>0.054</td>\n",
       "      <td>0.112</td>\n",
       "      <td>0.000</td>\n",
       "      <td>...</td>\n",
       "      <td>0.080</td>\n",
       "      <td>0.020</td>\n",
       "      <td>0.135</td>\n",
       "      <td>0.000</td>\n",
       "      <td>0.060</td>\n",
       "      <td>0.000</td>\n",
       "      <td>0.000</td>\n",
       "      <td>0.000</td>\n",
       "      <td>0.000</td>\n",
       "      <td>0.000</td>\n",
       "    </tr>\n",
       "    <tr>\n",
       "      <th>component_5</th>\n",
       "      <td>0.272</td>\n",
       "      <td>0.000</td>\n",
       "      <td>0.000</td>\n",
       "      <td>0.132</td>\n",
       "      <td>0.194</td>\n",
       "      <td>0.037</td>\n",
       "      <td>0.000</td>\n",
       "      <td>0.241</td>\n",
       "      <td>0.000</td>\n",
       "      <td>0.109</td>\n",
       "      <td>...</td>\n",
       "      <td>0.187</td>\n",
       "      <td>0.135</td>\n",
       "      <td>0.023</td>\n",
       "      <td>0.000</td>\n",
       "      <td>0.068</td>\n",
       "      <td>0.164</td>\n",
       "      <td>0.532</td>\n",
       "      <td>0.055</td>\n",
       "      <td>0.031</td>\n",
       "      <td>0.000</td>\n",
       "    </tr>\n",
       "    <tr>\n",
       "      <th>component_6</th>\n",
       "      <td>0.207</td>\n",
       "      <td>0.000</td>\n",
       "      <td>0.000</td>\n",
       "      <td>0.015</td>\n",
       "      <td>0.024</td>\n",
       "      <td>0.000</td>\n",
       "      <td>0.000</td>\n",
       "      <td>0.000</td>\n",
       "      <td>0.000</td>\n",
       "      <td>0.124</td>\n",
       "      <td>...</td>\n",
       "      <td>0.286</td>\n",
       "      <td>0.000</td>\n",
       "      <td>0.000</td>\n",
       "      <td>0.000</td>\n",
       "      <td>0.000</td>\n",
       "      <td>0.000</td>\n",
       "      <td>0.000</td>\n",
       "      <td>0.053</td>\n",
       "      <td>0.169</td>\n",
       "      <td>0.077</td>\n",
       "    </tr>\n",
       "    <tr>\n",
       "      <th>component_7</th>\n",
       "      <td>0.030</td>\n",
       "      <td>0.594</td>\n",
       "      <td>0.664</td>\n",
       "      <td>0.132</td>\n",
       "      <td>0.316</td>\n",
       "      <td>0.000</td>\n",
       "      <td>0.000</td>\n",
       "      <td>0.271</td>\n",
       "      <td>0.166</td>\n",
       "      <td>0.000</td>\n",
       "      <td>...</td>\n",
       "      <td>0.000</td>\n",
       "      <td>0.069</td>\n",
       "      <td>0.513</td>\n",
       "      <td>0.104</td>\n",
       "      <td>0.000</td>\n",
       "      <td>0.000</td>\n",
       "      <td>0.000</td>\n",
       "      <td>0.098</td>\n",
       "      <td>0.126</td>\n",
       "      <td>0.389</td>\n",
       "    </tr>\n",
       "    <tr>\n",
       "      <th>component_8</th>\n",
       "      <td>0.000</td>\n",
       "      <td>0.000</td>\n",
       "      <td>0.094</td>\n",
       "      <td>0.179</td>\n",
       "      <td>0.135</td>\n",
       "      <td>0.000</td>\n",
       "      <td>0.000</td>\n",
       "      <td>0.047</td>\n",
       "      <td>0.066</td>\n",
       "      <td>0.056</td>\n",
       "      <td>...</td>\n",
       "      <td>0.417</td>\n",
       "      <td>0.000</td>\n",
       "      <td>0.000</td>\n",
       "      <td>0.224</td>\n",
       "      <td>0.033</td>\n",
       "      <td>0.000</td>\n",
       "      <td>0.000</td>\n",
       "      <td>0.400</td>\n",
       "      <td>0.168</td>\n",
       "      <td>0.081</td>\n",
       "    </tr>\n",
       "    <tr>\n",
       "      <th>component_9</th>\n",
       "      <td>0.000</td>\n",
       "      <td>0.000</td>\n",
       "      <td>0.000</td>\n",
       "      <td>0.000</td>\n",
       "      <td>0.000</td>\n",
       "      <td>0.143</td>\n",
       "      <td>0.000</td>\n",
       "      <td>0.164</td>\n",
       "      <td>0.101</td>\n",
       "      <td>0.000</td>\n",
       "      <td>...</td>\n",
       "      <td>0.000</td>\n",
       "      <td>0.000</td>\n",
       "      <td>0.198</td>\n",
       "      <td>0.202</td>\n",
       "      <td>0.010</td>\n",
       "      <td>0.786</td>\n",
       "      <td>0.070</td>\n",
       "      <td>0.015</td>\n",
       "      <td>0.000</td>\n",
       "      <td>0.000</td>\n",
       "    </tr>\n",
       "  </tbody>\n",
       "</table>\n",
       "<p>10 rows × 140 columns</p>\n",
       "</div>"
      ],
      "text/plain": [
       "             abuse  adolescence  adolescent  adult    age    aim  \\\n",
       "component_0  0.098        0.000       0.000  0.093  0.281  0.240   \n",
       "component_1  0.000        0.000       0.000  0.058  0.137  0.000   \n",
       "component_2  0.059        0.000       0.014  0.092  0.104  0.101   \n",
       "component_3  0.026        0.000       0.052  0.000  0.042  0.000   \n",
       "component_4  0.089        0.000       0.000  0.000  0.136  0.103   \n",
       "component_5  0.272        0.000       0.000  0.132  0.194  0.037   \n",
       "component_6  0.207        0.000       0.000  0.015  0.024  0.000   \n",
       "component_7  0.030        0.594       0.664  0.132  0.316  0.000   \n",
       "component_8  0.000        0.000       0.094  0.179  0.135  0.000   \n",
       "component_9  0.000        0.000       0.000  0.000  0.000  0.143   \n",
       "\n",
       "             alcohol consumption  alcohol use  analysis  anxiety  ...  survey  \\\n",
       "component_0                0.000        0.296     0.290    1.027  ...   0.000   \n",
       "component_1                0.645        0.165     0.063    0.000  ...   0.037   \n",
       "component_2                0.056        0.000     0.326    0.000  ...   0.114   \n",
       "component_3                0.000        0.019     0.051    0.082  ...   0.000   \n",
       "component_4                0.000        0.054     0.112    0.000  ...   0.080   \n",
       "component_5                0.000        0.241     0.000    0.109  ...   0.187   \n",
       "component_6                0.000        0.000     0.000    0.124  ...   0.286   \n",
       "component_7                0.000        0.271     0.166    0.000  ...   0.000   \n",
       "component_8                0.000        0.047     0.066    0.056  ...   0.417   \n",
       "component_9                0.000        0.164     0.101    0.000  ...   0.000   \n",
       "\n",
       "              test   time  tobacco  total  treatment  use disorder   year  \\\n",
       "component_0  0.433  0.000    0.000  0.624      0.000         0.000  0.076   \n",
       "component_1  0.171  0.025    0.000  0.000      0.000         0.000  0.074   \n",
       "component_2  0.000  0.033    0.223  0.027      0.000         0.000  0.034   \n",
       "component_3  0.000  0.000    0.114  0.000      0.096         0.078  0.000   \n",
       "component_4  0.020  0.135    0.000  0.060      0.000         0.000  0.000   \n",
       "component_5  0.135  0.023    0.000  0.068      0.164         0.532  0.055   \n",
       "component_6  0.000  0.000    0.000  0.000      0.000         0.000  0.053   \n",
       "component_7  0.069  0.513    0.104  0.000      0.000         0.000  0.098   \n",
       "component_8  0.000  0.000    0.224  0.033      0.000         0.000  0.400   \n",
       "component_9  0.000  0.198    0.202  0.010      0.786         0.070  0.015   \n",
       "\n",
       "             young  youth  \n",
       "component_0  0.234  0.000  \n",
       "component_1  0.071  0.000  \n",
       "component_2  0.000  0.000  \n",
       "component_3  0.000  0.077  \n",
       "component_4  0.000  0.000  \n",
       "component_5  0.031  0.000  \n",
       "component_6  0.169  0.077  \n",
       "component_7  0.126  0.389  \n",
       "component_8  0.168  0.081  \n",
       "component_9  0.000  0.000  \n",
       "\n",
       "[10 rows x 140 columns]"
      ]
     },
     "execution_count": 30,
     "metadata": {},
     "output_type": "execute_result"
    }
   ],
   "source": [
    "topic_word = pd.DataFrame(nmf_model.components_.round(3),\n",
    "             index = [\"component_0\",\"component_1\",\"component_2\",\"component_3\",\"component_4\",\n",
    "                     \"component_5\",\"component_6\",\"component_7\",\"component_8\",\"component_9\"],\n",
    "             columns = tfidf.get_feature_names())\n",
    "topic_word"
   ]
  },
  {
   "cell_type": "code",
   "execution_count": 31,
   "id": "c033cba9",
   "metadata": {},
   "outputs": [
    {
     "name": "stdout",
     "output_type": "stream",
     "text": [
      "\n",
      "Topic  0\n",
      "anxiety, depression anxiety, scale, total, assess, self, depression, stress, test, mean\n",
      "\n",
      "Topic  1\n",
      "drink, consumption, alcohol consumption, drinking, negative, effect, positive, relate, day, current\n",
      "\n",
      "Topic  2\n",
      "logistic, logistic regression, regression, odds, association, analysis, multiple, significant, examine, associate\n",
      "\n",
      "Topic  3\n",
      "substance use, substance, sample, collect, present, effect, associate, current, significant, great\n",
      "\n",
      "Topic  4\n",
      "cross sectional, sectional, cross, prevalence, questionnaire, social, associate, family, self, range\n",
      "\n",
      "Topic  5\n",
      "disorder, major, psychiatric, use disorder, depressive, interview, population, diagnosis, prevalence, lifetime\n",
      "\n",
      "Topic  6\n",
      "mental health, mental, health, physical, need, population, psychological, survey, base, important\n",
      "\n",
      "Topic  7\n",
      "adolescent, longitudinal, adolescence, early, time, youth, risk, family, cohort, age\n",
      "\n",
      "Topic  8\n",
      "drug, drug use, past, survey, year, national, prevention, likely, public, health\n",
      "\n",
      "Topic  9\n",
      "primary, treatment, care, clinical, follow, provide, group, diagnosis, include, evidence\n"
     ]
    },
    {
     "name": "stderr",
     "output_type": "stream",
     "text": [
      "/Users/varshagarla/opt/anaconda3/lib/python3.8/site-packages/ipykernel/ipkernel.py:287: DeprecationWarning: `should_run_async` will not call `transform_cell` automatically in the future. Please pass the result to `transformed_cell` argument and any exception that happen during thetransform in `preprocessing_exc_tuple` in IPython 7.17 and above.\n",
      "  and should_run_async(code)\n"
     ]
    }
   ],
   "source": [
    "display_topics(nmf_model, tfidf.get_feature_names(), 10)"
   ]
  },
  {
   "cell_type": "markdown",
   "id": "d889612a",
   "metadata": {},
   "source": [
    "Since we can see that in some topics, e.g. 2, 3, and 8, there is overlap in the top two terms (unigram and bigram share word), we may consider only using bigrams later."
   ]
  },
  {
   "cell_type": "markdown",
   "id": "3ea43583",
   "metadata": {},
   "source": [
    "### 2. Latent Semantic Analysis (LSA)"
   ]
  },
  {
   "cell_type": "markdown",
   "id": "880f5100",
   "metadata": {},
   "source": [
    "#### LSA with CountVec"
   ]
  },
  {
   "cell_type": "code",
   "execution_count": 32,
   "id": "5da0db8b",
   "metadata": {},
   "outputs": [
    {
     "name": "stderr",
     "output_type": "stream",
     "text": [
      "/Users/varshagarla/opt/anaconda3/lib/python3.8/site-packages/ipykernel/ipkernel.py:287: DeprecationWarning: `should_run_async` will not call `transform_cell` automatically in the future. Please pass the result to `transformed_cell` argument and any exception that happen during thetransform in `preprocessing_exc_tuple` in IPython 7.17 and above.\n",
      "  and should_run_async(code)\n"
     ]
    },
    {
     "data": {
      "text/plain": [
       "array([0.02313179, 0.02972309, 0.02930098, 0.02546581, 0.0245294 ,\n",
       "       0.02226867, 0.01966081, 0.01698266, 0.0164973 , 0.01573698])"
      ]
     },
     "execution_count": 32,
     "metadata": {},
     "output_type": "execute_result"
    }
   ],
   "source": [
    "lsa_model = TruncatedSVD(10)\n",
    "\n",
    "doc_topic = lsa_model.fit_transform(abstracts_cv)  #fit onto vectorized data\n",
    "\n",
    "lsa_model.explained_variance_ratio_"
   ]
  },
  {
   "cell_type": "code",
   "execution_count": 34,
   "id": "32eede7e",
   "metadata": {},
   "outputs": [
    {
     "name": "stderr",
     "output_type": "stream",
     "text": [
      "/Users/varshagarla/opt/anaconda3/lib/python3.8/site-packages/ipykernel/ipkernel.py:287: DeprecationWarning: `should_run_async` will not call `transform_cell` automatically in the future. Please pass the result to `transformed_cell` argument and any exception that happen during thetransform in `preprocessing_exc_tuple` in IPython 7.17 and above.\n",
      "  and should_run_async(code)\n"
     ]
    },
    {
     "data": {
      "text/html": [
       "<div>\n",
       "<style scoped>\n",
       "    .dataframe tbody tr th:only-of-type {\n",
       "        vertical-align: middle;\n",
       "    }\n",
       "\n",
       "    .dataframe tbody tr th {\n",
       "        vertical-align: top;\n",
       "    }\n",
       "\n",
       "    .dataframe thead th {\n",
       "        text-align: right;\n",
       "    }\n",
       "</style>\n",
       "<table border=\"1\" class=\"dataframe\">\n",
       "  <thead>\n",
       "    <tr style=\"text-align: right;\">\n",
       "      <th></th>\n",
       "      <th>abuse</th>\n",
       "      <th>across</th>\n",
       "      <th>adolescence</th>\n",
       "      <th>adolescent</th>\n",
       "      <th>adult</th>\n",
       "      <th>age</th>\n",
       "      <th>aim</th>\n",
       "      <th>alcohol consumption</th>\n",
       "      <th>alcohol use</th>\n",
       "      <th>among</th>\n",
       "      <th>...</th>\n",
       "      <th>total</th>\n",
       "      <th>treatment</th>\n",
       "      <th>two</th>\n",
       "      <th>use disorder</th>\n",
       "      <th>whether</th>\n",
       "      <th>within</th>\n",
       "      <th>without</th>\n",
       "      <th>year</th>\n",
       "      <th>young</th>\n",
       "      <th>youth</th>\n",
       "    </tr>\n",
       "  </thead>\n",
       "  <tbody>\n",
       "    <tr>\n",
       "      <th>component_0</th>\n",
       "      <td>0.063</td>\n",
       "      <td>0.062</td>\n",
       "      <td>0.036</td>\n",
       "      <td>0.075</td>\n",
       "      <td>0.055</td>\n",
       "      <td>0.192</td>\n",
       "      <td>0.039</td>\n",
       "      <td>0.050</td>\n",
       "      <td>0.144</td>\n",
       "      <td>0.180</td>\n",
       "      <td>...</td>\n",
       "      <td>0.054</td>\n",
       "      <td>0.069</td>\n",
       "      <td>0.066</td>\n",
       "      <td>0.045</td>\n",
       "      <td>0.061</td>\n",
       "      <td>0.038</td>\n",
       "      <td>0.040</td>\n",
       "      <td>0.065</td>\n",
       "      <td>0.063</td>\n",
       "      <td>0.043</td>\n",
       "    </tr>\n",
       "    <tr>\n",
       "      <th>component_1</th>\n",
       "      <td>-0.006</td>\n",
       "      <td>-0.074</td>\n",
       "      <td>-0.072</td>\n",
       "      <td>-0.065</td>\n",
       "      <td>-0.026</td>\n",
       "      <td>0.008</td>\n",
       "      <td>0.022</td>\n",
       "      <td>0.063</td>\n",
       "      <td>-0.128</td>\n",
       "      <td>0.095</td>\n",
       "      <td>...</td>\n",
       "      <td>0.003</td>\n",
       "      <td>-0.088</td>\n",
       "      <td>-0.072</td>\n",
       "      <td>-0.056</td>\n",
       "      <td>-0.050</td>\n",
       "      <td>-0.040</td>\n",
       "      <td>-0.003</td>\n",
       "      <td>-0.031</td>\n",
       "      <td>-0.064</td>\n",
       "      <td>-0.058</td>\n",
       "    </tr>\n",
       "    <tr>\n",
       "      <th>component_2</th>\n",
       "      <td>0.078</td>\n",
       "      <td>-0.017</td>\n",
       "      <td>-0.107</td>\n",
       "      <td>-0.115</td>\n",
       "      <td>-0.001</td>\n",
       "      <td>-0.124</td>\n",
       "      <td>-0.011</td>\n",
       "      <td>-0.130</td>\n",
       "      <td>-0.101</td>\n",
       "      <td>-0.002</td>\n",
       "      <td>...</td>\n",
       "      <td>-0.007</td>\n",
       "      <td>0.099</td>\n",
       "      <td>-0.048</td>\n",
       "      <td>0.079</td>\n",
       "      <td>-0.103</td>\n",
       "      <td>-0.031</td>\n",
       "      <td>0.011</td>\n",
       "      <td>0.012</td>\n",
       "      <td>-0.042</td>\n",
       "      <td>-0.055</td>\n",
       "    </tr>\n",
       "    <tr>\n",
       "      <th>component_3</th>\n",
       "      <td>0.001</td>\n",
       "      <td>0.055</td>\n",
       "      <td>0.088</td>\n",
       "      <td>0.196</td>\n",
       "      <td>0.045</td>\n",
       "      <td>-0.018</td>\n",
       "      <td>-0.052</td>\n",
       "      <td>-0.073</td>\n",
       "      <td>-0.135</td>\n",
       "      <td>-0.023</td>\n",
       "      <td>...</td>\n",
       "      <td>-0.067</td>\n",
       "      <td>-0.113</td>\n",
       "      <td>-0.020</td>\n",
       "      <td>-0.086</td>\n",
       "      <td>0.028</td>\n",
       "      <td>-0.016</td>\n",
       "      <td>-0.078</td>\n",
       "      <td>0.046</td>\n",
       "      <td>-0.024</td>\n",
       "      <td>0.126</td>\n",
       "    </tr>\n",
       "    <tr>\n",
       "      <th>component_4</th>\n",
       "      <td>0.048</td>\n",
       "      <td>-0.026</td>\n",
       "      <td>0.038</td>\n",
       "      <td>0.006</td>\n",
       "      <td>0.058</td>\n",
       "      <td>0.076</td>\n",
       "      <td>-0.018</td>\n",
       "      <td>-0.094</td>\n",
       "      <td>0.099</td>\n",
       "      <td>0.092</td>\n",
       "      <td>...</td>\n",
       "      <td>-0.023</td>\n",
       "      <td>0.094</td>\n",
       "      <td>0.018</td>\n",
       "      <td>0.180</td>\n",
       "      <td>0.007</td>\n",
       "      <td>0.021</td>\n",
       "      <td>0.073</td>\n",
       "      <td>0.028</td>\n",
       "      <td>-0.016</td>\n",
       "      <td>-0.027</td>\n",
       "    </tr>\n",
       "    <tr>\n",
       "      <th>component_5</th>\n",
       "      <td>-0.004</td>\n",
       "      <td>0.079</td>\n",
       "      <td>0.009</td>\n",
       "      <td>0.025</td>\n",
       "      <td>-0.033</td>\n",
       "      <td>-0.004</td>\n",
       "      <td>-0.011</td>\n",
       "      <td>-0.078</td>\n",
       "      <td>0.055</td>\n",
       "      <td>0.136</td>\n",
       "      <td>...</td>\n",
       "      <td>-0.035</td>\n",
       "      <td>0.004</td>\n",
       "      <td>-0.040</td>\n",
       "      <td>-0.002</td>\n",
       "      <td>-0.028</td>\n",
       "      <td>-0.019</td>\n",
       "      <td>-0.021</td>\n",
       "      <td>0.024</td>\n",
       "      <td>0.010</td>\n",
       "      <td>0.057</td>\n",
       "    </tr>\n",
       "    <tr>\n",
       "      <th>component_6</th>\n",
       "      <td>0.074</td>\n",
       "      <td>-0.012</td>\n",
       "      <td>0.064</td>\n",
       "      <td>0.111</td>\n",
       "      <td>0.006</td>\n",
       "      <td>0.001</td>\n",
       "      <td>0.028</td>\n",
       "      <td>-0.080</td>\n",
       "      <td>-0.052</td>\n",
       "      <td>-0.214</td>\n",
       "      <td>...</td>\n",
       "      <td>0.057</td>\n",
       "      <td>0.007</td>\n",
       "      <td>0.017</td>\n",
       "      <td>0.016</td>\n",
       "      <td>0.065</td>\n",
       "      <td>0.017</td>\n",
       "      <td>0.032</td>\n",
       "      <td>-0.059</td>\n",
       "      <td>-0.013</td>\n",
       "      <td>0.010</td>\n",
       "    </tr>\n",
       "    <tr>\n",
       "      <th>component_7</th>\n",
       "      <td>-0.006</td>\n",
       "      <td>0.002</td>\n",
       "      <td>-0.006</td>\n",
       "      <td>-0.035</td>\n",
       "      <td>-0.067</td>\n",
       "      <td>-0.242</td>\n",
       "      <td>0.014</td>\n",
       "      <td>0.053</td>\n",
       "      <td>0.187</td>\n",
       "      <td>0.031</td>\n",
       "      <td>...</td>\n",
       "      <td>-0.077</td>\n",
       "      <td>0.115</td>\n",
       "      <td>0.002</td>\n",
       "      <td>0.053</td>\n",
       "      <td>0.100</td>\n",
       "      <td>0.056</td>\n",
       "      <td>-0.040</td>\n",
       "      <td>-0.033</td>\n",
       "      <td>-0.123</td>\n",
       "      <td>-0.003</td>\n",
       "    </tr>\n",
       "    <tr>\n",
       "      <th>component_8</th>\n",
       "      <td>-0.065</td>\n",
       "      <td>0.034</td>\n",
       "      <td>-0.074</td>\n",
       "      <td>-0.019</td>\n",
       "      <td>-0.085</td>\n",
       "      <td>-0.310</td>\n",
       "      <td>0.055</td>\n",
       "      <td>-0.169</td>\n",
       "      <td>0.268</td>\n",
       "      <td>0.286</td>\n",
       "      <td>...</td>\n",
       "      <td>-0.006</td>\n",
       "      <td>0.024</td>\n",
       "      <td>0.071</td>\n",
       "      <td>0.015</td>\n",
       "      <td>-0.067</td>\n",
       "      <td>-0.021</td>\n",
       "      <td>-0.003</td>\n",
       "      <td>-0.028</td>\n",
       "      <td>0.025</td>\n",
       "      <td>0.093</td>\n",
       "    </tr>\n",
       "    <tr>\n",
       "      <th>component_9</th>\n",
       "      <td>-0.031</td>\n",
       "      <td>-0.099</td>\n",
       "      <td>-0.074</td>\n",
       "      <td>-0.041</td>\n",
       "      <td>0.071</td>\n",
       "      <td>0.052</td>\n",
       "      <td>-0.004</td>\n",
       "      <td>0.035</td>\n",
       "      <td>-0.072</td>\n",
       "      <td>0.212</td>\n",
       "      <td>...</td>\n",
       "      <td>0.041</td>\n",
       "      <td>0.097</td>\n",
       "      <td>-0.067</td>\n",
       "      <td>-0.028</td>\n",
       "      <td>-0.039</td>\n",
       "      <td>0.015</td>\n",
       "      <td>0.067</td>\n",
       "      <td>0.143</td>\n",
       "      <td>0.035</td>\n",
       "      <td>-0.058</td>\n",
       "    </tr>\n",
       "  </tbody>\n",
       "</table>\n",
       "<p>10 rows × 151 columns</p>\n",
       "</div>"
      ],
      "text/plain": [
       "             abuse  across  adolescence  adolescent  adult    age    aim  \\\n",
       "component_0  0.063   0.062        0.036       0.075  0.055  0.192  0.039   \n",
       "component_1 -0.006  -0.074       -0.072      -0.065 -0.026  0.008  0.022   \n",
       "component_2  0.078  -0.017       -0.107      -0.115 -0.001 -0.124 -0.011   \n",
       "component_3  0.001   0.055        0.088       0.196  0.045 -0.018 -0.052   \n",
       "component_4  0.048  -0.026        0.038       0.006  0.058  0.076 -0.018   \n",
       "component_5 -0.004   0.079        0.009       0.025 -0.033 -0.004 -0.011   \n",
       "component_6  0.074  -0.012        0.064       0.111  0.006  0.001  0.028   \n",
       "component_7 -0.006   0.002       -0.006      -0.035 -0.067 -0.242  0.014   \n",
       "component_8 -0.065   0.034       -0.074      -0.019 -0.085 -0.310  0.055   \n",
       "component_9 -0.031  -0.099       -0.074      -0.041  0.071  0.052 -0.004   \n",
       "\n",
       "             alcohol consumption  alcohol use  among  ...  total  treatment  \\\n",
       "component_0                0.050        0.144  0.180  ...  0.054      0.069   \n",
       "component_1                0.063       -0.128  0.095  ...  0.003     -0.088   \n",
       "component_2               -0.130       -0.101 -0.002  ... -0.007      0.099   \n",
       "component_3               -0.073       -0.135 -0.023  ... -0.067     -0.113   \n",
       "component_4               -0.094        0.099  0.092  ... -0.023      0.094   \n",
       "component_5               -0.078        0.055  0.136  ... -0.035      0.004   \n",
       "component_6               -0.080       -0.052 -0.214  ...  0.057      0.007   \n",
       "component_7                0.053        0.187  0.031  ... -0.077      0.115   \n",
       "component_8               -0.169        0.268  0.286  ... -0.006      0.024   \n",
       "component_9                0.035       -0.072  0.212  ...  0.041      0.097   \n",
       "\n",
       "               two  use disorder  whether  within  without   year  young  \\\n",
       "component_0  0.066         0.045    0.061   0.038    0.040  0.065  0.063   \n",
       "component_1 -0.072        -0.056   -0.050  -0.040   -0.003 -0.031 -0.064   \n",
       "component_2 -0.048         0.079   -0.103  -0.031    0.011  0.012 -0.042   \n",
       "component_3 -0.020        -0.086    0.028  -0.016   -0.078  0.046 -0.024   \n",
       "component_4  0.018         0.180    0.007   0.021    0.073  0.028 -0.016   \n",
       "component_5 -0.040        -0.002   -0.028  -0.019   -0.021  0.024  0.010   \n",
       "component_6  0.017         0.016    0.065   0.017    0.032 -0.059 -0.013   \n",
       "component_7  0.002         0.053    0.100   0.056   -0.040 -0.033 -0.123   \n",
       "component_8  0.071         0.015   -0.067  -0.021   -0.003 -0.028  0.025   \n",
       "component_9 -0.067        -0.028   -0.039   0.015    0.067  0.143  0.035   \n",
       "\n",
       "             youth  \n",
       "component_0  0.043  \n",
       "component_1 -0.058  \n",
       "component_2 -0.055  \n",
       "component_3  0.126  \n",
       "component_4 -0.027  \n",
       "component_5  0.057  \n",
       "component_6  0.010  \n",
       "component_7 -0.003  \n",
       "component_8  0.093  \n",
       "component_9 -0.058  \n",
       "\n",
       "[10 rows x 151 columns]"
      ]
     },
     "execution_count": 34,
     "metadata": {},
     "output_type": "execute_result"
    }
   ],
   "source": [
    "#This shows you what each term is likely to be in\n",
    "topic_word = pd.DataFrame(lsa_model.components_.round(3),\n",
    "             index = [\"component_0\",\"component_1\",\"component_2\",\"component_3\",\"component_4\",\n",
    "                     \"component_5\",\"component_6\",\"component_7\",\"component_8\",\"component_9\"],\n",
    "             columns = cv.get_feature_names())   #use name of vectorizer 'cv'\n",
    "topic_word"
   ]
  },
  {
   "cell_type": "code",
   "execution_count": 35,
   "id": "e616c499",
   "metadata": {},
   "outputs": [
    {
     "name": "stdout",
     "output_type": "stream",
     "text": [
      "\n",
      "Topic  0\n",
      "depression, health, associate, high, age, risk, among, data, mental, alcohol use\n",
      "\n",
      "Topic  1\n",
      "regression, logistic, logistic regression, cross sectional, sectional, cross, associate, association, analysis, odds\n",
      "\n",
      "Topic  2\n",
      "mental, mental health, health, disorder, prevalence, survey, population, major, psychiatric, national\n",
      "\n",
      "Topic  3\n",
      "substance use, substance, adolescent, data, drug, health, logistic, logistic regression, risk, regression\n",
      "\n",
      "Topic  4\n",
      "disorder, depressive, major, use disorder, psychiatric, substance, substance use, national, sample, alcohol use\n",
      "\n",
      "Topic  5\n",
      "cross, sectional, cross sectional, substance use, substance, drug, among, drug use, survey, past\n",
      "\n",
      "Topic  6\n",
      "anxiety, substance, substance use, depression anxiety, self, depression, psychiatric, adolescent, drug, sample\n",
      "\n",
      "Topic  7\n",
      "significant, effect, depressive, alcohol use, mental health, mental, examine, drinking, substance use, drink\n",
      "\n",
      "Topic  8\n",
      "among, alcohol use, high, depression, drug, drug use, risk, logistic, logistic regression, three\n",
      "\n",
      "Topic  9\n",
      "anxiety, drug, among, depression, depression anxiety, past, drug use, year, day, likely\n"
     ]
    },
    {
     "name": "stderr",
     "output_type": "stream",
     "text": [
      "/Users/varshagarla/opt/anaconda3/lib/python3.8/site-packages/ipykernel/ipkernel.py:287: DeprecationWarning: `should_run_async` will not call `transform_cell` automatically in the future. Please pass the result to `transformed_cell` argument and any exception that happen during thetransform in `preprocessing_exc_tuple` in IPython 7.17 and above.\n",
      "  and should_run_async(code)\n"
     ]
    }
   ],
   "source": [
    "display_topics(lsa_model, cv.get_feature_names(), 10)"
   ]
  },
  {
   "cell_type": "markdown",
   "id": "43250482",
   "metadata": {},
   "source": [
    "Logistic regression term is coming up in topics for all models, but it doesn't make sense or feel relevant to tobacco and alcohol. I will exclude some of these terms or include more topics later to see how this changes."
   ]
  },
  {
   "cell_type": "code",
   "execution_count": 36,
   "id": "b2a587b5",
   "metadata": {},
   "outputs": [
    {
     "name": "stderr",
     "output_type": "stream",
     "text": [
      "/Users/varshagarla/opt/anaconda3/lib/python3.8/site-packages/ipykernel/ipkernel.py:287: DeprecationWarning: `should_run_async` will not call `transform_cell` automatically in the future. Please pass the result to `transformed_cell` argument and any exception that happen during thetransform in `preprocessing_exc_tuple` in IPython 7.17 and above.\n",
      "  and should_run_async(code)\n"
     ]
    },
    {
     "data": {
      "text/html": [
       "<div>\n",
       "<style scoped>\n",
       "    .dataframe tbody tr th:only-of-type {\n",
       "        vertical-align: middle;\n",
       "    }\n",
       "\n",
       "    .dataframe tbody tr th {\n",
       "        vertical-align: top;\n",
       "    }\n",
       "\n",
       "    .dataframe thead th {\n",
       "        text-align: right;\n",
       "    }\n",
       "</style>\n",
       "<table border=\"1\" class=\"dataframe\">\n",
       "  <thead>\n",
       "    <tr style=\"text-align: right;\">\n",
       "      <th></th>\n",
       "      <th>component_0</th>\n",
       "      <th>component_1</th>\n",
       "      <th>component_2</th>\n",
       "      <th>component_3</th>\n",
       "      <th>component_4</th>\n",
       "      <th>component_5</th>\n",
       "      <th>component_6</th>\n",
       "      <th>component_7</th>\n",
       "      <th>component_8</th>\n",
       "      <th>component_9</th>\n",
       "    </tr>\n",
       "    <tr>\n",
       "      <th>Abstract_modeling</th>\n",
       "      <th></th>\n",
       "      <th></th>\n",
       "      <th></th>\n",
       "      <th></th>\n",
       "      <th></th>\n",
       "      <th></th>\n",
       "      <th></th>\n",
       "      <th></th>\n",
       "      <th></th>\n",
       "      <th></th>\n",
       "    </tr>\n",
       "  </thead>\n",
       "  <tbody>\n",
       "    <tr>\n",
       "      <th>['quality', 'mother', 'child', 'relationship', 'first', 'year', 'life', 'reach', 'across', 'life', 'course', 'rev', 'little', 'known', 'maternal', 'bonding', 'emotional', 'availability', 'early', 'infancy', 'extent', 'postnatal', 'bond', 'maternal', 'mental', 'health', 'substance', 'use', 'mother', 'infant', 'bond', 'self', 'report', 'mother', 'emotional', 'availability', 'observational', 'age', 'data', 'longitudinal', 'cohort', 'pregnancy', 'data', 'collect', 'pregnancy', 'birth', 'show', 'strong', 'continuity', 'postnatal', 'bond', 'early', 'stress', 'depression', 'associate', 'bond', 'effect', 'persist', 'adjustment', 'bond', 'tobacco', 'use', 'mental', 'health', 'lower', 'emotional', 'availability', 'suggest', 'mother', 'felt', 'bond', 'child', 'stable', 'across', 'first', 'year', 'life', 'early', 'bonding', 'robust', 'indicator', 'bond', 'mother', 'mental', 'health', 'substance', 'use', 'point', 'importance', 'clinical', 'public', 'health', 'strong', 'bond', 'mother', 'child', 'early', 'period']</th>\n",
       "      <td>2.51662</td>\n",
       "      <td>-0.83129</td>\n",
       "      <td>0.08502</td>\n",
       "      <td>1.17782</td>\n",
       "      <td>-0.87041</td>\n",
       "      <td>0.49994</td>\n",
       "      <td>0.51772</td>\n",
       "      <td>0.15348</td>\n",
       "      <td>-1.22826</td>\n",
       "      <td>-0.00153</td>\n",
       "    </tr>\n",
       "    <tr>\n",
       "      <th>['depression', 'significant', 'health', 'depressive', 'change', 'time', 'period', 'low', 'middle', 'income', 'data', 'enrol', 'population', 'base', 'birth', 'cohort', 'south', 'least', 'depression', 'pregnancy', 'depressive', 'measure', 'postnatal', 'depression', 'scale', 'group', 'base', 'trajectory', 'use', 'estimate', 'depressive', 'period', 'multinomial', 'identify', 'trajectory', 'group', 'membership', 'five', 'distinct', 'trajectory', 'depressive', 'moderate', 'depressive', 'pregnancy', 'minimal', 'minimal', 'pregnancy', 'increase', 'unstable', 'peak', 'mild', 'slight', 'decrease', 'severe', 'pregnancy', 'membership', 'chronic', 'severe', 'symptom', 'group', 'associate', 'stressful', 'life', 'sexual', 'intimate', 'partner', 'violence', 'tobacco', 'use', 'model', 'psychosocial', 'time', 'influence', 'depressive', 'symptom', 'mild', 'severe', 'depressive', 'pregnancy', 'common', 'among', 'south', 'cohort', 'treat', 'severe', 'chronic', 'depressive', 'psychosocial']</th>\n",
       "      <td>2.22731</td>\n",
       "      <td>0.07997</td>\n",
       "      <td>-0.23867</td>\n",
       "      <td>-0.00790</td>\n",
       "      <td>-0.11056</td>\n",
       "      <td>-0.12514</td>\n",
       "      <td>-0.43948</td>\n",
       "      <td>0.18430</td>\n",
       "      <td>-0.12926</td>\n",
       "      <td>-0.67204</td>\n",
       "    </tr>\n",
       "    <tr>\n",
       "      <th>['sexual', 'minority', 'young', 'identify', 'gay', 'bisexual', 'smoke', 'heterosexual', 'young', 'test', 'role', 'three', 'risk', 'depressive', 'tobacco', 'marketing', 'cigarette', 'relate', 'social', 'explain', 'tobacco', 'use', 'longitudinal', 'structural', 'equation', 'model', 'use', 'explore', 'association', 'identity', 'past', 'day', 'cigarette', 'smoke', 'one', 'year', 'three', 'risk', 'start', 'fall', 'three', 'every', 'young', 'adult', 'college', 'assess', 'identity', 'depressive', 'tobacco', 'marketing', 'normative', 'tobacco', 'use', 'great', 'depressive', 'tobacco', 'marketing', 'cigarette', 'relate', 'social', 'explain', 'unique', 'portion', 'association', 'identity', 'subsequent', 'cigarette', 'use', 'young', 'high', 'prevalence', 'cigarette', 'use', 'depressive', 'symptom', 'reflect', 'elevate', 'risk', 'major', 'depressive', 'disorder', 'cigarette', 'relate', 'social', 'heterosexual', 'cigarette', 'relate', 'social', 'association', 'identity', 'subsequent', 'past', 'day', 'smoke', 'depressive', 'tobacco', 'marketing', 'previous', 'tobacco', 'use', 'reflect', 'need', 'tobacco', 'control', 'shift', 'cigarette', 'related', 'young', 'lead', 'smoking', 'high', 'risk', 'subgroup', 'record']</th>\n",
       "      <td>2.15710</td>\n",
       "      <td>-0.33174</td>\n",
       "      <td>-0.48556</td>\n",
       "      <td>-0.34604</td>\n",
       "      <td>1.00110</td>\n",
       "      <td>-0.02545</td>\n",
       "      <td>-0.90307</td>\n",
       "      <td>-0.11412</td>\n",
       "      <td>-0.06874</td>\n",
       "      <td>0.06518</td>\n",
       "    </tr>\n",
       "    <tr>\n",
       "      <th>['female', 'face', 'chronic', 'obstructive', 'pulmonary', 'disease', 'prevalence', 'among', 'men', 'since', 'due', 'part', 'tobacco', 'use', 'among', 'exposure', 'find', 'number', 'evidence', 'susceptibility', 'smoking', 'along', 'epidemiological', 'phenotypic', 'become', 'leading', 'cause', 'death', 'clinical', 'presentation', 'pronounce', 'marked', 'tendency', 'towards', 'anxiety', 'depression', 'undernutrition', 'cell', 'lung', 'cancer', 'adenocarcinoma', 'osteoporosis', 'quality', 'life', 'impact', 'advanced', 'explain', 'involve', 'role', 'gas', 'exchange', 'smoking', 'require', 'appropriate', 'therapeutic', 'smoking', 'cessation', 'pulmonary', 'rehabilitation', 'long', 'term', 'oxygen', 'therapy', 'treatment', 'include', 'great', 'diagnosis', 'men', 'spirometry', 'medical', 'face', 'serious', 'public', 'health', 'problem', 'need', 'update', 'adapt', 'knowledge', 'epidemiological']</th>\n",
       "      <td>1.78347</td>\n",
       "      <td>-0.30677</td>\n",
       "      <td>0.33327</td>\n",
       "      <td>-0.50060</td>\n",
       "      <td>-0.32275</td>\n",
       "      <td>-0.22890</td>\n",
       "      <td>-0.29931</td>\n",
       "      <td>0.01613</td>\n",
       "      <td>0.37294</td>\n",
       "      <td>1.18054</td>\n",
       "    </tr>\n",
       "    <tr>\n",
       "      <th>['prevalence', 'depression', 'suicide', 'rate', 'among', 'teen', 'per', 'per', 'suggest', 'high', 'prevalence', 'depression', 'suicide', 'among', 'serious', 'social', 'problem', 'south', 'owe', 'rapid', 'growth', 'last', 'several', 'important', 'smoke', 'mental', 'health', 'distinguish', 'different', 'tobacco', 'examine', 'relationship', 'depression', 'among', 'classified', 'conventional', 'cigarette', 'cigarette', 'dual', 'data', 'youth', 'risk', 'behavior', 'web', 'base', 'survey', 'include', 'logistic', 'regression', 'ass', 'association', 'depression', 'electronic', 'conventional', 'cigarette', 'use', 'significant', 'among', 'dual', 'high', 'prevalence', 'depression', 'lifetime', 'current', 'use', 'cigarette', 'high', 'depression', 'among', 'female', 'conventional', 'cigarette', 'cigarette', 'dual', 'high', 'prevalence', 'depression', 'male', 'assess', 'association', 'depression', 'conventional', 'cigarette', 'use', 'representative', 'adolescent', 'sample', 'suggest', 'urgent', 'need', 'evaluation', 'intervention', 'cigarette', 'use', 'health', 'provide', 'smoke', 'cessation']</th>\n",
       "      <td>3.66636</td>\n",
       "      <td>0.61618</td>\n",
       "      <td>0.46711</td>\n",
       "      <td>1.37097</td>\n",
       "      <td>-0.60206</td>\n",
       "      <td>-0.84563</td>\n",
       "      <td>-0.98100</td>\n",
       "      <td>0.15983</td>\n",
       "      <td>1.06802</td>\n",
       "      <td>-0.39192</td>\n",
       "    </tr>\n",
       "    <tr>\n",
       "      <th>...</th>\n",
       "      <td>...</td>\n",
       "      <td>...</td>\n",
       "      <td>...</td>\n",
       "      <td>...</td>\n",
       "      <td>...</td>\n",
       "      <td>...</td>\n",
       "      <td>...</td>\n",
       "      <td>...</td>\n",
       "      <td>...</td>\n",
       "      <td>...</td>\n",
       "    </tr>\n",
       "    <tr>\n",
       "      <th>['previous', 'show', 'racial', 'ethnic', 'relate', 'posttraumatic', 'stress', 'disorder', 'current', 'racial', 'ethnic', 'relevant', 'resilience', 'social', 'support', 'test', 'potential', 'racial', 'ethnic', 'sample', 'include', 'active', 'duty', 'male', 'service', 'seek', 'treatment', 'age', 'education', 'military', 'grade', 'combat', 'exposure', 'service', 'great', 'non', 'white', 'service', 'high', 'alcohol', 'consumption', 'endorse', 'service', 'white', 'service', 'symptom', 'severity', 'racial', 'ethnic', 'find', 'regard', 'suggest', 'care', 'make', 'assess', 'belong', 'minority', 'concurrent', 'substance', 'use', 'impede', 'treatment', 'utilization', 'adherence']</th>\n",
       "      <td>2.07842</td>\n",
       "      <td>-0.47120</td>\n",
       "      <td>-0.61480</td>\n",
       "      <td>-0.69056</td>\n",
       "      <td>0.58090</td>\n",
       "      <td>0.07256</td>\n",
       "      <td>0.45135</td>\n",
       "      <td>0.47901</td>\n",
       "      <td>-0.45488</td>\n",
       "      <td>0.04347</td>\n",
       "    </tr>\n",
       "    <tr>\n",
       "      <th>['young', 'refugee', 'woman', 'antenatal', 'clinic', 'border', 'gestation', 'part', 'ongoing', 'mental', 'health', 'underwent', 'structure', 'psychiatric', 'interview', 'occasional', 'depress', 'mood', 'anhedonia', 'passive', 'suicidal', 'ideation', 'husband', 'young', 'refugee', 'know', 'use', 'alcohol', 'day', 'couple', 'suicide', 'herbicide', 'ingestion', 'refugee', 'risk', 'mental', 'result', 'status', 'socioeconomic', 'disadvantage', 'trauma', 'pregnancy', 'hopelessness', 'couple', 'prevalence', 'mental', 'depression', 'period', 'suicide', 'second', 'lead', 'cause', 'death', 'young', 'prevention', 'early', 'recognition', 'mental', 'improve', 'detection', 'lead', 'better', 'support', 'vulnerable', 'group']</th>\n",
       "      <td>1.61621</td>\n",
       "      <td>-0.67889</td>\n",
       "      <td>0.87186</td>\n",
       "      <td>0.11668</td>\n",
       "      <td>-0.67432</td>\n",
       "      <td>-0.30588</td>\n",
       "      <td>-0.32457</td>\n",
       "      <td>-0.67476</td>\n",
       "      <td>0.43452</td>\n",
       "      <td>-0.32555</td>\n",
       "    </tr>\n",
       "    <tr>\n",
       "      <th>['investigate', 'whether', 'mental', 'health', 'utilization', 'distribute', 'need', 'person', 'data', 'swiss', 'health', 'survey', 'logistic', 'regression', 'analyse', 'predict', 'treatment', 'psychological', 'problem', 'use', 'medication', 'medical', 'treatment', 'depression', 'psychologist', 'psychotherapist', 'need', 'depression', 'severity', 'risky', 'alcohol', 'consumption', 'demographic', 'use', 'independent', 'depression', 'severity', 'predictor', 'mental', 'health', 'contrast', 'risky', 'alcohol', 'consumption', 'associate', 'likelihood', 'mental', 'health', 'need', 'follow', 'less', 'likely', 'use', 'mental', 'health', 'young', 'people', 'work', 'full', 'time', 'single', 'unmarried', 'non', 'swiss', 'people', 'live', 'rural', 'education', 'income', 'associate', 'analysis', 'demographic', 'less', 'likely', 'use', 'mental', 'health', 'despite', 'need']</th>\n",
       "      <td>2.48743</td>\n",
       "      <td>0.77101</td>\n",
       "      <td>0.70500</td>\n",
       "      <td>0.69261</td>\n",
       "      <td>-1.15491</td>\n",
       "      <td>-1.12798</td>\n",
       "      <td>-0.40741</td>\n",
       "      <td>0.45496</td>\n",
       "      <td>-0.36303</td>\n",
       "      <td>0.14804</td>\n",
       "    </tr>\n",
       "    <tr>\n",
       "      <th>['use', 'treat', 'major', 'depression', 'active', 'metabolite', 'overdose', 'cause', 'toxicity', 'cardiovascular', 'effect', 'limit', 'information', 'overdose', 'investigate', 'clinical', 'effect', 'overdose', 'retrospective', 'observational', 'six', 'year', 'period', 'demographic', 'dose', 'time', 'overdose', 'clinical', 'effect', 'treatment', 'extract', 'local', 'hospital', 'network', 'medical', 'follow', 'hospital', 'admission', 'overdose', 'include', 'alcohol', 'include', 'one', 'single', 'agent', 'median', 'age', 'range', 'median', 'dose', 'range', 'range', 'female', 'coma', 'score', 'seven', 'one', 'patient', 'follow', 'aspiration', 'mild', 'hypertension', 'systolic', 'blood', 'pressure', 'tachycardia', 'abnormal', 'toxicity', 'treat', 'physician', 'one', 'met', 'toxicity', 'criteria', 'none', 'take', 'alcohol', 'admit', 'intensive', 'care', 'comparison', 'take', 'overdose', 'pronounced', 'toxicity', 'three', 'possible', 'fifteen', 'none', 'abnormal', 'severe', 'effect', 'associate', 'minor', 'effect', 'mild', 'hypertension', 'tachycardia', 'risk', 'toxicity', 'low']</th>\n",
       "      <td>1.94681</td>\n",
       "      <td>-0.59477</td>\n",
       "      <td>-0.57104</td>\n",
       "      <td>-0.39561</td>\n",
       "      <td>0.08903</td>\n",
       "      <td>-0.18160</td>\n",
       "      <td>0.04247</td>\n",
       "      <td>-0.47907</td>\n",
       "      <td>0.01858</td>\n",
       "      <td>0.03576</td>\n",
       "    </tr>\n",
       "    <tr>\n",
       "      <th>['depressive', 'drinking', 'cope', 'negative', 'affect', 'increase', 'likelihood', 'drink', 'related', 'negative', 'among', 'college', 'less', 'known', 'influence', 'naturalistic', 'alcohol', 'relate', 'current', 'positive', 'negative', 'drinking', 'relate', 'function', 'depressive', 'drinking', 'cop', 'conformity', 'social', 'enhancement', 'female', 'college', 'student', 'assess', 'first', 'two', 'college', 'use', 'hierarchical', 'linear', 'model', 'examine', 'linear', 'change', 'positive', 'negative', 'relate', 'depression', 'level', 'drink', 'consistent', 'hypothesis', 'negative', 'positive', 'course', 'freshman', 'sophomore', 'high', 'depression', 'associate', 'faster', 'decline', 'negative', 'freshman', 'year', 'cop', 'average', 'negative', 'positive', 'across', 'effect', 'cop', 'pronounce', 'low', 'depression', 'sophomore', 'year', 'indicate', 'screening', 'depression', 'drink', 'cope', 'independent', 'alcohol', 'consumption', 'help', 'identify', 'risk', 'negative', 'alcohol', 'target', 'alcohol']</th>\n",
       "      <td>2.64988</td>\n",
       "      <td>-0.23354</td>\n",
       "      <td>-2.15341</td>\n",
       "      <td>-0.51103</td>\n",
       "      <td>0.02801</td>\n",
       "      <td>0.02169</td>\n",
       "      <td>-1.12761</td>\n",
       "      <td>0.87651</td>\n",
       "      <td>0.25708</td>\n",
       "      <td>0.34540</td>\n",
       "    </tr>\n",
       "  </tbody>\n",
       "</table>\n",
       "<p>726 rows × 10 columns</p>\n",
       "</div>"
      ],
      "text/plain": [
       "                                                    component_0  component_1  \\\n",
       "Abstract_modeling                                                              \n",
       "['quality', 'mother', 'child', 'relationship', ...      2.51662     -0.83129   \n",
       "['depression', 'significant', 'health', 'depres...      2.22731      0.07997   \n",
       "['sexual', 'minority', 'young', 'identify', 'ga...      2.15710     -0.33174   \n",
       "['female', 'face', 'chronic', 'obstructive', 'p...      1.78347     -0.30677   \n",
       "['prevalence', 'depression', 'suicide', 'rate',...      3.66636      0.61618   \n",
       "...                                                         ...          ...   \n",
       "['previous', 'show', 'racial', 'ethnic', 'relat...      2.07842     -0.47120   \n",
       "['young', 'refugee', 'woman', 'antenatal', 'cli...      1.61621     -0.67889   \n",
       "['investigate', 'whether', 'mental', 'health', ...      2.48743      0.77101   \n",
       "['use', 'treat', 'major', 'depression', 'active...      1.94681     -0.59477   \n",
       "['depressive', 'drinking', 'cope', 'negative', ...      2.64988     -0.23354   \n",
       "\n",
       "                                                    component_2  component_3  \\\n",
       "Abstract_modeling                                                              \n",
       "['quality', 'mother', 'child', 'relationship', ...      0.08502      1.17782   \n",
       "['depression', 'significant', 'health', 'depres...     -0.23867     -0.00790   \n",
       "['sexual', 'minority', 'young', 'identify', 'ga...     -0.48556     -0.34604   \n",
       "['female', 'face', 'chronic', 'obstructive', 'p...      0.33327     -0.50060   \n",
       "['prevalence', 'depression', 'suicide', 'rate',...      0.46711      1.37097   \n",
       "...                                                         ...          ...   \n",
       "['previous', 'show', 'racial', 'ethnic', 'relat...     -0.61480     -0.69056   \n",
       "['young', 'refugee', 'woman', 'antenatal', 'cli...      0.87186      0.11668   \n",
       "['investigate', 'whether', 'mental', 'health', ...      0.70500      0.69261   \n",
       "['use', 'treat', 'major', 'depression', 'active...     -0.57104     -0.39561   \n",
       "['depressive', 'drinking', 'cope', 'negative', ...     -2.15341     -0.51103   \n",
       "\n",
       "                                                    component_4  component_5  \\\n",
       "Abstract_modeling                                                              \n",
       "['quality', 'mother', 'child', 'relationship', ...     -0.87041      0.49994   \n",
       "['depression', 'significant', 'health', 'depres...     -0.11056     -0.12514   \n",
       "['sexual', 'minority', 'young', 'identify', 'ga...      1.00110     -0.02545   \n",
       "['female', 'face', 'chronic', 'obstructive', 'p...     -0.32275     -0.22890   \n",
       "['prevalence', 'depression', 'suicide', 'rate',...     -0.60206     -0.84563   \n",
       "...                                                         ...          ...   \n",
       "['previous', 'show', 'racial', 'ethnic', 'relat...      0.58090      0.07256   \n",
       "['young', 'refugee', 'woman', 'antenatal', 'cli...     -0.67432     -0.30588   \n",
       "['investigate', 'whether', 'mental', 'health', ...     -1.15491     -1.12798   \n",
       "['use', 'treat', 'major', 'depression', 'active...      0.08903     -0.18160   \n",
       "['depressive', 'drinking', 'cope', 'negative', ...      0.02801      0.02169   \n",
       "\n",
       "                                                    component_6  component_7  \\\n",
       "Abstract_modeling                                                              \n",
       "['quality', 'mother', 'child', 'relationship', ...      0.51772      0.15348   \n",
       "['depression', 'significant', 'health', 'depres...     -0.43948      0.18430   \n",
       "['sexual', 'minority', 'young', 'identify', 'ga...     -0.90307     -0.11412   \n",
       "['female', 'face', 'chronic', 'obstructive', 'p...     -0.29931      0.01613   \n",
       "['prevalence', 'depression', 'suicide', 'rate',...     -0.98100      0.15983   \n",
       "...                                                         ...          ...   \n",
       "['previous', 'show', 'racial', 'ethnic', 'relat...      0.45135      0.47901   \n",
       "['young', 'refugee', 'woman', 'antenatal', 'cli...     -0.32457     -0.67476   \n",
       "['investigate', 'whether', 'mental', 'health', ...     -0.40741      0.45496   \n",
       "['use', 'treat', 'major', 'depression', 'active...      0.04247     -0.47907   \n",
       "['depressive', 'drinking', 'cope', 'negative', ...     -1.12761      0.87651   \n",
       "\n",
       "                                                    component_8  component_9  \n",
       "Abstract_modeling                                                             \n",
       "['quality', 'mother', 'child', 'relationship', ...     -1.22826     -0.00153  \n",
       "['depression', 'significant', 'health', 'depres...     -0.12926     -0.67204  \n",
       "['sexual', 'minority', 'young', 'identify', 'ga...     -0.06874      0.06518  \n",
       "['female', 'face', 'chronic', 'obstructive', 'p...      0.37294      1.18054  \n",
       "['prevalence', 'depression', 'suicide', 'rate',...      1.06802     -0.39192  \n",
       "...                                                         ...          ...  \n",
       "['previous', 'show', 'racial', 'ethnic', 'relat...     -0.45488      0.04347  \n",
       "['young', 'refugee', 'woman', 'antenatal', 'cli...      0.43452     -0.32555  \n",
       "['investigate', 'whether', 'mental', 'health', ...     -0.36303      0.14804  \n",
       "['use', 'treat', 'major', 'depression', 'active...      0.01858      0.03576  \n",
       "['depressive', 'drinking', 'cope', 'negative', ...      0.25708      0.34540  \n",
       "\n",
       "[726 rows x 10 columns]"
      ]
     },
     "execution_count": 36,
     "metadata": {},
     "output_type": "execute_result"
    }
   ],
   "source": [
    "#Creating a topic to document matrix\n",
    "\n",
    "Vt = pd.DataFrame(doc_topic.round(5),\n",
    "             index = docs,\n",
    "             columns = [\"component_0\",\"component_1\",\"component_2\",\"component_3\",\"component_4\",\n",
    "                       \"component_5\",\"component_6\",\"component_7\",\"component_8\",\"component_9\"])\n",
    "Vt"
   ]
  },
  {
   "cell_type": "markdown",
   "id": "80e8e798",
   "metadata": {},
   "source": [
    "#### LSA with TF-IDF"
   ]
  },
  {
   "cell_type": "code",
   "execution_count": 37,
   "id": "958f3cef",
   "metadata": {},
   "outputs": [
    {
     "name": "stderr",
     "output_type": "stream",
     "text": [
      "/Users/varshagarla/opt/anaconda3/lib/python3.8/site-packages/ipykernel/ipkernel.py:287: DeprecationWarning: `should_run_async` will not call `transform_cell` automatically in the future. Please pass the result to `transformed_cell` argument and any exception that happen during thetransform in `preprocessing_exc_tuple` in IPython 7.17 and above.\n",
      "  and should_run_async(code)\n"
     ]
    },
    {
     "data": {
      "text/plain": [
       "array([0.00497757, 0.02897841, 0.02617888, 0.02406705, 0.02157453,\n",
       "       0.01977291, 0.01808007, 0.01606536, 0.01535701, 0.0153333 ])"
      ]
     },
     "execution_count": 37,
     "metadata": {},
     "output_type": "execute_result"
    }
   ],
   "source": [
    "lsa_model = TruncatedSVD(10)\n",
    "\n",
    "doc_topic = lsa_model.fit_transform(abstracts_tfidf)  #fit onto vectorized data\n",
    "\n",
    "lsa_model.explained_variance_ratio_"
   ]
  },
  {
   "cell_type": "code",
   "execution_count": 38,
   "id": "1f471c67",
   "metadata": {},
   "outputs": [
    {
     "name": "stderr",
     "output_type": "stream",
     "text": [
      "/Users/varshagarla/opt/anaconda3/lib/python3.8/site-packages/ipykernel/ipkernel.py:287: DeprecationWarning: `should_run_async` will not call `transform_cell` automatically in the future. Please pass the result to `transformed_cell` argument and any exception that happen during thetransform in `preprocessing_exc_tuple` in IPython 7.17 and above.\n",
      "  and should_run_async(code)\n"
     ]
    },
    {
     "data": {
      "text/html": [
       "<div>\n",
       "<style scoped>\n",
       "    .dataframe tbody tr th:only-of-type {\n",
       "        vertical-align: middle;\n",
       "    }\n",
       "\n",
       "    .dataframe tbody tr th {\n",
       "        vertical-align: top;\n",
       "    }\n",
       "\n",
       "    .dataframe thead th {\n",
       "        text-align: right;\n",
       "    }\n",
       "</style>\n",
       "<table border=\"1\" class=\"dataframe\">\n",
       "  <thead>\n",
       "    <tr style=\"text-align: right;\">\n",
       "      <th></th>\n",
       "      <th>abuse</th>\n",
       "      <th>adolescence</th>\n",
       "      <th>adolescent</th>\n",
       "      <th>adult</th>\n",
       "      <th>age</th>\n",
       "      <th>aim</th>\n",
       "      <th>alcohol consumption</th>\n",
       "      <th>alcohol use</th>\n",
       "      <th>analysis</th>\n",
       "      <th>anxiety</th>\n",
       "      <th>...</th>\n",
       "      <th>survey</th>\n",
       "      <th>test</th>\n",
       "      <th>time</th>\n",
       "      <th>tobacco</th>\n",
       "      <th>total</th>\n",
       "      <th>treatment</th>\n",
       "      <th>use disorder</th>\n",
       "      <th>year</th>\n",
       "      <th>young</th>\n",
       "      <th>youth</th>\n",
       "    </tr>\n",
       "  </thead>\n",
       "  <tbody>\n",
       "    <tr>\n",
       "      <th>component_0</th>\n",
       "      <td>0.081</td>\n",
       "      <td>0.057</td>\n",
       "      <td>0.091</td>\n",
       "      <td>0.073</td>\n",
       "      <td>0.144</td>\n",
       "      <td>0.057</td>\n",
       "      <td>0.069</td>\n",
       "      <td>0.131</td>\n",
       "      <td>0.119</td>\n",
       "      <td>0.125</td>\n",
       "      <td>...</td>\n",
       "      <td>0.107</td>\n",
       "      <td>0.079</td>\n",
       "      <td>0.098</td>\n",
       "      <td>0.083</td>\n",
       "      <td>0.072</td>\n",
       "      <td>0.086</td>\n",
       "      <td>0.062</td>\n",
       "      <td>0.080</td>\n",
       "      <td>0.079</td>\n",
       "      <td>0.061</td>\n",
       "    </tr>\n",
       "    <tr>\n",
       "      <th>component_1</th>\n",
       "      <td>-0.088</td>\n",
       "      <td>0.186</td>\n",
       "      <td>0.184</td>\n",
       "      <td>0.014</td>\n",
       "      <td>0.045</td>\n",
       "      <td>-0.035</td>\n",
       "      <td>0.121</td>\n",
       "      <td>0.069</td>\n",
       "      <td>0.008</td>\n",
       "      <td>-0.025</td>\n",
       "      <td>...</td>\n",
       "      <td>-0.117</td>\n",
       "      <td>0.061</td>\n",
       "      <td>0.100</td>\n",
       "      <td>-0.005</td>\n",
       "      <td>-0.042</td>\n",
       "      <td>-0.104</td>\n",
       "      <td>-0.109</td>\n",
       "      <td>0.009</td>\n",
       "      <td>0.043</td>\n",
       "      <td>0.121</td>\n",
       "    </tr>\n",
       "    <tr>\n",
       "      <th>component_2</th>\n",
       "      <td>-0.051</td>\n",
       "      <td>-0.079</td>\n",
       "      <td>-0.072</td>\n",
       "      <td>-0.053</td>\n",
       "      <td>0.011</td>\n",
       "      <td>0.041</td>\n",
       "      <td>0.212</td>\n",
       "      <td>-0.077</td>\n",
       "      <td>0.087</td>\n",
       "      <td>-0.082</td>\n",
       "      <td>...</td>\n",
       "      <td>0.004</td>\n",
       "      <td>0.005</td>\n",
       "      <td>-0.015</td>\n",
       "      <td>0.031</td>\n",
       "      <td>0.009</td>\n",
       "      <td>-0.133</td>\n",
       "      <td>-0.135</td>\n",
       "      <td>-0.042</td>\n",
       "      <td>-0.060</td>\n",
       "      <td>-0.065</td>\n",
       "    </tr>\n",
       "    <tr>\n",
       "      <th>component_3</th>\n",
       "      <td>0.001</td>\n",
       "      <td>-0.094</td>\n",
       "      <td>-0.163</td>\n",
       "      <td>-0.064</td>\n",
       "      <td>-0.010</td>\n",
       "      <td>0.069</td>\n",
       "      <td>0.153</td>\n",
       "      <td>0.099</td>\n",
       "      <td>-0.038</td>\n",
       "      <td>0.142</td>\n",
       "      <td>...</td>\n",
       "      <td>-0.113</td>\n",
       "      <td>0.164</td>\n",
       "      <td>-0.047</td>\n",
       "      <td>-0.102</td>\n",
       "      <td>0.098</td>\n",
       "      <td>0.162</td>\n",
       "      <td>0.072</td>\n",
       "      <td>-0.061</td>\n",
       "      <td>0.027</td>\n",
       "      <td>-0.129</td>\n",
       "    </tr>\n",
       "    <tr>\n",
       "      <th>component_4</th>\n",
       "      <td>0.030</td>\n",
       "      <td>0.012</td>\n",
       "      <td>0.055</td>\n",
       "      <td>-0.049</td>\n",
       "      <td>-0.007</td>\n",
       "      <td>-0.025</td>\n",
       "      <td>-0.132</td>\n",
       "      <td>0.015</td>\n",
       "      <td>-0.042</td>\n",
       "      <td>0.011</td>\n",
       "      <td>...</td>\n",
       "      <td>0.026</td>\n",
       "      <td>-0.003</td>\n",
       "      <td>0.030</td>\n",
       "      <td>-0.058</td>\n",
       "      <td>-0.005</td>\n",
       "      <td>-0.037</td>\n",
       "      <td>-0.061</td>\n",
       "      <td>-0.007</td>\n",
       "      <td>0.033</td>\n",
       "      <td>0.096</td>\n",
       "    </tr>\n",
       "    <tr>\n",
       "      <th>component_5</th>\n",
       "      <td>0.010</td>\n",
       "      <td>-0.011</td>\n",
       "      <td>-0.071</td>\n",
       "      <td>0.034</td>\n",
       "      <td>0.019</td>\n",
       "      <td>-0.040</td>\n",
       "      <td>-0.012</td>\n",
       "      <td>0.109</td>\n",
       "      <td>-0.035</td>\n",
       "      <td>-0.127</td>\n",
       "      <td>...</td>\n",
       "      <td>0.101</td>\n",
       "      <td>0.097</td>\n",
       "      <td>-0.026</td>\n",
       "      <td>-0.049</td>\n",
       "      <td>-0.059</td>\n",
       "      <td>0.064</td>\n",
       "      <td>0.199</td>\n",
       "      <td>0.032</td>\n",
       "      <td>-0.050</td>\n",
       "      <td>-0.093</td>\n",
       "    </tr>\n",
       "    <tr>\n",
       "      <th>component_6</th>\n",
       "      <td>-0.046</td>\n",
       "      <td>-0.136</td>\n",
       "      <td>-0.095</td>\n",
       "      <td>0.052</td>\n",
       "      <td>-0.042</td>\n",
       "      <td>-0.095</td>\n",
       "      <td>0.141</td>\n",
       "      <td>-0.099</td>\n",
       "      <td>-0.056</td>\n",
       "      <td>-0.029</td>\n",
       "      <td>...</td>\n",
       "      <td>0.227</td>\n",
       "      <td>-0.137</td>\n",
       "      <td>-0.086</td>\n",
       "      <td>0.044</td>\n",
       "      <td>-0.050</td>\n",
       "      <td>0.048</td>\n",
       "      <td>-0.082</td>\n",
       "      <td>0.077</td>\n",
       "      <td>0.010</td>\n",
       "      <td>-0.039</td>\n",
       "    </tr>\n",
       "    <tr>\n",
       "      <th>component_7</th>\n",
       "      <td>0.044</td>\n",
       "      <td>0.096</td>\n",
       "      <td>0.064</td>\n",
       "      <td>0.073</td>\n",
       "      <td>0.132</td>\n",
       "      <td>-0.043</td>\n",
       "      <td>0.039</td>\n",
       "      <td>-0.012</td>\n",
       "      <td>-0.008</td>\n",
       "      <td>-0.179</td>\n",
       "      <td>...</td>\n",
       "      <td>0.106</td>\n",
       "      <td>0.004</td>\n",
       "      <td>0.118</td>\n",
       "      <td>-0.030</td>\n",
       "      <td>0.006</td>\n",
       "      <td>-0.173</td>\n",
       "      <td>0.012</td>\n",
       "      <td>-0.077</td>\n",
       "      <td>0.077</td>\n",
       "      <td>-0.012</td>\n",
       "    </tr>\n",
       "    <tr>\n",
       "      <th>component_8</th>\n",
       "      <td>-0.012</td>\n",
       "      <td>0.091</td>\n",
       "      <td>-0.045</td>\n",
       "      <td>-0.086</td>\n",
       "      <td>-0.016</td>\n",
       "      <td>0.070</td>\n",
       "      <td>-0.003</td>\n",
       "      <td>0.100</td>\n",
       "      <td>-0.004</td>\n",
       "      <td>-0.138</td>\n",
       "      <td>...</td>\n",
       "      <td>-0.058</td>\n",
       "      <td>-0.011</td>\n",
       "      <td>0.059</td>\n",
       "      <td>0.027</td>\n",
       "      <td>-0.137</td>\n",
       "      <td>0.118</td>\n",
       "      <td>0.111</td>\n",
       "      <td>-0.113</td>\n",
       "      <td>-0.122</td>\n",
       "      <td>0.004</td>\n",
       "    </tr>\n",
       "    <tr>\n",
       "      <th>component_9</th>\n",
       "      <td>-0.062</td>\n",
       "      <td>0.101</td>\n",
       "      <td>0.030</td>\n",
       "      <td>0.002</td>\n",
       "      <td>0.023</td>\n",
       "      <td>0.038</td>\n",
       "      <td>0.106</td>\n",
       "      <td>-0.086</td>\n",
       "      <td>0.041</td>\n",
       "      <td>-0.052</td>\n",
       "      <td>...</td>\n",
       "      <td>-0.054</td>\n",
       "      <td>-0.070</td>\n",
       "      <td>0.209</td>\n",
       "      <td>0.228</td>\n",
       "      <td>0.084</td>\n",
       "      <td>0.136</td>\n",
       "      <td>0.049</td>\n",
       "      <td>0.098</td>\n",
       "      <td>-0.150</td>\n",
       "      <td>-0.097</td>\n",
       "    </tr>\n",
       "  </tbody>\n",
       "</table>\n",
       "<p>10 rows × 140 columns</p>\n",
       "</div>"
      ],
      "text/plain": [
       "             abuse  adolescence  adolescent  adult    age    aim  \\\n",
       "component_0  0.081        0.057       0.091  0.073  0.144  0.057   \n",
       "component_1 -0.088        0.186       0.184  0.014  0.045 -0.035   \n",
       "component_2 -0.051       -0.079      -0.072 -0.053  0.011  0.041   \n",
       "component_3  0.001       -0.094      -0.163 -0.064 -0.010  0.069   \n",
       "component_4  0.030        0.012       0.055 -0.049 -0.007 -0.025   \n",
       "component_5  0.010       -0.011      -0.071  0.034  0.019 -0.040   \n",
       "component_6 -0.046       -0.136      -0.095  0.052 -0.042 -0.095   \n",
       "component_7  0.044        0.096       0.064  0.073  0.132 -0.043   \n",
       "component_8 -0.012        0.091      -0.045 -0.086 -0.016  0.070   \n",
       "component_9 -0.062        0.101       0.030  0.002  0.023  0.038   \n",
       "\n",
       "             alcohol consumption  alcohol use  analysis  anxiety  ...  survey  \\\n",
       "component_0                0.069        0.131     0.119    0.125  ...   0.107   \n",
       "component_1                0.121        0.069     0.008   -0.025  ...  -0.117   \n",
       "component_2                0.212       -0.077     0.087   -0.082  ...   0.004   \n",
       "component_3                0.153        0.099    -0.038    0.142  ...  -0.113   \n",
       "component_4               -0.132        0.015    -0.042    0.011  ...   0.026   \n",
       "component_5               -0.012        0.109    -0.035   -0.127  ...   0.101   \n",
       "component_6                0.141       -0.099    -0.056   -0.029  ...   0.227   \n",
       "component_7                0.039       -0.012    -0.008   -0.179  ...   0.106   \n",
       "component_8               -0.003        0.100    -0.004   -0.138  ...  -0.058   \n",
       "component_9                0.106       -0.086     0.041   -0.052  ...  -0.054   \n",
       "\n",
       "              test   time  tobacco  total  treatment  use disorder   year  \\\n",
       "component_0  0.079  0.098    0.083  0.072      0.086         0.062  0.080   \n",
       "component_1  0.061  0.100   -0.005 -0.042     -0.104        -0.109  0.009   \n",
       "component_2  0.005 -0.015    0.031  0.009     -0.133        -0.135 -0.042   \n",
       "component_3  0.164 -0.047   -0.102  0.098      0.162         0.072 -0.061   \n",
       "component_4 -0.003  0.030   -0.058 -0.005     -0.037        -0.061 -0.007   \n",
       "component_5  0.097 -0.026   -0.049 -0.059      0.064         0.199  0.032   \n",
       "component_6 -0.137 -0.086    0.044 -0.050      0.048        -0.082  0.077   \n",
       "component_7  0.004  0.118   -0.030  0.006     -0.173         0.012 -0.077   \n",
       "component_8 -0.011  0.059    0.027 -0.137      0.118         0.111 -0.113   \n",
       "component_9 -0.070  0.209    0.228  0.084      0.136         0.049  0.098   \n",
       "\n",
       "             young  youth  \n",
       "component_0  0.079  0.061  \n",
       "component_1  0.043  0.121  \n",
       "component_2 -0.060 -0.065  \n",
       "component_3  0.027 -0.129  \n",
       "component_4  0.033  0.096  \n",
       "component_5 -0.050 -0.093  \n",
       "component_6  0.010 -0.039  \n",
       "component_7  0.077 -0.012  \n",
       "component_8 -0.122  0.004  \n",
       "component_9 -0.150 -0.097  \n",
       "\n",
       "[10 rows x 140 columns]"
      ]
     },
     "execution_count": 38,
     "metadata": {},
     "output_type": "execute_result"
    }
   ],
   "source": [
    "#This shows you what each term is likely to be in\n",
    "topic_word = pd.DataFrame(lsa_model.components_.round(3),\n",
    "             index = [\"component_0\",\"component_1\",\"component_2\",\"component_3\",\"component_4\",\n",
    "                     \"component_5\",\"component_6\",\"component_7\",\"component_8\",\"component_9\"],\n",
    "             columns = tfidf.get_feature_names())   #use name of vectorizer 'cv'\n",
    "topic_word"
   ]
  },
  {
   "cell_type": "code",
   "execution_count": 39,
   "id": "52954107",
   "metadata": {},
   "outputs": [
    {
     "name": "stdout",
     "output_type": "stream",
     "text": [
      "\n",
      "Topic  0\n",
      "depression, health, associate, high, risk, age, data, mental, alcohol use, anxiety\n",
      "\n",
      "Topic  1\n",
      "drink, effect, drinking, adolescence, adolescent, longitudinal, early, negative, model, suggest\n",
      "\n",
      "Topic  2\n",
      "cross sectional, sectional, cross, consumption, alcohol consumption, logistic, regression, logistic regression, association, smoking\n",
      "\n",
      "Topic  3\n",
      "scale, clinical, test, consumption, treatment, primary, alcohol consumption, anxiety, stress, low\n",
      "\n",
      "Topic  4\n",
      "sectional, cross sectional, cross, drug, substance use, substance, self, school, drug use, report\n",
      "\n",
      "Topic  5\n",
      "depressive, major, use disorder, disorder, drink, past, drinking, current, lifetime, relate\n",
      "\n",
      "Topic  6\n",
      "mental health, survey, health, mental, drinking, national, smoking, consumption, smoke, alcohol consumption\n",
      "\n",
      "Topic  7\n",
      "population, general, prevalence, national, men, low, old, age, early, suicide\n",
      "\n",
      "Topic  8\n",
      "substance, substance use, base, mental health, model, examine, mental, depressive, provide, care\n",
      "\n",
      "Topic  9\n",
      "tobacco, time, smoke, clinical, follow, drug use, consumption, treatment, primary, determine\n"
     ]
    },
    {
     "name": "stderr",
     "output_type": "stream",
     "text": [
      "/Users/varshagarla/opt/anaconda3/lib/python3.8/site-packages/ipykernel/ipkernel.py:287: DeprecationWarning: `should_run_async` will not call `transform_cell` automatically in the future. Please pass the result to `transformed_cell` argument and any exception that happen during thetransform in `preprocessing_exc_tuple` in IPython 7.17 and above.\n",
      "  and should_run_async(code)\n"
     ]
    }
   ],
   "source": [
    "display_topics(lsa_model, tfidf.get_feature_names(), 10)"
   ]
  },
  {
   "cell_type": "markdown",
   "id": "06565dcf",
   "metadata": {},
   "source": [
    "So far these actually seem like the most coherent. I know from EDA that a few of the papers were related to pregnancy, so I wonder if that will come through if I increase the number of topics."
   ]
  },
  {
   "cell_type": "markdown",
   "id": "e6543e34",
   "metadata": {},
   "source": [
    "### 3. Latent Dirichlet Allocation (LDA)"
   ]
  },
  {
   "cell_type": "markdown",
   "id": "98a052c9",
   "metadata": {},
   "source": [
    "#### LDA with CountVectorizer"
   ]
  },
  {
   "cell_type": "code",
   "execution_count": 44,
   "id": "9141faeb",
   "metadata": {},
   "outputs": [
    {
     "name": "stderr",
     "output_type": "stream",
     "text": [
      "/Users/varshagarla/opt/anaconda3/lib/python3.8/site-packages/ipykernel/ipkernel.py:287: DeprecationWarning: `should_run_async` will not call `transform_cell` automatically in the future. Please pass the result to `transformed_cell` argument and any exception that happen during thetransform in `preprocessing_exc_tuple` in IPython 7.17 and above.\n",
      "  and should_run_async(code)\n"
     ]
    },
    {
     "data": {
      "text/plain": [
       "(151, 726)"
      ]
     },
     "execution_count": 44,
     "metadata": {},
     "output_type": "execute_result"
    }
   ],
   "source": [
    "# Create the term-document matrix\n",
    "# Transpose the count vectorizer matrix it so the terms are the rows\n",
    "doc_word = abstracts_cv.transpose()\n",
    "\n",
    "doc_word.shape"
   ]
  },
  {
   "cell_type": "code",
   "execution_count": 45,
   "id": "e7b6a192",
   "metadata": {},
   "outputs": [
    {
     "name": "stderr",
     "output_type": "stream",
     "text": [
      "/Users/varshagarla/opt/anaconda3/lib/python3.8/site-packages/ipykernel/ipkernel.py:287: DeprecationWarning: `should_run_async` will not call `transform_cell` automatically in the future. Please pass the result to `transformed_cell` argument and any exception that happen during thetransform in `preprocessing_exc_tuple` in IPython 7.17 and above.\n",
      "  and should_run_async(code)\n"
     ]
    }
   ],
   "source": [
    "# Convert to gensim\n",
    "# Convert sparse matrix of counts to a gensim corpus\n",
    "corpus = matutils.Sparse2Corpus(doc_word)"
   ]
  },
  {
   "cell_type": "code",
   "execution_count": 46,
   "id": "8d45d1a0",
   "metadata": {},
   "outputs": [
    {
     "name": "stderr",
     "output_type": "stream",
     "text": [
      "/Users/varshagarla/opt/anaconda3/lib/python3.8/site-packages/ipykernel/ipkernel.py:287: DeprecationWarning: `should_run_async` will not call `transform_cell` automatically in the future. Please pass the result to `transformed_cell` argument and any exception that happen during thetransform in `preprocessing_exc_tuple` in IPython 7.17 and above.\n",
      "  and should_run_async(code)\n"
     ]
    }
   ],
   "source": [
    "# Map matrix rows to words (tokens)\n",
    "# We need to save a mapping (dict) of row id to word (token) for later use by gensim\n",
    "id2word = dict((v, k) for k, v in cv.vocabulary_.items())"
   ]
  },
  {
   "cell_type": "code",
   "execution_count": 47,
   "id": "c521b56e",
   "metadata": {},
   "outputs": [
    {
     "name": "stderr",
     "output_type": "stream",
     "text": [
      "/Users/varshagarla/opt/anaconda3/lib/python3.8/site-packages/ipykernel/ipkernel.py:287: DeprecationWarning: `should_run_async` will not call `transform_cell` automatically in the future. Please pass the result to `transformed_cell` argument and any exception that happen during thetransform in `preprocessing_exc_tuple` in IPython 7.17 and above.\n",
      "  and should_run_async(code)\n"
     ]
    },
    {
     "data": {
      "text/plain": [
       "151"
      ]
     },
     "execution_count": 47,
     "metadata": {},
     "output_type": "execute_result"
    }
   ],
   "source": [
    "len(id2word)"
   ]
  },
  {
   "cell_type": "code",
   "execution_count": 48,
   "id": "90523076",
   "metadata": {},
   "outputs": [
    {
     "name": "stderr",
     "output_type": "stream",
     "text": [
      "/Users/varshagarla/opt/anaconda3/lib/python3.8/site-packages/ipykernel/ipkernel.py:287: DeprecationWarning: `should_run_async` will not call `transform_cell` automatically in the future. Please pass the result to `transformed_cell` argument and any exception that happen during thetransform in `preprocessing_exc_tuple` in IPython 7.17 and above.\n",
      "  and should_run_async(code)\n"
     ]
    }
   ],
   "source": [
    "# Create lda model (equivalent to \"fit\" in sklearn)\n",
    "lda_model = models.LdaModel(corpus=corpus, num_topics=10, id2word=id2word, passes=5)"
   ]
  },
  {
   "cell_type": "code",
   "execution_count": 50,
   "id": "a61da823",
   "metadata": {},
   "outputs": [
    {
     "name": "stderr",
     "output_type": "stream",
     "text": [
      "/Users/varshagarla/opt/anaconda3/lib/python3.8/site-packages/ipykernel/ipkernel.py:287: DeprecationWarning: `should_run_async` will not call `transform_cell` automatically in the future. Please pass the result to `transformed_cell` argument and any exception that happen during thetransform in `preprocessing_exc_tuple` in IPython 7.17 and above.\n",
      "  and should_run_async(code)\n"
     ]
    },
    {
     "data": {
      "text/plain": [
       "[(0,\n",
       "  '0.036*\"disorder\" + 0.025*\"depression\" + 0.021*\"alcohol use\" + 0.020*\"cross\" + 0.020*\"use disorder\" + 0.020*\"psychiatric\" + 0.020*\"cross sectional\" + 0.020*\"sectional\" + 0.020*\"high\" + 0.020*\"associate\"'),\n",
       " (1,\n",
       "  '0.026*\"depression\" + 0.026*\"high\" + 0.022*\"associate\" + 0.021*\"low\" + 0.021*\"among\" + 0.021*\"age\" + 0.020*\"health\" + 0.020*\"risk\" + 0.016*\"prevalence\" + 0.016*\"tobacco\"'),\n",
       " (2,\n",
       "  '0.033*\"depression\" + 0.027*\"health\" + 0.022*\"mental\" + 0.021*\"anxiety\" + 0.020*\"self\" + 0.020*\"mental health\" + 0.018*\"include\" + 0.018*\"age\" + 0.017*\"whether\" + 0.016*\"test\"'),\n",
       " (3,\n",
       "  '0.027*\"mental\" + 0.026*\"prevalence\" + 0.025*\"disorder\" + 0.024*\"anxiety\" + 0.021*\"among\" + 0.021*\"health\" + 0.021*\"depression\" + 0.020*\"high\" + 0.018*\"associate\" + 0.018*\"age\"'),\n",
       " (4,\n",
       "  '0.034*\"depression\" + 0.022*\"high\" + 0.021*\"base\" + 0.021*\"risk\" + 0.019*\"age\" + 0.019*\"health\" + 0.019*\"disorder\" + 0.019*\"sample\" + 0.018*\"alcohol use\" + 0.018*\"associate\"'),\n",
       " (5,\n",
       "  '0.029*\"disorder\" + 0.028*\"risk\" + 0.024*\"depressive\" + 0.019*\"among\" + 0.019*\"depression\" + 0.019*\"health\" + 0.017*\"high\" + 0.017*\"associate\" + 0.016*\"drug\" + 0.016*\"major\"'),\n",
       " (6,\n",
       "  '0.032*\"depression\" + 0.025*\"age\" + 0.018*\"data\" + 0.018*\"relate\" + 0.018*\"high\" + 0.018*\"significant\" + 0.017*\"associate\" + 0.017*\"year\" + 0.016*\"among\" + 0.016*\"health\"'),\n",
       " (7,\n",
       "  '0.036*\"regression\" + 0.035*\"logistic\" + 0.033*\"logistic regression\" + 0.023*\"associate\" + 0.023*\"health\" + 0.022*\"depression\" + 0.022*\"data\" + 0.018*\"age\" + 0.018*\"risk\" + 0.016*\"population\"'),\n",
       " (8,\n",
       "  '0.032*\"substance\" + 0.031*\"substance use\" + 0.026*\"depression\" + 0.025*\"health\" + 0.024*\"data\" + 0.022*\"drug\" + 0.020*\"risk\" + 0.018*\"self\" + 0.018*\"among\" + 0.017*\"adolescent\"'),\n",
       " (9,\n",
       "  '0.027*\"depression\" + 0.025*\"associate\" + 0.024*\"high\" + 0.020*\"alcohol use\" + 0.020*\"risk\" + 0.017*\"effect\" + 0.017*\"data\" + 0.017*\"health\" + 0.016*\"age\" + 0.016*\"low\"')]"
      ]
     },
     "execution_count": 50,
     "metadata": {},
     "output_type": "execute_result"
    }
   ],
   "source": [
    "lda_model.print_topics(10)"
   ]
  },
  {
   "cell_type": "markdown",
   "id": "c86dd845",
   "metadata": {},
   "source": [
    "This has similar topic groupings as the baseline NMF models"
   ]
  },
  {
   "cell_type": "markdown",
   "id": "a11e58fe",
   "metadata": {},
   "source": [
    "#### LDA with TF-IDF"
   ]
  },
  {
   "cell_type": "code",
   "execution_count": 52,
   "id": "142a08b5",
   "metadata": {},
   "outputs": [
    {
     "name": "stderr",
     "output_type": "stream",
     "text": [
      "/Users/varshagarla/opt/anaconda3/lib/python3.8/site-packages/ipykernel/ipkernel.py:287: DeprecationWarning: `should_run_async` will not call `transform_cell` automatically in the future. Please pass the result to `transformed_cell` argument and any exception that happen during thetransform in `preprocessing_exc_tuple` in IPython 7.17 and above.\n",
      "  and should_run_async(code)\n"
     ]
    },
    {
     "data": {
      "text/plain": [
       "(140, 726)"
      ]
     },
     "execution_count": 52,
     "metadata": {},
     "output_type": "execute_result"
    }
   ],
   "source": [
    "# Create the term-document matrix\n",
    "# Transpose the count vectorizer matrix it so the terms are the rows\n",
    "doc_word = abstracts_tfidf.transpose()\n",
    "\n",
    "doc_word.shape"
   ]
  },
  {
   "cell_type": "code",
   "execution_count": 53,
   "id": "fb84a44e",
   "metadata": {},
   "outputs": [
    {
     "name": "stderr",
     "output_type": "stream",
     "text": [
      "/Users/varshagarla/opt/anaconda3/lib/python3.8/site-packages/ipykernel/ipkernel.py:287: DeprecationWarning: `should_run_async` will not call `transform_cell` automatically in the future. Please pass the result to `transformed_cell` argument and any exception that happen during thetransform in `preprocessing_exc_tuple` in IPython 7.17 and above.\n",
      "  and should_run_async(code)\n"
     ]
    }
   ],
   "source": [
    "# Convert to gensim\n",
    "# Convert sparse matrix of counts to a gensim corpus\n",
    "corpus = matutils.Sparse2Corpus(doc_word)"
   ]
  },
  {
   "cell_type": "code",
   "execution_count": 54,
   "id": "5e2dcdc4",
   "metadata": {},
   "outputs": [
    {
     "name": "stderr",
     "output_type": "stream",
     "text": [
      "/Users/varshagarla/opt/anaconda3/lib/python3.8/site-packages/ipykernel/ipkernel.py:287: DeprecationWarning: `should_run_async` will not call `transform_cell` automatically in the future. Please pass the result to `transformed_cell` argument and any exception that happen during thetransform in `preprocessing_exc_tuple` in IPython 7.17 and above.\n",
      "  and should_run_async(code)\n"
     ]
    }
   ],
   "source": [
    "# Map matrix rows to words (tokens)\n",
    "# We need to save a mapping (dict) of row id to word (token) for later use by gensim\n",
    "id2word = dict((v, k) for k, v in tfidf.vocabulary_.items())"
   ]
  },
  {
   "cell_type": "code",
   "execution_count": 55,
   "id": "1e0d2206",
   "metadata": {},
   "outputs": [
    {
     "name": "stderr",
     "output_type": "stream",
     "text": [
      "/Users/varshagarla/opt/anaconda3/lib/python3.8/site-packages/ipykernel/ipkernel.py:287: DeprecationWarning: `should_run_async` will not call `transform_cell` automatically in the future. Please pass the result to `transformed_cell` argument and any exception that happen during thetransform in `preprocessing_exc_tuple` in IPython 7.17 and above.\n",
      "  and should_run_async(code)\n"
     ]
    },
    {
     "data": {
      "text/plain": [
       "140"
      ]
     },
     "execution_count": 55,
     "metadata": {},
     "output_type": "execute_result"
    }
   ],
   "source": [
    "len(id2word)"
   ]
  },
  {
   "cell_type": "code",
   "execution_count": 56,
   "id": "6d1d61f2",
   "metadata": {},
   "outputs": [
    {
     "name": "stderr",
     "output_type": "stream",
     "text": [
      "/Users/varshagarla/opt/anaconda3/lib/python3.8/site-packages/ipykernel/ipkernel.py:287: DeprecationWarning: `should_run_async` will not call `transform_cell` automatically in the future. Please pass the result to `transformed_cell` argument and any exception that happen during thetransform in `preprocessing_exc_tuple` in IPython 7.17 and above.\n",
      "  and should_run_async(code)\n"
     ]
    }
   ],
   "source": [
    "# Create lda model (equivalent to \"fit\" in sklearn)\n",
    "lda_model = models.LdaModel(corpus=corpus, num_topics=10, id2word=id2word, passes=5)"
   ]
  },
  {
   "cell_type": "code",
   "execution_count": 57,
   "id": "384d9e5b",
   "metadata": {},
   "outputs": [
    {
     "name": "stderr",
     "output_type": "stream",
     "text": [
      "/Users/varshagarla/opt/anaconda3/lib/python3.8/site-packages/ipykernel/ipkernel.py:287: DeprecationWarning: `should_run_async` will not call `transform_cell` automatically in the future. Please pass the result to `transformed_cell` argument and any exception that happen during thetransform in `preprocessing_exc_tuple` in IPython 7.17 and above.\n",
      "  and should_run_async(code)\n"
     ]
    },
    {
     "data": {
      "text/plain": [
       "[(0,\n",
       "  '0.016*\"relationship\" + 0.015*\"support\" + 0.015*\"effect\" + 0.015*\"anxiety\" + 0.014*\"drug\" + 0.014*\"associate\" + 0.014*\"assess\" + 0.014*\"depressive\" + 0.013*\"relate\" + 0.013*\"depression\"'),\n",
       " (1,\n",
       "  '0.016*\"substance\" + 0.015*\"regression\" + 0.015*\"logistic\" + 0.015*\"disorder\" + 0.015*\"logistic regression\" + 0.015*\"anxiety\" + 0.015*\"substance use\" + 0.014*\"associate\" + 0.013*\"depression\" + 0.013*\"drug\"'),\n",
       " (2,\n",
       "  '0.019*\"drug\" + 0.018*\"men\" + 0.017*\"health\" + 0.017*\"young\" + 0.016*\"drug use\" + 0.015*\"risk\" + 0.015*\"major\" + 0.015*\"mental\" + 0.015*\"sex\" + 0.014*\"age\"'),\n",
       " (3,\n",
       "  '0.020*\"test\" + 0.018*\"cross\" + 0.018*\"cross sectional\" + 0.018*\"sectional\" + 0.018*\"scale\" + 0.016*\"alcohol use\" + 0.015*\"depression\" + 0.015*\"dependence\" + 0.014*\"disorder\" + 0.014*\"measure\"'),\n",
       " (4,\n",
       "  '0.019*\"disorder\" + 0.016*\"psychiatric\" + 0.015*\"depressive\" + 0.015*\"gender\" + 0.015*\"age\" + 0.014*\"time\" + 0.014*\"alcohol use\" + 0.014*\"major\" + 0.014*\"sample\" + 0.014*\"associate\"'),\n",
       " (5,\n",
       "  '0.016*\"mean\" + 0.015*\"alcohol use\" + 0.015*\"depression\" + 0.015*\"assess\" + 0.015*\"adolescence\" + 0.015*\"related\" + 0.014*\"age\" + 0.014*\"associate\" + 0.014*\"early\" + 0.013*\"effect\"'),\n",
       " (6,\n",
       "  '0.013*\"association\" + 0.013*\"significant\" + 0.012*\"regression\" + 0.012*\"depression\" + 0.012*\"base\" + 0.012*\"age\" + 0.011*\"education\" + 0.011*\"logistic\" + 0.011*\"health\" + 0.011*\"tobacco\"'),\n",
       " (7,\n",
       "  '0.016*\"depression\" + 0.014*\"health\" + 0.013*\"high\" + 0.013*\"alcohol use\" + 0.013*\"risk\" + 0.013*\"self\" + 0.012*\"include\" + 0.012*\"mental\" + 0.012*\"data\" + 0.012*\"anxiety\"'),\n",
       " (8,\n",
       "  '0.021*\"consumption\" + 0.021*\"drink\" + 0.020*\"alcohol consumption\" + 0.018*\"drinking\" + 0.015*\"effect\" + 0.015*\"smoking\" + 0.015*\"depression\" + 0.014*\"risk\" + 0.014*\"smoke\" + 0.014*\"age\"'),\n",
       " (9,\n",
       "  '0.035*\"cross sectional\" + 0.035*\"sectional\" + 0.034*\"cross\" + 0.016*\"associate\" + 0.016*\"health\" + 0.015*\"regression\" + 0.014*\"prevalence\" + 0.014*\"depression\" + 0.013*\"demographic\" + 0.013*\"survey\"')]"
      ]
     },
     "execution_count": 57,
     "metadata": {},
     "output_type": "execute_result"
    }
   ],
   "source": [
    "lda_model.print_topics(10)"
   ]
  },
  {
   "cell_type": "markdown",
   "id": "3ae2ecca",
   "metadata": {},
   "source": [
    "These also have similar topic groupings to NMF model"
   ]
  },
  {
   "cell_type": "markdown",
   "id": "4d1b7daf",
   "metadata": {},
   "source": [
    "### LSA + TF-IDF with 20 topics"
   ]
  },
  {
   "cell_type": "code",
   "execution_count": 58,
   "id": "5300ad70",
   "metadata": {},
   "outputs": [
    {
     "name": "stderr",
     "output_type": "stream",
     "text": [
      "/Users/varshagarla/opt/anaconda3/lib/python3.8/site-packages/ipykernel/ipkernel.py:287: DeprecationWarning: `should_run_async` will not call `transform_cell` automatically in the future. Please pass the result to `transformed_cell` argument and any exception that happen during thetransform in `preprocessing_exc_tuple` in IPython 7.17 and above.\n",
      "  and should_run_async(code)\n"
     ]
    },
    {
     "data": {
      "text/plain": [
       "array([0.00497757, 0.02897875, 0.02618022, 0.02406799, 0.02159315,\n",
       "       0.01979977, 0.01811882, 0.01610904, 0.01545485, 0.0153775 ,\n",
       "       0.01488497, 0.0137993 , 0.0136024 , 0.01330242, 0.0129975 ,\n",
       "       0.01269368, 0.01231966, 0.01225413, 0.01203876, 0.01185166])"
      ]
     },
     "execution_count": 58,
     "metadata": {},
     "output_type": "execute_result"
    }
   ],
   "source": [
    "lsa_model = TruncatedSVD(20)\n",
    "\n",
    "doc_topic = lsa_model.fit_transform(abstracts_tfidf)  #fit onto vectorized data\n",
    "\n",
    "lsa_model.explained_variance_ratio_"
   ]
  },
  {
   "cell_type": "code",
   "execution_count": 59,
   "id": "0e376ebb",
   "metadata": {},
   "outputs": [
    {
     "name": "stderr",
     "output_type": "stream",
     "text": [
      "/Users/varshagarla/opt/anaconda3/lib/python3.8/site-packages/ipykernel/ipkernel.py:287: DeprecationWarning: `should_run_async` will not call `transform_cell` automatically in the future. Please pass the result to `transformed_cell` argument and any exception that happen during thetransform in `preprocessing_exc_tuple` in IPython 7.17 and above.\n",
      "  and should_run_async(code)\n"
     ]
    },
    {
     "data": {
      "text/html": [
       "<div>\n",
       "<style scoped>\n",
       "    .dataframe tbody tr th:only-of-type {\n",
       "        vertical-align: middle;\n",
       "    }\n",
       "\n",
       "    .dataframe tbody tr th {\n",
       "        vertical-align: top;\n",
       "    }\n",
       "\n",
       "    .dataframe thead th {\n",
       "        text-align: right;\n",
       "    }\n",
       "</style>\n",
       "<table border=\"1\" class=\"dataframe\">\n",
       "  <thead>\n",
       "    <tr style=\"text-align: right;\">\n",
       "      <th></th>\n",
       "      <th>abuse</th>\n",
       "      <th>adolescence</th>\n",
       "      <th>adolescent</th>\n",
       "      <th>adult</th>\n",
       "      <th>age</th>\n",
       "      <th>aim</th>\n",
       "      <th>alcohol consumption</th>\n",
       "      <th>alcohol use</th>\n",
       "      <th>analysis</th>\n",
       "      <th>anxiety</th>\n",
       "      <th>...</th>\n",
       "      <th>survey</th>\n",
       "      <th>test</th>\n",
       "      <th>time</th>\n",
       "      <th>tobacco</th>\n",
       "      <th>total</th>\n",
       "      <th>treatment</th>\n",
       "      <th>use disorder</th>\n",
       "      <th>year</th>\n",
       "      <th>young</th>\n",
       "      <th>youth</th>\n",
       "    </tr>\n",
       "  </thead>\n",
       "  <tbody>\n",
       "    <tr>\n",
       "      <th>component_0</th>\n",
       "      <td>0.081</td>\n",
       "      <td>0.057</td>\n",
       "      <td>0.091</td>\n",
       "      <td>0.073</td>\n",
       "      <td>0.144</td>\n",
       "      <td>0.057</td>\n",
       "      <td>0.069</td>\n",
       "      <td>0.131</td>\n",
       "      <td>0.119</td>\n",
       "      <td>0.125</td>\n",
       "      <td>...</td>\n",
       "      <td>0.107</td>\n",
       "      <td>0.079</td>\n",
       "      <td>0.098</td>\n",
       "      <td>0.083</td>\n",
       "      <td>0.072</td>\n",
       "      <td>0.086</td>\n",
       "      <td>0.062</td>\n",
       "      <td>0.080</td>\n",
       "      <td>0.079</td>\n",
       "      <td>0.061</td>\n",
       "    </tr>\n",
       "    <tr>\n",
       "      <th>component_1</th>\n",
       "      <td>-0.088</td>\n",
       "      <td>0.186</td>\n",
       "      <td>0.184</td>\n",
       "      <td>0.013</td>\n",
       "      <td>0.045</td>\n",
       "      <td>-0.035</td>\n",
       "      <td>0.121</td>\n",
       "      <td>0.069</td>\n",
       "      <td>0.007</td>\n",
       "      <td>-0.026</td>\n",
       "      <td>...</td>\n",
       "      <td>-0.116</td>\n",
       "      <td>0.062</td>\n",
       "      <td>0.100</td>\n",
       "      <td>-0.005</td>\n",
       "      <td>-0.042</td>\n",
       "      <td>-0.104</td>\n",
       "      <td>-0.108</td>\n",
       "      <td>0.010</td>\n",
       "      <td>0.043</td>\n",
       "      <td>0.122</td>\n",
       "    </tr>\n",
       "    <tr>\n",
       "      <th>component_2</th>\n",
       "      <td>-0.052</td>\n",
       "      <td>-0.079</td>\n",
       "      <td>-0.071</td>\n",
       "      <td>-0.053</td>\n",
       "      <td>0.011</td>\n",
       "      <td>0.041</td>\n",
       "      <td>0.211</td>\n",
       "      <td>-0.079</td>\n",
       "      <td>0.087</td>\n",
       "      <td>-0.081</td>\n",
       "      <td>...</td>\n",
       "      <td>0.003</td>\n",
       "      <td>0.002</td>\n",
       "      <td>-0.016</td>\n",
       "      <td>0.032</td>\n",
       "      <td>0.009</td>\n",
       "      <td>-0.133</td>\n",
       "      <td>-0.135</td>\n",
       "      <td>-0.042</td>\n",
       "      <td>-0.060</td>\n",
       "      <td>-0.067</td>\n",
       "    </tr>\n",
       "    <tr>\n",
       "      <th>component_3</th>\n",
       "      <td>0.001</td>\n",
       "      <td>-0.093</td>\n",
       "      <td>-0.162</td>\n",
       "      <td>-0.062</td>\n",
       "      <td>-0.009</td>\n",
       "      <td>0.068</td>\n",
       "      <td>0.153</td>\n",
       "      <td>0.097</td>\n",
       "      <td>-0.039</td>\n",
       "      <td>0.144</td>\n",
       "      <td>...</td>\n",
       "      <td>-0.117</td>\n",
       "      <td>0.162</td>\n",
       "      <td>-0.048</td>\n",
       "      <td>-0.102</td>\n",
       "      <td>0.097</td>\n",
       "      <td>0.162</td>\n",
       "      <td>0.071</td>\n",
       "      <td>-0.060</td>\n",
       "      <td>0.029</td>\n",
       "      <td>-0.131</td>\n",
       "    </tr>\n",
       "    <tr>\n",
       "      <th>component_4</th>\n",
       "      <td>0.020</td>\n",
       "      <td>0.013</td>\n",
       "      <td>0.045</td>\n",
       "      <td>-0.055</td>\n",
       "      <td>-0.004</td>\n",
       "      <td>-0.022</td>\n",
       "      <td>-0.131</td>\n",
       "      <td>0.024</td>\n",
       "      <td>-0.043</td>\n",
       "      <td>0.003</td>\n",
       "      <td>...</td>\n",
       "      <td>0.022</td>\n",
       "      <td>0.000</td>\n",
       "      <td>0.037</td>\n",
       "      <td>-0.057</td>\n",
       "      <td>-0.006</td>\n",
       "      <td>-0.040</td>\n",
       "      <td>-0.056</td>\n",
       "      <td>-0.003</td>\n",
       "      <td>0.039</td>\n",
       "      <td>0.099</td>\n",
       "    </tr>\n",
       "    <tr>\n",
       "      <th>component_5</th>\n",
       "      <td>0.014</td>\n",
       "      <td>-0.012</td>\n",
       "      <td>-0.063</td>\n",
       "      <td>0.039</td>\n",
       "      <td>0.021</td>\n",
       "      <td>-0.040</td>\n",
       "      <td>-0.007</td>\n",
       "      <td>0.106</td>\n",
       "      <td>-0.040</td>\n",
       "      <td>-0.134</td>\n",
       "      <td>...</td>\n",
       "      <td>0.095</td>\n",
       "      <td>0.093</td>\n",
       "      <td>-0.028</td>\n",
       "      <td>-0.055</td>\n",
       "      <td>-0.058</td>\n",
       "      <td>0.065</td>\n",
       "      <td>0.195</td>\n",
       "      <td>0.037</td>\n",
       "      <td>-0.039</td>\n",
       "      <td>-0.093</td>\n",
       "    </tr>\n",
       "    <tr>\n",
       "      <th>component_6</th>\n",
       "      <td>-0.055</td>\n",
       "      <td>-0.149</td>\n",
       "      <td>-0.105</td>\n",
       "      <td>0.042</td>\n",
       "      <td>-0.042</td>\n",
       "      <td>-0.085</td>\n",
       "      <td>0.148</td>\n",
       "      <td>-0.085</td>\n",
       "      <td>-0.062</td>\n",
       "      <td>-0.038</td>\n",
       "      <td>...</td>\n",
       "      <td>0.235</td>\n",
       "      <td>-0.124</td>\n",
       "      <td>-0.088</td>\n",
       "      <td>0.041</td>\n",
       "      <td>-0.052</td>\n",
       "      <td>0.053</td>\n",
       "      <td>-0.080</td>\n",
       "      <td>0.078</td>\n",
       "      <td>0.009</td>\n",
       "      <td>-0.028</td>\n",
       "    </tr>\n",
       "    <tr>\n",
       "      <th>component_7</th>\n",
       "      <td>0.003</td>\n",
       "      <td>0.087</td>\n",
       "      <td>0.061</td>\n",
       "      <td>0.056</td>\n",
       "      <td>0.119</td>\n",
       "      <td>-0.054</td>\n",
       "      <td>0.031</td>\n",
       "      <td>-0.040</td>\n",
       "      <td>-0.015</td>\n",
       "      <td>-0.202</td>\n",
       "      <td>...</td>\n",
       "      <td>0.098</td>\n",
       "      <td>-0.032</td>\n",
       "      <td>0.131</td>\n",
       "      <td>-0.017</td>\n",
       "      <td>0.017</td>\n",
       "      <td>-0.152</td>\n",
       "      <td>-0.008</td>\n",
       "      <td>-0.060</td>\n",
       "      <td>0.099</td>\n",
       "      <td>-0.014</td>\n",
       "    </tr>\n",
       "    <tr>\n",
       "      <th>component_8</th>\n",
       "      <td>-0.076</td>\n",
       "      <td>0.097</td>\n",
       "      <td>-0.063</td>\n",
       "      <td>-0.111</td>\n",
       "      <td>0.001</td>\n",
       "      <td>0.057</td>\n",
       "      <td>0.039</td>\n",
       "      <td>0.026</td>\n",
       "      <td>0.032</td>\n",
       "      <td>-0.162</td>\n",
       "      <td>...</td>\n",
       "      <td>-0.069</td>\n",
       "      <td>-0.042</td>\n",
       "      <td>0.191</td>\n",
       "      <td>0.136</td>\n",
       "      <td>-0.031</td>\n",
       "      <td>0.162</td>\n",
       "      <td>0.103</td>\n",
       "      <td>-0.007</td>\n",
       "      <td>-0.167</td>\n",
       "      <td>-0.048</td>\n",
       "    </tr>\n",
       "    <tr>\n",
       "      <th>component_9</th>\n",
       "      <td>-0.087</td>\n",
       "      <td>0.012</td>\n",
       "      <td>0.038</td>\n",
       "      <td>0.041</td>\n",
       "      <td>0.006</td>\n",
       "      <td>-0.003</td>\n",
       "      <td>0.032</td>\n",
       "      <td>-0.140</td>\n",
       "      <td>0.020</td>\n",
       "      <td>0.036</td>\n",
       "      <td>...</td>\n",
       "      <td>-0.024</td>\n",
       "      <td>-0.090</td>\n",
       "      <td>0.110</td>\n",
       "      <td>0.216</td>\n",
       "      <td>0.128</td>\n",
       "      <td>0.055</td>\n",
       "      <td>-0.045</td>\n",
       "      <td>0.159</td>\n",
       "      <td>-0.025</td>\n",
       "      <td>-0.075</td>\n",
       "    </tr>\n",
       "    <tr>\n",
       "      <th>component_10</th>\n",
       "      <td>0.050</td>\n",
       "      <td>0.072</td>\n",
       "      <td>0.014</td>\n",
       "      <td>0.072</td>\n",
       "      <td>0.118</td>\n",
       "      <td>-0.043</td>\n",
       "      <td>0.260</td>\n",
       "      <td>-0.048</td>\n",
       "      <td>0.016</td>\n",
       "      <td>0.220</td>\n",
       "      <td>...</td>\n",
       "      <td>-0.038</td>\n",
       "      <td>-0.035</td>\n",
       "      <td>0.022</td>\n",
       "      <td>-0.137</td>\n",
       "      <td>0.067</td>\n",
       "      <td>-0.106</td>\n",
       "      <td>0.070</td>\n",
       "      <td>0.002</td>\n",
       "      <td>-0.041</td>\n",
       "      <td>-0.129</td>\n",
       "    </tr>\n",
       "    <tr>\n",
       "      <th>component_11</th>\n",
       "      <td>-0.042</td>\n",
       "      <td>-0.052</td>\n",
       "      <td>-0.135</td>\n",
       "      <td>-0.017</td>\n",
       "      <td>0.058</td>\n",
       "      <td>0.074</td>\n",
       "      <td>-0.113</td>\n",
       "      <td>0.006</td>\n",
       "      <td>0.065</td>\n",
       "      <td>0.061</td>\n",
       "      <td>...</td>\n",
       "      <td>0.037</td>\n",
       "      <td>0.037</td>\n",
       "      <td>-0.244</td>\n",
       "      <td>0.209</td>\n",
       "      <td>0.093</td>\n",
       "      <td>-0.048</td>\n",
       "      <td>0.006</td>\n",
       "      <td>-0.076</td>\n",
       "      <td>0.057</td>\n",
       "      <td>-0.019</td>\n",
       "    </tr>\n",
       "    <tr>\n",
       "      <th>component_12</th>\n",
       "      <td>0.131</td>\n",
       "      <td>0.018</td>\n",
       "      <td>0.066</td>\n",
       "      <td>0.221</td>\n",
       "      <td>-0.006</td>\n",
       "      <td>-0.065</td>\n",
       "      <td>-0.280</td>\n",
       "      <td>-0.017</td>\n",
       "      <td>0.081</td>\n",
       "      <td>0.117</td>\n",
       "      <td>...</td>\n",
       "      <td>0.069</td>\n",
       "      <td>0.017</td>\n",
       "      <td>-0.039</td>\n",
       "      <td>0.026</td>\n",
       "      <td>-0.020</td>\n",
       "      <td>-0.054</td>\n",
       "      <td>-0.139</td>\n",
       "      <td>-0.075</td>\n",
       "      <td>-0.100</td>\n",
       "      <td>-0.092</td>\n",
       "    </tr>\n",
       "    <tr>\n",
       "      <th>component_13</th>\n",
       "      <td>0.068</td>\n",
       "      <td>0.099</td>\n",
       "      <td>0.123</td>\n",
       "      <td>0.137</td>\n",
       "      <td>-0.094</td>\n",
       "      <td>0.064</td>\n",
       "      <td>0.063</td>\n",
       "      <td>-0.090</td>\n",
       "      <td>-0.039</td>\n",
       "      <td>0.024</td>\n",
       "      <td>...</td>\n",
       "      <td>-0.041</td>\n",
       "      <td>0.008</td>\n",
       "      <td>-0.065</td>\n",
       "      <td>0.082</td>\n",
       "      <td>-0.166</td>\n",
       "      <td>0.103</td>\n",
       "      <td>0.078</td>\n",
       "      <td>-0.248</td>\n",
       "      <td>-0.040</td>\n",
       "      <td>-0.097</td>\n",
       "    </tr>\n",
       "    <tr>\n",
       "      <th>component_14</th>\n",
       "      <td>-0.161</td>\n",
       "      <td>-0.078</td>\n",
       "      <td>-0.088</td>\n",
       "      <td>-0.055</td>\n",
       "      <td>0.111</td>\n",
       "      <td>-0.011</td>\n",
       "      <td>-0.078</td>\n",
       "      <td>0.100</td>\n",
       "      <td>0.033</td>\n",
       "      <td>-0.144</td>\n",
       "      <td>...</td>\n",
       "      <td>-0.012</td>\n",
       "      <td>-0.019</td>\n",
       "      <td>0.007</td>\n",
       "      <td>0.043</td>\n",
       "      <td>0.060</td>\n",
       "      <td>0.063</td>\n",
       "      <td>0.138</td>\n",
       "      <td>-0.066</td>\n",
       "      <td>0.101</td>\n",
       "      <td>0.002</td>\n",
       "    </tr>\n",
       "    <tr>\n",
       "      <th>component_15</th>\n",
       "      <td>-0.024</td>\n",
       "      <td>-0.039</td>\n",
       "      <td>0.006</td>\n",
       "      <td>0.232</td>\n",
       "      <td>0.070</td>\n",
       "      <td>0.066</td>\n",
       "      <td>-0.011</td>\n",
       "      <td>0.132</td>\n",
       "      <td>0.040</td>\n",
       "      <td>-0.037</td>\n",
       "      <td>...</td>\n",
       "      <td>0.107</td>\n",
       "      <td>0.111</td>\n",
       "      <td>-0.111</td>\n",
       "      <td>0.026</td>\n",
       "      <td>0.071</td>\n",
       "      <td>0.114</td>\n",
       "      <td>0.041</td>\n",
       "      <td>-0.027</td>\n",
       "      <td>0.004</td>\n",
       "      <td>0.009</td>\n",
       "    </tr>\n",
       "    <tr>\n",
       "      <th>component_16</th>\n",
       "      <td>0.048</td>\n",
       "      <td>-0.056</td>\n",
       "      <td>-0.001</td>\n",
       "      <td>-0.091</td>\n",
       "      <td>-0.022</td>\n",
       "      <td>0.058</td>\n",
       "      <td>0.001</td>\n",
       "      <td>-0.116</td>\n",
       "      <td>0.033</td>\n",
       "      <td>-0.087</td>\n",
       "      <td>...</td>\n",
       "      <td>0.104</td>\n",
       "      <td>-0.121</td>\n",
       "      <td>0.069</td>\n",
       "      <td>0.034</td>\n",
       "      <td>-0.006</td>\n",
       "      <td>0.151</td>\n",
       "      <td>-0.101</td>\n",
       "      <td>0.060</td>\n",
       "      <td>0.033</td>\n",
       "      <td>-0.041</td>\n",
       "    </tr>\n",
       "    <tr>\n",
       "      <th>component_17</th>\n",
       "      <td>-0.070</td>\n",
       "      <td>-0.055</td>\n",
       "      <td>-0.210</td>\n",
       "      <td>-0.015</td>\n",
       "      <td>0.011</td>\n",
       "      <td>0.050</td>\n",
       "      <td>-0.140</td>\n",
       "      <td>0.067</td>\n",
       "      <td>0.028</td>\n",
       "      <td>-0.020</td>\n",
       "      <td>...</td>\n",
       "      <td>0.077</td>\n",
       "      <td>0.046</td>\n",
       "      <td>0.112</td>\n",
       "      <td>0.057</td>\n",
       "      <td>0.120</td>\n",
       "      <td>-0.104</td>\n",
       "      <td>0.043</td>\n",
       "      <td>0.081</td>\n",
       "      <td>0.012</td>\n",
       "      <td>-0.053</td>\n",
       "    </tr>\n",
       "    <tr>\n",
       "      <th>component_18</th>\n",
       "      <td>0.125</td>\n",
       "      <td>-0.055</td>\n",
       "      <td>-0.085</td>\n",
       "      <td>0.082</td>\n",
       "      <td>-0.019</td>\n",
       "      <td>-0.093</td>\n",
       "      <td>-0.051</td>\n",
       "      <td>-0.024</td>\n",
       "      <td>0.078</td>\n",
       "      <td>0.134</td>\n",
       "      <td>...</td>\n",
       "      <td>0.026</td>\n",
       "      <td>-0.053</td>\n",
       "      <td>0.010</td>\n",
       "      <td>0.049</td>\n",
       "      <td>0.247</td>\n",
       "      <td>0.019</td>\n",
       "      <td>-0.043</td>\n",
       "      <td>-0.032</td>\n",
       "      <td>-0.018</td>\n",
       "      <td>-0.016</td>\n",
       "    </tr>\n",
       "    <tr>\n",
       "      <th>component_19</th>\n",
       "      <td>-0.053</td>\n",
       "      <td>0.110</td>\n",
       "      <td>-0.041</td>\n",
       "      <td>-0.008</td>\n",
       "      <td>0.052</td>\n",
       "      <td>-0.004</td>\n",
       "      <td>0.010</td>\n",
       "      <td>0.044</td>\n",
       "      <td>0.048</td>\n",
       "      <td>0.094</td>\n",
       "      <td>...</td>\n",
       "      <td>-0.100</td>\n",
       "      <td>-0.034</td>\n",
       "      <td>0.024</td>\n",
       "      <td>-0.026</td>\n",
       "      <td>-0.105</td>\n",
       "      <td>-0.087</td>\n",
       "      <td>0.050</td>\n",
       "      <td>0.129</td>\n",
       "      <td>-0.060</td>\n",
       "      <td>-0.040</td>\n",
       "    </tr>\n",
       "  </tbody>\n",
       "</table>\n",
       "<p>20 rows × 140 columns</p>\n",
       "</div>"
      ],
      "text/plain": [
       "              abuse  adolescence  adolescent  adult    age    aim  \\\n",
       "component_0   0.081        0.057       0.091  0.073  0.144  0.057   \n",
       "component_1  -0.088        0.186       0.184  0.013  0.045 -0.035   \n",
       "component_2  -0.052       -0.079      -0.071 -0.053  0.011  0.041   \n",
       "component_3   0.001       -0.093      -0.162 -0.062 -0.009  0.068   \n",
       "component_4   0.020        0.013       0.045 -0.055 -0.004 -0.022   \n",
       "component_5   0.014       -0.012      -0.063  0.039  0.021 -0.040   \n",
       "component_6  -0.055       -0.149      -0.105  0.042 -0.042 -0.085   \n",
       "component_7   0.003        0.087       0.061  0.056  0.119 -0.054   \n",
       "component_8  -0.076        0.097      -0.063 -0.111  0.001  0.057   \n",
       "component_9  -0.087        0.012       0.038  0.041  0.006 -0.003   \n",
       "component_10  0.050        0.072       0.014  0.072  0.118 -0.043   \n",
       "component_11 -0.042       -0.052      -0.135 -0.017  0.058  0.074   \n",
       "component_12  0.131        0.018       0.066  0.221 -0.006 -0.065   \n",
       "component_13  0.068        0.099       0.123  0.137 -0.094  0.064   \n",
       "component_14 -0.161       -0.078      -0.088 -0.055  0.111 -0.011   \n",
       "component_15 -0.024       -0.039       0.006  0.232  0.070  0.066   \n",
       "component_16  0.048       -0.056      -0.001 -0.091 -0.022  0.058   \n",
       "component_17 -0.070       -0.055      -0.210 -0.015  0.011  0.050   \n",
       "component_18  0.125       -0.055      -0.085  0.082 -0.019 -0.093   \n",
       "component_19 -0.053        0.110      -0.041 -0.008  0.052 -0.004   \n",
       "\n",
       "              alcohol consumption  alcohol use  analysis  anxiety  ...  \\\n",
       "component_0                 0.069        0.131     0.119    0.125  ...   \n",
       "component_1                 0.121        0.069     0.007   -0.026  ...   \n",
       "component_2                 0.211       -0.079     0.087   -0.081  ...   \n",
       "component_3                 0.153        0.097    -0.039    0.144  ...   \n",
       "component_4                -0.131        0.024    -0.043    0.003  ...   \n",
       "component_5                -0.007        0.106    -0.040   -0.134  ...   \n",
       "component_6                 0.148       -0.085    -0.062   -0.038  ...   \n",
       "component_7                 0.031       -0.040    -0.015   -0.202  ...   \n",
       "component_8                 0.039        0.026     0.032   -0.162  ...   \n",
       "component_9                 0.032       -0.140     0.020    0.036  ...   \n",
       "component_10                0.260       -0.048     0.016    0.220  ...   \n",
       "component_11               -0.113        0.006     0.065    0.061  ...   \n",
       "component_12               -0.280       -0.017     0.081    0.117  ...   \n",
       "component_13                0.063       -0.090    -0.039    0.024  ...   \n",
       "component_14               -0.078        0.100     0.033   -0.144  ...   \n",
       "component_15               -0.011        0.132     0.040   -0.037  ...   \n",
       "component_16                0.001       -0.116     0.033   -0.087  ...   \n",
       "component_17               -0.140        0.067     0.028   -0.020  ...   \n",
       "component_18               -0.051       -0.024     0.078    0.134  ...   \n",
       "component_19                0.010        0.044     0.048    0.094  ...   \n",
       "\n",
       "              survey   test   time  tobacco  total  treatment  use disorder  \\\n",
       "component_0    0.107  0.079  0.098    0.083  0.072      0.086         0.062   \n",
       "component_1   -0.116  0.062  0.100   -0.005 -0.042     -0.104        -0.108   \n",
       "component_2    0.003  0.002 -0.016    0.032  0.009     -0.133        -0.135   \n",
       "component_3   -0.117  0.162 -0.048   -0.102  0.097      0.162         0.071   \n",
       "component_4    0.022  0.000  0.037   -0.057 -0.006     -0.040        -0.056   \n",
       "component_5    0.095  0.093 -0.028   -0.055 -0.058      0.065         0.195   \n",
       "component_6    0.235 -0.124 -0.088    0.041 -0.052      0.053        -0.080   \n",
       "component_7    0.098 -0.032  0.131   -0.017  0.017     -0.152        -0.008   \n",
       "component_8   -0.069 -0.042  0.191    0.136 -0.031      0.162         0.103   \n",
       "component_9   -0.024 -0.090  0.110    0.216  0.128      0.055        -0.045   \n",
       "component_10  -0.038 -0.035  0.022   -0.137  0.067     -0.106         0.070   \n",
       "component_11   0.037  0.037 -0.244    0.209  0.093     -0.048         0.006   \n",
       "component_12   0.069  0.017 -0.039    0.026 -0.020     -0.054        -0.139   \n",
       "component_13  -0.041  0.008 -0.065    0.082 -0.166      0.103         0.078   \n",
       "component_14  -0.012 -0.019  0.007    0.043  0.060      0.063         0.138   \n",
       "component_15   0.107  0.111 -0.111    0.026  0.071      0.114         0.041   \n",
       "component_16   0.104 -0.121  0.069    0.034 -0.006      0.151        -0.101   \n",
       "component_17   0.077  0.046  0.112    0.057  0.120     -0.104         0.043   \n",
       "component_18   0.026 -0.053  0.010    0.049  0.247      0.019        -0.043   \n",
       "component_19  -0.100 -0.034  0.024   -0.026 -0.105     -0.087         0.050   \n",
       "\n",
       "               year  young  youth  \n",
       "component_0   0.080  0.079  0.061  \n",
       "component_1   0.010  0.043  0.122  \n",
       "component_2  -0.042 -0.060 -0.067  \n",
       "component_3  -0.060  0.029 -0.131  \n",
       "component_4  -0.003  0.039  0.099  \n",
       "component_5   0.037 -0.039 -0.093  \n",
       "component_6   0.078  0.009 -0.028  \n",
       "component_7  -0.060  0.099 -0.014  \n",
       "component_8  -0.007 -0.167 -0.048  \n",
       "component_9   0.159 -0.025 -0.075  \n",
       "component_10  0.002 -0.041 -0.129  \n",
       "component_11 -0.076  0.057 -0.019  \n",
       "component_12 -0.075 -0.100 -0.092  \n",
       "component_13 -0.248 -0.040 -0.097  \n",
       "component_14 -0.066  0.101  0.002  \n",
       "component_15 -0.027  0.004  0.009  \n",
       "component_16  0.060  0.033 -0.041  \n",
       "component_17  0.081  0.012 -0.053  \n",
       "component_18 -0.032 -0.018 -0.016  \n",
       "component_19  0.129 -0.060 -0.040  \n",
       "\n",
       "[20 rows x 140 columns]"
      ]
     },
     "execution_count": 59,
     "metadata": {},
     "output_type": "execute_result"
    }
   ],
   "source": [
    "#This shows you what each term is likely to be in\n",
    "topic_word = pd.DataFrame(lsa_model.components_.round(3),\n",
    "             index = [\"component_0\",\"component_1\",\"component_2\",\"component_3\",\"component_4\",\n",
    "                     \"component_5\",\"component_6\",\"component_7\",\"component_8\",\"component_9\",\n",
    "                     \"component_10\", \"component_11\", \"component_12\", \"component_13\", \"component_14\",\n",
    "                     \"component_15\", \"component_16\", \"component_17\", \"component_18\", \"component_19\"],\n",
    "             columns = tfidf.get_feature_names())   #use name of vectorizer 'cv'\n",
    "topic_word"
   ]
  },
  {
   "cell_type": "code",
   "execution_count": 60,
   "id": "b571293d",
   "metadata": {},
   "outputs": [
    {
     "name": "stdout",
     "output_type": "stream",
     "text": [
      "\n",
      "Topic  0\n",
      "depression, health, associate, high, risk, age, data, mental, alcohol use, anxiety\n",
      "\n",
      "Topic  1\n",
      "drink, effect, drinking, adolescence, adolescent, longitudinal, early, negative, model, suggest\n",
      "\n",
      "Topic  2\n",
      "cross sectional, sectional, cross, consumption, alcohol consumption, logistic, regression, logistic regression, association, smoking\n",
      "\n",
      "Topic  3\n",
      "scale, clinical, test, treatment, consumption, primary, alcohol consumption, anxiety, stress, low\n",
      "\n",
      "Topic  4\n",
      "sectional, cross sectional, cross, drug, substance use, drug use, school, self, substance, family\n",
      "\n",
      "Topic  5\n",
      "depressive, major, use disorder, drink, disorder, past, drinking, current, lifetime, relate\n",
      "\n",
      "Topic  6\n",
      "mental health, survey, health, mental, drinking, consumption, national, alcohol consumption, smoking, past\n",
      "\n",
      "Topic  7\n",
      "population, suicide, cohort, national, low, men, old, early, time, general\n",
      "\n",
      "Topic  8\n",
      "substance use, time, substance, cohort, treatment, primary, care, base, tobacco, longitudinal\n",
      "\n",
      "Topic  9\n",
      "drug use, smoke, tobacco, drug, smoking, clinical, likely, year, follow, history\n",
      "\n",
      "Topic  10\n",
      "consumption, alcohol consumption, substance use, substance, anxiety, stress, depression anxiety, disorder, report, age\n",
      "\n",
      "Topic  11\n",
      "tobacco, low, smoking, suggest, substance, status, role, smoke, current, substance use\n",
      "\n",
      "Topic  12\n",
      "adult, role, national, suggest, longitudinal, depression anxiety, examine, population, evidence, abuse\n",
      "\n",
      "Topic  13\n",
      "negative, support, life, family, role, experience, identify, adult, provide, increase\n",
      "\n",
      "Topic  14\n",
      "likely, collect, related, questionnaire, mean, care, demographic, use disorder, public, drinking\n",
      "\n",
      "Topic  15\n",
      "primary, adult, identify, self, include, report, alcohol use, care, men, sex\n",
      "\n",
      "Topic  16\n",
      "present, old, psychological, self, relate, range, substance use, treatment, substance, investigate\n",
      "\n",
      "Topic  17\n",
      "relationship, negative, relate, significant, positive, reduce, related, future, include, increase\n",
      "\n",
      "Topic  18\n",
      "total, collect, negative, depression anxiety, substance, day, substance use, experience, anxiety, data\n",
      "\n",
      "Topic  19\n",
      "identify, past, multiple, future, related, sex, follow, relate, great, year\n"
     ]
    },
    {
     "name": "stderr",
     "output_type": "stream",
     "text": [
      "/Users/varshagarla/opt/anaconda3/lib/python3.8/site-packages/ipykernel/ipkernel.py:287: DeprecationWarning: `should_run_async` will not call `transform_cell` automatically in the future. Please pass the result to `transformed_cell` argument and any exception that happen during thetransform in `preprocessing_exc_tuple` in IPython 7.17 and above.\n",
      "  and should_run_async(code)\n"
     ]
    }
   ],
   "source": [
    "display_topics(lsa_model, tfidf.get_feature_names(), 10)"
   ]
  },
  {
   "cell_type": "markdown",
   "id": "2bedeede",
   "metadata": {},
   "source": [
    "We did not see suicide appear before with only 10 topics"
   ]
  },
  {
   "cell_type": "markdown",
   "id": "011c127a",
   "metadata": {},
   "source": [
    "### LSA + TF-IDF with 30 topics"
   ]
  },
  {
   "cell_type": "code",
   "execution_count": 103,
   "id": "d5dcf348",
   "metadata": {},
   "outputs": [
    {
     "name": "stderr",
     "output_type": "stream",
     "text": [
      "/Users/varshagarla/opt/anaconda3/lib/python3.8/site-packages/ipykernel/ipkernel.py:287: DeprecationWarning: `should_run_async` will not call `transform_cell` automatically in the future. Please pass the result to `transformed_cell` argument and any exception that happen during thetransform in `preprocessing_exc_tuple` in IPython 7.17 and above.\n",
      "  and should_run_async(code)\n"
     ]
    },
    {
     "data": {
      "text/plain": [
       "array([0.00497757, 0.02897882, 0.0261804 , 0.02406828, 0.02159637,\n",
       "       0.01980137, 0.01813067, 0.01614766, 0.01547859, 0.01540477,\n",
       "       0.01489315, 0.01384337, 0.0137878 , 0.01337926, 0.01314526,\n",
       "       0.01275874, 0.012738  , 0.01234152, 0.01226254, 0.01212658,\n",
       "       0.01177801, 0.01165632, 0.01132844, 0.01127314, 0.01092249,\n",
       "       0.01072803, 0.0106101 , 0.01033893, 0.01009309, 0.0099447 ])"
      ]
     },
     "execution_count": 103,
     "metadata": {},
     "output_type": "execute_result"
    }
   ],
   "source": [
    "lsa_model = TruncatedSVD(30)\n",
    "\n",
    "doc_topic = lsa_model.fit_transform(abstracts_tfidf)  #fit onto vectorized data\n",
    "\n",
    "lsa_model.explained_variance_ratio_"
   ]
  },
  {
   "cell_type": "code",
   "execution_count": 104,
   "id": "9d75d1f4",
   "metadata": {},
   "outputs": [
    {
     "name": "stdout",
     "output_type": "stream",
     "text": [
      "\n",
      "Topic  0\n",
      "depression, health, associate, high, risk, age, data, mental, alcohol use, anxiety\n",
      "\n",
      "Topic  1\n",
      "drink, effect, drinking, adolescence, adolescent, longitudinal, early, negative, model, suggest\n",
      "\n",
      "Topic  2\n",
      "cross sectional, sectional, cross, consumption, alcohol consumption, logistic, regression, logistic regression, association, smoking\n",
      "\n",
      "Topic  3\n",
      "scale, clinical, test, treatment, consumption, primary, alcohol consumption, anxiety, stress, low\n",
      "\n",
      "Topic  4\n",
      "sectional, cross sectional, cross, drug, substance use, drug use, substance, self, school, family\n",
      "\n",
      "Topic  5\n",
      "depressive, major, use disorder, drink, disorder, past, drinking, current, lifetime, relate\n",
      "\n",
      "Topic  6\n",
      "mental health, survey, health, mental, drinking, consumption, alcohol consumption, past, smoking, day\n",
      "\n",
      "Topic  7\n",
      "cohort, population, national, men, old, general, suicide, time, low, age\n",
      "\n",
      "Topic  8\n",
      "time, substance use, tobacco, cohort, treatment, primary, substance, care, longitudinal, follow\n",
      "\n",
      "Topic  9\n",
      "drug use, drug, smoke, likely, history, tobacco, smoking, year, clinical, total\n",
      "\n",
      "Topic  10\n",
      "consumption, alcohol consumption, anxiety, substance, substance use, stress, depression anxiety, disorder, age, common\n",
      "\n",
      "Topic  11\n",
      "role, suggest, tobacco, current, smoke, smoking, sample, life, low, status\n",
      "\n",
      "Topic  12\n",
      "national, longitudinal, likely, adult, evidence, primary, abuse, adolescent, relationship, role\n",
      "\n",
      "Topic  13\n",
      "year, follow, female, month, intervention, total, mean, past, longitudinal, potential\n",
      "\n",
      "Topic  14\n",
      "likely, mean, alcohol use, care, related, collect, primary, report, drinking, female\n",
      "\n",
      "Topic  15\n",
      "positive, include, substance use, scale, total, substance, relationship, survey, old, reduce\n",
      "\n",
      "Topic  16\n",
      "adult, identify, suggest, sex, primary, self, report, prevalence, population, alcohol use\n",
      "\n",
      "Topic  17\n",
      "present, related, range, relate, social, psychological, major, old, support, specific\n",
      "\n",
      "Topic  18\n",
      "current, mean, male, collect, school, substance, total, substance use, adolescent, clinical\n",
      "\n",
      "Topic  19\n",
      "report, potential, level, suggest, significant, old, association, relationship, effect, important\n",
      "\n",
      "Topic  20\n",
      "base, drug, drug use, sex, population, model, school, general, negative, measure\n",
      "\n",
      "Topic  21\n",
      "psychological, intervention, collect, evidence, prevention, analysis, abuse, role, important, group\n",
      "\n",
      "Topic  22\n",
      "report, examine, identify, past, status, female, stress, youth, adolescent, future\n",
      "\n",
      "Topic  23\n",
      "prevalence, questionnaire, great, time, school, physical, stress, determine, odds, use disorder\n",
      "\n",
      "Topic  24\n",
      "great, abuse, number, young, non, analysis, mental health, odds, follow, month\n",
      "\n",
      "Topic  25\n",
      "assess, test, measure, social, scale, adolescence, adolescent, drug use, gender, drug\n",
      "\n",
      "Topic  26\n",
      "longitudinal, relationship, significant, likely, social, adult, dependence, group, non, data\n",
      "\n",
      "Topic  27\n",
      "year, life, identify, aim, experience, old, great, relationship, multiple, total\n",
      "\n",
      "Topic  28\n",
      "current, suicide, base, clinical, present, male, relationship, provide, tobacco, longitudinal\n",
      "\n",
      "Topic  29\n",
      "day, provide, adolescent, life, potential, measure, investigate, risk, primary, low\n"
     ]
    },
    {
     "name": "stderr",
     "output_type": "stream",
     "text": [
      "/Users/varshagarla/opt/anaconda3/lib/python3.8/site-packages/ipykernel/ipkernel.py:287: DeprecationWarning: `should_run_async` will not call `transform_cell` automatically in the future. Please pass the result to `transformed_cell` argument and any exception that happen during thetransform in `preprocessing_exc_tuple` in IPython 7.17 and above.\n",
      "  and should_run_async(code)\n"
     ]
    }
   ],
   "source": [
    "display_topics(lsa_model, tfidf.get_feature_names(), 10)"
   ]
  },
  {
   "cell_type": "markdown",
   "id": "db51e4d4",
   "metadata": {},
   "source": [
    "### Now let's try stemming and adding some more custom stop words and re-running baseline models"
   ]
  },
  {
   "cell_type": "markdown",
   "id": "5712eeb4",
   "metadata": {},
   "source": [
    "Going back and doing stemming in preprocessing notebook for ease since it's hard to join the text and do stemming here."
   ]
  },
  {
   "cell_type": "markdown",
   "id": "0314bd43",
   "metadata": {},
   "source": [
    "Tried stemming and it was too aggressive and made it difficult to understand words, especially since abstracts cover so many different subjects."
   ]
  },
  {
   "cell_type": "markdown",
   "id": "dc20eac2",
   "metadata": {},
   "source": [
    "We can manually try stemming words later with str.replace(). For example, association and associate --> assoc"
   ]
  },
  {
   "cell_type": "markdown",
   "id": "b55922ed",
   "metadata": {},
   "source": [
    "#### Now let's try to remove some extra stop words to improve the performance of the LSA with TF-IDF with 10 topics"
   ]
  },
  {
   "cell_type": "markdown",
   "id": "1943c6c9",
   "metadata": {},
   "source": [
    "## 1. original: df, 'abstracts_for_modeling.csv'"
   ]
  },
  {
   "cell_type": "code",
   "execution_count": null,
   "id": "586ed0af",
   "metadata": {},
   "outputs": [],
   "source": [
    "# Based on results of baseline models, let's choose some more stop words to remove\n",
    "\n",
    "# Stop Words in 'abstracts_for_modeling_2.csv'\n",
    "# among, associate, association, logistic, regression, odds, analysis, examine, include, relate, sample, collect\n",
    "# likely, significant, suggest, cross, sectional"
   ]
  },
  {
   "cell_type": "markdown",
   "id": "f11dc4ea",
   "metadata": {},
   "source": [
    "## 2. df_2, 'abstracts_for_modeling_2.csv'"
   ]
  },
  {
   "cell_type": "code",
   "execution_count": 106,
   "id": "8582b785",
   "metadata": {},
   "outputs": [
    {
     "name": "stderr",
     "output_type": "stream",
     "text": [
      "/Users/varshagarla/opt/anaconda3/lib/python3.8/site-packages/ipykernel/ipkernel.py:287: DeprecationWarning: `should_run_async` will not call `transform_cell` automatically in the future. Please pass the result to `transformed_cell` argument and any exception that happen during thetransform in `preprocessing_exc_tuple` in IPython 7.17 and above.\n",
      "  and should_run_async(code)\n"
     ]
    }
   ],
   "source": [
    "# Read in new file\n",
    "df_2 = pd.read_csv('abstracts_for_modeling_2.csv')\n",
    "\n",
    "# new corpus\n",
    "docs_2 = df_2['Abstract_modeling']\n",
    "\n",
    "# tfidf vectorizer\n",
    "tfidf = TfidfVectorizer(ngram_range=(1, 2), stop_words='english', min_df=0.1, max_df=0.8, binary=True)\n",
    "abstracts_tfidf = tfidf.fit_transform(docs_2)\n",
    "tfidf_df = pd.DataFrame(abstracts_tfidf.toarray(), columns = tfidf.get_feature_names())"
   ]
  },
  {
   "cell_type": "code",
   "execution_count": 107,
   "id": "e671469e",
   "metadata": {},
   "outputs": [
    {
     "name": "stderr",
     "output_type": "stream",
     "text": [
      "/Users/varshagarla/opt/anaconda3/lib/python3.8/site-packages/ipykernel/ipkernel.py:287: DeprecationWarning: `should_run_async` will not call `transform_cell` automatically in the future. Please pass the result to `transformed_cell` argument and any exception that happen during thetransform in `preprocessing_exc_tuple` in IPython 7.17 and above.\n",
      "  and should_run_async(code)\n"
     ]
    },
    {
     "data": {
      "text/plain": [
       "array([0.00456257, 0.03025029, 0.02628705, 0.02162171, 0.02121132,\n",
       "       0.01853122, 0.01695235, 0.01671496, 0.01611367, 0.01539713])"
      ]
     },
     "execution_count": 107,
     "metadata": {},
     "output_type": "execute_result"
    }
   ],
   "source": [
    "lsa_model = TruncatedSVD(10)\n",
    "\n",
    "doc_topic = lsa_model.fit_transform(abstracts_tfidf)  #fit onto vectorized data\n",
    "\n",
    "lsa_model.explained_variance_ratio_"
   ]
  },
  {
   "cell_type": "code",
   "execution_count": 108,
   "id": "637dafce",
   "metadata": {},
   "outputs": [
    {
     "name": "stdout",
     "output_type": "stream",
     "text": [
      "\n",
      "Topic  0\n",
      "depression, health, associate, high, risk, age, data, mental, alcohol use, anxiety\n",
      "\n",
      "Topic  1\n",
      "disorder, psychiatric, major, mental, diagnosis, use disorder, treatment, interview, prevalence, clinical\n",
      "\n",
      "Topic  2\n",
      "consumption, alcohol consumption, scale, questionnaire, clinical, test, low, primary, smoke, treatment\n",
      "\n",
      "Topic  3\n",
      "depressive, disorder, use disorder, major, drink, related, drinking, past, relate, alcohol use\n",
      "\n",
      "Topic  4\n",
      "survey, national, smoking, consumption, smoke, alcohol consumption, prevalence, population, health, status\n",
      "\n",
      "Topic  5\n",
      "mental health, past, drinking, drink, negative, depression anxiety, drug, mental, drug use, positive\n",
      "\n",
      "Topic  6\n",
      "substance use, substance, mental health, care, cohort, longitudinal, treatment, mental, time, primary\n",
      "\n",
      "Topic  7\n",
      "drug, drug use, potential, depression anxiety, smoke, consumption, anxiety, tobacco, year, diagnosis\n",
      "\n",
      "Topic  8\n",
      "tobacco, treatment, low, clinical, non, level, reduce, follow, primary, current\n",
      "\n",
      "Topic  9\n",
      "follow, national, adolescent, population, time, old, adult, suicide, year, general\n"
     ]
    },
    {
     "name": "stderr",
     "output_type": "stream",
     "text": [
      "/Users/varshagarla/opt/anaconda3/lib/python3.8/site-packages/ipykernel/ipkernel.py:287: DeprecationWarning: `should_run_async` will not call `transform_cell` automatically in the future. Please pass the result to `transformed_cell` argument and any exception that happen during thetransform in `preprocessing_exc_tuple` in IPython 7.17 and above.\n",
      "  and should_run_async(code)\n"
     ]
    }
   ],
   "source": [
    "display_topics(lsa_model, tfidf.get_feature_names(), 10)"
   ]
  },
  {
   "cell_type": "markdown",
   "id": "4cb3ea91",
   "metadata": {},
   "source": [
    "This is better than before without removing the stop words."
   ]
  },
  {
   "cell_type": "markdown",
   "id": "f80acd69",
   "metadata": {},
   "source": [
    "#### Now let's see 20 topics"
   ]
  },
  {
   "cell_type": "code",
   "execution_count": 109,
   "id": "ab831788",
   "metadata": {},
   "outputs": [
    {
     "name": "stderr",
     "output_type": "stream",
     "text": [
      "/Users/varshagarla/opt/anaconda3/lib/python3.8/site-packages/ipykernel/ipkernel.py:287: DeprecationWarning: `should_run_async` will not call `transform_cell` automatically in the future. Please pass the result to `transformed_cell` argument and any exception that happen during thetransform in `preprocessing_exc_tuple` in IPython 7.17 and above.\n",
      "  and should_run_async(code)\n"
     ]
    },
    {
     "data": {
      "text/plain": [
       "array([0.00456257, 0.03025039, 0.0262885 , 0.02162878, 0.02124045,\n",
       "       0.01855185, 0.01701206, 0.01679658, 0.01628115, 0.01562579,\n",
       "       0.01502082, 0.01466587, 0.01424989, 0.0136441 , 0.01337524,\n",
       "       0.01322993, 0.01298699, 0.0129576 , 0.0127758 , 0.01244175])"
      ]
     },
     "execution_count": 109,
     "metadata": {},
     "output_type": "execute_result"
    }
   ],
   "source": [
    "lsa_model = TruncatedSVD(20)\n",
    "\n",
    "doc_topic = lsa_model.fit_transform(abstracts_tfidf)  #fit onto vectorized data\n",
    "\n",
    "lsa_model.explained_variance_ratio_"
   ]
  },
  {
   "cell_type": "code",
   "execution_count": 110,
   "id": "cb4b3fbb",
   "metadata": {},
   "outputs": [
    {
     "name": "stdout",
     "output_type": "stream",
     "text": [
      "\n",
      "Topic  0\n",
      "depression, health, associate, high, risk, age, data, mental, alcohol use, anxiety\n",
      "\n",
      "Topic  1\n",
      "disorder, psychiatric, major, diagnosis, mental, use disorder, treatment, prevalence, interview, care\n",
      "\n",
      "Topic  2\n",
      "consumption, alcohol consumption, scale, questionnaire, test, clinical, low, primary, treatment, smoke\n",
      "\n",
      "Topic  3\n",
      "depressive, disorder, use disorder, major, drink, related, drinking, alcohol use, clinical, test\n",
      "\n",
      "Topic  4\n",
      "survey, national, smoking, consumption, smoke, alcohol consumption, prevalence, population, status, past\n",
      "\n",
      "Topic  5\n",
      "mental health, drinking, past, drink, depression anxiety, mental, negative, drug, drug use, positive\n",
      "\n",
      "Topic  6\n",
      "substance use, care, substance, mental health, treatment, primary, cohort, mental, time, provide\n",
      "\n",
      "Topic  7\n",
      "drug, drug use, depression anxiety, anxiety, potential, tobacco, smoke, consumption, year, smoking\n",
      "\n",
      "Topic  8\n",
      "consumption, anxiety, alcohol consumption, stress, substance, depression anxiety, substance use, disorder, relationship, age\n",
      "\n",
      "Topic  9\n",
      "national, adolescent, follow, adult, mental health, population, mental, increase, stress, suicide\n",
      "\n",
      "Topic  10\n",
      "role, tobacco, analysis, evidence, life, adult, current, dependence, smoking, smoke\n",
      "\n",
      "Topic  11\n",
      "consumption, alcohol consumption, identify, adolescent, family, support, experience, drug, report, care\n",
      "\n",
      "Topic  12\n",
      "report, self, primary, adult, national, measure, data, identify, survey, care\n",
      "\n",
      "Topic  13\n",
      "behavior, identify, depression anxiety, model, prevention, anxiety, group, past, intervention, non\n",
      "\n",
      "Topic  14\n",
      "identify, related, present, old, positive, major, year, relate, aim, negative\n",
      "\n",
      "Topic  15\n",
      "gender, status, men, include, use disorder, alcohol use, experience, history, relationship, prevention\n",
      "\n",
      "Topic  16\n",
      "social, young, support, tobacco, mean, related, increase, cohort, men, age\n",
      "\n",
      "Topic  17\n",
      "substance, substance use, old, non, report, psychiatric, important, suicide, life, self\n",
      "\n",
      "Topic  18\n",
      "negative, total, time, experience, positive, family, base, history, population, collect\n",
      "\n",
      "Topic  19\n",
      "determine, psychological, physical, prevalence, time, need, prevention, follow, treatment, relate\n"
     ]
    },
    {
     "name": "stderr",
     "output_type": "stream",
     "text": [
      "/Users/varshagarla/opt/anaconda3/lib/python3.8/site-packages/ipykernel/ipkernel.py:287: DeprecationWarning: `should_run_async` will not call `transform_cell` automatically in the future. Please pass the result to `transformed_cell` argument and any exception that happen during thetransform in `preprocessing_exc_tuple` in IPython 7.17 and above.\n",
      "  and should_run_async(code)\n"
     ]
    }
   ],
   "source": [
    "display_topics(lsa_model, tfidf.get_feature_names(), 10)"
   ]
  },
  {
   "cell_type": "markdown",
   "id": "2d77db16",
   "metadata": {},
   "source": [
    "## 3. df_3, 'abstracts_for_modeling_3.csv'"
   ]
  },
  {
   "cell_type": "code",
   "execution_count": 111,
   "id": "70466650",
   "metadata": {},
   "outputs": [
    {
     "name": "stderr",
     "output_type": "stream",
     "text": [
      "/Users/varshagarla/opt/anaconda3/lib/python3.8/site-packages/ipykernel/ipkernel.py:287: DeprecationWarning: `should_run_async` will not call `transform_cell` automatically in the future. Please pass the result to `transformed_cell` argument and any exception that happen during thetransform in `preprocessing_exc_tuple` in IPython 7.17 and above.\n",
      "  and should_run_async(code)\n"
     ]
    }
   ],
   "source": [
    "# Stop Words in 'abstracts_for_modeling_3.csv'\n",
    "# among, associate, odds, analysis, examine, include, relate, sample, collect\n",
    "# likely, significant"
   ]
  },
  {
   "cell_type": "code",
   "execution_count": 112,
   "id": "0447d9c5",
   "metadata": {},
   "outputs": [
    {
     "name": "stderr",
     "output_type": "stream",
     "text": [
      "/Users/varshagarla/opt/anaconda3/lib/python3.8/site-packages/ipykernel/ipkernel.py:287: DeprecationWarning: `should_run_async` will not call `transform_cell` automatically in the future. Please pass the result to `transformed_cell` argument and any exception that happen during thetransform in `preprocessing_exc_tuple` in IPython 7.17 and above.\n",
      "  and should_run_async(code)\n"
     ]
    }
   ],
   "source": [
    "# Read in new file\n",
    "df_3 = pd.read_csv('abstracts_for_modeling_3.csv')\n",
    "\n",
    "# new corpus\n",
    "docs_3 = df_3['Abstract_modeling']\n",
    "\n",
    "# tfidf vectorizer\n",
    "tfidf = TfidfVectorizer(ngram_range=(1, 2), stop_words='english', min_df=0.1, max_df=0.8, binary=True)\n",
    "abstracts_tfidf = tfidf.fit_transform(docs_3)\n",
    "tfidf_df = pd.DataFrame(abstracts_tfidf.toarray(), columns = tfidf.get_feature_names())"
   ]
  },
  {
   "cell_type": "code",
   "execution_count": 113,
   "id": "5dda6d6e",
   "metadata": {},
   "outputs": [
    {
     "name": "stderr",
     "output_type": "stream",
     "text": [
      "/Users/varshagarla/opt/anaconda3/lib/python3.8/site-packages/ipykernel/ipkernel.py:287: DeprecationWarning: `should_run_async` will not call `transform_cell` automatically in the future. Please pass the result to `transformed_cell` argument and any exception that happen during thetransform in `preprocessing_exc_tuple` in IPython 7.17 and above.\n",
      "  and should_run_async(code)\n"
     ]
    },
    {
     "data": {
      "text/plain": [
       "array([0.00490789, 0.02973731, 0.02679888, 0.0247333 , 0.02193452,\n",
       "       0.0204098 , 0.01853065, 0.01632656, 0.01558258, 0.0154095 ])"
      ]
     },
     "execution_count": 113,
     "metadata": {},
     "output_type": "execute_result"
    }
   ],
   "source": [
    "lsa_model = TruncatedSVD(10)\n",
    "\n",
    "doc_topic = lsa_model.fit_transform(abstracts_tfidf)  #fit onto vectorized data\n",
    "\n",
    "lsa_model.explained_variance_ratio_"
   ]
  },
  {
   "cell_type": "code",
   "execution_count": 114,
   "id": "a27b573d",
   "metadata": {},
   "outputs": [
    {
     "name": "stdout",
     "output_type": "stream",
     "text": [
      "\n",
      "Topic  0\n",
      "depression, health, associate, high, risk, age, data, mental, alcohol use, anxiety\n",
      "\n",
      "Topic  1\n",
      "drink, effect, drinking, adolescence, adolescent, longitudinal, early, negative, model, suggest\n",
      "\n",
      "Topic  2\n",
      "cross sectional, sectional, cross, consumption, alcohol consumption, logistic, regression, logistic regression, questionnaire, association\n",
      "\n",
      "Topic  3\n",
      "clinical, treatment, test, scale, primary, consumption, anxiety, alcohol consumption, disorder, stress\n",
      "\n",
      "Topic  4\n",
      "logistic, logistic regression, regression, consumption, alcohol consumption, smoking, national, smoke, multiple, disorder\n",
      "\n",
      "Topic  5\n",
      "depressive, major, drink, use disorder, past, disorder, drinking, current, lifetime, relate\n",
      "\n",
      "Topic  6\n",
      "mental health, survey, health, mental, drinking, consumption, past, alcohol consumption, day, national\n",
      "\n",
      "Topic  7\n",
      "cohort, time, general, low, population, longitudinal, smoke, early, status, men\n",
      "\n",
      "Topic  8\n",
      "drug use, drug, smoke, tobacco, smoking, report, clinical, year, total, old\n",
      "\n",
      "Topic  9\n",
      "consumption, substance use, substance, alcohol consumption, anxiety, cohort, depression anxiety, potential, diagnosis, common\n"
     ]
    },
    {
     "name": "stderr",
     "output_type": "stream",
     "text": [
      "/Users/varshagarla/opt/anaconda3/lib/python3.8/site-packages/ipykernel/ipkernel.py:287: DeprecationWarning: `should_run_async` will not call `transform_cell` automatically in the future. Please pass the result to `transformed_cell` argument and any exception that happen during thetransform in `preprocessing_exc_tuple` in IPython 7.17 and above.\n",
      "  and should_run_async(code)\n"
     ]
    }
   ],
   "source": [
    "display_topics(lsa_model, tfidf.get_feature_names(), 10)"
   ]
  },
  {
   "cell_type": "markdown",
   "id": "0d364189",
   "metadata": {},
   "source": [
    "**I prefer the other set of stop words --> use docs_2 / df_2 moving forward**"
   ]
  },
  {
   "cell_type": "markdown",
   "id": "93776074",
   "metadata": {},
   "source": [
    "### Now let's experiment with number of topics, min_df, max_df"
   ]
  },
  {
   "cell_type": "markdown",
   "id": "0a246419",
   "metadata": {},
   "source": [
    "##### No min_df and max_df (10 topics)"
   ]
  },
  {
   "cell_type": "code",
   "execution_count": 118,
   "id": "4307403e",
   "metadata": {},
   "outputs": [
    {
     "name": "stderr",
     "output_type": "stream",
     "text": [
      "/Users/varshagarla/opt/anaconda3/lib/python3.8/site-packages/ipykernel/ipkernel.py:287: DeprecationWarning: `should_run_async` will not call `transform_cell` automatically in the future. Please pass the result to `transformed_cell` argument and any exception that happen during thetransform in `preprocessing_exc_tuple` in IPython 7.17 and above.\n",
      "  and should_run_async(code)\n"
     ]
    }
   ],
   "source": [
    "# tfidf vectorizer\n",
    "tfidf = TfidfVectorizer(ngram_range=(1, 2), stop_words='english', binary=True)\n",
    "abstracts_tfidf = tfidf.fit_transform(docs_2)\n",
    "tfidf_df = pd.DataFrame(abstracts_tfidf.toarray(), columns = tfidf.get_feature_names())"
   ]
  },
  {
   "cell_type": "code",
   "execution_count": 119,
   "id": "b3e26717",
   "metadata": {},
   "outputs": [
    {
     "name": "stderr",
     "output_type": "stream",
     "text": [
      "/Users/varshagarla/opt/anaconda3/lib/python3.8/site-packages/ipykernel/ipkernel.py:287: DeprecationWarning: `should_run_async` will not call `transform_cell` automatically in the future. Please pass the result to `transformed_cell` argument and any exception that happen during thetransform in `preprocessing_exc_tuple` in IPython 7.17 and above.\n",
      "  and should_run_async(code)\n"
     ]
    },
    {
     "data": {
      "text/plain": [
       "array([0.00053936, 0.00353783, 0.00321741, 0.00281944, 0.00280758,\n",
       "       0.00263909, 0.00252285, 0.00236925, 0.00226763, 0.00223811])"
      ]
     },
     "execution_count": 119,
     "metadata": {},
     "output_type": "execute_result"
    }
   ],
   "source": [
    "lsa_model = TruncatedSVD(10)\n",
    "\n",
    "doc_topic = lsa_model.fit_transform(abstracts_tfidf)  #fit onto vectorized data\n",
    "\n",
    "lsa_model.explained_variance_ratio_"
   ]
  },
  {
   "cell_type": "code",
   "execution_count": 120,
   "id": "6328a977",
   "metadata": {},
   "outputs": [
    {
     "name": "stdout",
     "output_type": "stream",
     "text": [
      "\n",
      "Topic  0\n",
      "alcohol, use, depression, health, associate, high, age, risk, data, alcohol use\n",
      "\n",
      "Topic  1\n",
      "disorder, diagnostic, interview, psychiatric, major, depressive disorder, major depressive, international, diagnosis, clinical\n",
      "\n",
      "Topic  2\n",
      "major depressive, national survey, major, substance, depressive disorder, drug, substance use, disorder, lifetime, drug use\n",
      "\n",
      "Topic  3\n",
      "national, tobacco, drug use, health, confidence, tobacco use, survey, smoking, smoke, status\n",
      "\n",
      "Topic  4\n",
      "ideation, suicidal, suicidal ideation, suicide, adolescent, family, youth, childhood, violence, school\n",
      "\n",
      "Topic  5\n",
      "adolescence, index, mass, body mass, mass index, cohort, effect, early, onset, adulthood\n",
      "\n",
      "Topic  6\n",
      "commercial use, employer, use permit, permit unless, unless, unless state, article employer, state text, article commercial, employer unless\n",
      "\n",
      "Topic  7\n",
      "identification test, drinking, heavy, sex, drink, identification, men, questionnaire, alcohol use, mean\n",
      "\n",
      "Topic  8\n",
      "drinking, drink, mental health, sexual, relationship, mental, adult, survey, heavy drinking, binge\n",
      "\n",
      "Topic  9\n",
      "suicidal, ideation, suicide, suicidal ideation, history, clinical, confidence, attempt, interval, suicide attempt\n"
     ]
    },
    {
     "name": "stderr",
     "output_type": "stream",
     "text": [
      "/Users/varshagarla/opt/anaconda3/lib/python3.8/site-packages/ipykernel/ipkernel.py:287: DeprecationWarning: `should_run_async` will not call `transform_cell` automatically in the future. Please pass the result to `transformed_cell` argument and any exception that happen during thetransform in `preprocessing_exc_tuple` in IPython 7.17 and above.\n",
      "  and should_run_async(code)\n"
     ]
    }
   ],
   "source": [
    "display_topics(lsa_model, tfidf.get_feature_names(), 10)"
   ]
  },
  {
   "cell_type": "markdown",
   "id": "bbf895dc",
   "metadata": {},
   "source": [
    "Wow, removing the min_df and max_df parameters allowed more latent topics to come through.\n",
    "For example, now we can see suicidal ideation under two topics."
   ]
  },
  {
   "cell_type": "markdown",
   "id": "ce37a208",
   "metadata": {},
   "source": [
    "##### No min_df, max_df (20 topics)"
   ]
  },
  {
   "cell_type": "code",
   "execution_count": 122,
   "id": "742681e9",
   "metadata": {},
   "outputs": [
    {
     "name": "stderr",
     "output_type": "stream",
     "text": [
      "/Users/varshagarla/opt/anaconda3/lib/python3.8/site-packages/ipykernel/ipkernel.py:287: DeprecationWarning: `should_run_async` will not call `transform_cell` automatically in the future. Please pass the result to `transformed_cell` argument and any exception that happen during thetransform in `preprocessing_exc_tuple` in IPython 7.17 and above.\n",
      "  and should_run_async(code)\n"
     ]
    }
   ],
   "source": [
    "# tfidf vectorizer\n",
    "tfidf = TfidfVectorizer(ngram_range=(1, 2), stop_words='english', binary=True)\n",
    "abstracts_tfidf = tfidf.fit_transform(docs_2)\n",
    "tfidf_df = pd.DataFrame(abstracts_tfidf.toarray(), columns = tfidf.get_feature_names())"
   ]
  },
  {
   "cell_type": "code",
   "execution_count": 123,
   "id": "2b456bb8",
   "metadata": {},
   "outputs": [
    {
     "name": "stderr",
     "output_type": "stream",
     "text": [
      "/Users/varshagarla/opt/anaconda3/lib/python3.8/site-packages/ipykernel/ipkernel.py:287: DeprecationWarning: `should_run_async` will not call `transform_cell` automatically in the future. Please pass the result to `transformed_cell` argument and any exception that happen during thetransform in `preprocessing_exc_tuple` in IPython 7.17 and above.\n",
      "  and should_run_async(code)\n"
     ]
    },
    {
     "data": {
      "text/plain": [
       "array([0.00053937, 0.00356817, 0.00322504, 0.00294578, 0.00281986,\n",
       "       0.00271103, 0.00264821, 0.00244105, 0.00234551, 0.00231727,\n",
       "       0.0022823 , 0.0021979 , 0.00216383, 0.0021263 , 0.00212379,\n",
       "       0.00204477, 0.00202242, 0.00199371, 0.00195851, 0.00194672])"
      ]
     },
     "execution_count": 123,
     "metadata": {},
     "output_type": "execute_result"
    }
   ],
   "source": [
    "lsa_model = TruncatedSVD(20)\n",
    "\n",
    "doc_topic = lsa_model.fit_transform(abstracts_tfidf)  #fit onto vectorized data\n",
    "\n",
    "lsa_model.explained_variance_ratio_"
   ]
  },
  {
   "cell_type": "code",
   "execution_count": 124,
   "id": "fd96d391",
   "metadata": {},
   "outputs": [
    {
     "name": "stdout",
     "output_type": "stream",
     "text": [
      "\n",
      "Topic  0\n",
      "alcohol, use, depression, health, associate, high, age, risk, data, alcohol use\n",
      "\n",
      "Topic  1\n",
      "disorder, interview, diagnostic, major, psychiatric, major depressive, depressive disorder, international, prevalence, clinical\n",
      "\n",
      "Topic  2\n",
      "national survey, major depressive, major, substance, substance use, drug, lifetime, depressive disorder, drug use, disorder\n",
      "\n",
      "Topic  3\n",
      "survey, health, tobacco, national, drug use, use health, past, income, survey drug, prevalence\n",
      "\n",
      "Topic  4\n",
      "school, suicidal, ideation, adolescent, youth, article, family, use permit, employer, commercial use\n",
      "\n",
      "Topic  5\n",
      "smoking, cohort, smoke, national, confidence, ratio, mass, interval, confidence interval, mass index\n",
      "\n",
      "Topic  6\n",
      "commercial, use permit, commercial use, employer, employer unless, article commercial, text article, permit unless, unless, article employer\n",
      "\n",
      "Topic  7\n",
      "drinking, drink, composite, interview, composite international, international diagnostic, international, diagnostic interview, diagnostic, survey\n",
      "\n",
      "Topic  8\n",
      "suicide, suicidal, ideation, suicidal ideation, patient, patient health, time, alcohol use, health questionnaire, use disorder\n",
      "\n",
      "Topic  9\n",
      "identification test, identification, use identification, scale, attention deficit, deficit hyperactivity, deficit, hyperactivity, hyperactivity disorder, attention\n",
      "\n",
      "Topic  10\n",
      "abuse, adolescence, adulthood, childhood, adult, early, adolescent, common, mouse, know\n",
      "\n",
      "Topic  11\n",
      "longitudinal, childhood, national, survey alcohol, stress disorder, posttraumatic stress, posttraumatic, physical, traumatic, emotional\n",
      "\n",
      "Topic  12\n",
      "depressive, structural, structural equation, equation, care, equation model, specific, group, base, model\n",
      "\n",
      "Topic  13\n",
      "compulsive, obsessive, obsessive compulsive, schizophrenia, gender, compulsive disorder, important, mental, school, seek\n",
      "\n",
      "Topic  14\n",
      "maternal, family, status, major, patient, race, health questionnaire, screen, primary, patient health\n",
      "\n",
      "Topic  15\n",
      "confidence, multiple, confidence interval, interval, ratio, ratio confidence, marijuana, compulsive, men, problem\n",
      "\n",
      "Topic  16\n",
      "mental health, mental, statistical, confidence interval, interval, ratio confidence, known, little, university, confidence\n",
      "\n",
      "Topic  17\n",
      "interval, confidence interval, confidence, reveal, alcohol abuse, past, time, ratio confidence, approach, consider\n",
      "\n",
      "Topic  18\n",
      "severity, relate, likelihood, highlight, alcohol relate, severe, importance, hospital, use depression, highlight need\n",
      "\n",
      "Topic  19\n",
      "gender, age, posttraumatic, posttraumatic stress, race, stress disorder, gender age, dependence, grade, behavioral\n"
     ]
    },
    {
     "name": "stderr",
     "output_type": "stream",
     "text": [
      "/Users/varshagarla/opt/anaconda3/lib/python3.8/site-packages/ipykernel/ipkernel.py:287: DeprecationWarning: `should_run_async` will not call `transform_cell` automatically in the future. Please pass the result to `transformed_cell` argument and any exception that happen during thetransform in `preprocessing_exc_tuple` in IPython 7.17 and above.\n",
      "  and should_run_async(code)\n"
     ]
    }
   ],
   "source": [
    "display_topics(lsa_model, tfidf.get_feature_names(), 10)"
   ]
  },
  {
   "cell_type": "markdown",
   "id": "6096017c",
   "metadata": {},
   "source": [
    "##### No min_df, max_df (15 topics)"
   ]
  },
  {
   "cell_type": "code",
   "execution_count": 126,
   "id": "7bc9ad4d",
   "metadata": {},
   "outputs": [
    {
     "name": "stderr",
     "output_type": "stream",
     "text": [
      "/Users/varshagarla/opt/anaconda3/lib/python3.8/site-packages/ipykernel/ipkernel.py:287: DeprecationWarning: `should_run_async` will not call `transform_cell` automatically in the future. Please pass the result to `transformed_cell` argument and any exception that happen during thetransform in `preprocessing_exc_tuple` in IPython 7.17 and above.\n",
      "  and should_run_async(code)\n"
     ]
    },
    {
     "data": {
      "text/plain": [
       "array([0.00053937, 0.00356531, 0.0031989 , 0.00291613, 0.0028296 ,\n",
       "       0.00269771, 0.00257574, 0.00235087, 0.00232568, 0.00227305,\n",
       "       0.00224901, 0.00215392, 0.00214482, 0.00207052, 0.00206061])"
      ]
     },
     "execution_count": 126,
     "metadata": {},
     "output_type": "execute_result"
    }
   ],
   "source": [
    "lsa_model = TruncatedSVD(15)\n",
    "\n",
    "doc_topic = lsa_model.fit_transform(abstracts_tfidf)  #fit onto vectorized data\n",
    "\n",
    "lsa_model.explained_variance_ratio_"
   ]
  },
  {
   "cell_type": "code",
   "execution_count": 127,
   "id": "cd44a976",
   "metadata": {},
   "outputs": [
    {
     "name": "stdout",
     "output_type": "stream",
     "text": [
      "\n",
      "Topic  0\n",
      "alcohol, use, depression, health, associate, high, age, risk, data, alcohol use\n",
      "\n",
      "Topic  1\n",
      "disorder, interview, diagnostic, major, psychiatric, major depressive, depressive disorder, prevalence, international, clinical\n",
      "\n",
      "Topic  2\n",
      "national survey, major depressive, substance, substance use, major, drug, drug use, lifetime, depressive disorder, national\n",
      "\n",
      "Topic  3\n",
      "survey, health, national, tobacco, income, prevalence, drug use, confidence, use health, physical\n",
      "\n",
      "Topic  4\n",
      "article, employer, commercial use, use permit, suicidal, text, unless, article employer, state text, unless state\n",
      "\n",
      "Topic  5\n",
      "mass, body mass, mass index, index, body, smoke, ratio, smoking, interval, confidence\n",
      "\n",
      "Topic  6\n",
      "use permit, commercial use, employer, permit, commercial, unless, state text, employer unless, article employer, permit unless\n",
      "\n",
      "Topic  7\n",
      "drug, drug use, treatment, depression anxiety, substance use, marijuana, anxiety, follow, deficit, attention\n",
      "\n",
      "Topic  8\n",
      "ideation, suicidal, suicidal ideation, suicide, scale, identification, aim, alcohol tobacco, drug use, identification test\n",
      "\n",
      "Topic  9\n",
      "prevalence, health questionnaire, early, identification, patient health, base, patient, identification test, alcohol use, time\n",
      "\n",
      "Topic  10\n",
      "mass, mass index, body mass, body, index, status, stress disorder, consumption, alcohol consumption, population base\n",
      "\n",
      "Topic  11\n",
      "interview, international, alcohol abuse, month, diagnostic interview, abuse, mental health, marijuana, confidence, depressive\n",
      "\n",
      "Topic  12\n",
      "structural, family, compulsive, obsessive compulsive, obsessive, know, abuse, physical, structural equation, school\n",
      "\n",
      "Topic  13\n",
      "confidence, important, heavy, drinking, heavy drinking, survey, confidence interval, schizophrenia, vignette, compulsive\n",
      "\n",
      "Topic  14\n",
      "identification, identification test, anxiety, anxiety depression, traumatic, longitudinal, use identification, scale, stress disorder, traumatic stress\n"
     ]
    },
    {
     "name": "stderr",
     "output_type": "stream",
     "text": [
      "/Users/varshagarla/opt/anaconda3/lib/python3.8/site-packages/ipykernel/ipkernel.py:287: DeprecationWarning: `should_run_async` will not call `transform_cell` automatically in the future. Please pass the result to `transformed_cell` argument and any exception that happen during thetransform in `preprocessing_exc_tuple` in IPython 7.17 and above.\n",
      "  and should_run_async(code)\n"
     ]
    }
   ],
   "source": [
    "display_topics(lsa_model, tfidf.get_feature_names(), 10)"
   ]
  },
  {
   "cell_type": "markdown",
   "id": "bb23e2e0",
   "metadata": {},
   "source": [
    "Topic 4 and 5 may be obscure, but OCD showed up in Topic 12"
   ]
  },
  {
   "cell_type": "markdown",
   "id": "45472349",
   "metadata": {},
   "source": [
    "##### min-df = 0.01 (7 out of ~700 articles), no max_df, 10 Topics"
   ]
  },
  {
   "cell_type": "code",
   "execution_count": 128,
   "id": "3559ba93",
   "metadata": {},
   "outputs": [
    {
     "name": "stderr",
     "output_type": "stream",
     "text": [
      "/Users/varshagarla/opt/anaconda3/lib/python3.8/site-packages/ipykernel/ipkernel.py:287: DeprecationWarning: `should_run_async` will not call `transform_cell` automatically in the future. Please pass the result to `transformed_cell` argument and any exception that happen during thetransform in `preprocessing_exc_tuple` in IPython 7.17 and above.\n",
      "  and should_run_async(code)\n"
     ]
    }
   ],
   "source": [
    "# tfidf vectorizer\n",
    "tfidf = TfidfVectorizer(ngram_range=(1, 2), min_df = 0.01, stop_words='english', binary=True)\n",
    "abstracts_tfidf = tfidf.fit_transform(docs_2)\n",
    "tfidf_df = pd.DataFrame(abstracts_tfidf.toarray(), columns = tfidf.get_feature_names())"
   ]
  },
  {
   "cell_type": "code",
   "execution_count": 129,
   "id": "5d120fa1",
   "metadata": {},
   "outputs": [
    {
     "name": "stderr",
     "output_type": "stream",
     "text": [
      "/Users/varshagarla/opt/anaconda3/lib/python3.8/site-packages/ipykernel/ipkernel.py:287: DeprecationWarning: `should_run_async` will not call `transform_cell` automatically in the future. Please pass the result to `transformed_cell` argument and any exception that happen during thetransform in `preprocessing_exc_tuple` in IPython 7.17 and above.\n",
      "  and should_run_async(code)\n"
     ]
    },
    {
     "data": {
      "text/plain": [
       "array([0.00129769, 0.01114041, 0.00974966, 0.00856649, 0.00780628,\n",
       "       0.00761252, 0.0068237 , 0.00660145, 0.00640242, 0.00604976])"
      ]
     },
     "execution_count": 129,
     "metadata": {},
     "output_type": "execute_result"
    }
   ],
   "source": [
    "lsa_model = TruncatedSVD(10)\n",
    "\n",
    "doc_topic = lsa_model.fit_transform(abstracts_tfidf)  #fit onto vectorized data\n",
    "\n",
    "lsa_model.explained_variance_ratio_"
   ]
  },
  {
   "cell_type": "code",
   "execution_count": 130,
   "id": "b741563c",
   "metadata": {},
   "outputs": [
    {
     "name": "stdout",
     "output_type": "stream",
     "text": [
      "\n",
      "Topic  0\n",
      "alcohol, use, depression, health, associate, high, risk, age, data, alcohol use\n",
      "\n",
      "Topic  1\n",
      "disorder, diagnostic, interview, major, psychiatric, major depressive, prevalence, depressive disorder, diagnosis, clinical\n",
      "\n",
      "Topic  2\n",
      "consumption, alcohol consumption, index, questionnaire, body, smoke, mass, physical, mass index, body mass\n",
      "\n",
      "Topic  3\n",
      "drink, disorder, negative, test, dependence, drinking, alcohol dependence, depressive disorder, effect, model\n",
      "\n",
      "Topic  4\n",
      "cohort, hyperactivity, deficit, attention deficit, hyperactivity disorder, adolescence, deficit hyperactivity, adolescent, attention, early\n",
      "\n",
      "Topic  5\n",
      "mental health, mental, sexual, violence, support, community, depression anxiety, stress, stress disorder, scale\n",
      "\n",
      "Topic  6\n",
      "commercial use, use permit, employer, permit, unless state, text article, article commercial, article employer, state text, permit unless\n",
      "\n",
      "Topic  7\n",
      "treatment, trial, follow, clinical, primary, care, therapy, intervention, change, receive\n",
      "\n",
      "Topic  8\n",
      "attention, attention deficit, deficit, deficit hyperactivity, hyperactivity disorder, hyperactivity, scale, identification test, substance use, identification\n",
      "\n",
      "Topic  9\n",
      "stress, stress disorder, traumatic, traumatic stress, post traumatic, hyperactivity, attention deficit, hyperactivity disorder, deficit hyperactivity, deficit\n"
     ]
    },
    {
     "name": "stderr",
     "output_type": "stream",
     "text": [
      "/Users/varshagarla/opt/anaconda3/lib/python3.8/site-packages/ipykernel/ipkernel.py:287: DeprecationWarning: `should_run_async` will not call `transform_cell` automatically in the future. Please pass the result to `transformed_cell` argument and any exception that happen during thetransform in `preprocessing_exc_tuple` in IPython 7.17 and above.\n",
      "  and should_run_async(code)\n"
     ]
    }
   ],
   "source": [
    "display_topics(lsa_model, tfidf.get_feature_names(), 10)"
   ]
  },
  {
   "cell_type": "markdown",
   "id": "2384c24c",
   "metadata": {},
   "source": [
    "##### 15 topics"
   ]
  },
  {
   "cell_type": "code",
   "execution_count": 131,
   "id": "af9ed49f",
   "metadata": {},
   "outputs": [
    {
     "name": "stderr",
     "output_type": "stream",
     "text": [
      "/Users/varshagarla/opt/anaconda3/lib/python3.8/site-packages/ipykernel/ipkernel.py:287: DeprecationWarning: `should_run_async` will not call `transform_cell` automatically in the future. Please pass the result to `transformed_cell` argument and any exception that happen during thetransform in `preprocessing_exc_tuple` in IPython 7.17 and above.\n",
      "  and should_run_async(code)\n"
     ]
    },
    {
     "data": {
      "text/plain": [
       "array([0.00129769, 0.01114382, 0.00975474, 0.00857171, 0.00785582,\n",
       "       0.00769143, 0.00698967, 0.0065987 , 0.00639498, 0.00606065,\n",
       "       0.00581713, 0.00571931, 0.00540944, 0.00528116, 0.00524475])"
      ]
     },
     "execution_count": 131,
     "metadata": {},
     "output_type": "execute_result"
    }
   ],
   "source": [
    "lsa_model = TruncatedSVD(15)\n",
    "\n",
    "doc_topic = lsa_model.fit_transform(abstracts_tfidf)  #fit onto vectorized data\n",
    "\n",
    "lsa_model.explained_variance_ratio_"
   ]
  },
  {
   "cell_type": "code",
   "execution_count": 132,
   "id": "f5b53ba1",
   "metadata": {},
   "outputs": [
    {
     "name": "stdout",
     "output_type": "stream",
     "text": [
      "\n",
      "Topic  0\n",
      "alcohol, use, depression, health, associate, high, risk, age, data, alcohol use\n",
      "\n",
      "Topic  1\n",
      "disorder, diagnostic, interview, psychiatric, major, major depressive, prevalence, depressive disorder, diagnosis, clinical\n",
      "\n",
      "Topic  2\n",
      "consumption, alcohol consumption, index, questionnaire, body, smoke, mass, physical, body mass, mass index\n",
      "\n",
      "Topic  3\n",
      "drink, disorder, negative, test, dependence, alcohol dependence, effect, drinking, model, depressive disorder\n",
      "\n",
      "Topic  4\n",
      "hyperactivity, deficit, attention deficit, deficit hyperactivity, hyperactivity disorder, attention, adolescent, suicidal, cohort, ideation\n",
      "\n",
      "Topic  5\n",
      "mental health, stress disorder, violence, mental, stress, sexual, identification test, identification, traumatic, traumatic stress\n",
      "\n",
      "Topic  6\n",
      "commercial use, use permit, employer, commercial, text article, unless, permit unless, employer unless, article commercial, article employer\n",
      "\n",
      "Topic  7\n",
      "treatment, trial, follow, primary, clinical, care, substance use, drug, marijuana, intervention\n",
      "\n",
      "Topic  8\n",
      "scale, identification test, attention deficit, identification, deficit, deficit hyperactivity, questionnaire, attention, hyperactivity disorder, hyperactivity\n",
      "\n",
      "Topic  9\n",
      "stress, stress disorder, deficit, hyperactivity, attention deficit, deficit hyperactivity, hyperactivity disorder, attention, traumatic stress, traumatic\n",
      "\n",
      "Topic  10\n",
      "mass index, body mass, mass, body, index, stress disorder, status, sleep, mental health, design\n",
      "\n",
      "Topic  11\n",
      "longitudinal, partner, child, birth, cohort, maternal, partner violence, childhood, intimate, intimate partner\n",
      "\n",
      "Topic  12\n",
      "abuse, international, mental, alcohol abuse, group, diagnostic, mental health, diagnostic interview, high, mean\n",
      "\n",
      "Topic  13\n",
      "drinking, cohort, month, department, heavy, emergency department, emergency, income, care, year\n",
      "\n",
      "Topic  14\n",
      "status, maternal, drug use, family, drug, ideation, suicide, income, mass, body\n"
     ]
    },
    {
     "name": "stderr",
     "output_type": "stream",
     "text": [
      "/Users/varshagarla/opt/anaconda3/lib/python3.8/site-packages/ipykernel/ipkernel.py:287: DeprecationWarning: `should_run_async` will not call `transform_cell` automatically in the future. Please pass the result to `transformed_cell` argument and any exception that happen during thetransform in `preprocessing_exc_tuple` in IPython 7.17 and above.\n",
      "  and should_run_async(code)\n"
     ]
    }
   ],
   "source": [
    "display_topics(lsa_model, tfidf.get_feature_names(), 10)"
   ]
  },
  {
   "cell_type": "markdown",
   "id": "49698545",
   "metadata": {},
   "source": [
    "##### No min_df, max_df = 0.9, 10 Topics"
   ]
  },
  {
   "cell_type": "code",
   "execution_count": 133,
   "id": "2e5dd4bb",
   "metadata": {},
   "outputs": [
    {
     "name": "stderr",
     "output_type": "stream",
     "text": [
      "/Users/varshagarla/opt/anaconda3/lib/python3.8/site-packages/ipykernel/ipkernel.py:287: DeprecationWarning: `should_run_async` will not call `transform_cell` automatically in the future. Please pass the result to `transformed_cell` argument and any exception that happen during thetransform in `preprocessing_exc_tuple` in IPython 7.17 and above.\n",
      "  and should_run_async(code)\n"
     ]
    }
   ],
   "source": [
    "# tfidf vectorizer\n",
    "tfidf = TfidfVectorizer(ngram_range=(1, 2), max_df = 0.9, stop_words='english', binary=True)\n",
    "abstracts_tfidf = tfidf.fit_transform(docs_2)\n",
    "tfidf_df = pd.DataFrame(abstracts_tfidf.toarray(), columns = tfidf.get_feature_names())"
   ]
  },
  {
   "cell_type": "code",
   "execution_count": 134,
   "id": "b5cfe322",
   "metadata": {},
   "outputs": [
    {
     "name": "stderr",
     "output_type": "stream",
     "text": [
      "/Users/varshagarla/opt/anaconda3/lib/python3.8/site-packages/ipykernel/ipkernel.py:287: DeprecationWarning: `should_run_async` will not call `transform_cell` automatically in the future. Please pass the result to `transformed_cell` argument and any exception that happen during thetransform in `preprocessing_exc_tuple` in IPython 7.17 and above.\n",
      "  and should_run_async(code)\n"
     ]
    },
    {
     "data": {
      "text/plain": [
       "array([0.00054573, 0.00356927, 0.00322356, 0.00290981, 0.00277879,\n",
       "       0.00266521, 0.00252706, 0.00240023, 0.00226674, 0.00220606])"
      ]
     },
     "execution_count": 134,
     "metadata": {},
     "output_type": "execute_result"
    }
   ],
   "source": [
    "lsa_model = TruncatedSVD(10)\n",
    "\n",
    "doc_topic = lsa_model.fit_transform(abstracts_tfidf)  #fit onto vectorized data\n",
    "\n",
    "lsa_model.explained_variance_ratio_"
   ]
  },
  {
   "cell_type": "code",
   "execution_count": 135,
   "id": "d70fee2a",
   "metadata": {},
   "outputs": [
    {
     "name": "stdout",
     "output_type": "stream",
     "text": [
      "\n",
      "Topic  0\n",
      "use, depression, health, associate, high, age, risk, data, alcohol use, mental\n",
      "\n",
      "Topic  1\n",
      "disorder, diagnostic, interview, psychiatric, major, major depressive, international, depressive disorder, prevalence, diagnosis\n",
      "\n",
      "Topic  2\n",
      "national survey, major depressive, drug, substance, drug use, substance use, major, depressive disorder, lifetime, national\n",
      "\n",
      "Topic  3\n",
      "survey, health, drug use, national, tobacco, use health, survey drug, prevalence, mental health, income\n",
      "\n",
      "Topic  4\n",
      "use permit, employer, commercial use, family, unless state, article commercial, unless, text article, state text, article employer\n",
      "\n",
      "Topic  5\n",
      "mass, ratio, mass index, body mass, confidence, smoke, interval, confidence interval, smoking, body\n",
      "\n",
      "Topic  6\n",
      "use permit, employer, commercial use, commercial, state text, permit unless, text article, unless, unless state, article commercial\n",
      "\n",
      "Topic  7\n",
      "drink, sexual, drinking, suicidal, ideation, suicidal ideation, alcohol consumption, consumption, binge, stress\n",
      "\n",
      "Topic  8\n",
      "questionnaire, scale, mean, test, mean age, identification test, identification, inventory, smoking, tobacco\n",
      "\n",
      "Topic  9\n",
      "use disorder, time, associate depression, use depression, pregnancy, high risk, low, know, history, mild\n"
     ]
    },
    {
     "name": "stderr",
     "output_type": "stream",
     "text": [
      "/Users/varshagarla/opt/anaconda3/lib/python3.8/site-packages/ipykernel/ipkernel.py:287: DeprecationWarning: `should_run_async` will not call `transform_cell` automatically in the future. Please pass the result to `transformed_cell` argument and any exception that happen during thetransform in `preprocessing_exc_tuple` in IPython 7.17 and above.\n",
      "  and should_run_async(code)\n"
     ]
    }
   ],
   "source": [
    "display_topics(lsa_model, tfidf.get_feature_names(), 10)"
   ]
  },
  {
   "cell_type": "markdown",
   "id": "f264eae5",
   "metadata": {},
   "source": [
    "We should add more stop words: that's why Topic 4 and 6 are random... commercial use, employer, text, permit, unless, article. These are related to the publication of the articles."
   ]
  },
  {
   "cell_type": "markdown",
   "id": "9b9a89ad",
   "metadata": {},
   "source": [
    "## 4. df_4, 'abstracts_for_modeling_4.csv'"
   ]
  },
  {
   "cell_type": "markdown",
   "id": "a16cb3f7",
   "metadata": {},
   "source": [
    "Take out stop words related to publication of article like permit, commercial, employer, article, etc."
   ]
  },
  {
   "cell_type": "code",
   "execution_count": 136,
   "id": "0a3faa39",
   "metadata": {},
   "outputs": [
    {
     "name": "stderr",
     "output_type": "stream",
     "text": [
      "/Users/varshagarla/opt/anaconda3/lib/python3.8/site-packages/ipykernel/ipkernel.py:287: DeprecationWarning: `should_run_async` will not call `transform_cell` automatically in the future. Please pass the result to `transformed_cell` argument and any exception that happen during thetransform in `preprocessing_exc_tuple` in IPython 7.17 and above.\n",
      "  and should_run_async(code)\n"
     ]
    }
   ],
   "source": [
    "# Stop Words in 'abstracts_for_modeling_4.csv'\n",
    "# among, associate, association, logistic, regression, odds, analysis, examine, include, relate, sample, collect\n",
    "# likely, significant, suggest, cross, sectional, permit, employer, commercial, unless, text, article"
   ]
  },
  {
   "cell_type": "code",
   "execution_count": 137,
   "id": "b25b7685",
   "metadata": {},
   "outputs": [
    {
     "name": "stderr",
     "output_type": "stream",
     "text": [
      "/Users/varshagarla/opt/anaconda3/lib/python3.8/site-packages/ipykernel/ipkernel.py:287: DeprecationWarning: `should_run_async` will not call `transform_cell` automatically in the future. Please pass the result to `transformed_cell` argument and any exception that happen during thetransform in `preprocessing_exc_tuple` in IPython 7.17 and above.\n",
      "  and should_run_async(code)\n"
     ]
    }
   ],
   "source": [
    "# Read in new file\n",
    "df_4 = pd.read_csv('abstracts_for_modeling_4.csv')\n",
    "\n",
    "# new corpus\n",
    "docs_4 = df_4['Abstract_modeling']\n",
    "\n",
    "# tfidf vectorizer\n",
    "tfidf = TfidfVectorizer(ngram_range=(1, 2), stop_words='english', min_df=0.1, max_df=0.8, binary=True)\n",
    "abstracts_tfidf = tfidf.fit_transform(docs_4)\n",
    "tfidf_df = pd.DataFrame(abstracts_tfidf.toarray(), columns = tfidf.get_feature_names())"
   ]
  },
  {
   "cell_type": "code",
   "execution_count": 138,
   "id": "124645bb",
   "metadata": {},
   "outputs": [
    {
     "name": "stderr",
     "output_type": "stream",
     "text": [
      "/Users/varshagarla/opt/anaconda3/lib/python3.8/site-packages/ipykernel/ipkernel.py:287: DeprecationWarning: `should_run_async` will not call `transform_cell` automatically in the future. Please pass the result to `transformed_cell` argument and any exception that happen during thetransform in `preprocessing_exc_tuple` in IPython 7.17 and above.\n",
      "  and should_run_async(code)\n"
     ]
    },
    {
     "data": {
      "text/plain": [
       "array([0.00456257, 0.03025036, 0.02628813, 0.02162077, 0.02122467,\n",
       "       0.01852071, 0.01694911, 0.01668741, 0.01622021, 0.01529656])"
      ]
     },
     "execution_count": 138,
     "metadata": {},
     "output_type": "execute_result"
    }
   ],
   "source": [
    "lsa_model = TruncatedSVD(10)\n",
    "\n",
    "doc_topic = lsa_model.fit_transform(abstracts_tfidf)  #fit onto vectorized data\n",
    "\n",
    "lsa_model.explained_variance_ratio_"
   ]
  },
  {
   "cell_type": "code",
   "execution_count": 139,
   "id": "f4626a66",
   "metadata": {},
   "outputs": [
    {
     "name": "stdout",
     "output_type": "stream",
     "text": [
      "\n",
      "Topic  0\n",
      "depression, health, associate, high, risk, age, data, mental, alcohol use, anxiety\n",
      "\n",
      "Topic  1\n",
      "disorder, psychiatric, major, mental, diagnosis, use disorder, treatment, interview, prevalence, care\n",
      "\n",
      "Topic  2\n",
      "consumption, alcohol consumption, scale, questionnaire, clinical, test, low, primary, treatment, smoke\n",
      "\n",
      "Topic  3\n",
      "depressive, disorder, use disorder, major, drink, related, drinking, relate, past, alcohol use\n",
      "\n",
      "Topic  4\n",
      "survey, national, smoking, consumption, smoke, alcohol consumption, prevalence, population, status, men\n",
      "\n",
      "Topic  5\n",
      "cohort, adolescence, time, early, age, longitudinal, investigate, suicide, low, tobacco\n",
      "\n",
      "Topic  6\n",
      "substance use, treatment, substance, follow, cohort, care, time, primary, longitudinal, adolescence\n",
      "\n",
      "Topic  7\n",
      "drug use, drug, tobacco, year, depression anxiety, total, past, anxiety, potential, smoke\n",
      "\n",
      "Topic  8\n",
      "tobacco, clinical, treatment, smoke, need, support, reduce, current, non, primary\n",
      "\n",
      "Topic  9\n",
      "national, follow, adolescent, suicide, year, adult, identify, important, population, primary\n"
     ]
    },
    {
     "name": "stderr",
     "output_type": "stream",
     "text": [
      "/Users/varshagarla/opt/anaconda3/lib/python3.8/site-packages/ipykernel/ipkernel.py:287: DeprecationWarning: `should_run_async` will not call `transform_cell` automatically in the future. Please pass the result to `transformed_cell` argument and any exception that happen during thetransform in `preprocessing_exc_tuple` in IPython 7.17 and above.\n",
      "  and should_run_async(code)\n"
     ]
    }
   ],
   "source": [
    "display_topics(lsa_model, tfidf.get_feature_names(), 10)"
   ]
  },
  {
   "cell_type": "markdown",
   "id": "44bd0e0a",
   "metadata": {},
   "source": [
    "This is pretty good. All topics seem coherent and distinct enough. Try to improve from here."
   ]
  },
  {
   "cell_type": "markdown",
   "id": "8ecd5c25",
   "metadata": {},
   "source": [
    "##### No min_df or max_df (10 Topics)"
   ]
  },
  {
   "cell_type": "code",
   "execution_count": 140,
   "id": "ce73a6fd",
   "metadata": {},
   "outputs": [
    {
     "name": "stderr",
     "output_type": "stream",
     "text": [
      "/Users/varshagarla/opt/anaconda3/lib/python3.8/site-packages/ipykernel/ipkernel.py:287: DeprecationWarning: `should_run_async` will not call `transform_cell` automatically in the future. Please pass the result to `transformed_cell` argument and any exception that happen during thetransform in `preprocessing_exc_tuple` in IPython 7.17 and above.\n",
      "  and should_run_async(code)\n"
     ]
    }
   ],
   "source": [
    "# tfidf vectorizer\n",
    "tfidf = TfidfVectorizer(ngram_range=(1, 2), stop_words='english', binary=True)\n",
    "abstracts_tfidf = tfidf.fit_transform(docs_4)\n",
    "tfidf_df = pd.DataFrame(abstracts_tfidf.toarray(), columns = tfidf.get_feature_names())"
   ]
  },
  {
   "cell_type": "code",
   "execution_count": 141,
   "id": "13346c0f",
   "metadata": {},
   "outputs": [
    {
     "name": "stderr",
     "output_type": "stream",
     "text": [
      "/Users/varshagarla/opt/anaconda3/lib/python3.8/site-packages/ipykernel/ipkernel.py:287: DeprecationWarning: `should_run_async` will not call `transform_cell` automatically in the future. Please pass the result to `transformed_cell` argument and any exception that happen during thetransform in `preprocessing_exc_tuple` in IPython 7.17 and above.\n",
      "  and should_run_async(code)\n"
     ]
    },
    {
     "data": {
      "text/plain": [
       "array([0.00053961, 0.00355815, 0.00320514, 0.00292612, 0.00271067,\n",
       "       0.00266942, 0.00240625, 0.00230509, 0.00226879, 0.00225707])"
      ]
     },
     "execution_count": 141,
     "metadata": {},
     "output_type": "execute_result"
    }
   ],
   "source": [
    "lsa_model = TruncatedSVD(10)\n",
    "\n",
    "doc_topic = lsa_model.fit_transform(abstracts_tfidf)  #fit onto vectorized data\n",
    "\n",
    "lsa_model.explained_variance_ratio_"
   ]
  },
  {
   "cell_type": "code",
   "execution_count": 142,
   "id": "33c70ad8",
   "metadata": {},
   "outputs": [
    {
     "name": "stdout",
     "output_type": "stream",
     "text": [
      "\n",
      "Topic  0\n",
      "alcohol, use, depression, health, associate, high, age, risk, data, alcohol use\n",
      "\n",
      "Topic  1\n",
      "disorder, diagnostic, interview, major, psychiatric, major depressive, depressive disorder, international, prevalence, diagnosis\n",
      "\n",
      "Topic  2\n",
      "national survey, major depressive, substance, substance use, drug, major, drug use, lifetime, past, national\n",
      "\n",
      "Topic  3\n",
      "tobacco, health, survey, national, drug use, use health, income, survey drug, drug, prevalence\n",
      "\n",
      "Topic  4\n",
      "smoking, smoke, major depressive, national, depressive disorder, national survey, survey alcohol, major, alcohol relate, relate\n",
      "\n",
      "Topic  5\n",
      "interval, confidence interval, deficit, ratio, attention deficit, hyperactivity, hyperactivity disorder, confidence, deficit hyperactivity, ratio confidence\n",
      "\n",
      "Topic  6\n",
      "drink, drinking, lifetime, international diagnostic, composite international, survey, diagnostic interview, behavior, international, composite\n",
      "\n",
      "Topic  7\n",
      "scale, suicidal, suicide, history, ideation, confidence, impulsivity, suicidal ideation, hospital, esteem\n",
      "\n",
      "Topic  8\n",
      "report, self report, stress, self, drug use, identification test, consumption, identification, test, anxiety\n",
      "\n",
      "Topic  9\n",
      "stress, stress disorder, binge, induce, interval, confidence interval, traumatic, male, posttraumatic, posttraumatic stress\n"
     ]
    },
    {
     "name": "stderr",
     "output_type": "stream",
     "text": [
      "/Users/varshagarla/opt/anaconda3/lib/python3.8/site-packages/ipykernel/ipkernel.py:287: DeprecationWarning: `should_run_async` will not call `transform_cell` automatically in the future. Please pass the result to `transformed_cell` argument and any exception that happen during thetransform in `preprocessing_exc_tuple` in IPython 7.17 and above.\n",
      "  and should_run_async(code)\n"
     ]
    }
   ],
   "source": [
    "display_topics(lsa_model, tfidf.get_feature_names(), 10)"
   ]
  },
  {
   "cell_type": "markdown",
   "id": "eda49fea",
   "metadata": {},
   "source": [
    "##### min_df = 0.01, max_df = 0.9 (10 Topics)"
   ]
  },
  {
   "cell_type": "code",
   "execution_count": 143,
   "id": "c5d6376f",
   "metadata": {},
   "outputs": [
    {
     "name": "stderr",
     "output_type": "stream",
     "text": [
      "/Users/varshagarla/opt/anaconda3/lib/python3.8/site-packages/ipykernel/ipkernel.py:287: DeprecationWarning: `should_run_async` will not call `transform_cell` automatically in the future. Please pass the result to `transformed_cell` argument and any exception that happen during thetransform in `preprocessing_exc_tuple` in IPython 7.17 and above.\n",
      "  and should_run_async(code)\n"
     ]
    }
   ],
   "source": [
    "# tfidf vectorizer\n",
    "tfidf = TfidfVectorizer(ngram_range=(1, 2), stop_words='english', min_df=0.01, max_df=0.9, binary=True)\n",
    "abstracts_tfidf = tfidf.fit_transform(docs_4)\n",
    "tfidf_df = pd.DataFrame(abstracts_tfidf.toarray(), columns = tfidf.get_feature_names())"
   ]
  },
  {
   "cell_type": "code",
   "execution_count": 144,
   "id": "b30795e3",
   "metadata": {},
   "outputs": [
    {
     "name": "stderr",
     "output_type": "stream",
     "text": [
      "/Users/varshagarla/opt/anaconda3/lib/python3.8/site-packages/ipykernel/ipkernel.py:287: DeprecationWarning: `should_run_async` will not call `transform_cell` automatically in the future. Please pass the result to `transformed_cell` argument and any exception that happen during thetransform in `preprocessing_exc_tuple` in IPython 7.17 and above.\n",
      "  and should_run_async(code)\n"
     ]
    },
    {
     "data": {
      "text/plain": [
       "array([0.00133169, 0.01115788, 0.00979169, 0.00858752, 0.00778265,\n",
       "       0.00773009, 0.00660524, 0.00636206, 0.00615212, 0.005899  ])"
      ]
     },
     "execution_count": 144,
     "metadata": {},
     "output_type": "execute_result"
    }
   ],
   "source": [
    "lsa_model = TruncatedSVD(10)\n",
    "\n",
    "doc_topic = lsa_model.fit_transform(abstracts_tfidf)  #fit onto vectorized data\n",
    "\n",
    "lsa_model.explained_variance_ratio_"
   ]
  },
  {
   "cell_type": "code",
   "execution_count": 145,
   "id": "00e10dc1",
   "metadata": {},
   "outputs": [
    {
     "name": "stdout",
     "output_type": "stream",
     "text": [
      "\n",
      "Topic  0\n",
      "use, depression, health, associate, high, age, risk, data, alcohol use, mental\n",
      "\n",
      "Topic  1\n",
      "disorder, diagnostic, psychiatric, major, interview, major depressive, depressive disorder, prevalence, diagnosis, clinical\n",
      "\n",
      "Topic  2\n",
      "consumption, alcohol consumption, index, questionnaire, body, mass, smoke, physical, mass index, body mass\n",
      "\n",
      "Topic  3\n",
      "drink, disorder, negative, test, effect, dependence, drinking, alcohol dependence, model, depressive disorder\n",
      "\n",
      "Topic  4\n",
      "hyperactivity, deficit, attention deficit, deficit hyperactivity, hyperactivity disorder, suicidal, attention, ideation, adolescent, suicidal ideation\n",
      "\n",
      "Topic  5\n",
      "mental health, violence, stress disorder, mental, sexual, identification test, identification, stress, traumatic, depression anxiety\n",
      "\n",
      "Topic  6\n",
      "follow, trial, treatment, care, primary, clinical, group, intervention, therapy, period\n",
      "\n",
      "Topic  7\n",
      "attention deficit, deficit hyperactivity, deficit, hyperactivity, hyperactivity disorder, attention, scale, alcohol use, identification test, use associate\n",
      "\n",
      "Topic  8\n",
      "stress, stress disorder, deficit, hyperactivity, attention deficit, deficit hyperactivity, hyperactivity disorder, attention, traumatic stress, traumatic\n",
      "\n",
      "Topic  9\n",
      "suicidal, ideation, suicidal ideation, suicide, confidence, interval, confidence interval, year, female, attempt\n"
     ]
    },
    {
     "name": "stderr",
     "output_type": "stream",
     "text": [
      "/Users/varshagarla/opt/anaconda3/lib/python3.8/site-packages/ipykernel/ipkernel.py:287: DeprecationWarning: `should_run_async` will not call `transform_cell` automatically in the future. Please pass the result to `transformed_cell` argument and any exception that happen during thetransform in `preprocessing_exc_tuple` in IPython 7.17 and above.\n",
      "  and should_run_async(code)\n"
     ]
    }
   ],
   "source": [
    "display_topics(lsa_model, tfidf.get_feature_names(), 10)"
   ]
  },
  {
   "cell_type": "markdown",
   "id": "85b57832",
   "metadata": {},
   "source": [
    "##### 15 Topics"
   ]
  },
  {
   "cell_type": "code",
   "execution_count": 146,
   "id": "fcf35cff",
   "metadata": {},
   "outputs": [
    {
     "name": "stderr",
     "output_type": "stream",
     "text": [
      "/Users/varshagarla/opt/anaconda3/lib/python3.8/site-packages/ipykernel/ipkernel.py:287: DeprecationWarning: `should_run_async` will not call `transform_cell` automatically in the future. Please pass the result to `transformed_cell` argument and any exception that happen during thetransform in `preprocessing_exc_tuple` in IPython 7.17 and above.\n",
      "  and should_run_async(code)\n"
     ]
    },
    {
     "data": {
      "text/plain": [
       "array([0.00133169, 0.01115806, 0.00979185, 0.00857916, 0.00781546,\n",
       "       0.00773285, 0.00663383, 0.00647972, 0.00612521, 0.00599869,\n",
       "       0.00586073, 0.00567475, 0.0053584 , 0.00531424, 0.00504932])"
      ]
     },
     "execution_count": 146,
     "metadata": {},
     "output_type": "execute_result"
    }
   ],
   "source": [
    "lsa_model = TruncatedSVD(15)\n",
    "\n",
    "doc_topic = lsa_model.fit_transform(abstracts_tfidf)  #fit onto vectorized data\n",
    "\n",
    "lsa_model.explained_variance_ratio_"
   ]
  },
  {
   "cell_type": "code",
   "execution_count": 147,
   "id": "6c7a5dc3",
   "metadata": {},
   "outputs": [
    {
     "name": "stdout",
     "output_type": "stream",
     "text": [
      "\n",
      "Topic  0\n",
      "use, depression, health, associate, high, age, risk, data, alcohol use, mental\n",
      "\n",
      "Topic  1\n",
      "disorder, diagnostic, psychiatric, major, interview, major depressive, depressive disorder, prevalence, diagnosis, clinical\n",
      "\n",
      "Topic  2\n",
      "consumption, alcohol consumption, index, questionnaire, body, smoke, mass, physical, body mass, mass index\n",
      "\n",
      "Topic  3\n",
      "drink, disorder, test, negative, effect, dependence, alcohol dependence, drinking, model, depressive disorder\n",
      "\n",
      "Topic  4\n",
      "hyperactivity, deficit, attention deficit, deficit hyperactivity, hyperactivity disorder, cohort, attention, suicidal, adolescent, ideation\n",
      "\n",
      "Topic  5\n",
      "mental health, mental, stress disorder, violence, stress, sexual, traumatic, traumatic stress, post traumatic, community\n",
      "\n",
      "Topic  6\n",
      "treatment, trial, follow, primary, care, clinical, drug, therapy, intervention, change\n",
      "\n",
      "Topic  7\n",
      "attention deficit, deficit hyperactivity, attention, deficit, hyperactivity disorder, hyperactivity, scale, identification test, substance use, self report\n",
      "\n",
      "Topic  8\n",
      "stress, stress disorder, anxiety, traumatic, posttraumatic, posttraumatic stress, traumatic stress, post traumatic, confidence interval, confidence\n",
      "\n",
      "Topic  9\n",
      "child, maternal, partner, hyperactivity, attention deficit, birth, hyperactivity disorder, deficit, deficit hyperactivity, partner violence\n",
      "\n",
      "Topic  10\n",
      "mass index, body mass, mass, body, sleep, index, status, ideation, gender, design\n",
      "\n",
      "Topic  11\n",
      "longitudinal, stress disorder, prospective, identification test, childhood, test, interval, confidence interval, posttraumatic stress, posttraumatic\n",
      "\n",
      "Topic  12\n",
      "drinking, department, status, high risk, emergency department, emergency, sexual, heavy, address, drink\n",
      "\n",
      "Topic  13\n",
      "major, major depressive, press, scale, smoke, university press, nicotine, depressive, dependence, violence\n",
      "\n",
      "Topic  14\n",
      "latent, longitudinal, intervention, follow, month, mental health, mental, moderate, group, general population\n"
     ]
    },
    {
     "name": "stderr",
     "output_type": "stream",
     "text": [
      "/Users/varshagarla/opt/anaconda3/lib/python3.8/site-packages/ipykernel/ipkernel.py:287: DeprecationWarning: `should_run_async` will not call `transform_cell` automatically in the future. Please pass the result to `transformed_cell` argument and any exception that happen during thetransform in `preprocessing_exc_tuple` in IPython 7.17 and above.\n",
      "  and should_run_async(code)\n"
     ]
    }
   ],
   "source": [
    "display_topics(lsa_model, tfidf.get_feature_names(), 10)"
   ]
  },
  {
   "cell_type": "markdown",
   "id": "fa1dd566",
   "metadata": {},
   "source": [
    "##### 9 Topics"
   ]
  },
  {
   "cell_type": "code",
   "execution_count": 148,
   "id": "3b46e470",
   "metadata": {},
   "outputs": [
    {
     "name": "stderr",
     "output_type": "stream",
     "text": [
      "/Users/varshagarla/opt/anaconda3/lib/python3.8/site-packages/ipykernel/ipkernel.py:287: DeprecationWarning: `should_run_async` will not call `transform_cell` automatically in the future. Please pass the result to `transformed_cell` argument and any exception that happen during thetransform in `preprocessing_exc_tuple` in IPython 7.17 and above.\n",
      "  and should_run_async(code)\n"
     ]
    },
    {
     "data": {
      "text/plain": [
       "array([0.00133169, 0.01115799, 0.00978827, 0.008569  , 0.00778673,\n",
       "       0.00771036, 0.00654826, 0.006502  , 0.00607503])"
      ]
     },
     "execution_count": 148,
     "metadata": {},
     "output_type": "execute_result"
    }
   ],
   "source": [
    "lsa_model = TruncatedSVD(9)\n",
    "\n",
    "doc_topic = lsa_model.fit_transform(abstracts_tfidf)  #fit onto vectorized data\n",
    "\n",
    "lsa_model.explained_variance_ratio_"
   ]
  },
  {
   "cell_type": "code",
   "execution_count": 149,
   "id": "66b3c295",
   "metadata": {},
   "outputs": [
    {
     "name": "stdout",
     "output_type": "stream",
     "text": [
      "\n",
      "Topic  0\n",
      "use, depression, health, associate, high, age, risk, data, alcohol use, mental\n",
      "\n",
      "Topic  1\n",
      "disorder, diagnostic, psychiatric, major, interview, major depressive, depressive disorder, prevalence, diagnosis, clinical\n",
      "\n",
      "Topic  2\n",
      "consumption, alcohol consumption, index, questionnaire, body, mass, smoke, physical, body mass, mass index\n",
      "\n",
      "Topic  3\n",
      "health, tobacco, survey, drug use, national, income, mental health, tobacco use, prevalence, drug\n",
      "\n",
      "Topic  4\n",
      "deficit, hyperactivity, attention deficit, deficit hyperactivity, hyperactivity disorder, suicidal, ideation, attention, adolescent, suicidal ideation\n",
      "\n",
      "Topic  5\n",
      "mental health, stress disorder, mental, violence, identification, identification test, stress, care, audit, traumatic stress\n",
      "\n",
      "Topic  6\n",
      "follow, clinical, treatment, care, trial, medical, hospital, primary, period, drug\n",
      "\n",
      "Topic  7\n",
      "attention, deficit hyperactivity, deficit, attention deficit, hyperactivity disorder, hyperactivity, scale, drug use, marijuana, substance use\n",
      "\n",
      "Topic  8\n",
      "stress, stress disorder, confidence, confidence interval, interval, posttraumatic, posttraumatic stress, ratio confidence, traumatic stress, traumatic\n"
     ]
    },
    {
     "name": "stderr",
     "output_type": "stream",
     "text": [
      "/Users/varshagarla/opt/anaconda3/lib/python3.8/site-packages/ipykernel/ipkernel.py:287: DeprecationWarning: `should_run_async` will not call `transform_cell` automatically in the future. Please pass the result to `transformed_cell` argument and any exception that happen during thetransform in `preprocessing_exc_tuple` in IPython 7.17 and above.\n",
      "  and should_run_async(code)\n"
     ]
    }
   ],
   "source": [
    "display_topics(lsa_model, tfidf.get_feature_names(), 10)"
   ]
  },
  {
   "cell_type": "markdown",
   "id": "ca907aad",
   "metadata": {},
   "source": [
    "#### 8 Topics"
   ]
  },
  {
   "cell_type": "code",
   "execution_count": 150,
   "id": "32e31b41",
   "metadata": {},
   "outputs": [
    {
     "name": "stderr",
     "output_type": "stream",
     "text": [
      "/Users/varshagarla/opt/anaconda3/lib/python3.8/site-packages/ipykernel/ipkernel.py:287: DeprecationWarning: `should_run_async` will not call `transform_cell` automatically in the future. Please pass the result to `transformed_cell` argument and any exception that happen during thetransform in `preprocessing_exc_tuple` in IPython 7.17 and above.\n",
      "  and should_run_async(code)\n"
     ]
    },
    {
     "data": {
      "text/plain": [
       "array([0.00133169, 0.01115679, 0.00979155, 0.00858387, 0.00776908,\n",
       "       0.00762747, 0.00657645, 0.00635932])"
      ]
     },
     "execution_count": 150,
     "metadata": {},
     "output_type": "execute_result"
    }
   ],
   "source": [
    "lsa_model = TruncatedSVD(8)\n",
    "\n",
    "doc_topic = lsa_model.fit_transform(abstracts_tfidf)  #fit onto vectorized data\n",
    "\n",
    "lsa_model.explained_variance_ratio_"
   ]
  },
  {
   "cell_type": "code",
   "execution_count": 151,
   "id": "1c6a9be2",
   "metadata": {},
   "outputs": [
    {
     "name": "stdout",
     "output_type": "stream",
     "text": [
      "\n",
      "Topic  0\n",
      "use, depression, health, associate, high, age, risk, data, alcohol use, mental\n",
      "\n",
      "Topic  1\n",
      "disorder, diagnostic, psychiatric, major, interview, major depressive, depressive disorder, prevalence, diagnosis, clinical\n",
      "\n",
      "Topic  2\n",
      "consumption, alcohol consumption, index, questionnaire, body, smoke, mass, physical, body mass, mass index\n",
      "\n",
      "Topic  3\n",
      "health, tobacco, survey, drug use, national, income, drug, mental health, tobacco use, prevalence\n",
      "\n",
      "Topic  4\n",
      "national survey, drinking, survey, past, drink, major depressive, day, month, depressive, heavy\n",
      "\n",
      "Topic  5\n",
      "smoking, national, mass, mass index, body mass, smoke, tobacco, adolescence, cohort, ratio\n",
      "\n",
      "Topic  6\n",
      "follow, trial, treatment, care, clinical, primary, intervention, drug, group, hospital\n",
      "\n",
      "Topic  7\n",
      "attention deficit, attention, deficit, deficit hyperactivity, hyperactivity disorder, hyperactivity, substance use, substance, mean age, mean\n"
     ]
    },
    {
     "name": "stderr",
     "output_type": "stream",
     "text": [
      "/Users/varshagarla/opt/anaconda3/lib/python3.8/site-packages/ipykernel/ipkernel.py:287: DeprecationWarning: `should_run_async` will not call `transform_cell` automatically in the future. Please pass the result to `transformed_cell` argument and any exception that happen during thetransform in `preprocessing_exc_tuple` in IPython 7.17 and above.\n",
      "  and should_run_async(code)\n"
     ]
    }
   ],
   "source": [
    "display_topics(lsa_model, tfidf.get_feature_names(), 10)"
   ]
  },
  {
   "cell_type": "markdown",
   "id": "95d315e0",
   "metadata": {},
   "source": [
    "##### 11 Topics"
   ]
  },
  {
   "cell_type": "code",
   "execution_count": 152,
   "id": "cee148f3",
   "metadata": {},
   "outputs": [
    {
     "name": "stderr",
     "output_type": "stream",
     "text": [
      "/Users/varshagarla/opt/anaconda3/lib/python3.8/site-packages/ipykernel/ipkernel.py:287: DeprecationWarning: `should_run_async` will not call `transform_cell` automatically in the future. Please pass the result to `transformed_cell` argument and any exception that happen during thetransform in `preprocessing_exc_tuple` in IPython 7.17 and above.\n",
      "  and should_run_async(code)\n"
     ]
    },
    {
     "data": {
      "text/plain": [
       "array([0.00133169, 0.01115074, 0.00979158, 0.00858106, 0.00781053,\n",
       "       0.00768585, 0.00657456, 0.00650568, 0.00616047, 0.00599845,\n",
       "       0.00567893])"
      ]
     },
     "execution_count": 152,
     "metadata": {},
     "output_type": "execute_result"
    }
   ],
   "source": [
    "lsa_model = TruncatedSVD(11)\n",
    "\n",
    "doc_topic = lsa_model.fit_transform(abstracts_tfidf)  #fit onto vectorized data\n",
    "\n",
    "lsa_model.explained_variance_ratio_"
   ]
  },
  {
   "cell_type": "code",
   "execution_count": 153,
   "id": "3dabb91d",
   "metadata": {},
   "outputs": [
    {
     "name": "stdout",
     "output_type": "stream",
     "text": [
      "\n",
      "Topic  0\n",
      "use, depression, health, associate, high, age, risk, data, alcohol use, mental\n",
      "\n",
      "Topic  1\n",
      "disorder, diagnostic, psychiatric, major, interview, major depressive, prevalence, depressive disorder, clinical, diagnosis\n",
      "\n",
      "Topic  2\n",
      "consumption, alcohol consumption, index, questionnaire, body, smoke, mass, physical, body mass, mass index\n",
      "\n",
      "Topic  3\n",
      "drink, disorder, negative, test, effect, dependence, drinking, model, alcohol dependence, depressive disorder\n",
      "\n",
      "Topic  4\n",
      "hyperactivity, deficit, attention deficit, deficit hyperactivity, hyperactivity disorder, attention, adolescent, suicidal, cohort, interval\n",
      "\n",
      "Topic  5\n",
      "mental health, stress disorder, violence, mental, sexual, traumatic stress, post traumatic, traumatic, stress, post\n",
      "\n",
      "Topic  6\n",
      "treatment, trial, tobacco, drug, follow, clinical, drug use, care, therapy, primary\n",
      "\n",
      "Topic  7\n",
      "attention deficit, deficit hyperactivity, deficit, attention, hyperactivity disorder, hyperactivity, identification test, scale, identification, questionnaire\n",
      "\n",
      "Topic  8\n",
      "stress, stress disorder, traumatic, traumatic stress, post traumatic, posttraumatic stress, posttraumatic, deficit, report, attention deficit\n",
      "\n",
      "Topic  9\n",
      "maternal, child, childhood, status, birth, partner, hyperactivity, multiple, attention deficit, hyperactivity disorder\n",
      "\n",
      "Topic  10\n",
      "drink, drinking, day, deficit, attention, attention deficit, hyperactivity, deficit hyperactivity, hyperactivity disorder, binge\n"
     ]
    },
    {
     "name": "stderr",
     "output_type": "stream",
     "text": [
      "/Users/varshagarla/opt/anaconda3/lib/python3.8/site-packages/ipykernel/ipkernel.py:287: DeprecationWarning: `should_run_async` will not call `transform_cell` automatically in the future. Please pass the result to `transformed_cell` argument and any exception that happen during thetransform in `preprocessing_exc_tuple` in IPython 7.17 and above.\n",
      "  and should_run_async(code)\n"
     ]
    }
   ],
   "source": [
    "display_topics(lsa_model, tfidf.get_feature_names(), 10)"
   ]
  },
  {
   "cell_type": "markdown",
   "id": "65abc6b9",
   "metadata": {},
   "source": [
    "##### 12 Topics"
   ]
  },
  {
   "cell_type": "code",
   "execution_count": 154,
   "id": "ad2f59c0",
   "metadata": {},
   "outputs": [
    {
     "name": "stderr",
     "output_type": "stream",
     "text": [
      "/Users/varshagarla/opt/anaconda3/lib/python3.8/site-packages/ipykernel/ipkernel.py:287: DeprecationWarning: `should_run_async` will not call `transform_cell` automatically in the future. Please pass the result to `transformed_cell` argument and any exception that happen during thetransform in `preprocessing_exc_tuple` in IPython 7.17 and above.\n",
      "  and should_run_async(code)\n"
     ]
    },
    {
     "data": {
      "text/plain": [
       "array([0.00133169, 0.01115766, 0.00979156, 0.00858549, 0.00781244,\n",
       "       0.00773799, 0.00661398, 0.00643485, 0.00608981, 0.0059115 ,\n",
       "       0.00581778, 0.00562932])"
      ]
     },
     "execution_count": 154,
     "metadata": {},
     "output_type": "execute_result"
    }
   ],
   "source": [
    "lsa_model = TruncatedSVD(12)\n",
    "\n",
    "doc_topic = lsa_model.fit_transform(abstracts_tfidf)  #fit onto vectorized data\n",
    "\n",
    "lsa_model.explained_variance_ratio_"
   ]
  },
  {
   "cell_type": "code",
   "execution_count": 155,
   "id": "6c5d5794",
   "metadata": {},
   "outputs": [
    {
     "name": "stdout",
     "output_type": "stream",
     "text": [
      "\n",
      "Topic  0\n",
      "use, depression, health, associate, high, age, risk, data, alcohol use, mental\n",
      "\n",
      "Topic  1\n",
      "disorder, diagnostic, psychiatric, major, interview, major depressive, depressive disorder, prevalence, diagnosis, clinical\n",
      "\n",
      "Topic  2\n",
      "consumption, alcohol consumption, index, questionnaire, body, smoke, physical, mass, mass index, body mass\n",
      "\n",
      "Topic  3\n",
      "health, tobacco, survey, national, drug use, income, mental health, tobacco use, drug, prevalence\n",
      "\n",
      "Topic  4\n",
      "hyperactivity, deficit, attention deficit, deficit hyperactivity, hyperactivity disorder, suicidal, attention, ideation, adolescent, cohort\n",
      "\n",
      "Topic  5\n",
      "national, smoking, mass, major depressive, mass index, body mass, smoke, index, depressive disorder, ratio\n",
      "\n",
      "Topic  6\n",
      "treatment, trial, follow, primary, care, clinical, drug, substance use, drug use, hospital\n",
      "\n",
      "Topic  7\n",
      "attention deficit, identification test, deficit hyperactivity, scale, deficit, attention, hyperactivity disorder, hyperactivity, identification, questionnaire\n",
      "\n",
      "Topic  8\n",
      "stress, stress disorder, confidence interval, interval, confidence, ratio confidence, ratio, binge, anxiety, posttraumatic stress\n",
      "\n",
      "Topic  9\n",
      "suicidal, ideation, suicidal ideation, suicide, confidence, interval, confidence interval, attempt, scale, patient\n",
      "\n",
      "Topic  10\n",
      "mass index, body mass, body, mass, index, stress, stress disorder, ideation, mental health, mental\n",
      "\n",
      "Topic  11\n",
      "school, day, male, induce, suicidal, effect, ideation, suicidal ideation, drink, like\n"
     ]
    },
    {
     "name": "stderr",
     "output_type": "stream",
     "text": [
      "/Users/varshagarla/opt/anaconda3/lib/python3.8/site-packages/ipykernel/ipkernel.py:287: DeprecationWarning: `should_run_async` will not call `transform_cell` automatically in the future. Please pass the result to `transformed_cell` argument and any exception that happen during thetransform in `preprocessing_exc_tuple` in IPython 7.17 and above.\n",
      "  and should_run_async(code)\n"
     ]
    }
   ],
   "source": [
    "display_topics(lsa_model, tfidf.get_feature_names(), 10)"
   ]
  },
  {
   "cell_type": "markdown",
   "id": "6166e522",
   "metadata": {},
   "source": [
    "Too many"
   ]
  },
  {
   "cell_type": "markdown",
   "id": "d8689aed",
   "metadata": {},
   "source": [
    "-------------"
   ]
  },
  {
   "cell_type": "markdown",
   "id": "bbd4c290",
   "metadata": {},
   "source": [
    "## Final Model"
   ]
  },
  {
   "cell_type": "markdown",
   "id": "0ac6d79e",
   "metadata": {},
   "source": [
    "- LSA\n",
    "- df_4, 'abstracts_for_modeling_4.csv'\n",
    "- min_df = 0.01, max_df = 0.9\n",
    "- 9 Topics"
   ]
  },
  {
   "cell_type": "markdown",
   "id": "7b338888",
   "metadata": {},
   "source": [
    "Topic  0 (Depression)\n",
    "- use, depression, health, associate, high, age, risk, data, alcohol use, mental\n",
    "\n",
    "Topic  1 (Diagnosis of Psychiatric Disorders)\n",
    "- disorder, diagnostic, psychiatric, major, interview, major depressive, depressive disorder, prevalence, diagnosis, clinical\n",
    "\n",
    "Topic  2 (Alcohol/Smoking & BMI)\n",
    "- consumption, alcohol consumption, index, questionnaire, body, mass, smoke, physical, body mass, mass index\n",
    "\n",
    "Topic  3 (Tobacco National Health)\n",
    "- health, tobacco, survey, drug use, national, income, mental health, tobacco use, prevalence, drug\n",
    "\n",
    "Topic  4 (ADHD & Suicidal Ideation)\n",
    "- deficit, hyperactivity, attention deficit, deficit hyperactivity, hyperactivity disorder, suicidal, ideation, attention, adolescent, suicidal ideation\n",
    "\n",
    "Topic  5 (Mental Health & Violence)\n",
    "- mental health, stress disorder, mental, violence, identification, identification test, stress, care, audit, traumatic stress\n",
    "\n",
    "Topic  6 (Treatment & Intervention)\n",
    "- follow, clinical, treatment, care, trial, medical, hospital, primary, period, drug\n",
    "\n",
    "Topic  7 (ADHD & Drug Use)\n",
    "- attention, deficit hyperactivity, deficit, attention deficit, hyperactivity disorder, hyperactivity, scale, drug use, marijuana, substance use\n",
    "\n",
    "Topic  8 (PTSD)\n",
    "- stress, stress disorder, confidence, confidence interval, interval, posttraumatic, posttraumatic stress, ratio confidence, traumatic stress, traumatic"
   ]
  },
  {
   "cell_type": "code",
   "execution_count": 167,
   "id": "a7c8f115",
   "metadata": {},
   "outputs": [
    {
     "name": "stderr",
     "output_type": "stream",
     "text": [
      "/Users/varshagarla/opt/anaconda3/lib/python3.8/site-packages/ipykernel/ipkernel.py:287: DeprecationWarning: `should_run_async` will not call `transform_cell` automatically in the future. Please pass the result to `transformed_cell` argument and any exception that happen during thetransform in `preprocessing_exc_tuple` in IPython 7.17 and above.\n",
      "  and should_run_async(code)\n"
     ]
    }
   ],
   "source": [
    "# Read in new file\n",
    "df_4 = pd.read_csv('abstracts_for_modeling_4.csv')\n",
    "\n",
    "# new corpus\n",
    "docs_4 = df_4['Abstract_modeling']\n",
    "\n",
    "# tfidf vectorizer\n",
    "tfidf = TfidfVectorizer(ngram_range=(1, 2), stop_words='english', min_df=0.01, max_df=0.9, binary=True)\n",
    "abstracts_tfidf = tfidf.fit_transform(docs_4)\n",
    "tfidf_df = pd.DataFrame(abstracts_tfidf.toarray(), columns = tfidf.get_feature_names())"
   ]
  },
  {
   "cell_type": "code",
   "execution_count": 168,
   "id": "080fff1a",
   "metadata": {},
   "outputs": [
    {
     "name": "stderr",
     "output_type": "stream",
     "text": [
      "/Users/varshagarla/opt/anaconda3/lib/python3.8/site-packages/ipykernel/ipkernel.py:287: DeprecationWarning: `should_run_async` will not call `transform_cell` automatically in the future. Please pass the result to `transformed_cell` argument and any exception that happen during thetransform in `preprocessing_exc_tuple` in IPython 7.17 and above.\n",
      "  and should_run_async(code)\n"
     ]
    },
    {
     "data": {
      "text/plain": [
       "array([0.00133169, 0.01115643, 0.00978627, 0.0085833 , 0.00779627,\n",
       "       0.00772187, 0.00660602, 0.00635617, 0.00611021])"
      ]
     },
     "execution_count": 168,
     "metadata": {},
     "output_type": "execute_result"
    }
   ],
   "source": [
    "lsa_model = TruncatedSVD(9)\n",
    "\n",
    "doc_topic = lsa_model.fit_transform(abstracts_tfidf)  #fit onto vectorized data\n",
    "\n",
    "lsa_model.explained_variance_ratio_"
   ]
  },
  {
   "cell_type": "code",
   "execution_count": 158,
   "id": "e7c6410f",
   "metadata": {},
   "outputs": [
    {
     "name": "stdout",
     "output_type": "stream",
     "text": [
      "\n",
      "Topic  0\n",
      "use, depression, health, associate, high, age, risk, data, alcohol use, mental, anxiety, disorder, depressive, mental health, substance, self, low, survey, base, prevalence\n",
      "\n",
      "Topic  1\n",
      "disorder, diagnostic, psychiatric, major, interview, major depressive, depressive disorder, prevalence, diagnosis, clinical, treatment, use disorder, international, criterion, alcohol abuse, general population, population, bipolar, common, mental\n",
      "\n",
      "Topic  2\n",
      "consumption, alcohol consumption, index, questionnaire, smoke, body, mass, physical, body mass, mass index, physical activity, activity, low, scale, smoking, primary, patient, chronic, quality, health questionnaire\n",
      "\n",
      "Topic  3\n",
      "health, tobacco, survey, national, drug use, income, drug, tobacco use, mental health, prevalence, marijuana, physical, mental, pregnancy, public, suicidal ideation, confidence, use health, suicidal, ideation\n",
      "\n",
      "Topic  4\n",
      "hyperactivity, deficit, attention deficit, deficit hyperactivity, hyperactivity disorder, attention, cohort, adolescent, suicidal, ideation, family, self report, interval, ratio, suicidal ideation, suicide, confidence interval, childhood, adolescence, self\n",
      "\n",
      "Topic  5\n",
      "violence, stress disorder, mental health, stress, mental, traumatic, sexual, traumatic stress, post traumatic, depression anxiety, community, post, identification test, identification, need, partner, victimization, care, youth, support\n",
      "\n",
      "Topic  6\n",
      "follow, trial, treatment, clinical, primary, intervention, group, care, medical, hospital, period, therapy, marijuana, drug, tobacco, time, change, receive, year, substance use\n",
      "\n",
      "Topic  7\n",
      "attention deficit, deficit, deficit hyperactivity, attention, hyperactivity disorder, hyperactivity, drug use, self report, past, scale, report, drug, self, identification test, confidence interval, illicit, inventory, confidence, interval, use associate\n",
      "\n",
      "Topic  8\n",
      "stress, stress disorder, traumatic, traumatic stress, post traumatic, posttraumatic, posttraumatic stress, post, hyperactivity, hyperactivity disorder, attention deficit, deficit, deficit hyperactivity, anxiety, attention, report, body, disorder, physical, weight\n"
     ]
    },
    {
     "name": "stderr",
     "output_type": "stream",
     "text": [
      "/Users/varshagarla/opt/anaconda3/lib/python3.8/site-packages/ipykernel/ipkernel.py:287: DeprecationWarning: `should_run_async` will not call `transform_cell` automatically in the future. Please pass the result to `transformed_cell` argument and any exception that happen during thetransform in `preprocessing_exc_tuple` in IPython 7.17 and above.\n",
      "  and should_run_async(code)\n"
     ]
    }
   ],
   "source": [
    "display_topics(lsa_model, tfidf.get_feature_names(), 20)"
   ]
  },
  {
   "cell_type": "code",
   "execution_count": 159,
   "id": "1c36cec7",
   "metadata": {},
   "outputs": [
    {
     "name": "stdout",
     "output_type": "stream",
     "text": [
      "\n",
      "Topic  0\n",
      "use, depression, health, associate, high, age, risk, data, alcohol use, mental\n",
      "\n",
      "Topic  1\n",
      "disorder, diagnostic, psychiatric, major, interview, major depressive, depressive disorder, prevalence, diagnosis, clinical\n",
      "\n",
      "Topic  2\n",
      "consumption, alcohol consumption, index, questionnaire, smoke, body, mass, physical, body mass, mass index\n",
      "\n",
      "Topic  3\n",
      "health, tobacco, survey, national, drug use, income, drug, tobacco use, mental health, prevalence\n",
      "\n",
      "Topic  4\n",
      "hyperactivity, deficit, attention deficit, deficit hyperactivity, hyperactivity disorder, attention, cohort, adolescent, suicidal, ideation\n",
      "\n",
      "Topic  5\n",
      "violence, stress disorder, mental health, stress, mental, traumatic, sexual, traumatic stress, post traumatic, depression anxiety\n",
      "\n",
      "Topic  6\n",
      "follow, trial, treatment, clinical, primary, intervention, group, care, medical, hospital\n",
      "\n",
      "Topic  7\n",
      "attention deficit, deficit, deficit hyperactivity, attention, hyperactivity disorder, hyperactivity, drug use, self report, past, scale\n",
      "\n",
      "Topic  8\n",
      "stress, stress disorder, traumatic, traumatic stress, post traumatic, posttraumatic, posttraumatic stress, post, hyperactivity, hyperactivity disorder\n"
     ]
    },
    {
     "name": "stderr",
     "output_type": "stream",
     "text": [
      "/Users/varshagarla/opt/anaconda3/lib/python3.8/site-packages/ipykernel/ipkernel.py:287: DeprecationWarning: `should_run_async` will not call `transform_cell` automatically in the future. Please pass the result to `transformed_cell` argument and any exception that happen during thetransform in `preprocessing_exc_tuple` in IPython 7.17 and above.\n",
      "  and should_run_async(code)\n"
     ]
    }
   ],
   "source": [
    "display_topics(lsa_model, tfidf.get_feature_names(), 10)"
   ]
  },
  {
   "cell_type": "code",
   "execution_count": 160,
   "id": "dd7050d8",
   "metadata": {},
   "outputs": [
    {
     "name": "stdout",
     "output_type": "stream",
     "text": [
      "\n",
      "Topic  0\n",
      "use, depression, health, associate, high\n",
      "\n",
      "Topic  1\n",
      "disorder, diagnostic, psychiatric, major, interview\n",
      "\n",
      "Topic  2\n",
      "consumption, alcohol consumption, index, questionnaire, smoke\n",
      "\n",
      "Topic  3\n",
      "health, tobacco, survey, national, drug use\n",
      "\n",
      "Topic  4\n",
      "hyperactivity, deficit, attention deficit, deficit hyperactivity, hyperactivity disorder\n",
      "\n",
      "Topic  5\n",
      "violence, stress disorder, mental health, stress, mental\n",
      "\n",
      "Topic  6\n",
      "follow, trial, treatment, clinical, primary\n",
      "\n",
      "Topic  7\n",
      "attention deficit, deficit, deficit hyperactivity, attention, hyperactivity disorder\n",
      "\n",
      "Topic  8\n",
      "stress, stress disorder, traumatic, traumatic stress, post traumatic\n"
     ]
    },
    {
     "name": "stderr",
     "output_type": "stream",
     "text": [
      "/Users/varshagarla/opt/anaconda3/lib/python3.8/site-packages/ipykernel/ipkernel.py:287: DeprecationWarning: `should_run_async` will not call `transform_cell` automatically in the future. Please pass the result to `transformed_cell` argument and any exception that happen during thetransform in `preprocessing_exc_tuple` in IPython 7.17 and above.\n",
      "  and should_run_async(code)\n"
     ]
    }
   ],
   "source": [
    "display_topics(lsa_model, tfidf.get_feature_names(), 5)"
   ]
  },
  {
   "cell_type": "markdown",
   "id": "c3141cba",
   "metadata": {},
   "source": [
    "## Recommender System"
   ]
  },
  {
   "cell_type": "code",
   "execution_count": 161,
   "id": "9bf5c410",
   "metadata": {},
   "outputs": [
    {
     "name": "stderr",
     "output_type": "stream",
     "text": [
      "/Users/varshagarla/opt/anaconda3/lib/python3.8/site-packages/ipykernel/ipkernel.py:287: DeprecationWarning: `should_run_async` will not call `transform_cell` automatically in the future. Please pass the result to `transformed_cell` argument and any exception that happen during thetransform in `preprocessing_exc_tuple` in IPython 7.17 and above.\n",
      "  and should_run_async(code)\n"
     ]
    },
    {
     "data": {
      "text/html": [
       "<div>\n",
       "<style scoped>\n",
       "    .dataframe tbody tr th:only-of-type {\n",
       "        vertical-align: middle;\n",
       "    }\n",
       "\n",
       "    .dataframe tbody tr th {\n",
       "        vertical-align: top;\n",
       "    }\n",
       "\n",
       "    .dataframe thead th {\n",
       "        text-align: right;\n",
       "    }\n",
       "</style>\n",
       "<table border=\"1\" class=\"dataframe\">\n",
       "  <thead>\n",
       "    <tr style=\"text-align: right;\">\n",
       "      <th></th>\n",
       "      <th>PaperID</th>\n",
       "      <th>Abstract</th>\n",
       "      <th>Abstract_modeling</th>\n",
       "    </tr>\n",
       "  </thead>\n",
       "  <tbody>\n",
       "    <tr>\n",
       "      <th>0</th>\n",
       "      <td>236</td>\n",
       "      <td>the quality of the mother child relationship i...</td>\n",
       "      <td>['quality', 'mother', 'child', 'relationship',...</td>\n",
       "    </tr>\n",
       "    <tr>\n",
       "      <th>1</th>\n",
       "      <td>323</td>\n",
       "      <td>perinatal depression affects      of women in ...</td>\n",
       "      <td>['depression', 'south', 'health', 'depressive'...</td>\n",
       "    </tr>\n",
       "    <tr>\n",
       "      <th>2</th>\n",
       "      <td>874</td>\n",
       "      <td>sexual minority  sm  young adults  such as tho...</td>\n",
       "      <td>['sexual', 'minority', 'young', 'identify', 'g...</td>\n",
       "    </tr>\n",
       "    <tr>\n",
       "      <th>3</th>\n",
       "      <td>1098</td>\n",
       "      <td>the increasingly female face of chronic obstru...</td>\n",
       "      <td>['female', 'face', 'chronic', 'obstructive', '...</td>\n",
       "    </tr>\n",
       "    <tr>\n",
       "      <th>4</th>\n",
       "      <td>1427</td>\n",
       "      <td>the prevalence of korean adolescents with depr...</td>\n",
       "      <td>['prevalence', 'depression', 'suicide', 'rate'...</td>\n",
       "    </tr>\n",
       "  </tbody>\n",
       "</table>\n",
       "</div>"
      ],
      "text/plain": [
       "   PaperID                                           Abstract  \\\n",
       "0      236  the quality of the mother child relationship i...   \n",
       "1      323  perinatal depression affects      of women in ...   \n",
       "2      874  sexual minority  sm  young adults  such as tho...   \n",
       "3     1098  the increasingly female face of chronic obstru...   \n",
       "4     1427  the prevalence of korean adolescents with depr...   \n",
       "\n",
       "                                   Abstract_modeling  \n",
       "0  ['quality', 'mother', 'child', 'relationship',...  \n",
       "1  ['depression', 'south', 'health', 'depressive'...  \n",
       "2  ['sexual', 'minority', 'young', 'identify', 'g...  \n",
       "3  ['female', 'face', 'chronic', 'obstructive', '...  \n",
       "4  ['prevalence', 'depression', 'suicide', 'rate'...  "
      ]
     },
     "execution_count": 161,
     "metadata": {},
     "output_type": "execute_result"
    }
   ],
   "source": [
    "df_4.head()"
   ]
  },
  {
   "cell_type": "code",
   "execution_count": 165,
   "id": "4ce8ffde",
   "metadata": {},
   "outputs": [
    {
     "name": "stderr",
     "output_type": "stream",
     "text": [
      "/Users/varshagarla/opt/anaconda3/lib/python3.8/site-packages/ipykernel/ipkernel.py:287: DeprecationWarning: `should_run_async` will not call `transform_cell` automatically in the future. Please pass the result to `transformed_cell` argument and any exception that happen during thetransform in `preprocessing_exc_tuple` in IPython 7.17 and above.\n",
      "  and should_run_async(code)\n"
     ]
    },
    {
     "data": {
      "text/plain": [
       "'the aims of this study were to determine the prevalence of witnessing parental violence  wpv  during childhood and of current intimate partner violence  ipv  victimisation and aggression in a brazilian sample  in order to verify pathways between wpv and involvement in ipv as an adult the mediating roles of substance use and depression were investigated  data came from the second brazilian national alcohol and drugs survey  a multi cluster probabilistic household survey  which gathered information on the use of psychoactive substances  current depressive disorder  history of childhood direct and indirect exposure to domestic violence and ipv in a nationally representative sample  a subsample of   individuals aged  years or older was analysed  weighted prevalence rates  adjusted odds ratio and conditional path models were performed being a victim of ipv was reported by    of the sample  thus being       reported being ipv perpetrators  these rates were      and       respectively  among those who reported wpv       wpv was associated with being a victim of ipv in adult life  but not with becoming a perpetrator  regardless of being a victim of physical violence during childhood  there was a direct effect of wpv on ipv mediated by depressive symptoms  alcohol and cocaine consumption and age of drinking initiation mediated only when combined with depressive symptoms intergenerational transmission models of ipv through exposure during childhood can help to explain the high rates of domestic violence in brazil  our findings provide evidence to implement targeted prevention strategies where they are needed most  the victims of premature adverse experiences   madruga cs  viana mc  abdalla rr  caetano r  laranjeira r  pathways from witnessing parental violence during childhood to involvement in intimate partner violence in adult life  the roles of depression and substance use  drug alcohol rev          ©   australasian professional society on alcohol and other drugs '"
      ]
     },
     "execution_count": 165,
     "metadata": {},
     "output_type": "execute_result"
    }
   ],
   "source": [
    "df_4['Abstract'][600]"
   ]
  },
  {
   "cell_type": "code",
   "execution_count": 166,
   "id": "ac38229b",
   "metadata": {},
   "outputs": [
    {
     "name": "stderr",
     "output_type": "stream",
     "text": [
      "/Users/varshagarla/opt/anaconda3/lib/python3.8/site-packages/ipykernel/ipkernel.py:287: DeprecationWarning: `should_run_async` will not call `transform_cell` automatically in the future. Please pass the result to `transformed_cell` argument and any exception that happen during thetransform in `preprocessing_exc_tuple` in IPython 7.17 and above.\n",
      "  and should_run_async(code)\n"
     ]
    }
   ],
   "source": [
    "# Take a user input\n",
    "input = ['parental violence and alcohol']"
   ]
  },
  {
   "cell_type": "code",
   "execution_count": 169,
   "id": "7afea3b8",
   "metadata": {},
   "outputs": [
    {
     "name": "stderr",
     "output_type": "stream",
     "text": [
      "/Users/varshagarla/opt/anaconda3/lib/python3.8/site-packages/ipykernel/ipkernel.py:287: DeprecationWarning: `should_run_async` will not call `transform_cell` automatically in the future. Please pass the result to `transformed_cell` argument and any exception that happen during thetransform in `preprocessing_exc_tuple` in IPython 7.17 and above.\n",
      "  and should_run_async(code)\n"
     ]
    },
    {
     "data": {
      "text/plain": [
       "<1x1454 sparse matrix of type '<class 'numpy.float64'>'\n",
       "\twith 2 stored elements in Compressed Sparse Row format>"
      ]
     },
     "execution_count": 169,
     "metadata": {},
     "output_type": "execute_result"
    }
   ],
   "source": [
    "#vectorize in the context of our model\n",
    "vt = tfidf.transform(input)   #use TFIDF\n",
    "\n",
    "vt"
   ]
  },
  {
   "cell_type": "code",
   "execution_count": 170,
   "id": "50eb698c",
   "metadata": {},
   "outputs": [
    {
     "name": "stderr",
     "output_type": "stream",
     "text": [
      "/Users/varshagarla/opt/anaconda3/lib/python3.8/site-packages/ipykernel/ipkernel.py:287: DeprecationWarning: `should_run_async` will not call `transform_cell` automatically in the future. Please pass the result to `transformed_cell` argument and any exception that happen during thetransform in `preprocessing_exc_tuple` in IPython 7.17 and above.\n",
      "  and should_run_async(code)\n"
     ]
    },
    {
     "data": {
      "text/plain": [
       "(1, 1454)"
      ]
     },
     "execution_count": 170,
     "metadata": {},
     "output_type": "execute_result"
    }
   ],
   "source": [
    "vt.shape"
   ]
  },
  {
   "cell_type": "code",
   "execution_count": 176,
   "id": "8d871ea0",
   "metadata": {},
   "outputs": [
    {
     "name": "stderr",
     "output_type": "stream",
     "text": [
      "/Users/varshagarla/opt/anaconda3/lib/python3.8/site-packages/ipykernel/ipkernel.py:287: DeprecationWarning: `should_run_async` will not call `transform_cell` automatically in the future. Please pass the result to `transformed_cell` argument and any exception that happen during thetransform in `preprocessing_exc_tuple` in IPython 7.17 and above.\n",
      "  and should_run_async(code)\n"
     ]
    },
    {
     "data": {
      "text/plain": [
       "(726, 1454)"
      ]
     },
     "execution_count": 176,
     "metadata": {},
     "output_type": "execute_result"
    }
   ],
   "source": [
    "abstracts_tfidf.shape"
   ]
  },
  {
   "cell_type": "code",
   "execution_count": 177,
   "id": "090629a1",
   "metadata": {},
   "outputs": [
    {
     "name": "stderr",
     "output_type": "stream",
     "text": [
      "/Users/varshagarla/opt/anaconda3/lib/python3.8/site-packages/ipykernel/ipkernel.py:287: DeprecationWarning: `should_run_async` will not call `transform_cell` automatically in the future. Please pass the result to `transformed_cell` argument and any exception that happen during thetransform in `preprocessing_exc_tuple` in IPython 7.17 and above.\n",
      "  and should_run_async(code)\n"
     ]
    }
   ],
   "source": [
    "#topics for model \n",
    "tt = lsa_model.transform(vt)   #LSA model"
   ]
  },
  {
   "cell_type": "code",
   "execution_count": 178,
   "id": "db0150c6",
   "metadata": {},
   "outputs": [
    {
     "name": "stderr",
     "output_type": "stream",
     "text": [
      "/Users/varshagarla/opt/anaconda3/lib/python3.8/site-packages/ipykernel/ipkernel.py:287: DeprecationWarning: `should_run_async` will not call `transform_cell` automatically in the future. Please pass the result to `transformed_cell` argument and any exception that happen during thetransform in `preprocessing_exc_tuple` in IPython 7.17 and above.\n",
      "  and should_run_async(code)\n"
     ]
    },
    {
     "data": {
      "text/plain": [
       "(1, 9)"
      ]
     },
     "execution_count": 178,
     "metadata": {},
     "output_type": "execute_result"
    }
   ],
   "source": [
    "tt.shape  # 9 Topics"
   ]
  },
  {
   "cell_type": "code",
   "execution_count": 212,
   "id": "d09f31d6",
   "metadata": {},
   "outputs": [
    {
     "name": "stderr",
     "output_type": "stream",
     "text": [
      "/Users/varshagarla/opt/anaconda3/lib/python3.8/site-packages/ipykernel/ipkernel.py:287: DeprecationWarning: `should_run_async` will not call `transform_cell` automatically in the future. Please pass the result to `transformed_cell` argument and any exception that happen during thetransform in `preprocessing_exc_tuple` in IPython 7.17 and above.\n",
      "  and should_run_async(code)\n"
     ]
    }
   ],
   "source": [
    "# Write function to ouput Paper ID's of similar articles\n",
    "\n",
    "def recommender(string): \n",
    "    text =[string]\n",
    "    vt = tfidf.transform(text)\n",
    "    tt = lsa_model.transform(vt)\n",
    "    print(tt)\n",
    "    recs = pairwise_distances(tt,doc_topic,metric='cosine').argsort()\n",
    "    top5=recs[0][0:5].tolist()\n",
    "    \n",
    "    top5_papers=[]\n",
    "    for x in top5: \n",
    "        paper_row = df_4.loc[x]\n",
    "        top5_papers.append(paper_row['PaperID']) \n",
    "    print(top5_papers)    \n",
    "    #return top5_papers"
   ]
  },
  {
   "cell_type": "code",
   "execution_count": 213,
   "id": "43168e5a",
   "metadata": {},
   "outputs": [
    {
     "name": "stdout",
     "output_type": "stream",
     "text": [
      "[[ 0.04851238 -0.04529553 -0.01483989 -0.03815535  0.05816725  0.06430909\n",
      "  -0.01392925 -0.06066675  0.0006846 ]]\n",
      "[524, 7971, 2492, 9210, 1436]\n"
     ]
    },
    {
     "name": "stderr",
     "output_type": "stream",
     "text": [
      "/Users/varshagarla/opt/anaconda3/lib/python3.8/site-packages/ipykernel/ipkernel.py:287: DeprecationWarning: `should_run_async` will not call `transform_cell` automatically in the future. Please pass the result to `transformed_cell` argument and any exception that happen during thetransform in `preprocessing_exc_tuple` in IPython 7.17 and above.\n",
      "  and should_run_async(code)\n"
     ]
    }
   ],
   "source": [
    "recommender('parental violence and alcohol in adolescents')"
   ]
  },
  {
   "cell_type": "markdown",
   "id": "1a1b4599",
   "metadata": {},
   "source": [
    "#### Examine recommendations"
   ]
  },
  {
   "cell_type": "code",
   "execution_count": 183,
   "id": "f9968576",
   "metadata": {},
   "outputs": [
    {
     "name": "stderr",
     "output_type": "stream",
     "text": [
      "/Users/varshagarla/opt/anaconda3/lib/python3.8/site-packages/ipykernel/ipkernel.py:287: DeprecationWarning: `should_run_async` will not call `transform_cell` automatically in the future. Please pass the result to `transformed_cell` argument and any exception that happen during thetransform in `preprocessing_exc_tuple` in IPython 7.17 and above.\n",
      "  and should_run_async(code)\n"
     ]
    },
    {
     "data": {
      "text/html": [
       "<div>\n",
       "<style scoped>\n",
       "    .dataframe tbody tr th:only-of-type {\n",
       "        vertical-align: middle;\n",
       "    }\n",
       "\n",
       "    .dataframe tbody tr th {\n",
       "        vertical-align: top;\n",
       "    }\n",
       "\n",
       "    .dataframe thead th {\n",
       "        text-align: right;\n",
       "    }\n",
       "</style>\n",
       "<table border=\"1\" class=\"dataframe\">\n",
       "  <thead>\n",
       "    <tr style=\"text-align: right;\">\n",
       "      <th></th>\n",
       "      <th>PaperID</th>\n",
       "      <th>Abstract</th>\n",
       "      <th>Abstract_modeling</th>\n",
       "    </tr>\n",
       "  </thead>\n",
       "  <tbody>\n",
       "    <tr>\n",
       "      <th>78</th>\n",
       "      <td>524</td>\n",
       "      <td>adolescent dating violence  adv  is highly pre...</td>\n",
       "      <td>['adolescent', 'date', 'violence', 'prevalent'...</td>\n",
       "    </tr>\n",
       "  </tbody>\n",
       "</table>\n",
       "</div>"
      ],
      "text/plain": [
       "    PaperID                                           Abstract  \\\n",
       "78      524  adolescent dating violence  adv  is highly pre...   \n",
       "\n",
       "                                    Abstract_modeling  \n",
       "78  ['adolescent', 'date', 'violence', 'prevalent'...  "
      ]
     },
     "execution_count": 183,
     "metadata": {},
     "output_type": "execute_result"
    }
   ],
   "source": [
    "df_4[df_4['PaperID'] == 524]"
   ]
  },
  {
   "cell_type": "code",
   "execution_count": 184,
   "id": "99fcd729",
   "metadata": {},
   "outputs": [
    {
     "name": "stderr",
     "output_type": "stream",
     "text": [
      "/Users/varshagarla/opt/anaconda3/lib/python3.8/site-packages/ipykernel/ipkernel.py:287: DeprecationWarning: `should_run_async` will not call `transform_cell` automatically in the future. Please pass the result to `transformed_cell` argument and any exception that happen during thetransform in `preprocessing_exc_tuple` in IPython 7.17 and above.\n",
      "  and should_run_async(code)\n"
     ]
    },
    {
     "data": {
      "text/plain": [
       "'adolescent dating violence  adv  is highly prevalent and can have serious health consequences  including homicides  and be a predictor of intimate partner violence in adulthood  this review aims to systematize the knowledge produced in recent empirical investigations in health that focus on the causes and consequences of adv to subsidize new research and prevention programs review of studies published in pubmed over the last five years through mesh database   intimate partner violence  and  adolescent  not  prevention and control  not  adult  we analyzed   papers  of which      were developed in the usa  some studies have shown prevalence greater than    in both genders  both as victims and perpetrators  with more serious consequences for females  three main thematic cores were identified in the studies  adv related vulnerabilities  circularity of violence and adv associated health problems  data indicate that adv is deep seated in the patriarchal culture and is more frequent in connection with racism  heterosexism and poverty  it occurs in a circular way and is linked to other forms of violence in different contexts  family  school  community and social media   it is associated with health problems such as depression  anxiety  low self esteem  alcohol and drugs abuse and unprotected sex the knowledge produced in the studies reviewed reveals the urgency and importance of implementing early preventive actions in schools  involving families and the community  these should focus on the deconstruction of current cultural gender patterns  based on their historical origin  in order to support emancipatory and liberating pedagogical approaches '"
      ]
     },
     "execution_count": 184,
     "metadata": {},
     "output_type": "execute_result"
    }
   ],
   "source": [
    "df_4['Abstract'][78]"
   ]
  },
  {
   "cell_type": "code",
   "execution_count": 185,
   "id": "9c3bdbff",
   "metadata": {},
   "outputs": [
    {
     "name": "stderr",
     "output_type": "stream",
     "text": [
      "/Users/varshagarla/opt/anaconda3/lib/python3.8/site-packages/ipykernel/ipkernel.py:287: DeprecationWarning: `should_run_async` will not call `transform_cell` automatically in the future. Please pass the result to `transformed_cell` argument and any exception that happen during thetransform in `preprocessing_exc_tuple` in IPython 7.17 and above.\n",
      "  and should_run_async(code)\n"
     ]
    },
    {
     "data": {
      "text/html": [
       "<div>\n",
       "<style scoped>\n",
       "    .dataframe tbody tr th:only-of-type {\n",
       "        vertical-align: middle;\n",
       "    }\n",
       "\n",
       "    .dataframe tbody tr th {\n",
       "        vertical-align: top;\n",
       "    }\n",
       "\n",
       "    .dataframe thead th {\n",
       "        text-align: right;\n",
       "    }\n",
       "</style>\n",
       "<table border=\"1\" class=\"dataframe\">\n",
       "  <thead>\n",
       "    <tr style=\"text-align: right;\">\n",
       "      <th></th>\n",
       "      <th>PaperID</th>\n",
       "      <th>Abstract</th>\n",
       "      <th>Abstract_modeling</th>\n",
       "    </tr>\n",
       "  </thead>\n",
       "  <tbody>\n",
       "    <tr>\n",
       "      <th>579</th>\n",
       "      <td>7971</td>\n",
       "      <td>neglect is often overlooked in adolescence  du...</td>\n",
       "      <td>['adolescence', 'due', 'part', 'autonomy', 'mi...</td>\n",
       "    </tr>\n",
       "  </tbody>\n",
       "</table>\n",
       "</div>"
      ],
      "text/plain": [
       "     PaperID                                           Abstract  \\\n",
       "579     7971  neglect is often overlooked in adolescence  du...   \n",
       "\n",
       "                                     Abstract_modeling  \n",
       "579  ['adolescence', 'due', 'part', 'autonomy', 'mi...  "
      ]
     },
     "execution_count": 185,
     "metadata": {},
     "output_type": "execute_result"
    }
   ],
   "source": [
    "df_4[df_4['PaperID'] == 7971]"
   ]
  },
  {
   "cell_type": "code",
   "execution_count": 186,
   "id": "592dddcf",
   "metadata": {},
   "outputs": [
    {
     "name": "stderr",
     "output_type": "stream",
     "text": [
      "/Users/varshagarla/opt/anaconda3/lib/python3.8/site-packages/ipykernel/ipkernel.py:287: DeprecationWarning: `should_run_async` will not call `transform_cell` automatically in the future. Please pass the result to `transformed_cell` argument and any exception that happen during thetransform in `preprocessing_exc_tuple` in IPython 7.17 and above.\n",
      "  and should_run_async(code)\n"
     ]
    },
    {
     "data": {
      "text/plain": [
       "'neglect is often overlooked in adolescence  due in part to assumptions about autonomy and misinterpretation of behaviors being part of normal adolescent development  emotional maltreatment  abuse or neglect  has a damaging effect throughout the lifespan  but is rarely recognized amongst adolescents  our review aims to identify features that adolescents experiencing neglect and  or emotional maltreatment report a rapid review methodology searched   databases        supplemented by hand searching journals  and references  identifying     abstracts  two independent reviews were undertaken of   articles  by trained reviewers  using standardised critical appraisal  eligible studies  primary studies of children aged     years  with substantiated neglect and  or emotional maltreatment  containing self reported features   publications from   studies were included  demonstrating associations between both neglect and emotional maltreatment with internalising features    studies  including depression  post traumatic symptomatology and anxiety  emotional maltreatment was associated with suicidal ideation  while neglect was not    study   neglect was associated with alcohol related problems    studies   substance misuse    studies   delinquency for boys    study   teenage pregnancy    study   and general victimization for girls    study   while emotionally maltreated girls reported more externalising symptoms    study   dating violence victimization was associated with neglect and emotional maltreatment    studies   while emotional abuse of boys  but not neglect  was associated with dating violence perpetration    study   and neither neglect nor emotional maltreatment had an association with low self esteem    studies   neither neglect nor emotional maltreatment had an effect on school performance    study   but neglected boys showed greater school engagement than neglected girls    study  if asked  neglected or emotionally maltreated adolescents describe significant difficulties with their mental health  social relationships  and alcohol or substance misuse  practitioners working with youths who exhibit these features should recognize the detrimental impact of maltreatment at this developmental stage  and identify whether maltreatment is a contributory factor that should be addressed ©   john wiley   sons ltd '"
      ]
     },
     "execution_count": 186,
     "metadata": {},
     "output_type": "execute_result"
    }
   ],
   "source": [
    "df_4['Abstract'][579]"
   ]
  },
  {
   "cell_type": "code",
   "execution_count": 187,
   "id": "0bb4c9ae",
   "metadata": {},
   "outputs": [
    {
     "name": "stderr",
     "output_type": "stream",
     "text": [
      "/Users/varshagarla/opt/anaconda3/lib/python3.8/site-packages/ipykernel/ipkernel.py:287: DeprecationWarning: `should_run_async` will not call `transform_cell` automatically in the future. Please pass the result to `transformed_cell` argument and any exception that happen during thetransform in `preprocessing_exc_tuple` in IPython 7.17 and above.\n",
      "  and should_run_async(code)\n"
     ]
    },
    {
     "data": {
      "text/html": [
       "<div>\n",
       "<style scoped>\n",
       "    .dataframe tbody tr th:only-of-type {\n",
       "        vertical-align: middle;\n",
       "    }\n",
       "\n",
       "    .dataframe tbody tr th {\n",
       "        vertical-align: top;\n",
       "    }\n",
       "\n",
       "    .dataframe thead th {\n",
       "        text-align: right;\n",
       "    }\n",
       "</style>\n",
       "<table border=\"1\" class=\"dataframe\">\n",
       "  <thead>\n",
       "    <tr style=\"text-align: right;\">\n",
       "      <th></th>\n",
       "      <th>PaperID</th>\n",
       "      <th>Abstract</th>\n",
       "      <th>Abstract_modeling</th>\n",
       "    </tr>\n",
       "  </thead>\n",
       "  <tbody>\n",
       "    <tr>\n",
       "      <th>202</th>\n",
       "      <td>2492</td>\n",
       "      <td>suicide is a leading cause of death among adol...</td>\n",
       "      <td>['lead', 'cause', 'death', 'among', 'young', '...</td>\n",
       "    </tr>\n",
       "  </tbody>\n",
       "</table>\n",
       "</div>"
      ],
      "text/plain": [
       "     PaperID                                           Abstract  \\\n",
       "202     2492  suicide is a leading cause of death among adol...   \n",
       "\n",
       "                                     Abstract_modeling  \n",
       "202  ['lead', 'cause', 'death', 'among', 'young', '...  "
      ]
     },
     "execution_count": 187,
     "metadata": {},
     "output_type": "execute_result"
    }
   ],
   "source": [
    "df_4[df_4['PaperID'] == 2492]"
   ]
  },
  {
   "cell_type": "code",
   "execution_count": 188,
   "id": "6f4c9dc5",
   "metadata": {},
   "outputs": [
    {
     "name": "stderr",
     "output_type": "stream",
     "text": [
      "/Users/varshagarla/opt/anaconda3/lib/python3.8/site-packages/ipykernel/ipkernel.py:287: DeprecationWarning: `should_run_async` will not call `transform_cell` automatically in the future. Please pass the result to `transformed_cell` argument and any exception that happen during thetransform in `preprocessing_exc_tuple` in IPython 7.17 and above.\n",
      "  and should_run_async(code)\n"
     ]
    },
    {
     "data": {
      "text/plain": [
       "'suicide is a leading cause of death among adolescents and young adults  the current study extends the research linking adverse childhood experiences  aces  to suicidal behaviors by testing these associations using a nationally representative sample  assessing for suicide ideation and attempts in adulthood  controlling for established risk factors for suicidality  and measuring a broad array of aces the sample included     participants from the national longitudinal study of adolescent health who participated in four waves of assessments spanning  years  we examined longitudinal associations between eight different aces  physical  sexual  and emotional abuse  neglect  parental death  incarceration  alcoholism  and family suicidality  with suicidal ideation and suicide attempts in adulthood  while controlling for depression  problem alcohol use  drug use  delinquency  impulsivity  gender  race  age  and urbanicity  we also tested for cumulative associations of aces with suicide ideation and attempts logistic regression analyses indicated that physical  sexual  and emotional abuse  parental incarceration  and family history of suicidality each increased the risk by     to     times for suicidal ideation and suicide attempts in adulthood  the accumulation of aces increased the odds of suicide ideation and attempts  compared with those with no aces  the odds of seriously considering suicide or attempting suicide in adulthood increased more than threefold among those with three or more aces intervention strategies need to prevent aces from occurring and  if they do occur  should take into account the impact of cumulative aces on suicide risk  future research should focus on identifying mediating mechanisms for the aces suicidality association using longitudinal research designs and determine which aces are most important to include in a cumulative ace measure ©   john wiley   sons ltd '"
      ]
     },
     "execution_count": 188,
     "metadata": {},
     "output_type": "execute_result"
    }
   ],
   "source": [
    "df_4['Abstract'][202]"
   ]
  },
  {
   "cell_type": "code",
   "execution_count": 189,
   "id": "5cc08404",
   "metadata": {},
   "outputs": [
    {
     "name": "stderr",
     "output_type": "stream",
     "text": [
      "/Users/varshagarla/opt/anaconda3/lib/python3.8/site-packages/ipykernel/ipkernel.py:287: DeprecationWarning: `should_run_async` will not call `transform_cell` automatically in the future. Please pass the result to `transformed_cell` argument and any exception that happen during thetransform in `preprocessing_exc_tuple` in IPython 7.17 and above.\n",
      "  and should_run_async(code)\n"
     ]
    },
    {
     "data": {
      "text/html": [
       "<div>\n",
       "<style scoped>\n",
       "    .dataframe tbody tr th:only-of-type {\n",
       "        vertical-align: middle;\n",
       "    }\n",
       "\n",
       "    .dataframe tbody tr th {\n",
       "        vertical-align: top;\n",
       "    }\n",
       "\n",
       "    .dataframe thead th {\n",
       "        text-align: right;\n",
       "    }\n",
       "</style>\n",
       "<table border=\"1\" class=\"dataframe\">\n",
       "  <thead>\n",
       "    <tr style=\"text-align: right;\">\n",
       "      <th></th>\n",
       "      <th>ability</th>\n",
       "      <th>absence</th>\n",
       "      <th>abstinence</th>\n",
       "      <th>abstinent</th>\n",
       "      <th>abuse</th>\n",
       "      <th>abuse alcohol</th>\n",
       "      <th>abuse dependence</th>\n",
       "      <th>abuse depression</th>\n",
       "      <th>academic</th>\n",
       "      <th>academic performance</th>\n",
       "      <th>...</th>\n",
       "      <th>year follow</th>\n",
       "      <th>year old</th>\n",
       "      <th>year period</th>\n",
       "      <th>young</th>\n",
       "      <th>young adult</th>\n",
       "      <th>young adulthood</th>\n",
       "      <th>young age</th>\n",
       "      <th>young people</th>\n",
       "      <th>youth</th>\n",
       "      <th>youth risk</th>\n",
       "    </tr>\n",
       "  </thead>\n",
       "  <tbody>\n",
       "    <tr>\n",
       "      <th>component_0</th>\n",
       "      <td>0.013</td>\n",
       "      <td>0.010</td>\n",
       "      <td>0.008</td>\n",
       "      <td>0.007</td>\n",
       "      <td>0.063</td>\n",
       "      <td>0.014</td>\n",
       "      <td>0.008</td>\n",
       "      <td>0.009</td>\n",
       "      <td>0.021</td>\n",
       "      <td>0.009</td>\n",
       "      <td>...</td>\n",
       "      <td>0.011</td>\n",
       "      <td>0.010</td>\n",
       "      <td>0.009</td>\n",
       "      <td>0.064</td>\n",
       "      <td>0.017</td>\n",
       "      <td>0.007</td>\n",
       "      <td>0.019</td>\n",
       "      <td>0.015</td>\n",
       "      <td>0.050</td>\n",
       "      <td>0.010</td>\n",
       "    </tr>\n",
       "    <tr>\n",
       "      <th>component_1</th>\n",
       "      <td>0.002</td>\n",
       "      <td>-0.001</td>\n",
       "      <td>0.004</td>\n",
       "      <td>0.005</td>\n",
       "      <td>0.058</td>\n",
       "      <td>0.037</td>\n",
       "      <td>0.017</td>\n",
       "      <td>0.009</td>\n",
       "      <td>-0.009</td>\n",
       "      <td>-0.004</td>\n",
       "      <td>...</td>\n",
       "      <td>-0.007</td>\n",
       "      <td>-0.006</td>\n",
       "      <td>-0.002</td>\n",
       "      <td>-0.013</td>\n",
       "      <td>-0.003</td>\n",
       "      <td>-0.011</td>\n",
       "      <td>0.009</td>\n",
       "      <td>0.002</td>\n",
       "      <td>-0.112</td>\n",
       "      <td>-0.026</td>\n",
       "    </tr>\n",
       "    <tr>\n",
       "      <th>component_2</th>\n",
       "      <td>0.007</td>\n",
       "      <td>0.010</td>\n",
       "      <td>0.013</td>\n",
       "      <td>0.015</td>\n",
       "      <td>-0.052</td>\n",
       "      <td>-0.023</td>\n",
       "      <td>-0.027</td>\n",
       "      <td>-0.002</td>\n",
       "      <td>0.003</td>\n",
       "      <td>0.007</td>\n",
       "      <td>...</td>\n",
       "      <td>0.011</td>\n",
       "      <td>-0.008</td>\n",
       "      <td>0.021</td>\n",
       "      <td>-0.005</td>\n",
       "      <td>-0.007</td>\n",
       "      <td>-0.006</td>\n",
       "      <td>-0.001</td>\n",
       "      <td>0.002</td>\n",
       "      <td>-0.057</td>\n",
       "      <td>-0.011</td>\n",
       "    </tr>\n",
       "    <tr>\n",
       "      <th>component_3</th>\n",
       "      <td>0.017</td>\n",
       "      <td>0.001</td>\n",
       "      <td>0.008</td>\n",
       "      <td>0.009</td>\n",
       "      <td>0.004</td>\n",
       "      <td>0.012</td>\n",
       "      <td>0.021</td>\n",
       "      <td>-0.007</td>\n",
       "      <td>-0.001</td>\n",
       "      <td>-0.007</td>\n",
       "      <td>...</td>\n",
       "      <td>-0.002</td>\n",
       "      <td>0.002</td>\n",
       "      <td>0.002</td>\n",
       "      <td>0.007</td>\n",
       "      <td>0.017</td>\n",
       "      <td>0.007</td>\n",
       "      <td>-0.007</td>\n",
       "      <td>0.008</td>\n",
       "      <td>-0.027</td>\n",
       "      <td>-0.038</td>\n",
       "    </tr>\n",
       "    <tr>\n",
       "      <th>component_4</th>\n",
       "      <td>0.005</td>\n",
       "      <td>-0.005</td>\n",
       "      <td>-0.014</td>\n",
       "      <td>-0.021</td>\n",
       "      <td>0.037</td>\n",
       "      <td>0.004</td>\n",
       "      <td>0.012</td>\n",
       "      <td>0.004</td>\n",
       "      <td>0.028</td>\n",
       "      <td>0.008</td>\n",
       "      <td>...</td>\n",
       "      <td>0.020</td>\n",
       "      <td>0.051</td>\n",
       "      <td>0.013</td>\n",
       "      <td>0.014</td>\n",
       "      <td>-0.020</td>\n",
       "      <td>0.004</td>\n",
       "      <td>0.008</td>\n",
       "      <td>0.003</td>\n",
       "      <td>0.055</td>\n",
       "      <td>0.007</td>\n",
       "    </tr>\n",
       "    <tr>\n",
       "      <th>component_5</th>\n",
       "      <td>0.022</td>\n",
       "      <td>0.002</td>\n",
       "      <td>-0.010</td>\n",
       "      <td>-0.007</td>\n",
       "      <td>0.053</td>\n",
       "      <td>0.003</td>\n",
       "      <td>0.003</td>\n",
       "      <td>0.017</td>\n",
       "      <td>0.008</td>\n",
       "      <td>0.009</td>\n",
       "      <td>...</td>\n",
       "      <td>-0.024</td>\n",
       "      <td>-0.009</td>\n",
       "      <td>-0.017</td>\n",
       "      <td>0.038</td>\n",
       "      <td>-0.004</td>\n",
       "      <td>0.002</td>\n",
       "      <td>0.003</td>\n",
       "      <td>0.024</td>\n",
       "      <td>0.071</td>\n",
       "      <td>0.021</td>\n",
       "    </tr>\n",
       "    <tr>\n",
       "      <th>component_6</th>\n",
       "      <td>0.014</td>\n",
       "      <td>-0.001</td>\n",
       "      <td>0.059</td>\n",
       "      <td>0.053</td>\n",
       "      <td>-0.033</td>\n",
       "      <td>-0.021</td>\n",
       "      <td>-0.010</td>\n",
       "      <td>-0.011</td>\n",
       "      <td>0.005</td>\n",
       "      <td>-0.012</td>\n",
       "      <td>...</td>\n",
       "      <td>0.043</td>\n",
       "      <td>0.020</td>\n",
       "      <td>0.039</td>\n",
       "      <td>-0.017</td>\n",
       "      <td>-0.025</td>\n",
       "      <td>0.005</td>\n",
       "      <td>-0.014</td>\n",
       "      <td>0.003</td>\n",
       "      <td>0.006</td>\n",
       "      <td>-0.024</td>\n",
       "    </tr>\n",
       "    <tr>\n",
       "      <th>component_7</th>\n",
       "      <td>-0.033</td>\n",
       "      <td>-0.002</td>\n",
       "      <td>0.010</td>\n",
       "      <td>0.017</td>\n",
       "      <td>-0.084</td>\n",
       "      <td>-0.030</td>\n",
       "      <td>0.005</td>\n",
       "      <td>-0.023</td>\n",
       "      <td>0.028</td>\n",
       "      <td>0.008</td>\n",
       "      <td>...</td>\n",
       "      <td>0.020</td>\n",
       "      <td>0.017</td>\n",
       "      <td>0.011</td>\n",
       "      <td>-0.022</td>\n",
       "      <td>0.014</td>\n",
       "      <td>-0.021</td>\n",
       "      <td>-0.012</td>\n",
       "      <td>-0.027</td>\n",
       "      <td>0.031</td>\n",
       "      <td>0.001</td>\n",
       "    </tr>\n",
       "    <tr>\n",
       "      <th>component_8</th>\n",
       "      <td>0.007</td>\n",
       "      <td>0.004</td>\n",
       "      <td>-0.011</td>\n",
       "      <td>-0.011</td>\n",
       "      <td>-0.017</td>\n",
       "      <td>-0.015</td>\n",
       "      <td>0.017</td>\n",
       "      <td>-0.012</td>\n",
       "      <td>0.014</td>\n",
       "      <td>0.002</td>\n",
       "      <td>...</td>\n",
       "      <td>-0.010</td>\n",
       "      <td>0.020</td>\n",
       "      <td>0.002</td>\n",
       "      <td>-0.045</td>\n",
       "      <td>-0.007</td>\n",
       "      <td>-0.007</td>\n",
       "      <td>-0.008</td>\n",
       "      <td>-0.010</td>\n",
       "      <td>-0.018</td>\n",
       "      <td>-0.007</td>\n",
       "    </tr>\n",
       "  </tbody>\n",
       "</table>\n",
       "<p>9 rows × 1454 columns</p>\n",
       "</div>"
      ],
      "text/plain": [
       "             ability  absence  abstinence  abstinent  abuse  abuse alcohol  \\\n",
       "component_0    0.013    0.010       0.008      0.007  0.063          0.014   \n",
       "component_1    0.002   -0.001       0.004      0.005  0.058          0.037   \n",
       "component_2    0.007    0.010       0.013      0.015 -0.052         -0.023   \n",
       "component_3    0.017    0.001       0.008      0.009  0.004          0.012   \n",
       "component_4    0.005   -0.005      -0.014     -0.021  0.037          0.004   \n",
       "component_5    0.022    0.002      -0.010     -0.007  0.053          0.003   \n",
       "component_6    0.014   -0.001       0.059      0.053 -0.033         -0.021   \n",
       "component_7   -0.033   -0.002       0.010      0.017 -0.084         -0.030   \n",
       "component_8    0.007    0.004      -0.011     -0.011 -0.017         -0.015   \n",
       "\n",
       "             abuse dependence  abuse depression  academic  \\\n",
       "component_0             0.008             0.009     0.021   \n",
       "component_1             0.017             0.009    -0.009   \n",
       "component_2            -0.027            -0.002     0.003   \n",
       "component_3             0.021            -0.007    -0.001   \n",
       "component_4             0.012             0.004     0.028   \n",
       "component_5             0.003             0.017     0.008   \n",
       "component_6            -0.010            -0.011     0.005   \n",
       "component_7             0.005            -0.023     0.028   \n",
       "component_8             0.017            -0.012     0.014   \n",
       "\n",
       "             academic performance  ...  year follow  year old  year period  \\\n",
       "component_0                 0.009  ...        0.011     0.010        0.009   \n",
       "component_1                -0.004  ...       -0.007    -0.006       -0.002   \n",
       "component_2                 0.007  ...        0.011    -0.008        0.021   \n",
       "component_3                -0.007  ...       -0.002     0.002        0.002   \n",
       "component_4                 0.008  ...        0.020     0.051        0.013   \n",
       "component_5                 0.009  ...       -0.024    -0.009       -0.017   \n",
       "component_6                -0.012  ...        0.043     0.020        0.039   \n",
       "component_7                 0.008  ...        0.020     0.017        0.011   \n",
       "component_8                 0.002  ...       -0.010     0.020        0.002   \n",
       "\n",
       "             young  young adult  young adulthood  young age  young people  \\\n",
       "component_0  0.064        0.017            0.007      0.019         0.015   \n",
       "component_1 -0.013       -0.003           -0.011      0.009         0.002   \n",
       "component_2 -0.005       -0.007           -0.006     -0.001         0.002   \n",
       "component_3  0.007        0.017            0.007     -0.007         0.008   \n",
       "component_4  0.014       -0.020            0.004      0.008         0.003   \n",
       "component_5  0.038       -0.004            0.002      0.003         0.024   \n",
       "component_6 -0.017       -0.025            0.005     -0.014         0.003   \n",
       "component_7 -0.022        0.014           -0.021     -0.012        -0.027   \n",
       "component_8 -0.045       -0.007           -0.007     -0.008        -0.010   \n",
       "\n",
       "             youth  youth risk  \n",
       "component_0  0.050       0.010  \n",
       "component_1 -0.112      -0.026  \n",
       "component_2 -0.057      -0.011  \n",
       "component_3 -0.027      -0.038  \n",
       "component_4  0.055       0.007  \n",
       "component_5  0.071       0.021  \n",
       "component_6  0.006      -0.024  \n",
       "component_7  0.031       0.001  \n",
       "component_8 -0.018      -0.007  \n",
       "\n",
       "[9 rows x 1454 columns]"
      ]
     },
     "execution_count": 189,
     "metadata": {},
     "output_type": "execute_result"
    }
   ],
   "source": [
    "topic_word = pd.DataFrame(lsa_model.components_.round(3),\n",
    "             index = [\"component_0\",\"component_1\",\"component_2\",\"component_3\",\"component_4\",\n",
    "                     \"component_5\",\"component_6\",\"component_7\",\"component_8\"],\n",
    "             columns = tfidf.get_feature_names())\n",
    "topic_word"
   ]
  },
  {
   "cell_type": "code",
   "execution_count": 195,
   "id": "75bd7de0",
   "metadata": {},
   "outputs": [
    {
     "name": "stderr",
     "output_type": "stream",
     "text": [
      "/Users/varshagarla/opt/anaconda3/lib/python3.8/site-packages/ipykernel/ipkernel.py:287: DeprecationWarning: `should_run_async` will not call `transform_cell` automatically in the future. Please pass the result to `transformed_cell` argument and any exception that happen during thetransform in `preprocessing_exc_tuple` in IPython 7.17 and above.\n",
      "  and should_run_async(code)\n"
     ]
    },
    {
     "data": {
      "text/html": [
       "<div>\n",
       "<style scoped>\n",
       "    .dataframe tbody tr th:only-of-type {\n",
       "        vertical-align: middle;\n",
       "    }\n",
       "\n",
       "    .dataframe tbody tr th {\n",
       "        vertical-align: top;\n",
       "    }\n",
       "\n",
       "    .dataframe thead th {\n",
       "        text-align: right;\n",
       "    }\n",
       "</style>\n",
       "<table border=\"1\" class=\"dataframe\">\n",
       "  <thead>\n",
       "    <tr style=\"text-align: right;\">\n",
       "      <th></th>\n",
       "      <th>Depression</th>\n",
       "      <th>Diag. Psych. Disorder</th>\n",
       "      <th>Alc/Smoke_BMI</th>\n",
       "      <th>Tobacco Nat. Health</th>\n",
       "      <th>ADHD_Suic.</th>\n",
       "      <th>Ment_Heal_Violence</th>\n",
       "      <th>Treatment</th>\n",
       "      <th>ADHD_Drug</th>\n",
       "      <th>PTSD</th>\n",
       "    </tr>\n",
       "    <tr>\n",
       "      <th>PaperID</th>\n",
       "      <th></th>\n",
       "      <th></th>\n",
       "      <th></th>\n",
       "      <th></th>\n",
       "      <th></th>\n",
       "      <th></th>\n",
       "      <th></th>\n",
       "      <th></th>\n",
       "      <th></th>\n",
       "    </tr>\n",
       "  </thead>\n",
       "  <tbody>\n",
       "    <tr>\n",
       "      <th>236</th>\n",
       "      <td>0.25769</td>\n",
       "      <td>-0.10431</td>\n",
       "      <td>-0.03294</td>\n",
       "      <td>-0.06585</td>\n",
       "      <td>0.06837</td>\n",
       "      <td>-0.03999</td>\n",
       "      <td>0.07723</td>\n",
       "      <td>-0.05330</td>\n",
       "      <td>-0.04197</td>\n",
       "    </tr>\n",
       "    <tr>\n",
       "      <th>323</th>\n",
       "      <td>0.24650</td>\n",
       "      <td>-0.03110</td>\n",
       "      <td>0.10003</td>\n",
       "      <td>-0.09152</td>\n",
       "      <td>0.07469</td>\n",
       "      <td>0.03468</td>\n",
       "      <td>0.05021</td>\n",
       "      <td>-0.11486</td>\n",
       "      <td>-0.16332</td>\n",
       "    </tr>\n",
       "    <tr>\n",
       "      <th>874</th>\n",
       "      <td>0.25282</td>\n",
       "      <td>-0.09707</td>\n",
       "      <td>-0.09264</td>\n",
       "      <td>0.02613</td>\n",
       "      <td>-0.12086</td>\n",
       "      <td>-0.04617</td>\n",
       "      <td>-0.03900</td>\n",
       "      <td>0.06083</td>\n",
       "      <td>-0.05923</td>\n",
       "    </tr>\n",
       "    <tr>\n",
       "      <th>1098</th>\n",
       "      <td>0.23179</td>\n",
       "      <td>0.05014</td>\n",
       "      <td>0.08534</td>\n",
       "      <td>-0.07289</td>\n",
       "      <td>-0.02864</td>\n",
       "      <td>-0.04851</td>\n",
       "      <td>0.13065</td>\n",
       "      <td>-0.01561</td>\n",
       "      <td>-0.07632</td>\n",
       "    </tr>\n",
       "    <tr>\n",
       "      <th>1427</th>\n",
       "      <td>0.25374</td>\n",
       "      <td>-0.07274</td>\n",
       "      <td>-0.01968</td>\n",
       "      <td>-0.15331</td>\n",
       "      <td>-0.03692</td>\n",
       "      <td>0.07054</td>\n",
       "      <td>-0.04355</td>\n",
       "      <td>-0.02088</td>\n",
       "      <td>-0.02969</td>\n",
       "    </tr>\n",
       "    <tr>\n",
       "      <th>...</th>\n",
       "      <td>...</td>\n",
       "      <td>...</td>\n",
       "      <td>...</td>\n",
       "      <td>...</td>\n",
       "      <td>...</td>\n",
       "      <td>...</td>\n",
       "      <td>...</td>\n",
       "      <td>...</td>\n",
       "      <td>...</td>\n",
       "    </tr>\n",
       "    <tr>\n",
       "      <th>9628</th>\n",
       "      <td>0.24519</td>\n",
       "      <td>0.02182</td>\n",
       "      <td>0.01491</td>\n",
       "      <td>0.06775</td>\n",
       "      <td>-0.11799</td>\n",
       "      <td>0.11174</td>\n",
       "      <td>0.02890</td>\n",
       "      <td>0.02478</td>\n",
       "      <td>0.13419</td>\n",
       "    </tr>\n",
       "    <tr>\n",
       "      <th>9636</th>\n",
       "      <td>0.22588</td>\n",
       "      <td>0.06571</td>\n",
       "      <td>-0.00255</td>\n",
       "      <td>-0.09227</td>\n",
       "      <td>0.08192</td>\n",
       "      <td>0.02901</td>\n",
       "      <td>0.02556</td>\n",
       "      <td>-0.10643</td>\n",
       "      <td>-0.08719</td>\n",
       "    </tr>\n",
       "    <tr>\n",
       "      <th>9655</th>\n",
       "      <td>0.26443</td>\n",
       "      <td>0.02370</td>\n",
       "      <td>0.08828</td>\n",
       "      <td>-0.05353</td>\n",
       "      <td>-0.05737</td>\n",
       "      <td>0.04104</td>\n",
       "      <td>0.03260</td>\n",
       "      <td>-0.03875</td>\n",
       "      <td>0.02108</td>\n",
       "    </tr>\n",
       "    <tr>\n",
       "      <th>9675</th>\n",
       "      <td>0.21411</td>\n",
       "      <td>0.09462</td>\n",
       "      <td>0.11379</td>\n",
       "      <td>0.00077</td>\n",
       "      <td>0.05904</td>\n",
       "      <td>-0.06960</td>\n",
       "      <td>0.18558</td>\n",
       "      <td>0.04009</td>\n",
       "      <td>-0.05409</td>\n",
       "    </tr>\n",
       "    <tr>\n",
       "      <th>9709</th>\n",
       "      <td>0.25127</td>\n",
       "      <td>-0.14555</td>\n",
       "      <td>0.06083</td>\n",
       "      <td>0.17564</td>\n",
       "      <td>-0.13795</td>\n",
       "      <td>-0.02863</td>\n",
       "      <td>-0.08250</td>\n",
       "      <td>-0.03729</td>\n",
       "      <td>0.01791</td>\n",
       "    </tr>\n",
       "  </tbody>\n",
       "</table>\n",
       "<p>726 rows × 9 columns</p>\n",
       "</div>"
      ],
      "text/plain": [
       "         Depression  Diag. Psych. Disorder  Alc/Smoke_BMI  \\\n",
       "PaperID                                                     \n",
       "236         0.25769               -0.10431       -0.03294   \n",
       "323         0.24650               -0.03110        0.10003   \n",
       "874         0.25282               -0.09707       -0.09264   \n",
       "1098        0.23179                0.05014        0.08534   \n",
       "1427        0.25374               -0.07274       -0.01968   \n",
       "...             ...                    ...            ...   \n",
       "9628        0.24519                0.02182        0.01491   \n",
       "9636        0.22588                0.06571       -0.00255   \n",
       "9655        0.26443                0.02370        0.08828   \n",
       "9675        0.21411                0.09462        0.11379   \n",
       "9709        0.25127               -0.14555        0.06083   \n",
       "\n",
       "         Tobacco Nat. Health  ADHD_Suic.  Ment_Heal_Violence  Treatment  \\\n",
       "PaperID                                                                   \n",
       "236                 -0.06585     0.06837            -0.03999    0.07723   \n",
       "323                 -0.09152     0.07469             0.03468    0.05021   \n",
       "874                  0.02613    -0.12086            -0.04617   -0.03900   \n",
       "1098                -0.07289    -0.02864            -0.04851    0.13065   \n",
       "1427                -0.15331    -0.03692             0.07054   -0.04355   \n",
       "...                      ...         ...                 ...        ...   \n",
       "9628                 0.06775    -0.11799             0.11174    0.02890   \n",
       "9636                -0.09227     0.08192             0.02901    0.02556   \n",
       "9655                -0.05353    -0.05737             0.04104    0.03260   \n",
       "9675                 0.00077     0.05904            -0.06960    0.18558   \n",
       "9709                 0.17564    -0.13795            -0.02863   -0.08250   \n",
       "\n",
       "         ADHD_Drug     PTSD  \n",
       "PaperID                      \n",
       "236       -0.05330 -0.04197  \n",
       "323       -0.11486 -0.16332  \n",
       "874        0.06083 -0.05923  \n",
       "1098      -0.01561 -0.07632  \n",
       "1427      -0.02088 -0.02969  \n",
       "...            ...      ...  \n",
       "9628       0.02478  0.13419  \n",
       "9636      -0.10643 -0.08719  \n",
       "9655      -0.03875  0.02108  \n",
       "9675       0.04009 -0.05409  \n",
       "9709      -0.03729  0.01791  \n",
       "\n",
       "[726 rows x 9 columns]"
      ]
     },
     "execution_count": 195,
     "metadata": {},
     "output_type": "execute_result"
    }
   ],
   "source": [
    "doc_topic_lsa = pd.DataFrame(doc_topic.round(5),\n",
    "                             index = df_4['PaperID'],\n",
    "                             columns = [\"Depression\",\"Diag. Psych. Disorder\",\"Alc/Smoke_BMI\",\"Tobacco Nat. Health\",\n",
    "                                        \"ADHD_Suic.\",\"Ment_Heal_Violence\",\"Treatment\",\"ADHD_Drug\",\"PTSD\"])\n",
    "doc_topic_lsa"
   ]
  },
  {
   "cell_type": "code",
   "execution_count": null,
   "id": "200df144",
   "metadata": {},
   "outputs": [],
   "source": [
    "def recommender_abstract(idx): \n",
    "    text =[string]\n",
    "    vt = tfidf.transform(text)\n",
    "    tt = lsa_model.transform(vt)\n",
    "    recs = pairwise_distances(tt,doc_topic,metric='cosine').argsort()\n",
    "    top5=recs[0][0:5].tolist()\n",
    "    \n",
    "    top5_papers=[]\n",
    "    for x in top5: \n",
    "        paper_row = df_4.loc[x]\n",
    "        top5_papers.append(paper_row['PaperID']) \n",
    "    print(top5_papers)    \n",
    "    #return top5_papers"
   ]
  },
  {
   "cell_type": "code",
   "execution_count": null,
   "id": "f4445362",
   "metadata": {},
   "outputs": [],
   "source": []
  }
 ],
 "metadata": {
  "kernelspec": {
   "display_name": "Python 3",
   "language": "python",
   "name": "python3"
  },
  "language_info": {
   "codemirror_mode": {
    "name": "ipython",
    "version": 3
   },
   "file_extension": ".py",
   "mimetype": "text/x-python",
   "name": "python",
   "nbconvert_exporter": "python",
   "pygments_lexer": "ipython3",
   "version": "3.8.8"
  }
 },
 "nbformat": 4,
 "nbformat_minor": 5
}
