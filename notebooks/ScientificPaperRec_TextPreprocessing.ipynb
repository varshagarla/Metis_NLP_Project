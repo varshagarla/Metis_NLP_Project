{
 "cells": [
  {
   "cell_type": "markdown",
   "id": "2824c90c",
   "metadata": {},
   "source": [
    "### Import libraries"
   ]
  },
  {
   "cell_type": "code",
   "execution_count": 684,
   "id": "da47450f",
   "metadata": {},
   "outputs": [
    {
     "name": "stderr",
     "output_type": "stream",
     "text": [
      "[nltk_data] Downloading package stopwords to\n",
      "[nltk_data]     /Users/varshagarla/nltk_data...\n",
      "[nltk_data]   Package stopwords is already up-to-date!\n",
      "[nltk_data] Downloading package words to\n",
      "[nltk_data]     /Users/varshagarla/nltk_data...\n",
      "[nltk_data]   Package words is already up-to-date!\n"
     ]
    }
   ],
   "source": [
    "import pandas as pd \n",
    "import numpy as np # linear algebra\n",
    "import matplotlib.pyplot as plt # plotting\n",
    "import seaborn as sns\n",
    "\n",
    "from sklearn import preprocessing\n",
    "\n",
    "import nltk\n",
    "nltk.download('stopwords')\n",
    "nltk.download('words')\n",
    "\n",
    "from nltk.corpus import stopwords\n",
    "set(stopwords.words('english'))\n",
    "\n",
    "from nltk.tokenize import sent_tokenize, word_tokenize \n",
    "from nltk.tag import pos_tag, pos_tag_sents\n",
    "from nltk.corpus import wordnet\n",
    "from nltk.stem import WordNetLemmatizer\n",
    "from nltk.stem.lancaster import LancasterStemmer\n",
    "\n",
    "import re\n",
    "import string"
   ]
  },
  {
   "cell_type": "markdown",
   "id": "c407fc43",
   "metadata": {},
   "source": [
    "### Read in csv file"
   ]
  },
  {
   "cell_type": "code",
   "execution_count": 685,
   "id": "49984c68",
   "metadata": {},
   "outputs": [],
   "source": [
    "df = pd.read_csv('abstracts_keywords.csv')"
   ]
  },
  {
   "cell_type": "code",
   "execution_count": 686,
   "id": "af3fe2d3",
   "metadata": {},
   "outputs": [
    {
     "data": {
      "text/html": [
       "<div>\n",
       "<style scoped>\n",
       "    .dataframe tbody tr th:only-of-type {\n",
       "        vertical-align: middle;\n",
       "    }\n",
       "\n",
       "    .dataframe tbody tr th {\n",
       "        vertical-align: top;\n",
       "    }\n",
       "\n",
       "    .dataframe thead th {\n",
       "        text-align: right;\n",
       "    }\n",
       "</style>\n",
       "<table border=\"1\" class=\"dataframe\">\n",
       "  <thead>\n",
       "    <tr style=\"text-align: right;\">\n",
       "      <th></th>\n",
       "      <th>Unnamed: 0</th>\n",
       "      <th>PaperID</th>\n",
       "      <th>Abstract</th>\n",
       "    </tr>\n",
       "  </thead>\n",
       "  <tbody>\n",
       "    <tr>\n",
       "      <th>0</th>\n",
       "      <td>15</td>\n",
       "      <td>16</td>\n",
       "      <td>Cannabis use patterns vary considerably, with ...</td>\n",
       "    </tr>\n",
       "    <tr>\n",
       "      <th>1</th>\n",
       "      <td>43</td>\n",
       "      <td>44</td>\n",
       "      <td>To date, studies have highlighted cross-sectio...</td>\n",
       "    </tr>\n",
       "    <tr>\n",
       "      <th>2</th>\n",
       "      <td>161</td>\n",
       "      <td>162</td>\n",
       "      <td>In the United States (US), rates of teenage pr...</td>\n",
       "    </tr>\n",
       "    <tr>\n",
       "      <th>3</th>\n",
       "      <td>235</td>\n",
       "      <td>236</td>\n",
       "      <td>The quality of the mother-child relationship i...</td>\n",
       "    </tr>\n",
       "    <tr>\n",
       "      <th>4</th>\n",
       "      <td>322</td>\n",
       "      <td>323</td>\n",
       "      <td>Perinatal depression affects 21-50% of women i...</td>\n",
       "    </tr>\n",
       "  </tbody>\n",
       "</table>\n",
       "</div>"
      ],
      "text/plain": [
       "   Unnamed: 0  PaperID                                           Abstract\n",
       "0          15       16  Cannabis use patterns vary considerably, with ...\n",
       "1          43       44  To date, studies have highlighted cross-sectio...\n",
       "2         161      162  In the United States (US), rates of teenage pr...\n",
       "3         235      236  The quality of the mother-child relationship i...\n",
       "4         322      323  Perinatal depression affects 21-50% of women i..."
      ]
     },
     "execution_count": 686,
     "metadata": {},
     "output_type": "execute_result"
    }
   ],
   "source": [
    "df.head()"
   ]
  },
  {
   "cell_type": "code",
   "execution_count": 687,
   "id": "4cebd62c",
   "metadata": {},
   "outputs": [],
   "source": [
    "df.drop(['Unnamed: 0'], axis=1, inplace=True)"
   ]
  },
  {
   "cell_type": "code",
   "execution_count": 688,
   "id": "96cdb69f",
   "metadata": {},
   "outputs": [
    {
     "data": {
      "text/html": [
       "<div>\n",
       "<style scoped>\n",
       "    .dataframe tbody tr th:only-of-type {\n",
       "        vertical-align: middle;\n",
       "    }\n",
       "\n",
       "    .dataframe tbody tr th {\n",
       "        vertical-align: top;\n",
       "    }\n",
       "\n",
       "    .dataframe thead th {\n",
       "        text-align: right;\n",
       "    }\n",
       "</style>\n",
       "<table border=\"1\" class=\"dataframe\">\n",
       "  <thead>\n",
       "    <tr style=\"text-align: right;\">\n",
       "      <th></th>\n",
       "      <th>PaperID</th>\n",
       "      <th>Abstract</th>\n",
       "    </tr>\n",
       "  </thead>\n",
       "  <tbody>\n",
       "    <tr>\n",
       "      <th>0</th>\n",
       "      <td>16</td>\n",
       "      <td>Cannabis use patterns vary considerably, with ...</td>\n",
       "    </tr>\n",
       "    <tr>\n",
       "      <th>1</th>\n",
       "      <td>44</td>\n",
       "      <td>To date, studies have highlighted cross-sectio...</td>\n",
       "    </tr>\n",
       "    <tr>\n",
       "      <th>2</th>\n",
       "      <td>162</td>\n",
       "      <td>In the United States (US), rates of teenage pr...</td>\n",
       "    </tr>\n",
       "    <tr>\n",
       "      <th>3</th>\n",
       "      <td>236</td>\n",
       "      <td>The quality of the mother-child relationship i...</td>\n",
       "    </tr>\n",
       "    <tr>\n",
       "      <th>4</th>\n",
       "      <td>323</td>\n",
       "      <td>Perinatal depression affects 21-50% of women i...</td>\n",
       "    </tr>\n",
       "  </tbody>\n",
       "</table>\n",
       "</div>"
      ],
      "text/plain": [
       "   PaperID                                           Abstract\n",
       "0       16  Cannabis use patterns vary considerably, with ...\n",
       "1       44  To date, studies have highlighted cross-sectio...\n",
       "2      162  In the United States (US), rates of teenage pr...\n",
       "3      236  The quality of the mother-child relationship i...\n",
       "4      323  Perinatal depression affects 21-50% of women i..."
      ]
     },
     "execution_count": 688,
     "metadata": {},
     "output_type": "execute_result"
    }
   ],
   "source": [
    "df.head()"
   ]
  },
  {
   "cell_type": "code",
   "execution_count": 689,
   "id": "cbc26c96",
   "metadata": {},
   "outputs": [
    {
     "name": "stdout",
     "output_type": "stream",
     "text": [
      "Dataframe contains 805 rows\n"
     ]
    }
   ],
   "source": [
    "print(f'Dataframe contains {df.shape[0]} rows')"
   ]
  },
  {
   "cell_type": "code",
   "execution_count": 690,
   "id": "14d8684a",
   "metadata": {},
   "outputs": [
    {
     "data": {
      "text/plain": [
       "PaperID      int64\n",
       "Abstract    object\n",
       "dtype: object"
      ]
     },
     "execution_count": 690,
     "metadata": {},
     "output_type": "execute_result"
    }
   ],
   "source": [
    "df.dtypes"
   ]
  },
  {
   "cell_type": "code",
   "execution_count": 691,
   "id": "134f033a",
   "metadata": {},
   "outputs": [
    {
     "name": "stdout",
     "output_type": "stream",
     "text": [
      "Max abstract length - words:  1392\n",
      "Min abstract length - words:  101\n",
      "Mean abstract length - words:  256.15403726708075\n"
     ]
    }
   ],
   "source": [
    "# Longest abstract length - words \n",
    "max_abstract_w = df['Abstract'].str.split().str.len().max()\n",
    "\n",
    "# Shortest abstract length - words\n",
    "min_abstract_w = df['Abstract'].str.split().str.len().min()\n",
    "\n",
    "# Mean abstract length - words\n",
    "mean_abstract_w = df['Abstract'].str.split().str.len().mean()\n",
    "\n",
    "print(\"Max abstract length - words: \", max_abstract_w)\n",
    "print(\"Min abstract length - words: \", min_abstract_w)\n",
    "print(\"Mean abstract length - words: \", mean_abstract_w)"
   ]
  },
  {
   "cell_type": "code",
   "execution_count": 692,
   "id": "7596a6ef",
   "metadata": {},
   "outputs": [
    {
     "data": {
      "text/plain": [
       "PaperID     0\n",
       "Abstract    0\n",
       "dtype: int64"
      ]
     },
     "execution_count": 692,
     "metadata": {},
     "output_type": "execute_result"
    }
   ],
   "source": [
    "df.isnull().sum()"
   ]
  },
  {
   "cell_type": "markdown",
   "id": "db4097a1",
   "metadata": {},
   "source": [
    "### Check for duplicate rows"
   ]
  },
  {
   "cell_type": "code",
   "execution_count": 693,
   "id": "798dc912",
   "metadata": {},
   "outputs": [
    {
     "data": {
      "text/plain": [
       "158"
      ]
     },
     "execution_count": 693,
     "metadata": {},
     "output_type": "execute_result"
    }
   ],
   "source": [
    "df.duplicated(subset=None, keep=False).sum()"
   ]
  },
  {
   "cell_type": "code",
   "execution_count": 694,
   "id": "bbf1aa79",
   "metadata": {},
   "outputs": [
    {
     "data": {
      "text/plain": [
       "158"
      ]
     },
     "execution_count": 694,
     "metadata": {},
     "output_type": "execute_result"
    }
   ],
   "source": [
    "# Looking for duplicated abstracts\n",
    "df.duplicated(subset=['Abstract'], keep=False).sum()"
   ]
  },
  {
   "cell_type": "code",
   "execution_count": 695,
   "id": "9d573111",
   "metadata": {},
   "outputs": [
    {
     "data": {
      "text/plain": [
       "158"
      ]
     },
     "execution_count": 695,
     "metadata": {},
     "output_type": "execute_result"
    }
   ],
   "source": [
    "df.duplicated(subset=['PaperID', 'Abstract'], keep=False).sum()"
   ]
  },
  {
   "cell_type": "code",
   "execution_count": 696,
   "id": "7ef13f1b",
   "metadata": {},
   "outputs": [],
   "source": [
    "# Drop rows where PaperID and Abstract are the same\n",
    "df.drop_duplicates(subset=['PaperID', 'Abstract'], keep='last', inplace=True)"
   ]
  },
  {
   "cell_type": "code",
   "execution_count": 697,
   "id": "da44b1b1",
   "metadata": {},
   "outputs": [
    {
     "data": {
      "text/plain": [
       "0"
      ]
     },
     "execution_count": 697,
     "metadata": {},
     "output_type": "execute_result"
    }
   ],
   "source": [
    "# Confirm that PaperID + Abstract is now unique\n",
    "df.duplicated(subset=['PaperID', 'Abstract'], keep=False).sum()"
   ]
  },
  {
   "cell_type": "code",
   "execution_count": 698,
   "id": "3ae533ba",
   "metadata": {},
   "outputs": [],
   "source": [
    "df.reset_index(drop=True, inplace=True)"
   ]
  },
  {
   "cell_type": "code",
   "execution_count": 699,
   "id": "9a4bc507",
   "metadata": {},
   "outputs": [
    {
     "name": "stdout",
     "output_type": "stream",
     "text": [
      "Now we have 726 observations in the dataset\n"
     ]
    }
   ],
   "source": [
    "print(f'Now we have {len(df)} observations in the dataset')"
   ]
  },
  {
   "cell_type": "markdown",
   "id": "a1b0498a",
   "metadata": {},
   "source": [
    "### Preliminary Cleaning/Preprocessing of Text"
   ]
  },
  {
   "cell_type": "markdown",
   "id": "a08a4336",
   "metadata": {},
   "source": [
    "#### Make lowercase"
   ]
  },
  {
   "cell_type": "code",
   "execution_count": 700,
   "id": "6b31029c",
   "metadata": {},
   "outputs": [],
   "source": [
    "df['Abstract'] = df['Abstract'].astype(str).str.lower()"
   ]
  },
  {
   "cell_type": "markdown",
   "id": "241d99e4",
   "metadata": {},
   "source": [
    "#### Remove numbers and punctuation"
   ]
  },
  {
   "cell_type": "code",
   "execution_count": 701,
   "id": "bb94e0fc",
   "metadata": {},
   "outputs": [],
   "source": [
    "alphanumeric = lambda x: re.sub('\\w*\\d\\w*', ' ', x) #remove numbers\n",
    "punc = lambda x: re.sub('[%s]' % re.escape(string.punctuation), ' ', x) #remove punctuation\n",
    "\n",
    "df['Abstract'] = df['Abstract'].map(alphanumeric).map(punc)"
   ]
  },
  {
   "cell_type": "markdown",
   "id": "fbdaad98",
   "metadata": {},
   "source": [
    "#### Remove \"\\r\\n\" new line"
   ]
  },
  {
   "cell_type": "code",
   "execution_count": 702,
   "id": "a370e6f8",
   "metadata": {},
   "outputs": [],
   "source": [
    "df['Abstract'] = df['Abstract'].replace('\\r\\n', '')"
   ]
  },
  {
   "cell_type": "markdown",
   "id": "18891a96",
   "metadata": {},
   "source": [
    "#### Look for more characters/words to remove (potential stop words)"
   ]
  },
  {
   "cell_type": "code",
   "execution_count": 703,
   "id": "c3924cfa",
   "metadata": {},
   "outputs": [
    {
     "data": {
      "text/plain": [
       "'we examined whether increased risk for adolescent tobacco and marijuana problems associated with childhood adhd is explained by key intermediary influences during adolescence and differs by gender longitudinal structural equation models examined mediating effects on problems with both substances  or each substance separately  through age   peer impairment  internalizing  and adolescent adhd symptoms in two twin samples  prospectively assessed since age    n\\xa0 \\xa0      whether these mediators contributed beyond mediating effects of early adolescent substance use was also considered  twin difference analyses further illuminated which mediators might be potentially causal direct effects of childhood adhd on age   tobacco and marijuana problems  i e   independent of included mediators  as well as effects of adolescent adhd symptoms were significant only for females  by contrast  mediation by peer impairment  evident particularly for marijuana  was relatively stronger for males than females  depression and anxiety were not prospectively associated with age   substance problems when earlier substance problems were considered  consistent with causal influence of early substance use on later problems  monozygotic twins with more severe tobacco or marijuana problems at age   than their co twins were also more likely to have substance problems later in adolescence mediation through peer impairment  continued presence of adhd symptoms  and early substance use may alter development so that childhood adhd indirectly contributes to problems with tobacco and marijuana  targeting gender sensitive interventions prior to mid adolescence  before these patterns become established  is essential ©   association for child and adolescent mental health '"
      ]
     },
     "execution_count": 703,
     "metadata": {},
     "output_type": "execute_result"
    }
   ],
   "source": [
    "df['Abstract'][9]"
   ]
  },
  {
   "cell_type": "code",
   "execution_count": 704,
   "id": "44d3ca24",
   "metadata": {},
   "outputs": [],
   "source": [
    "# words with \\ in them\n",
    "# ©"
   ]
  },
  {
   "cell_type": "code",
   "execution_count": 705,
   "id": "4264d0fc",
   "metadata": {},
   "outputs": [
    {
     "data": {
      "text/plain": [
       "'the quality of the mother child relationship in the first year of life has far reaching implications across the life course  bornstein in annu rev psychol            yet little is known about predictors of maternal bonding and emotional availability in early infancy  in this study we examined the extent to which postnatal bonding  maternal mental health  and substance use at   weeks postpartum predicted mother infant bonding  self report  and mother emotional availability  observational  at   months of age data were obtained from an australian longitudinal cohort study of pregnancy  n\\u2009 \\u2009    data were collected during pregnancy  at birth  and postnatally at   weeks and   months the results show strong continuity between postnatal bonding at   weeks and   months  early postpartum stress and depression were associated with bonding at   months  however  the effect did not persist after adjustment for bonding at   weeks  tobacco use at   weeks  but no other indicators of mental health  predicted lower emotional availability scores at   months results suggest that the mother s felt bond to her child is stable across the first year of life and that early bonding is a more robust indicator of bonding at   months than a mother s mental health or substance use  these findings point to the importance of clinical and public health investments in establishing a strong bond between mother and child in the early postpartum period '"
      ]
     },
     "execution_count": 705,
     "metadata": {},
     "output_type": "execute_result"
    }
   ],
   "source": [
    "df['Abstract'][0]"
   ]
  },
  {
   "cell_type": "code",
   "execution_count": 706,
   "id": "5e72b58a",
   "metadata": {},
   "outputs": [
    {
     "data": {
      "text/plain": [
       "'the hypotheses were      pregnant women with bipolar disorder  bd  have less favorable pregnancy outcomes than unaffected women  and     psychotropic treated women with bd have better outcomes than un medicated women this prospective study included   mother infant dyads  women had bd without psychotropic exposure  bd np  n\\u202f \\u202f    bd with psychotropic treatment  bd p  n\\u202f \\u202f    or neither psychotropic exposure nor major mood disorder  comp  n\\u202f \\u202f    maternal characteristics were completed at   weeks gestation and evaluated for associations with delivery and birth outcomes  we performed multiple regressions on infant outcomes with adjustment for maternal age  race  employment status  use of illicit drugs and pre pregnancy bmi the bp p  bp np and comp groups varied significantly on sociodemographic characteristics  women with bd were more likely to be less educated  unemployed  single  and use tobacco and illicit drugs than women in the comp group  compared to women with bd np  women with bd p were more likely to be older and educated  approximately    of all infants were delivered preterm  no significant differences in outcome occurred for apgar scores\\u202f \\u202f   nicu admissions  sex or infant length  infants of mothers with bd np had significantly smaller head circumferences  hc  than the other groups  adjustment for confounding variables mitigated this association the overall pregnancy outcomes for women with bd were similar to those in the comp group  the reduced hc in women with untreated bd appears due to factors related to disadvantaged sociodemographic status  a higher proportion of female births  and or a protective effect of medication in the bd p group copyright ©    published by elsevier b v '"
      ]
     },
     "execution_count": 706,
     "metadata": {},
     "output_type": "execute_result"
    }
   ],
   "source": [
    "df['Abstract'][10]"
   ]
  },
  {
   "cell_type": "code",
   "execution_count": 707,
   "id": "f12ef780",
   "metadata": {},
   "outputs": [],
   "source": [
    "# copyright\n",
    "# published\n",
    "# elsevier"
   ]
  },
  {
   "cell_type": "code",
   "execution_count": 708,
   "id": "3669bb39",
   "metadata": {},
   "outputs": [
    {
     "data": {
      "text/plain": [
       "'despite recent research establishing high rates of comorbidity between hoarding disorder and alcohol use disorders  aud   no studies have systemically examined the associations between symptoms of hoarding and alcohol use  moreover  no studies have explored potential mechanisms that may help to explain these relations thus  the current study was designed to examine the associations between hoarding and aud symptoms  as well as the mediating role of emotion dysregulation self report measures of hoarding  depression  anxiety  alcohol use  and emotion regulation were collected in a sample of   adults  m age        sd           female  even when controlling for depression and anxiety  aud symptoms were associated with overall hoarding severity  β      p      as well as acquiring symptoms  β      p       further  the relation between hoarding symptoms and aud symptoms was mediated by difficulties regulating emotions  b         ci           conclusions importance  results of the current study suggest that increased alcohol use may be one way in which individuals with hoarding symptoms attempt to regulate their emotions '"
      ]
     },
     "execution_count": 708,
     "metadata": {},
     "output_type": "execute_result"
    }
   ],
   "source": [
    "df['Abstract'][500]"
   ]
  },
  {
   "cell_type": "code",
   "execution_count": 709,
   "id": "1921de2f",
   "metadata": {},
   "outputs": [],
   "source": [
    "# β"
   ]
  },
  {
   "cell_type": "code",
   "execution_count": 710,
   "id": "478fef07",
   "metadata": {},
   "outputs": [
    {
     "data": {
      "text/plain": [
       "'despite the well established association between problem gambling and adhd core categories of impulsivity hyperactivity and inattention  the link between parents  problem gambling and impulsivity hyperactivity inattention  ih i  behaviors in children has not been investigated  this study investigated the association between parents  problem gambling and children s ih i behaviors while controlling for potential confounding variables  a population based prospective cohort followed up from kindergarten to age    the quebec longitudinal study of kindergarten children  qlskc   provided data over three generations  among   participants at age    parents with a child aged  \\xa0year or older  n\\xa0 \\xa0   mean age\\xa0 \\xa0   \\xa0years  sd\\xa0 \\xa0     were selected  generalized linear models included measures of grandparents  and parents  problem gambling  parents  ih i behaviors in childhood  and a host of risk factors and comorbidities to predict ih i in children  intergenerational bivariate associations were observed between grandparents  problem gambling  parents  ih i in childhood and problem gambling at age    and between parents  ih i  problem gambling  and children s ih i behaviors  parents  problem gambling predicted children s ih i behaviors above and beyond the effects of covariates such as family and socioeconomic characteristics  alcohol and drug use  depression symptoms and parents  gambling involvement  parents  ih i behaviors in childhood also predicted children s ih i and had a moderating  enhancing effect on parents  problem gambling association with their offspring s ih i behaviors  problem gambling is a characteristic of parents  mental health that is distinctively associated with children s ih i behaviors  above and beyond parents  own history of ih i and of typically related addictive  psychopathological or socioeconomic risk factors and comorbidities '"
      ]
     },
     "execution_count": 710,
     "metadata": {},
     "output_type": "execute_result"
    }
   ],
   "source": [
    "df['Abstract'][400]"
   ]
  },
  {
   "cell_type": "code",
   "execution_count": 711,
   "id": "412bf9a8",
   "metadata": {},
   "outputs": [
    {
     "data": {
      "text/plain": [
       "'while risk of premature death is most pronounced among persons with severe mental illness  also milder conditions are associated with increased all cause mortality  we examined non psychotic mental  npm  disorders and specific causes of natural death in a cohort of late adolescent men followed for up to   years prospective cohort study of swedish males  n        who took part in structured conscription interviews          men were diagnosed with npm disorders at or prior to conscription  median follow up time was   years  hrs for cause specific mortality were calculated using cox proportional hazards models risks in fully adjusted models were particularly elevated for death by infectious diseases  depressive and neurotic adjustment disorders  hr        \\u2009ci     to       personality disorders  hr        \\u2009ci     to      and alcohol related and other substance use disorders  hr        \\u2009ci     to       as well as by gastrointestinal causes  depressive and neurotic adjustment disorders  hr        \\u2009ci     to       personality disorders  hr        \\u2009ci     to      and alcohol related substance use disorders  hr        \\u2009ci     to       young men diagnosed with npm disorders had a long term increased mortality risk  in particular due to infectious and gastrointestinal conditions  these findings highlight the importance of early preventive actions for adolescents with mental illness © article author s   or their employer s  unless otherwise stated in the text of the article     all rights reserved  no commercial use is permitted unless otherwise expressly granted '"
      ]
     },
     "execution_count": 711,
     "metadata": {},
     "output_type": "execute_result"
    }
   ],
   "source": [
    "df['Abstract'][300]"
   ]
  },
  {
   "cell_type": "code",
   "execution_count": 712,
   "id": "a95d7435",
   "metadata": {},
   "outputs": [],
   "source": [
    "# author"
   ]
  },
  {
   "cell_type": "code",
   "execution_count": 713,
   "id": "70b60111",
   "metadata": {},
   "outputs": [
    {
     "data": {
      "text/plain": [
       "'waterpipe smoking is addictive and its use is increasing globally among youth  yet little is known about the factors associated with nicotine dependence  nd  among waterpipe smokers  we investigated the factors associated with nd symptoms among a sample of lebanese adolescents who smoke a waterpipe we collected data on factors potentially associated with nd  individual  socio demographic  environmental  smoking patterns  among   current  past    waterpipe smokers recruited from   and   school grades in lebanon  we assessed the loss of autonomy over tobacco using the hooked on nicotine checklist  honc   nd using the international classification of diseases    revision  icd     and the number of nd symptoms endorsed depressive symptoms  lower self esteem  and having at least one sibling who smokes a waterpipe were associated with the presence of nd symptoms  while enrollment in public schools  smoking a waterpipe ≥  per session  and believing that cigarette smoking is harmful to health were associated with endorsement of a higher number of nd symptoms  smoking a whole waterpipe head without sharing and being in   grade in this study were associated with the presence and endorsement of a higher number of nd symptoms we identified specific social and psychological characteristics  waterpipe smoking patterns  and beliefs about harmful effects of smoking associated with the presence of nd among adolescent waterpipe smokers  considering these factors when planning policies to prevent nd among waterpipe smokers is warranted copyright ©   elsevier ireland ltd  all rights reserved '"
      ]
     },
     "execution_count": 713,
     "metadata": {},
     "output_type": "execute_result"
    }
   ],
   "source": [
    "df['Abstract'][50]"
   ]
  },
  {
   "cell_type": "code",
   "execution_count": 714,
   "id": "d528cba9",
   "metadata": {},
   "outputs": [],
   "source": [
    "# warranted\n",
    "# ireland\n",
    "# ltd\n",
    "# rights\n",
    "# reserved"
   ]
  },
  {
   "cell_type": "code",
   "execution_count": 715,
   "id": "0996c1b2",
   "metadata": {},
   "outputs": [
    {
     "data": {
      "text/plain": [
       "'community health workers  chw  may be effective in the delivery of tobacco dependence treatment with underserved groups  this study evaluated two evidence based chw models of treatment  it was hypothesized that smokers assigned to a chw face to face condition would have higher abstinence at   month posttreatment than smokers enrolled in chw referral to a state sponsored quitline condition  intrapersonal and treatment related factors associated with abstinence at   months were determined a group randomized trial was conducted with residents of   ohio appalachian counties with counties  n      randomized to either a chw face to face     or chw quitline  ql  condition  both conditions included behavioral counseling and free nicotine replacement therapy for   weeks  follow up data were collected at         and   month posttreatment  biochemically validated abstinence at   months served as the primary outcome seven hundred and seven participants were enrolled  n        n     chwql   baseline sample characteristics did not differ by condition  using an intent to treat analysis       retention at   months        of   participants were abstinent at   months  compared to      of chwql members  or           confidence interval  ci              p        no differences in abstinence were noted at   or   months by condition  age  marital status  and baseline levels of cigarette consumption  depressive symptoms  and self efficacy for quitting in positive settings were associated with abstinence  as was counseling dose during treatment this research adds to the body of science evaluating the effectiveness of chw models of tobacco dependence treatment  both approaches may offer promise in low resource settings and underserved regions this   county community based group randomized trial in ohio appalachia adds to the body of science evaluating the effectiveness of chw models of tobacco dependence treatment  both chw approaches may offer promise in low resource settings and underserved regions  these findings are useful to national  state  and local tobacco control agencies  as they expand delivery of preventive health care services postadoption of the affordable care act in the united states © the author    published by oxford university press on behalf of the society for research on nicotine and tobacco  all rights reserved  for permissions  please e mail  journals permissions oup com '"
      ]
     },
     "execution_count": 715,
     "metadata": {},
     "output_type": "execute_result"
    }
   ],
   "source": [
    "df['Abstract'][49]"
   ]
  },
  {
   "cell_type": "code",
   "execution_count": 716,
   "id": "e512655f",
   "metadata": {},
   "outputs": [],
   "source": [
    "# research\n",
    "# ih"
   ]
  },
  {
   "cell_type": "code",
   "execution_count": 717,
   "id": "2d6ca252",
   "metadata": {},
   "outputs": [
    {
     "data": {
      "text/plain": [
       "'the hypotheses were      pregnant women with bipolar disorder  bd  have less favorable pregnancy outcomes than unaffected women  and     psychotropic treated women with bd have better outcomes than un medicated women this prospective study included   mother infant dyads  women had bd without psychotropic exposure  bd np  n\\u202f \\u202f    bd with psychotropic treatment  bd p  n\\u202f \\u202f    or neither psychotropic exposure nor major mood disorder  comp  n\\u202f \\u202f    maternal characteristics were completed at   weeks gestation and evaluated for associations with delivery and birth outcomes  we performed multiple regressions on infant outcomes with adjustment for maternal age  race  employment status  use of illicit drugs and pre pregnancy bmi the bp p  bp np and comp groups varied significantly on sociodemographic characteristics  women with bd were more likely to be less educated  unemployed  single  and use tobacco and illicit drugs than women in the comp group  compared to women with bd np  women with bd p were more likely to be older and educated  approximately    of all infants were delivered preterm  no significant differences in outcome occurred for apgar scores\\u202f \\u202f   nicu admissions  sex or infant length  infants of mothers with bd np had significantly smaller head circumferences  hc  than the other groups  adjustment for confounding variables mitigated this association the overall pregnancy outcomes for women with bd were similar to those in the comp group  the reduced hc in women with untreated bd appears due to factors related to disadvantaged sociodemographic status  a higher proportion of female births  and or a protective effect of medication in the bd p group copyright ©    published by elsevier b v '"
      ]
     },
     "execution_count": 717,
     "metadata": {},
     "output_type": "execute_result"
    }
   ],
   "source": [
    "df['Abstract'][10]"
   ]
  },
  {
   "cell_type": "markdown",
   "id": "9465b635",
   "metadata": {},
   "source": [
    "#### Remove instances of \\u202f"
   ]
  },
  {
   "cell_type": "code",
   "execution_count": 718,
   "id": "0a76d14e",
   "metadata": {},
   "outputs": [],
   "source": [
    "df['Abstract'] = df['Abstract'].str.replace('\\u202f', '')"
   ]
  },
  {
   "cell_type": "code",
   "execution_count": 719,
   "id": "31bf0eaf",
   "metadata": {},
   "outputs": [
    {
     "data": {
      "text/plain": [
       "'the hypotheses were      pregnant women with bipolar disorder  bd  have less favorable pregnancy outcomes than unaffected women  and     psychotropic treated women with bd have better outcomes than un medicated women this prospective study included   mother infant dyads  women had bd without psychotropic exposure  bd np  n     bd with psychotropic treatment  bd p  n     or neither psychotropic exposure nor major mood disorder  comp  n     maternal characteristics were completed at   weeks gestation and evaluated for associations with delivery and birth outcomes  we performed multiple regressions on infant outcomes with adjustment for maternal age  race  employment status  use of illicit drugs and pre pregnancy bmi the bp p  bp np and comp groups varied significantly on sociodemographic characteristics  women with bd were more likely to be less educated  unemployed  single  and use tobacco and illicit drugs than women in the comp group  compared to women with bd np  women with bd p were more likely to be older and educated  approximately    of all infants were delivered preterm  no significant differences in outcome occurred for apgar scores    nicu admissions  sex or infant length  infants of mothers with bd np had significantly smaller head circumferences  hc  than the other groups  adjustment for confounding variables mitigated this association the overall pregnancy outcomes for women with bd were similar to those in the comp group  the reduced hc in women with untreated bd appears due to factors related to disadvantaged sociodemographic status  a higher proportion of female births  and or a protective effect of medication in the bd p group copyright ©    published by elsevier b v '"
      ]
     },
     "execution_count": 719,
     "metadata": {},
     "output_type": "execute_result"
    }
   ],
   "source": [
    "df['Abstract'][10]"
   ]
  },
  {
   "cell_type": "code",
   "execution_count": 720,
   "id": "a07f36c3",
   "metadata": {},
   "outputs": [
    {
     "data": {
      "text/plain": [
       "'while risk of premature death is most pronounced among persons with severe mental illness  also milder conditions are associated with increased all cause mortality  we examined non psychotic mental  npm  disorders and specific causes of natural death in a cohort of late adolescent men followed for up to   years prospective cohort study of swedish males  n        who took part in structured conscription interviews          men were diagnosed with npm disorders at or prior to conscription  median follow up time was   years  hrs for cause specific mortality were calculated using cox proportional hazards models risks in fully adjusted models were particularly elevated for death by infectious diseases  depressive and neurotic adjustment disorders  hr        \\u2009ci     to       personality disorders  hr        \\u2009ci     to      and alcohol related and other substance use disorders  hr        \\u2009ci     to       as well as by gastrointestinal causes  depressive and neurotic adjustment disorders  hr        \\u2009ci     to       personality disorders  hr        \\u2009ci     to      and alcohol related substance use disorders  hr        \\u2009ci     to       young men diagnosed with npm disorders had a long term increased mortality risk  in particular due to infectious and gastrointestinal conditions  these findings highlight the importance of early preventive actions for adolescents with mental illness © article author s   or their employer s  unless otherwise stated in the text of the article     all rights reserved  no commercial use is permitted unless otherwise expressly granted '"
      ]
     },
     "execution_count": 720,
     "metadata": {},
     "output_type": "execute_result"
    }
   ],
   "source": [
    "df['Abstract'][300]"
   ]
  },
  {
   "cell_type": "markdown",
   "id": "2a059cfa",
   "metadata": {},
   "source": [
    "#### Remove instances of \"       \\u2009ci    \""
   ]
  },
  {
   "cell_type": "code",
   "execution_count": 721,
   "id": "ac7b9f8d",
   "metadata": {},
   "outputs": [],
   "source": [
    "df['Abstract'] = df['Abstract'].str.replace('       \\u2009ci    ', '')"
   ]
  },
  {
   "cell_type": "code",
   "execution_count": 722,
   "id": "e226fe73",
   "metadata": {},
   "outputs": [
    {
     "data": {
      "text/plain": [
       "'while risk of premature death is most pronounced among persons with severe mental illness  also milder conditions are associated with increased all cause mortality  we examined non psychotic mental  npm  disorders and specific causes of natural death in a cohort of late adolescent men followed for up to   years prospective cohort study of swedish males  n        who took part in structured conscription interviews          men were diagnosed with npm disorders at or prior to conscription  median follow up time was   years  hrs for cause specific mortality were calculated using cox proportional hazards models risks in fully adjusted models were particularly elevated for death by infectious diseases  depressive and neurotic adjustment disorders  hr  to       personality disorders  hr  to      and alcohol related and other substance use disorders  hr  to       as well as by gastrointestinal causes  depressive and neurotic adjustment disorders  hr  to       personality disorders  hr  to      and alcohol related substance use disorders  hr  to       young men diagnosed with npm disorders had a long term increased mortality risk  in particular due to infectious and gastrointestinal conditions  these findings highlight the importance of early preventive actions for adolescents with mental illness © article author s   or their employer s  unless otherwise stated in the text of the article     all rights reserved  no commercial use is permitted unless otherwise expressly granted '"
      ]
     },
     "execution_count": 722,
     "metadata": {},
     "output_type": "execute_result"
    }
   ],
   "source": [
    "df['Abstract'][300]"
   ]
  },
  {
   "cell_type": "markdown",
   "id": "959e875d",
   "metadata": {},
   "source": [
    "#### Remove any words containing numbers in the middle to handle other instances of those"
   ]
  },
  {
   "cell_type": "code",
   "execution_count": 723,
   "id": "9032b23b",
   "metadata": {},
   "outputs": [
    {
     "name": "stderr",
     "output_type": "stream",
     "text": [
      "<ipython-input-723-0c21b98d46d4>:1: FutureWarning: The default value of regex will change from True to False in a future version.\n",
      "  df['Abstract'] = df['Abstract'].str.replace(r'\\w*\\d\\w*', '')\n"
     ]
    }
   ],
   "source": [
    "df['Abstract'] = df['Abstract'].str.replace(r'\\w*\\d\\w*', '')"
   ]
  },
  {
   "cell_type": "code",
   "execution_count": 724,
   "id": "3348c0a7",
   "metadata": {},
   "outputs": [
    {
     "data": {
      "text/plain": [
       "'the hypotheses were      pregnant women with bipolar disorder  bd  have less favorable pregnancy outcomes than unaffected women  and     psychotropic treated women with bd have better outcomes than un medicated women this prospective study included   mother infant dyads  women had bd without psychotropic exposure  bd np  n     bd with psychotropic treatment  bd p  n     or neither psychotropic exposure nor major mood disorder  comp  n     maternal characteristics were completed at   weeks gestation and evaluated for associations with delivery and birth outcomes  we performed multiple regressions on infant outcomes with adjustment for maternal age  race  employment status  use of illicit drugs and pre pregnancy bmi the bp p  bp np and comp groups varied significantly on sociodemographic characteristics  women with bd were more likely to be less educated  unemployed  single  and use tobacco and illicit drugs than women in the comp group  compared to women with bd np  women with bd p were more likely to be older and educated  approximately    of all infants were delivered preterm  no significant differences in outcome occurred for apgar scores    nicu admissions  sex or infant length  infants of mothers with bd np had significantly smaller head circumferences  hc  than the other groups  adjustment for confounding variables mitigated this association the overall pregnancy outcomes for women with bd were similar to those in the comp group  the reduced hc in women with untreated bd appears due to factors related to disadvantaged sociodemographic status  a higher proportion of female births  and or a protective effect of medication in the bd p group copyright ©    published by elsevier b v '"
      ]
     },
     "execution_count": 724,
     "metadata": {},
     "output_type": "execute_result"
    }
   ],
   "source": [
    "df['Abstract'][10]"
   ]
  },
  {
   "cell_type": "code",
   "execution_count": 725,
   "id": "b64172ac",
   "metadata": {},
   "outputs": [
    {
     "data": {
      "text/plain": [
       "'we examined whether increased risk for adolescent tobacco and marijuana problems associated with childhood adhd is explained by key intermediary influences during adolescence and differs by gender longitudinal structural equation models examined mediating effects on problems with both substances  or each substance separately  through age   peer impairment  internalizing  and adolescent adhd symptoms in two twin samples  prospectively assessed since age    n\\xa0 \\xa0      whether these mediators contributed beyond mediating effects of early adolescent substance use was also considered  twin difference analyses further illuminated which mediators might be potentially causal direct effects of childhood adhd on age   tobacco and marijuana problems  i e   independent of included mediators  as well as effects of adolescent adhd symptoms were significant only for females  by contrast  mediation by peer impairment  evident particularly for marijuana  was relatively stronger for males than females  depression and anxiety were not prospectively associated with age   substance problems when earlier substance problems were considered  consistent with causal influence of early substance use on later problems  monozygotic twins with more severe tobacco or marijuana problems at age   than their co twins were also more likely to have substance problems later in adolescence mediation through peer impairment  continued presence of adhd symptoms  and early substance use may alter development so that childhood adhd indirectly contributes to problems with tobacco and marijuana  targeting gender sensitive interventions prior to mid adolescence  before these patterns become established  is essential ©   association for child and adolescent mental health '"
      ]
     },
     "execution_count": 725,
     "metadata": {},
     "output_type": "execute_result"
    }
   ],
   "source": [
    "df['Abstract'][9]"
   ]
  },
  {
   "cell_type": "code",
   "execution_count": 726,
   "id": "2261ad96",
   "metadata": {},
   "outputs": [
    {
     "data": {
      "text/plain": [
       "'despite the well established association between problem gambling and adhd core categories of impulsivity hyperactivity and inattention  the link between parents  problem gambling and impulsivity hyperactivity inattention  ih i  behaviors in children has not been investigated  this study investigated the association between parents  problem gambling and children s ih i behaviors while controlling for potential confounding variables  a population based prospective cohort followed up from kindergarten to age    the quebec longitudinal study of kindergarten children  qlskc   provided data over three generations  among   participants at age    parents with a child aged  \\xa0year or older  n\\xa0 \\xa0   mean age\\xa0 \\xa0   \\xa0years  sd\\xa0 \\xa0     were selected  generalized linear models included measures of grandparents  and parents  problem gambling  parents  ih i behaviors in childhood  and a host of risk factors and comorbidities to predict ih i in children  intergenerational bivariate associations were observed between grandparents  problem gambling  parents  ih i in childhood and problem gambling at age    and between parents  ih i  problem gambling  and children s ih i behaviors  parents  problem gambling predicted children s ih i behaviors above and beyond the effects of covariates such as family and socioeconomic characteristics  alcohol and drug use  depression symptoms and parents  gambling involvement  parents  ih i behaviors in childhood also predicted children s ih i and had a moderating  enhancing effect on parents  problem gambling association with their offspring s ih i behaviors  problem gambling is a characteristic of parents  mental health that is distinctively associated with children s ih i behaviors  above and beyond parents  own history of ih i and of typically related addictive  psychopathological or socioeconomic risk factors and comorbidities '"
      ]
     },
     "execution_count": 726,
     "metadata": {},
     "output_type": "execute_result"
    }
   ],
   "source": [
    "df['Abstract'][400]"
   ]
  },
  {
   "cell_type": "markdown",
   "id": "e9956f87",
   "metadata": {},
   "source": [
    "#### Remove \\xa0"
   ]
  },
  {
   "cell_type": "code",
   "execution_count": 727,
   "id": "541bc8ad",
   "metadata": {},
   "outputs": [],
   "source": [
    "df['Abstract'] = df['Abstract'].str.replace('\\xa0', '')"
   ]
  },
  {
   "cell_type": "code",
   "execution_count": 728,
   "id": "c898f8f4",
   "metadata": {},
   "outputs": [
    {
     "data": {
      "text/plain": [
       "'despite the well established association between problem gambling and adhd core categories of impulsivity hyperactivity and inattention  the link between parents  problem gambling and impulsivity hyperactivity inattention  ih i  behaviors in children has not been investigated  this study investigated the association between parents  problem gambling and children s ih i behaviors while controlling for potential confounding variables  a population based prospective cohort followed up from kindergarten to age    the quebec longitudinal study of kindergarten children  qlskc   provided data over three generations  among   participants at age    parents with a child aged  year or older  n    mean age    years  sd      were selected  generalized linear models included measures of grandparents  and parents  problem gambling  parents  ih i behaviors in childhood  and a host of risk factors and comorbidities to predict ih i in children  intergenerational bivariate associations were observed between grandparents  problem gambling  parents  ih i in childhood and problem gambling at age    and between parents  ih i  problem gambling  and children s ih i behaviors  parents  problem gambling predicted children s ih i behaviors above and beyond the effects of covariates such as family and socioeconomic characteristics  alcohol and drug use  depression symptoms and parents  gambling involvement  parents  ih i behaviors in childhood also predicted children s ih i and had a moderating  enhancing effect on parents  problem gambling association with their offspring s ih i behaviors  problem gambling is a characteristic of parents  mental health that is distinctively associated with children s ih i behaviors  above and beyond parents  own history of ih i and of typically related addictive  psychopathological or socioeconomic risk factors and comorbidities '"
      ]
     },
     "execution_count": 728,
     "metadata": {},
     "output_type": "execute_result"
    }
   ],
   "source": [
    "df['Abstract'][400]"
   ]
  },
  {
   "cell_type": "code",
   "execution_count": 729,
   "id": "505abc30",
   "metadata": {
    "scrolled": true
   },
   "outputs": [
    {
     "data": {
      "text/plain": [
       "'pediatric guidelines recommend that providers address a range of parental health issues  however  adherence to these guidelines has been suboptimal  drawing on a nationally representative sample of children s primary care physicians  we examined whether providers view parental issues as relevant to child health and whether they believe it is their personal responsibility to address them  issues included maternal depression  tobacco use  intimate partner violence  tdap  tetanus  diphtheria  and acellular pertussis  immunization  family planning  and health insurance  while the majority of respondents endorsed the relevance of these issues to child health  particularly for issues with an established evidencebase  significantly fewer felt responsible for addressing them  physicians who endorsed relevance or responsibility were almost always more likely to address these issues in their clinical practice  to advance parental health promotion practices  highlighting relevance to pediatric outcomes is an important first step  particularly for novel areas  while understanding what factors influence personal responsibility is necessary for all issues '"
      ]
     },
     "execution_count": 729,
     "metadata": {},
     "output_type": "execute_result"
    }
   ],
   "source": [
    "df['Abstract'][35]"
   ]
  },
  {
   "cell_type": "code",
   "execution_count": 730,
   "id": "0fb07f24",
   "metadata": {},
   "outputs": [
    {
     "data": {
      "text/html": [
       "<div>\n",
       "<style scoped>\n",
       "    .dataframe tbody tr th:only-of-type {\n",
       "        vertical-align: middle;\n",
       "    }\n",
       "\n",
       "    .dataframe tbody tr th {\n",
       "        vertical-align: top;\n",
       "    }\n",
       "\n",
       "    .dataframe thead th {\n",
       "        text-align: right;\n",
       "    }\n",
       "</style>\n",
       "<table border=\"1\" class=\"dataframe\">\n",
       "  <thead>\n",
       "    <tr style=\"text-align: right;\">\n",
       "      <th></th>\n",
       "      <th>PaperID</th>\n",
       "      <th>Abstract</th>\n",
       "    </tr>\n",
       "  </thead>\n",
       "  <tbody>\n",
       "    <tr>\n",
       "      <th>0</th>\n",
       "      <td>236</td>\n",
       "      <td>the quality of the mother child relationship i...</td>\n",
       "    </tr>\n",
       "    <tr>\n",
       "      <th>1</th>\n",
       "      <td>323</td>\n",
       "      <td>perinatal depression affects      of women in ...</td>\n",
       "    </tr>\n",
       "    <tr>\n",
       "      <th>2</th>\n",
       "      <td>874</td>\n",
       "      <td>sexual minority  sm  young adults  such as tho...</td>\n",
       "    </tr>\n",
       "    <tr>\n",
       "      <th>3</th>\n",
       "      <td>1098</td>\n",
       "      <td>the increasingly female face of chronic obstru...</td>\n",
       "    </tr>\n",
       "    <tr>\n",
       "      <th>4</th>\n",
       "      <td>1427</td>\n",
       "      <td>the prevalence of korean adolescents with depr...</td>\n",
       "    </tr>\n",
       "  </tbody>\n",
       "</table>\n",
       "</div>"
      ],
      "text/plain": [
       "   PaperID                                           Abstract\n",
       "0      236  the quality of the mother child relationship i...\n",
       "1      323  perinatal depression affects      of women in ...\n",
       "2      874  sexual minority  sm  young adults  such as tho...\n",
       "3     1098  the increasingly female face of chronic obstru...\n",
       "4     1427  the prevalence of korean adolescents with depr..."
      ]
     },
     "execution_count": 730,
     "metadata": {},
     "output_type": "execute_result"
    }
   ],
   "source": [
    "df.head()"
   ]
  },
  {
   "cell_type": "markdown",
   "id": "332fa1fa",
   "metadata": {},
   "source": [
    "#### Tokenize words to do additional preprocessing"
   ]
  },
  {
   "cell_type": "code",
   "execution_count": 731,
   "id": "95fd948b",
   "metadata": {},
   "outputs": [],
   "source": [
    "df['Abstract_tokenized'] = df['Abstract'].apply(word_tokenize)"
   ]
  },
  {
   "cell_type": "code",
   "execution_count": 732,
   "id": "27537f69",
   "metadata": {},
   "outputs": [
    {
     "data": {
      "text/plain": [
       "['the',\n",
       " 'quality',\n",
       " 'of',\n",
       " 'the',\n",
       " 'mother',\n",
       " 'child',\n",
       " 'relationship',\n",
       " 'in',\n",
       " 'the',\n",
       " 'first',\n",
       " 'year',\n",
       " 'of',\n",
       " 'life',\n",
       " 'has',\n",
       " 'far',\n",
       " 'reaching',\n",
       " 'implications',\n",
       " 'across',\n",
       " 'the',\n",
       " 'life',\n",
       " 'course',\n",
       " 'bornstein',\n",
       " 'in',\n",
       " 'annu',\n",
       " 'rev',\n",
       " 'psychol',\n",
       " 'yet',\n",
       " 'little',\n",
       " 'is',\n",
       " 'known',\n",
       " 'about',\n",
       " 'predictors',\n",
       " 'of',\n",
       " 'maternal',\n",
       " 'bonding',\n",
       " 'and',\n",
       " 'emotional',\n",
       " 'availability',\n",
       " 'in',\n",
       " 'early',\n",
       " 'infancy',\n",
       " 'in',\n",
       " 'this',\n",
       " 'study',\n",
       " 'we',\n",
       " 'examined',\n",
       " 'the',\n",
       " 'extent',\n",
       " 'to',\n",
       " 'which',\n",
       " 'postnatal',\n",
       " 'bonding',\n",
       " 'maternal',\n",
       " 'mental',\n",
       " 'health',\n",
       " 'and',\n",
       " 'substance',\n",
       " 'use',\n",
       " 'at',\n",
       " 'weeks',\n",
       " 'postpartum',\n",
       " 'predicted',\n",
       " 'mother',\n",
       " 'infant',\n",
       " 'bonding',\n",
       " 'self',\n",
       " 'report',\n",
       " 'and',\n",
       " 'mother',\n",
       " 'emotional',\n",
       " 'availability',\n",
       " 'observational',\n",
       " 'at',\n",
       " 'months',\n",
       " 'of',\n",
       " 'age',\n",
       " 'data',\n",
       " 'were',\n",
       " 'obtained',\n",
       " 'from',\n",
       " 'an',\n",
       " 'australian',\n",
       " 'longitudinal',\n",
       " 'cohort',\n",
       " 'study',\n",
       " 'of',\n",
       " 'pregnancy',\n",
       " 'n',\n",
       " 'data',\n",
       " 'were',\n",
       " 'collected',\n",
       " 'during',\n",
       " 'pregnancy',\n",
       " 'at',\n",
       " 'birth',\n",
       " 'and',\n",
       " 'postnatally',\n",
       " 'at',\n",
       " 'weeks',\n",
       " 'and',\n",
       " 'months',\n",
       " 'the',\n",
       " 'results',\n",
       " 'show',\n",
       " 'strong',\n",
       " 'continuity',\n",
       " 'between',\n",
       " 'postnatal',\n",
       " 'bonding',\n",
       " 'at',\n",
       " 'weeks',\n",
       " 'and',\n",
       " 'months',\n",
       " 'early',\n",
       " 'postpartum',\n",
       " 'stress',\n",
       " 'and',\n",
       " 'depression',\n",
       " 'were',\n",
       " 'associated',\n",
       " 'with',\n",
       " 'bonding',\n",
       " 'at',\n",
       " 'months',\n",
       " 'however',\n",
       " 'the',\n",
       " 'effect',\n",
       " 'did',\n",
       " 'not',\n",
       " 'persist',\n",
       " 'after',\n",
       " 'adjustment',\n",
       " 'for',\n",
       " 'bonding',\n",
       " 'at',\n",
       " 'weeks',\n",
       " 'tobacco',\n",
       " 'use',\n",
       " 'at',\n",
       " 'weeks',\n",
       " 'but',\n",
       " 'no',\n",
       " 'other',\n",
       " 'indicators',\n",
       " 'of',\n",
       " 'mental',\n",
       " 'health',\n",
       " 'predicted',\n",
       " 'lower',\n",
       " 'emotional',\n",
       " 'availability',\n",
       " 'scores',\n",
       " 'at',\n",
       " 'months',\n",
       " 'results',\n",
       " 'suggest',\n",
       " 'that',\n",
       " 'the',\n",
       " 'mother',\n",
       " 's',\n",
       " 'felt',\n",
       " 'bond',\n",
       " 'to',\n",
       " 'her',\n",
       " 'child',\n",
       " 'is',\n",
       " 'stable',\n",
       " 'across',\n",
       " 'the',\n",
       " 'first',\n",
       " 'year',\n",
       " 'of',\n",
       " 'life',\n",
       " 'and',\n",
       " 'that',\n",
       " 'early',\n",
       " 'bonding',\n",
       " 'is',\n",
       " 'a',\n",
       " 'more',\n",
       " 'robust',\n",
       " 'indicator',\n",
       " 'of',\n",
       " 'bonding',\n",
       " 'at',\n",
       " 'months',\n",
       " 'than',\n",
       " 'a',\n",
       " 'mother',\n",
       " 's',\n",
       " 'mental',\n",
       " 'health',\n",
       " 'or',\n",
       " 'substance',\n",
       " 'use',\n",
       " 'these',\n",
       " 'findings',\n",
       " 'point',\n",
       " 'to',\n",
       " 'the',\n",
       " 'importance',\n",
       " 'of',\n",
       " 'clinical',\n",
       " 'and',\n",
       " 'public',\n",
       " 'health',\n",
       " 'investments',\n",
       " 'in',\n",
       " 'establishing',\n",
       " 'a',\n",
       " 'strong',\n",
       " 'bond',\n",
       " 'between',\n",
       " 'mother',\n",
       " 'and',\n",
       " 'child',\n",
       " 'in',\n",
       " 'the',\n",
       " 'early',\n",
       " 'postpartum',\n",
       " 'period']"
      ]
     },
     "execution_count": 732,
     "metadata": {},
     "output_type": "execute_result"
    }
   ],
   "source": [
    "# Check for tokenization\n",
    "df['Abstract_tokenized'][0]"
   ]
  },
  {
   "cell_type": "code",
   "execution_count": 734,
   "id": "747a4a89",
   "metadata": {},
   "outputs": [
    {
     "data": {
      "text/plain": [
       "221"
      ]
     },
     "execution_count": 734,
     "metadata": {},
     "output_type": "execute_result"
    }
   ],
   "source": [
    "len(df['Abstract_tokenized'][0])"
   ]
  },
  {
   "cell_type": "markdown",
   "id": "25cbe63f",
   "metadata": {},
   "source": [
    "#### Remove english and custom stopwords"
   ]
  },
  {
   "cell_type": "code",
   "execution_count": 735,
   "id": "04a774cc",
   "metadata": {},
   "outputs": [
    {
     "name": "stdout",
     "output_type": "stream",
     "text": [
      "['i', 'me', 'my', 'myself', 'we', 'our', 'ours', 'ourselves', 'you', \"you're\", \"you've\", \"you'll\", \"you'd\", 'your', 'yours', 'yourself', 'yourselves', 'he', 'him', 'his', 'himself', 'she', \"she's\", 'her', 'hers', 'herself', 'it', \"it's\", 'its', 'itself', 'they', 'them', 'their', 'theirs', 'themselves', 'what', 'which', 'who', 'whom', 'this', 'that', \"that'll\", 'these', 'those', 'am', 'is', 'are', 'was', 'were', 'be', 'been', 'being', 'have', 'has', 'had', 'having', 'do', 'does', 'did', 'doing', 'a', 'an', 'the', 'and', 'but', 'if', 'or', 'because', 'as', 'until', 'while', 'of', 'at', 'by', 'for', 'with', 'about', 'against', 'between', 'into', 'through', 'during', 'before', 'after', 'above', 'below', 'to', 'from', 'up', 'down', 'in', 'out', 'on', 'off', 'over', 'under', 'again', 'further', 'then', 'once', 'here', 'there', 'when', 'where', 'why', 'how', 'all', 'any', 'both', 'each', 'few', 'more', 'most', 'other', 'some', 'such', 'no', 'nor', 'not', 'only', 'own', 'same', 'so', 'than', 'too', 'very', 's', 't', 'can', 'will', 'just', 'don', \"don't\", 'should', \"should've\", 'now', 'd', 'll', 'm', 'o', 're', 've', 'y', 'ain', 'aren', \"aren't\", 'couldn', \"couldn't\", 'didn', \"didn't\", 'doesn', \"doesn't\", 'hadn', \"hadn't\", 'hasn', \"hasn't\", 'haven', \"haven't\", 'isn', \"isn't\", 'ma', 'mightn', \"mightn't\", 'mustn', \"mustn't\", 'needn', \"needn't\", 'shan', \"shan't\", 'shouldn', \"shouldn't\", 'wasn', \"wasn't\", 'weren', \"weren't\", 'won', \"won't\", 'wouldn', \"wouldn't\", '©', 'copyright', 'published', 'elsevier', 'β', 'author', 'warranted', 'ireland', 'ltd', 'rights', 'reserved', 'research', 'ih', 'hr', 'n', 'e', 'illuminated', 'particularly', 'may', 'also', 'findings', 'b', 'v', 'study', 'c', 'apa', 'amongassociate', 'association', 'logistic', 'regression', 'cross', 'sectional', 'odds', 'analysis', 'examine', 'include', 'relate', 'sample', 'collect', 'likely', 'significant', 'suggest', 'permit', 'employer', 'commercial', 'unless', 'text', 'article']\n"
     ]
    }
   ],
   "source": [
    "#Add words to stopwords list:\n",
    "\n",
    "removethese=stopwords.words('english')\n",
    "words = ['©', 'copyright', 'published', 'elsevier', 'β', 'author',\n",
    "        'warranted', 'ireland', 'ltd', 'rights', 'reserved', 'research',\n",
    "        'ih', 'hr', 'n', 'e', 'illuminated', 'particularly', 'may',\n",
    "        'also', 'findings', 'b', 'v', 'study', 'c', 'apa']\n",
    "\n",
    "words_2  = ['©', 'copyright', 'published', 'elsevier', 'β', 'author',\n",
    "        'warranted', 'ireland', 'ltd', 'rights', 'reserved', 'research',\n",
    "        'ih', 'hr', 'n', 'e', 'illuminated', 'particularly', 'may',\n",
    "        'also', 'findings', 'b', 'v', 'study', 'c', 'apa', 'among' 'associate', 'association', 'logistic',\n",
    "        'regression', 'cross', 'sectional', 'odds', 'analysis', 'examine', 'include', 'relate', 'sample',\n",
    "           'collect', 'likely', 'significant', 'suggest']\n",
    "\n",
    "words_3 = ['©', 'copyright', 'published', 'elsevier', 'β', 'author',\n",
    "        'warranted', 'ireland', 'ltd', 'rights', 'reserved', 'research',\n",
    "        'ih', 'hr', 'n', 'e', 'illuminated', 'particularly', 'may',\n",
    "        'also', 'findings', 'b', 'v', 'study', 'c', 'apa', 'among' 'associate', 'odds',\n",
    "           'analysis', 'examine', 'include', 'relate', 'sample', 'collect', 'likely', 'significant']\n",
    "\n",
    "words_4  = ['©', 'copyright', 'published', 'elsevier', 'β', 'author',\n",
    "        'warranted', 'ireland', 'ltd', 'rights', 'reserved', 'research',\n",
    "        'ih', 'hr', 'n', 'e', 'illuminated', 'particularly', 'may',\n",
    "        'also', 'findings', 'b', 'v', 'study', 'c', 'apa', 'among' 'associate', 'association', 'logistic',\n",
    "        'regression', 'cross', 'sectional', 'odds', 'analysis', 'examine', 'include', 'relate', 'sample',\n",
    "           'collect', 'likely', 'significant', 'suggest', 'permit', 'employer', 'commercial', 'unless', 'text',\n",
    "            'article']\n",
    "\n",
    "for i in words_4:\n",
    "    removethese.append(i)\n",
    "print(removethese)"
   ]
  },
  {
   "cell_type": "markdown",
   "id": "9ab0304a",
   "metadata": {},
   "source": [
    "We will probably have to add more stopwords later"
   ]
  },
  {
   "cell_type": "code",
   "execution_count": 736,
   "id": "5a960e13",
   "metadata": {},
   "outputs": [],
   "source": [
    "# Remove stop words:\n",
    "df['Abstract_tokenized'] = df['Abstract_tokenized'].apply(lambda x: [item for item in x if item not in removethese])"
   ]
  },
  {
   "cell_type": "code",
   "execution_count": 737,
   "id": "cd285376",
   "metadata": {},
   "outputs": [
    {
     "data": {
      "text/plain": [
       "['quality',\n",
       " 'mother',\n",
       " 'child',\n",
       " 'relationship',\n",
       " 'first',\n",
       " 'year',\n",
       " 'life',\n",
       " 'far',\n",
       " 'reaching',\n",
       " 'implications',\n",
       " 'across',\n",
       " 'life',\n",
       " 'course',\n",
       " 'bornstein',\n",
       " 'annu',\n",
       " 'rev',\n",
       " 'psychol',\n",
       " 'yet',\n",
       " 'little',\n",
       " 'known',\n",
       " 'predictors',\n",
       " 'maternal',\n",
       " 'bonding',\n",
       " 'emotional',\n",
       " 'availability',\n",
       " 'early',\n",
       " 'infancy',\n",
       " 'examined',\n",
       " 'extent',\n",
       " 'postnatal',\n",
       " 'bonding',\n",
       " 'maternal',\n",
       " 'mental',\n",
       " 'health',\n",
       " 'substance',\n",
       " 'use',\n",
       " 'weeks',\n",
       " 'postpartum',\n",
       " 'predicted',\n",
       " 'mother',\n",
       " 'infant',\n",
       " 'bonding',\n",
       " 'self',\n",
       " 'report',\n",
       " 'mother',\n",
       " 'emotional',\n",
       " 'availability',\n",
       " 'observational',\n",
       " 'months',\n",
       " 'age',\n",
       " 'data',\n",
       " 'obtained',\n",
       " 'australian',\n",
       " 'longitudinal',\n",
       " 'cohort',\n",
       " 'pregnancy',\n",
       " 'data',\n",
       " 'collected',\n",
       " 'pregnancy',\n",
       " 'birth',\n",
       " 'postnatally',\n",
       " 'weeks',\n",
       " 'months',\n",
       " 'results',\n",
       " 'show',\n",
       " 'strong',\n",
       " 'continuity',\n",
       " 'postnatal',\n",
       " 'bonding',\n",
       " 'weeks',\n",
       " 'months',\n",
       " 'early',\n",
       " 'postpartum',\n",
       " 'stress',\n",
       " 'depression',\n",
       " 'associated',\n",
       " 'bonding',\n",
       " 'months',\n",
       " 'however',\n",
       " 'effect',\n",
       " 'persist',\n",
       " 'adjustment',\n",
       " 'bonding',\n",
       " 'weeks',\n",
       " 'tobacco',\n",
       " 'use',\n",
       " 'weeks',\n",
       " 'indicators',\n",
       " 'mental',\n",
       " 'health',\n",
       " 'predicted',\n",
       " 'lower',\n",
       " 'emotional',\n",
       " 'availability',\n",
       " 'scores',\n",
       " 'months',\n",
       " 'results',\n",
       " 'mother',\n",
       " 'felt',\n",
       " 'bond',\n",
       " 'child',\n",
       " 'stable',\n",
       " 'across',\n",
       " 'first',\n",
       " 'year',\n",
       " 'life',\n",
       " 'early',\n",
       " 'bonding',\n",
       " 'robust',\n",
       " 'indicator',\n",
       " 'bonding',\n",
       " 'months',\n",
       " 'mother',\n",
       " 'mental',\n",
       " 'health',\n",
       " 'substance',\n",
       " 'use',\n",
       " 'point',\n",
       " 'importance',\n",
       " 'clinical',\n",
       " 'public',\n",
       " 'health',\n",
       " 'investments',\n",
       " 'establishing',\n",
       " 'strong',\n",
       " 'bond',\n",
       " 'mother',\n",
       " 'child',\n",
       " 'early',\n",
       " 'postpartum',\n",
       " 'period']"
      ]
     },
     "execution_count": 737,
     "metadata": {},
     "output_type": "execute_result"
    }
   ],
   "source": [
    "# Check\n",
    "df['Abstract_tokenized'][0]\n",
    "\n",
    "# no longer has words like \"is\" and \"a\""
   ]
  },
  {
   "cell_type": "code",
   "execution_count": 738,
   "id": "aec3d58a",
   "metadata": {},
   "outputs": [
    {
     "data": {
      "text/plain": [
       "['examined',\n",
       " 'whether',\n",
       " 'increased',\n",
       " 'risk',\n",
       " 'adolescent',\n",
       " 'tobacco',\n",
       " 'marijuana',\n",
       " 'problems',\n",
       " 'associated',\n",
       " 'childhood',\n",
       " 'adhd',\n",
       " 'explained',\n",
       " 'key',\n",
       " 'intermediary',\n",
       " 'influences',\n",
       " 'adolescence',\n",
       " 'differs',\n",
       " 'gender',\n",
       " 'longitudinal',\n",
       " 'structural',\n",
       " 'equation',\n",
       " 'models',\n",
       " 'examined',\n",
       " 'mediating',\n",
       " 'effects',\n",
       " 'problems',\n",
       " 'substances',\n",
       " 'substance',\n",
       " 'separately',\n",
       " 'age',\n",
       " 'peer',\n",
       " 'impairment',\n",
       " 'internalizing',\n",
       " 'adolescent',\n",
       " 'adhd',\n",
       " 'symptoms',\n",
       " 'two',\n",
       " 'twin',\n",
       " 'samples',\n",
       " 'prospectively',\n",
       " 'assessed',\n",
       " 'since',\n",
       " 'age',\n",
       " 'whether',\n",
       " 'mediators',\n",
       " 'contributed',\n",
       " 'beyond',\n",
       " 'mediating',\n",
       " 'effects',\n",
       " 'early',\n",
       " 'adolescent',\n",
       " 'substance',\n",
       " 'use',\n",
       " 'considered',\n",
       " 'twin',\n",
       " 'difference',\n",
       " 'analyses',\n",
       " 'mediators',\n",
       " 'might',\n",
       " 'potentially',\n",
       " 'causal',\n",
       " 'direct',\n",
       " 'effects',\n",
       " 'childhood',\n",
       " 'adhd',\n",
       " 'age',\n",
       " 'tobacco',\n",
       " 'marijuana',\n",
       " 'problems',\n",
       " 'independent',\n",
       " 'included',\n",
       " 'mediators',\n",
       " 'well',\n",
       " 'effects',\n",
       " 'adolescent',\n",
       " 'adhd',\n",
       " 'symptoms',\n",
       " 'females',\n",
       " 'contrast',\n",
       " 'mediation',\n",
       " 'peer',\n",
       " 'impairment',\n",
       " 'evident',\n",
       " 'marijuana',\n",
       " 'relatively',\n",
       " 'stronger',\n",
       " 'males',\n",
       " 'females',\n",
       " 'depression',\n",
       " 'anxiety',\n",
       " 'prospectively',\n",
       " 'associated',\n",
       " 'age',\n",
       " 'substance',\n",
       " 'problems',\n",
       " 'earlier',\n",
       " 'substance',\n",
       " 'problems',\n",
       " 'considered',\n",
       " 'consistent',\n",
       " 'causal',\n",
       " 'influence',\n",
       " 'early',\n",
       " 'substance',\n",
       " 'use',\n",
       " 'later',\n",
       " 'problems',\n",
       " 'monozygotic',\n",
       " 'twins',\n",
       " 'severe',\n",
       " 'tobacco',\n",
       " 'marijuana',\n",
       " 'problems',\n",
       " 'age',\n",
       " 'co',\n",
       " 'twins',\n",
       " 'substance',\n",
       " 'problems',\n",
       " 'later',\n",
       " 'adolescence',\n",
       " 'mediation',\n",
       " 'peer',\n",
       " 'impairment',\n",
       " 'continued',\n",
       " 'presence',\n",
       " 'adhd',\n",
       " 'symptoms',\n",
       " 'early',\n",
       " 'substance',\n",
       " 'use',\n",
       " 'alter',\n",
       " 'development',\n",
       " 'childhood',\n",
       " 'adhd',\n",
       " 'indirectly',\n",
       " 'contributes',\n",
       " 'problems',\n",
       " 'tobacco',\n",
       " 'marijuana',\n",
       " 'targeting',\n",
       " 'gender',\n",
       " 'sensitive',\n",
       " 'interventions',\n",
       " 'prior',\n",
       " 'mid',\n",
       " 'adolescence',\n",
       " 'patterns',\n",
       " 'become',\n",
       " 'established',\n",
       " 'essential',\n",
       " 'child',\n",
       " 'adolescent',\n",
       " 'mental',\n",
       " 'health']"
      ]
     },
     "execution_count": 738,
     "metadata": {},
     "output_type": "execute_result"
    }
   ],
   "source": [
    "df['Abstract_tokenized'][9]"
   ]
  },
  {
   "cell_type": "markdown",
   "id": "cfa8fadc",
   "metadata": {},
   "source": [
    "#### Remove non-english words"
   ]
  },
  {
   "cell_type": "code",
   "execution_count": 739,
   "id": "5769e038",
   "metadata": {},
   "outputs": [],
   "source": [
    "words = set(nltk.corpus.words.words())  #set of English words \n",
    "\n",
    "df['Abstract_tokenized']=df['Abstract_tokenized'].apply(lambda x: [item for item in x if item in words])"
   ]
  },
  {
   "cell_type": "markdown",
   "id": "fdc8f877",
   "metadata": {},
   "source": [
    "#### Stemming"
   ]
  },
  {
   "cell_type": "code",
   "execution_count": 740,
   "id": "a13cd1bd",
   "metadata": {},
   "outputs": [],
   "source": [
    "# def stem_text(text):\n",
    "#     doc_stemmed = []\n",
    "#     stemmer = LancasterStemmer()\n",
    "    \n",
    "#     for word in text:\n",
    "#         doc_stemmed.append(stemmer.stem(word))\n",
    "        \n",
    "#     return doc_stemmed"
   ]
  },
  {
   "cell_type": "code",
   "execution_count": 741,
   "id": "da4a6098",
   "metadata": {},
   "outputs": [],
   "source": [
    "# df['Abstract_stemmed'] = df['Abstract_tokenized'].apply(stem_text)"
   ]
  },
  {
   "cell_type": "code",
   "execution_count": 742,
   "id": "549c3641",
   "metadata": {},
   "outputs": [],
   "source": [
    "# check\n",
    "# df.head()"
   ]
  },
  {
   "cell_type": "code",
   "execution_count": 743,
   "id": "872a194b",
   "metadata": {},
   "outputs": [],
   "source": [
    "# check\n",
    "# df['Abstract_stemmed'][2]"
   ]
  },
  {
   "cell_type": "code",
   "execution_count": 744,
   "id": "6c4441f4",
   "metadata": {},
   "outputs": [],
   "source": [
    "# The stemming is very aggressive and makes the words hard to interpret especially since many are scientific\n",
    "# and the subject matters of all abstracts are very different\n",
    "\n",
    "# for now, don't do stemming. we can try manual stemming later for specific words such as associate and association\n",
    "# using str.replace"
   ]
  },
  {
   "cell_type": "markdown",
   "id": "c98cb107",
   "metadata": {},
   "source": [
    "#### Observe parts of speech"
   ]
  },
  {
   "cell_type": "code",
   "execution_count": 745,
   "id": "a24906bd",
   "metadata": {},
   "outputs": [],
   "source": [
    "#tagging words with parts of speech \n",
    "df['Abstract_tagged'] = pos_tag_sents(df['Abstract_tokenized'].tolist())"
   ]
  },
  {
   "cell_type": "code",
   "execution_count": 746,
   "id": "2ce57055",
   "metadata": {},
   "outputs": [
    {
     "data": {
      "text/plain": [
       "[('depression', 'NN'),\n",
       " ('south', 'VBZ'),\n",
       " ('health', 'NN'),\n",
       " ('depressive', 'JJ'),\n",
       " ('change', 'NN'),\n",
       " ('time', 'NN'),\n",
       " ('well', 'RB'),\n",
       " ('period', 'NN'),\n",
       " ('low', 'JJ'),\n",
       " ('middle', 'JJ'),\n",
       " ('income', 'NN'),\n",
       " ('data', 'NNS'),\n",
       " ('enrolled', 'VBD'),\n",
       " ('population', 'NN'),\n",
       " ('based', 'VBN'),\n",
       " ('birth', 'NN'),\n",
       " ('cohort', 'NN'),\n",
       " ('south', 'VBD'),\n",
       " ('least', 'JJS'),\n",
       " ('depression', 'JJ'),\n",
       " ('pregnancy', 'NN'),\n",
       " ('depressive', 'NN'),\n",
       " ('measured', 'VBD'),\n",
       " ('continuously', 'RB'),\n",
       " ('postnatal', 'JJ'),\n",
       " ('depression', 'NN'),\n",
       " ('scale', 'NN'),\n",
       " ('group', 'NN'),\n",
       " ('based', 'VBN'),\n",
       " ('trajectory', 'NN'),\n",
       " ('used', 'VBN'),\n",
       " ('estimate', 'JJ'),\n",
       " ('depressive', 'JJ'),\n",
       " ('period', 'NN'),\n",
       " ('multinomial', 'JJ'),\n",
       " ('identify', 'JJ'),\n",
       " ('trajectory', 'NN'),\n",
       " ('group', 'NN'),\n",
       " ('membership', 'NN'),\n",
       " ('five', 'CD'),\n",
       " ('distinct', 'JJ'),\n",
       " ('trajectory', 'NN'),\n",
       " ('depressive', 'JJ'),\n",
       " ('moderate', 'JJ'),\n",
       " ('depressive', 'JJ'),\n",
       " ('pregnancy', 'NN'),\n",
       " ('minimal', 'JJ'),\n",
       " ('minimal', 'JJ'),\n",
       " ('pregnancy', 'NN'),\n",
       " ('increasing', 'VBG'),\n",
       " ('unstable', 'JJ'),\n",
       " ('peaking', 'VBG'),\n",
       " ('mild', 'JJ'),\n",
       " ('slight', 'JJ'),\n",
       " ('decrease', 'NN'),\n",
       " ('severe', 'JJ'),\n",
       " ('pregnancy', 'NN'),\n",
       " ('membership', 'NN'),\n",
       " ('chronic', 'NN'),\n",
       " ('severe', 'JJ'),\n",
       " ('symptom', 'NN'),\n",
       " ('group', 'NN'),\n",
       " ('associated', 'VBN'),\n",
       " ('stressful', 'JJ'),\n",
       " ('life', 'NN'),\n",
       " ('sexual', 'JJ'),\n",
       " ('intimate', 'NN'),\n",
       " ('partner', 'NN'),\n",
       " ('violence', 'NN'),\n",
       " ('tobacco', 'NN'),\n",
       " ('use', 'NN'),\n",
       " ('modeling', 'VBG'),\n",
       " ('psychosocial', 'JJ'),\n",
       " ('time', 'NN'),\n",
       " ('influence', 'NN'),\n",
       " ('depressive', 'JJ'),\n",
       " ('symptom', 'NN'),\n",
       " ('mild', 'NN'),\n",
       " ('severe', 'JJ'),\n",
       " ('depressive', 'JJ'),\n",
       " ('pregnancy', 'NN'),\n",
       " ('common', 'JJ'),\n",
       " ('among', 'IN'),\n",
       " ('south', 'JJ'),\n",
       " ('cohort', 'NN'),\n",
       " ('treat', 'NN'),\n",
       " ('severe', 'JJ'),\n",
       " ('chronic', 'JJ'),\n",
       " ('depressive', 'JJ'),\n",
       " ('psychosocial', 'NN'),\n",
       " ('urgently', 'RB')]"
      ]
     },
     "execution_count": 746,
     "metadata": {},
     "output_type": "execute_result"
    }
   ],
   "source": [
    "#inspect tagged words for one abstract\n",
    "df['Abstract_tagged'][1]"
   ]
  },
  {
   "cell_type": "code",
   "execution_count": 747,
   "id": "05c92d7c",
   "metadata": {},
   "outputs": [
    {
     "data": {
      "text/plain": [
       "[('depression', 'NN'),\n",
       " ('south', 'VBZ'),\n",
       " ('health', 'NN'),\n",
       " ('depressive', 'JJ'),\n",
       " ('change', 'NN'),\n",
       " ('time', 'NN'),\n",
       " ('well', 'RB'),\n",
       " ('period', 'NN'),\n",
       " ('low', 'JJ'),\n",
       " ('middle', 'JJ'),\n",
       " ('income', 'NN'),\n",
       " ('data', 'NNS'),\n",
       " ('enrolled', 'VBD'),\n",
       " ('population', 'NN'),\n",
       " ('based', 'VBN'),\n",
       " ('birth', 'NN'),\n",
       " ('cohort', 'NN'),\n",
       " ('south', 'VBD'),\n",
       " ('least', 'JJS'),\n",
       " ('depression', 'JJ'),\n",
       " ('pregnancy', 'NN'),\n",
       " ('depressive', 'NN'),\n",
       " ('measured', 'VBD'),\n",
       " ('continuously', 'RB'),\n",
       " ('postnatal', 'JJ'),\n",
       " ('depression', 'NN'),\n",
       " ('scale', 'NN'),\n",
       " ('group', 'NN'),\n",
       " ('based', 'VBN'),\n",
       " ('trajectory', 'NN'),\n",
       " ('used', 'VBN'),\n",
       " ('estimate', 'JJ'),\n",
       " ('depressive', 'JJ'),\n",
       " ('period', 'NN'),\n",
       " ('multinomial', 'JJ'),\n",
       " ('identify', 'JJ'),\n",
       " ('trajectory', 'NN'),\n",
       " ('group', 'NN'),\n",
       " ('membership', 'NN'),\n",
       " ('five', 'CD'),\n",
       " ('distinct', 'JJ'),\n",
       " ('trajectory', 'NN'),\n",
       " ('depressive', 'JJ'),\n",
       " ('moderate', 'JJ'),\n",
       " ('depressive', 'JJ'),\n",
       " ('pregnancy', 'NN'),\n",
       " ('minimal', 'JJ'),\n",
       " ('minimal', 'JJ'),\n",
       " ('pregnancy', 'NN'),\n",
       " ('increasing', 'VBG'),\n",
       " ('unstable', 'JJ'),\n",
       " ('peaking', 'VBG'),\n",
       " ('mild', 'JJ'),\n",
       " ('slight', 'JJ'),\n",
       " ('decrease', 'NN'),\n",
       " ('severe', 'JJ'),\n",
       " ('pregnancy', 'NN'),\n",
       " ('membership', 'NN'),\n",
       " ('chronic', 'NN'),\n",
       " ('severe', 'JJ'),\n",
       " ('symptom', 'NN'),\n",
       " ('group', 'NN'),\n",
       " ('associated', 'VBN'),\n",
       " ('stressful', 'JJ'),\n",
       " ('life', 'NN'),\n",
       " ('sexual', 'JJ'),\n",
       " ('intimate', 'NN'),\n",
       " ('partner', 'NN'),\n",
       " ('violence', 'NN'),\n",
       " ('tobacco', 'NN'),\n",
       " ('use', 'NN'),\n",
       " ('modeling', 'VBG'),\n",
       " ('psychosocial', 'JJ'),\n",
       " ('time', 'NN'),\n",
       " ('influence', 'NN'),\n",
       " ('depressive', 'JJ'),\n",
       " ('symptom', 'NN'),\n",
       " ('mild', 'NN'),\n",
       " ('severe', 'JJ'),\n",
       " ('depressive', 'JJ'),\n",
       " ('pregnancy', 'NN'),\n",
       " ('common', 'JJ'),\n",
       " ('among', 'IN'),\n",
       " ('south', 'JJ'),\n",
       " ('cohort', 'NN'),\n",
       " ('treat', 'NN'),\n",
       " ('severe', 'JJ'),\n",
       " ('chronic', 'JJ'),\n",
       " ('depressive', 'JJ'),\n",
       " ('psychosocial', 'NN'),\n",
       " ('urgently', 'RB')]"
      ]
     },
     "execution_count": 747,
     "metadata": {},
     "output_type": "execute_result"
    }
   ],
   "source": [
    "df['Abstract_tagged'][1]"
   ]
  },
  {
   "cell_type": "code",
   "execution_count": 748,
   "id": "a466af4f",
   "metadata": {},
   "outputs": [
    {
     "data": {
      "text/plain": [
       "[('sexual', 'JJ'),\n",
       " ('minority', 'NN'),\n",
       " ('young', 'JJ'),\n",
       " ('identify', 'VB'),\n",
       " ('gay', 'JJ'),\n",
       " ('bisexual', 'JJ'),\n",
       " ('well', 'RB'),\n",
       " ('smoking', 'VBG'),\n",
       " ('heterosexual', 'JJ'),\n",
       " ('young', 'JJ'),\n",
       " ('however', 'RB'),\n",
       " ('simultaneously', 'RB'),\n",
       " ('tested', 'VBN'),\n",
       " ('role', 'NN'),\n",
       " ('three', 'CD'),\n",
       " ('risk', 'NN'),\n",
       " ('depressive', 'JJ'),\n",
       " ('tobacco', 'NN'),\n",
       " ('marketing', 'NN'),\n",
       " ('cigarette', 'NN'),\n",
       " ('related', 'VBN'),\n",
       " ('social', 'JJ'),\n",
       " ('explain', 'NN'),\n",
       " ('tobacco', 'NN'),\n",
       " ('use', 'VBP'),\n",
       " ('longitudinal', 'JJ'),\n",
       " ('structural', 'JJ'),\n",
       " ('equation', 'NN'),\n",
       " ('modeling', 'VBG'),\n",
       " ('used', 'VBN'),\n",
       " ('explore', 'NN'),\n",
       " ('identity', 'NN'),\n",
       " ('past', 'IN'),\n",
       " ('day', 'NN'),\n",
       " ('cigarette', 'NN'),\n",
       " ('smoking', 'VBG'),\n",
       " ('one', 'CD'),\n",
       " ('year', 'NN'),\n",
       " ('later', 'RB'),\n",
       " ('three', 'CD'),\n",
       " ('risk', 'NN'),\n",
       " ('starting', 'VBG'),\n",
       " ('fall', 'NN'),\n",
       " ('three', 'CD'),\n",
       " ('every', 'DT'),\n",
       " ('young', 'JJ'),\n",
       " ('adult', 'NN'),\n",
       " ('college', 'NN'),\n",
       " ('assessed', 'VBD'),\n",
       " ('identity', 'NN'),\n",
       " ('depressive', 'JJ'),\n",
       " ('tobacco', 'NN'),\n",
       " ('marketing', 'NN'),\n",
       " ('normative', 'JJ'),\n",
       " ('tobacco', 'NN'),\n",
       " ('use', 'NN'),\n",
       " ('greater', 'JJR'),\n",
       " ('depressive', 'JJ'),\n",
       " ('tobacco', 'NN'),\n",
       " ('marketing', 'NN'),\n",
       " ('cigarette', 'NN'),\n",
       " ('related', 'VBN'),\n",
       " ('social', 'JJ'),\n",
       " ('explain', 'NN'),\n",
       " ('unique', 'JJ'),\n",
       " ('portion', 'NN'),\n",
       " ('identity', 'NN'),\n",
       " ('subsequent', 'NN'),\n",
       " ('cigarette', 'NN'),\n",
       " ('use', 'NN'),\n",
       " ('young', 'JJ'),\n",
       " ('higher', 'JJR'),\n",
       " ('prevalence', 'NN'),\n",
       " ('cigarette', 'NN'),\n",
       " ('use', 'NN'),\n",
       " ('depressive', 'JJ'),\n",
       " ('symptom', 'NN'),\n",
       " ('reflecting', 'VBG'),\n",
       " ('elevated', 'VBN'),\n",
       " ('risk', 'NN'),\n",
       " ('major', 'JJ'),\n",
       " ('depressive', 'JJ'),\n",
       " ('disorder', 'NN'),\n",
       " ('cigarette', 'NN'),\n",
       " ('related', 'VBN'),\n",
       " ('social', 'JJ'),\n",
       " ('heterosexual', 'JJ'),\n",
       " ('cigarette', 'NN'),\n",
       " ('related', 'VBN'),\n",
       " ('social', 'JJ'),\n",
       " ('identity', 'NN'),\n",
       " ('subsequent', 'JJ'),\n",
       " ('past', 'NN'),\n",
       " ('day', 'NN'),\n",
       " ('smoking', 'VBG'),\n",
       " ('depressive', 'JJ'),\n",
       " ('tobacco', 'NN'),\n",
       " ('marketing', 'NN'),\n",
       " ('previous', 'JJ'),\n",
       " ('tobacco', 'NN'),\n",
       " ('use', 'NN'),\n",
       " ('reflect', 'VBP'),\n",
       " ('need', 'MD'),\n",
       " ('tobacco', 'VB'),\n",
       " ('control', 'VB'),\n",
       " ('shift', 'NN'),\n",
       " ('cigarette', 'NN'),\n",
       " ('related', 'JJ'),\n",
       " ('young', 'JJ'),\n",
       " ('ultimately', 'RB'),\n",
       " ('lead', 'JJ'),\n",
       " ('smoking', 'NN'),\n",
       " ('high', 'JJ'),\n",
       " ('risk', 'NN'),\n",
       " ('subgroup', 'NN'),\n",
       " ('record', 'NN')]"
      ]
     },
     "execution_count": 748,
     "metadata": {},
     "output_type": "execute_result"
    }
   ],
   "source": [
    "df['Abstract_tagged'][2]"
   ]
  },
  {
   "cell_type": "code",
   "execution_count": 749,
   "id": "5c3da029",
   "metadata": {},
   "outputs": [
    {
     "data": {
      "text/plain": [
       "[('increasingly', 'RB'),\n",
       " ('female', 'JJ'),\n",
       " ('face', 'NN'),\n",
       " ('chronic', 'JJ'),\n",
       " ('obstructive', 'JJ'),\n",
       " ('pulmonary', 'JJ'),\n",
       " ('disease', 'NN'),\n",
       " ('prevalence', 'NN'),\n",
       " ('among', 'IN'),\n",
       " ('men', 'NNS'),\n",
       " ('since', 'IN'),\n",
       " ('due', 'JJ'),\n",
       " ('part', 'NN'),\n",
       " ('tobacco', 'NN'),\n",
       " ('use', 'NN'),\n",
       " ('among', 'IN'),\n",
       " ('exposure', 'NN'),\n",
       " ('finding', 'VBG'),\n",
       " ('number', 'NN'),\n",
       " ('evidence', 'NN'),\n",
       " ('susceptibility', 'NN'),\n",
       " ('smoking', 'NN'),\n",
       " ('along', 'IN'),\n",
       " ('epidemiological', 'JJ'),\n",
       " ('phenotypic', 'NN'),\n",
       " ('thus', 'RB'),\n",
       " ('become', 'VB'),\n",
       " ('leading', 'JJ'),\n",
       " ('cause', 'NN'),\n",
       " ('death', 'NN'),\n",
       " ('clinical', 'JJ'),\n",
       " ('presentation', 'NN'),\n",
       " ('increasingly', 'RB'),\n",
       " ('pronounced', 'VBD'),\n",
       " ('marked', 'JJ'),\n",
       " ('tendency', 'NN'),\n",
       " ('towards', 'NNS'),\n",
       " ('anxiety', 'NN'),\n",
       " ('depression', 'NN'),\n",
       " ('undernutrition', 'NN'),\n",
       " ('cell', 'NN'),\n",
       " ('lung', 'NN'),\n",
       " ('cancer', 'NN'),\n",
       " ('especially', 'RB'),\n",
       " ('adenocarcinoma', 'JJ'),\n",
       " ('osteoporosis', 'NN'),\n",
       " ('quality', 'NN'),\n",
       " ('life', 'NN'),\n",
       " ('significantly', 'RB'),\n",
       " ('impacted', 'VBD'),\n",
       " ('advanced', 'JJ'),\n",
       " ('explain', 'NN'),\n",
       " ('involve', 'VBP'),\n",
       " ('role', 'NN'),\n",
       " ('gas', 'NN'),\n",
       " ('exchange', 'NN'),\n",
       " ('smoking', 'NN'),\n",
       " ('require', 'VB'),\n",
       " ('appropriate', 'JJ'),\n",
       " ('therapeutic', 'JJ'),\n",
       " ('smoking', 'NN'),\n",
       " ('cessation', 'NN'),\n",
       " ('pulmonary', 'JJ'),\n",
       " ('rehabilitation', 'NN'),\n",
       " ('long', 'JJ'),\n",
       " ('term', 'NN'),\n",
       " ('oxygen', 'NN'),\n",
       " ('therapy', 'NN'),\n",
       " ('treatment', 'NN'),\n",
       " ('greater', 'JJR'),\n",
       " ('diagnosis', 'NN'),\n",
       " ('men', 'NNS'),\n",
       " ('spirometry', 'VBP'),\n",
       " ('medical', 'JJ'),\n",
       " ('faced', 'VBD'),\n",
       " ('serious', 'JJ'),\n",
       " ('public', 'JJ'),\n",
       " ('health', 'NN'),\n",
       " ('problem', 'NN'),\n",
       " ('need', 'VBP'),\n",
       " ('update', 'JJ'),\n",
       " ('adapt', 'NNS'),\n",
       " ('knowledge', 'VBP'),\n",
       " ('epidemiological', 'JJ')]"
      ]
     },
     "execution_count": 749,
     "metadata": {},
     "output_type": "execute_result"
    }
   ],
   "source": [
    "df['Abstract_tagged'][3]"
   ]
  },
  {
   "cell_type": "code",
   "execution_count": 750,
   "id": "0c620403",
   "metadata": {},
   "outputs": [
    {
     "name": "stdout",
     "output_type": "stream",
     "text": [
      "$: dollar\n",
      "    $ -$ --$ A$ C$ HK$ M$ NZ$ S$ U.S.$ US$\n",
      "'': closing quotation mark\n",
      "    ' ''\n",
      "(: opening parenthesis\n",
      "    ( [ {\n",
      "): closing parenthesis\n",
      "    ) ] }\n",
      ",: comma\n",
      "    ,\n",
      "--: dash\n",
      "    --\n",
      ".: sentence terminator\n",
      "    . ! ?\n",
      ":: colon or ellipsis\n",
      "    : ; ...\n",
      "CC: conjunction, coordinating\n",
      "    & 'n and both but either et for less minus neither nor or plus so\n",
      "    therefore times v. versus vs. whether yet\n",
      "CD: numeral, cardinal\n",
      "    mid-1890 nine-thirty forty-two one-tenth ten million 0.5 one forty-\n",
      "    seven 1987 twenty '79 zero two 78-degrees eighty-four IX '60s .025\n",
      "    fifteen 271,124 dozen quintillion DM2,000 ...\n",
      "DT: determiner\n",
      "    all an another any both del each either every half la many much nary\n",
      "    neither no some such that the them these this those\n",
      "EX: existential there\n",
      "    there\n",
      "FW: foreign word\n",
      "    gemeinschaft hund ich jeux habeas Haementeria Herr K'ang-si vous\n",
      "    lutihaw alai je jour objets salutaris fille quibusdam pas trop Monte\n",
      "    terram fiche oui corporis ...\n",
      "IN: preposition or conjunction, subordinating\n",
      "    astride among uppon whether out inside pro despite on by throughout\n",
      "    below within for towards near behind atop around if like until below\n",
      "    next into if beside ...\n",
      "JJ: adjective or numeral, ordinal\n",
      "    third ill-mannered pre-war regrettable oiled calamitous first separable\n",
      "    ectoplasmic battery-powered participatory fourth still-to-be-named\n",
      "    multilingual multi-disciplinary ...\n",
      "JJR: adjective, comparative\n",
      "    bleaker braver breezier briefer brighter brisker broader bumper busier\n",
      "    calmer cheaper choosier cleaner clearer closer colder commoner costlier\n",
      "    cozier creamier crunchier cuter ...\n",
      "JJS: adjective, superlative\n",
      "    calmest cheapest choicest classiest cleanest clearest closest commonest\n",
      "    corniest costliest crassest creepiest crudest cutest darkest deadliest\n",
      "    dearest deepest densest dinkiest ...\n",
      "LS: list item marker\n",
      "    A A. B B. C C. D E F First G H I J K One SP-44001 SP-44002 SP-44005\n",
      "    SP-44007 Second Third Three Two * a b c d first five four one six three\n",
      "    two\n",
      "MD: modal auxiliary\n",
      "    can cannot could couldn't dare may might must need ought shall should\n",
      "    shouldn't will would\n",
      "NN: noun, common, singular or mass\n",
      "    common-carrier cabbage knuckle-duster Casino afghan shed thermostat\n",
      "    investment slide humour falloff slick wind hyena override subhumanity\n",
      "    machinist ...\n",
      "NNP: noun, proper, singular\n",
      "    Motown Venneboerger Czestochwa Ranzer Conchita Trumplane Christos\n",
      "    Oceanside Escobar Kreisler Sawyer Cougar Yvette Ervin ODI Darryl CTCA\n",
      "    Shannon A.K.C. Meltex Liverpool ...\n",
      "NNPS: noun, proper, plural\n",
      "    Americans Americas Amharas Amityvilles Amusements Anarcho-Syndicalists\n",
      "    Andalusians Andes Andruses Angels Animals Anthony Antilles Antiques\n",
      "    Apache Apaches Apocrypha ...\n",
      "NNS: noun, common, plural\n",
      "    undergraduates scotches bric-a-brac products bodyguards facets coasts\n",
      "    divestitures storehouses designs clubs fragrances averages\n",
      "    subjectivists apprehensions muses factory-jobs ...\n",
      "PDT: pre-determiner\n",
      "    all both half many quite such sure this\n",
      "POS: genitive marker\n",
      "    ' 's\n",
      "PRP: pronoun, personal\n",
      "    hers herself him himself hisself it itself me myself one oneself ours\n",
      "    ourselves ownself self she thee theirs them themselves they thou thy us\n",
      "PRP$: pronoun, possessive\n",
      "    her his mine my our ours their thy your\n",
      "RB: adverb\n",
      "    occasionally unabatingly maddeningly adventurously professedly\n",
      "    stirringly prominently technologically magisterially predominately\n",
      "    swiftly fiscally pitilessly ...\n",
      "RBR: adverb, comparative\n",
      "    further gloomier grander graver greater grimmer harder harsher\n",
      "    healthier heavier higher however larger later leaner lengthier less-\n",
      "    perfectly lesser lonelier longer louder lower more ...\n",
      "RBS: adverb, superlative\n",
      "    best biggest bluntest earliest farthest first furthest hardest\n",
      "    heartiest highest largest least less most nearest second tightest worst\n",
      "RP: particle\n",
      "    aboard about across along apart around aside at away back before behind\n",
      "    by crop down ever fast for forth from go high i.e. in into just later\n",
      "    low more off on open out over per pie raising start teeth that through\n",
      "    under unto up up-pp upon whole with you\n",
      "SYM: symbol\n",
      "    % & ' '' ''. ) ). * + ,. < = > @ A[fj] U.S U.S.S.R * ** ***\n",
      "TO: \"to\" as preposition or infinitive marker\n",
      "    to\n",
      "UH: interjection\n",
      "    Goodbye Goody Gosh Wow Jeepers Jee-sus Hubba Hey Kee-reist Oops amen\n",
      "    huh howdy uh dammit whammo shucks heck anyways whodunnit honey golly\n",
      "    man baby diddle hush sonuvabitch ...\n",
      "VB: verb, base form\n",
      "    ask assemble assess assign assume atone attention avoid bake balkanize\n",
      "    bank begin behold believe bend benefit bevel beware bless boil bomb\n",
      "    boost brace break bring broil brush build ...\n",
      "VBD: verb, past tense\n",
      "    dipped pleaded swiped regummed soaked tidied convened halted registered\n",
      "    cushioned exacted snubbed strode aimed adopted belied figgered\n",
      "    speculated wore appreciated contemplated ...\n",
      "VBG: verb, present participle or gerund\n",
      "    telegraphing stirring focusing angering judging stalling lactating\n",
      "    hankerin' alleging veering capping approaching traveling besieging\n",
      "    encrypting interrupting erasing wincing ...\n",
      "VBN: verb, past participle\n",
      "    multihulled dilapidated aerosolized chaired languished panelized used\n",
      "    experimented flourished imitated reunifed factored condensed sheared\n",
      "    unsettled primed dubbed desired ...\n",
      "VBP: verb, present tense, not 3rd person singular\n",
      "    predominate wrap resort sue twist spill cure lengthen brush terminate\n",
      "    appear tend stray glisten obtain comprise detest tease attract\n",
      "    emphasize mold postpone sever return wag ...\n",
      "VBZ: verb, present tense, 3rd person singular\n",
      "    bases reconstructs marks mixes displeases seals carps weaves snatches\n",
      "    slumps stretches authorizes smolders pictures emerges stockpiles\n",
      "    seduces fizzes uses bolsters slaps speaks pleads ...\n",
      "WDT: WH-determiner\n",
      "    that what whatever which whichever\n",
      "WP: WH-pronoun\n",
      "    that what whatever whatsoever which who whom whosoever\n",
      "WP$: WH-pronoun, possessive\n",
      "    whose\n",
      "WRB: Wh-adverb\n",
      "    how however whence whenever where whereby whereever wherein whereof why\n",
      "``: opening quotation mark\n",
      "    ` ``\n"
     ]
    }
   ],
   "source": [
    "nltk.help.upenn_tagset()"
   ]
  },
  {
   "cell_type": "markdown",
   "id": "44443b85",
   "metadata": {},
   "source": [
    "While there are not many, it appears that adverbs ('RB') do not add informational value"
   ]
  },
  {
   "cell_type": "markdown",
   "id": "87899342",
   "metadata": {},
   "source": [
    "#### Remove adverbs"
   ]
  },
  {
   "cell_type": "code",
   "execution_count": 751,
   "id": "ce3d6353",
   "metadata": {},
   "outputs": [],
   "source": [
    "#creating a mini function to remove proper nouns\n",
    "def remove_adv(tagged_text):\n",
    "    return [(word, tag) for word,tag in tagged_text if tag != 'RB'] #keeping tag for lemmatizing"
   ]
  },
  {
   "cell_type": "code",
   "execution_count": 752,
   "id": "a4194fb2",
   "metadata": {},
   "outputs": [],
   "source": [
    "#applying the remove adverb function\n",
    "df['Abstract_tagged_no_adv'] = df['Abstract_tagged'].apply(remove_adv)"
   ]
  },
  {
   "cell_type": "markdown",
   "id": "4f9595e8",
   "metadata": {},
   "source": [
    "#### Lemmatizing"
   ]
  },
  {
   "cell_type": "code",
   "execution_count": 753,
   "id": "dd0a7e5a",
   "metadata": {},
   "outputs": [],
   "source": [
    "#creating a function to convert post_tags to WordNet friendly tags, then lemmatizing\n",
    "def lemmatize_all(tagged_text):\n",
    "    doc_lemm = []\n",
    "    wnl = WordNetLemmatizer()\n",
    "    for word, tag in (tagged_text):\n",
    "        if tag.startswith(\"NN\"):\n",
    "            doc_lemm.append(wnl.lemmatize(word, wordnet.NOUN))\n",
    "        elif tag.startswith('VB'):\n",
    "            doc_lemm.append(wnl.lemmatize(word, wordnet.VERB))\n",
    "        elif tag.startswith('JJ'):\n",
    "            doc_lemm.append(wnl.lemmatize(word, wordnet.ADJ))\n",
    "        else:\n",
    "            doc_lemm.append(word)\n",
    "    return doc_lemm"
   ]
  },
  {
   "cell_type": "code",
   "execution_count": 754,
   "id": "003a13f9",
   "metadata": {},
   "outputs": [],
   "source": [
    "#applying the lemmatization function\n",
    "df['Abstract_lemm'] = df['Abstract_tagged_no_adv'].apply(lemmatize_all)"
   ]
  },
  {
   "cell_type": "code",
   "execution_count": 755,
   "id": "cd4fe6bc",
   "metadata": {},
   "outputs": [
    {
     "data": {
      "text/plain": [
       "['female',\n",
       " 'face',\n",
       " 'chronic',\n",
       " 'obstructive',\n",
       " 'pulmonary',\n",
       " 'disease',\n",
       " 'prevalence',\n",
       " 'among',\n",
       " 'men',\n",
       " 'since',\n",
       " 'due',\n",
       " 'part',\n",
       " 'tobacco',\n",
       " 'use',\n",
       " 'among',\n",
       " 'exposure',\n",
       " 'find',\n",
       " 'number',\n",
       " 'evidence',\n",
       " 'susceptibility',\n",
       " 'smoking',\n",
       " 'along',\n",
       " 'epidemiological',\n",
       " 'phenotypic',\n",
       " 'become',\n",
       " 'leading',\n",
       " 'cause',\n",
       " 'death',\n",
       " 'clinical',\n",
       " 'presentation',\n",
       " 'pronounce',\n",
       " 'marked',\n",
       " 'tendency',\n",
       " 'towards',\n",
       " 'anxiety',\n",
       " 'depression',\n",
       " 'undernutrition',\n",
       " 'cell',\n",
       " 'lung',\n",
       " 'cancer',\n",
       " 'adenocarcinoma',\n",
       " 'osteoporosis',\n",
       " 'quality',\n",
       " 'life',\n",
       " 'impact',\n",
       " 'advanced',\n",
       " 'explain',\n",
       " 'involve',\n",
       " 'role',\n",
       " 'gas',\n",
       " 'exchange',\n",
       " 'smoking',\n",
       " 'require',\n",
       " 'appropriate',\n",
       " 'therapeutic',\n",
       " 'smoking',\n",
       " 'cessation',\n",
       " 'pulmonary',\n",
       " 'rehabilitation',\n",
       " 'long',\n",
       " 'term',\n",
       " 'oxygen',\n",
       " 'therapy',\n",
       " 'treatment',\n",
       " 'great',\n",
       " 'diagnosis',\n",
       " 'men',\n",
       " 'spirometry',\n",
       " 'medical',\n",
       " 'face',\n",
       " 'serious',\n",
       " 'public',\n",
       " 'health',\n",
       " 'problem',\n",
       " 'need',\n",
       " 'update',\n",
       " 'adapt',\n",
       " 'knowledge',\n",
       " 'epidemiological']"
      ]
     },
     "execution_count": 755,
     "metadata": {},
     "output_type": "execute_result"
    }
   ],
   "source": [
    "#inspect one document to see if adverbs (and tags) have been removed\n",
    "df['Abstract_lemm'][3]"
   ]
  },
  {
   "cell_type": "markdown",
   "id": "ead2b794",
   "metadata": {},
   "source": [
    "### Final cleaning before modeling"
   ]
  },
  {
   "cell_type": "code",
   "execution_count": 756,
   "id": "c0decc96",
   "metadata": {},
   "outputs": [
    {
     "data": {
      "text/html": [
       "<div>\n",
       "<style scoped>\n",
       "    .dataframe tbody tr th:only-of-type {\n",
       "        vertical-align: middle;\n",
       "    }\n",
       "\n",
       "    .dataframe tbody tr th {\n",
       "        vertical-align: top;\n",
       "    }\n",
       "\n",
       "    .dataframe thead th {\n",
       "        text-align: right;\n",
       "    }\n",
       "</style>\n",
       "<table border=\"1\" class=\"dataframe\">\n",
       "  <thead>\n",
       "    <tr style=\"text-align: right;\">\n",
       "      <th></th>\n",
       "      <th>PaperID</th>\n",
       "      <th>Abstract</th>\n",
       "      <th>Abstract_tokenized</th>\n",
       "      <th>Abstract_tagged</th>\n",
       "      <th>Abstract_tagged_no_adv</th>\n",
       "      <th>Abstract_lemm</th>\n",
       "    </tr>\n",
       "  </thead>\n",
       "  <tbody>\n",
       "    <tr>\n",
       "      <th>0</th>\n",
       "      <td>236</td>\n",
       "      <td>the quality of the mother child relationship i...</td>\n",
       "      <td>[quality, mother, child, relationship, first, ...</td>\n",
       "      <td>[(quality, NN), (mother, CC), (child, NN), (re...</td>\n",
       "      <td>[(quality, NN), (mother, CC), (child, NN), (re...</td>\n",
       "      <td>[quality, mother, child, relationship, first, ...</td>\n",
       "    </tr>\n",
       "    <tr>\n",
       "      <th>1</th>\n",
       "      <td>323</td>\n",
       "      <td>perinatal depression affects      of women in ...</td>\n",
       "      <td>[depression, south, health, depressive, change...</td>\n",
       "      <td>[(depression, NN), (south, VBZ), (health, NN),...</td>\n",
       "      <td>[(depression, NN), (south, VBZ), (health, NN),...</td>\n",
       "      <td>[depression, south, health, depressive, change...</td>\n",
       "    </tr>\n",
       "    <tr>\n",
       "      <th>2</th>\n",
       "      <td>874</td>\n",
       "      <td>sexual minority  sm  young adults  such as tho...</td>\n",
       "      <td>[sexual, minority, young, identify, gay, bisex...</td>\n",
       "      <td>[(sexual, JJ), (minority, NN), (young, JJ), (i...</td>\n",
       "      <td>[(sexual, JJ), (minority, NN), (young, JJ), (i...</td>\n",
       "      <td>[sexual, minority, young, identify, gay, bisex...</td>\n",
       "    </tr>\n",
       "    <tr>\n",
       "      <th>3</th>\n",
       "      <td>1098</td>\n",
       "      <td>the increasingly female face of chronic obstru...</td>\n",
       "      <td>[increasingly, female, face, chronic, obstruct...</td>\n",
       "      <td>[(increasingly, RB), (female, JJ), (face, NN),...</td>\n",
       "      <td>[(female, JJ), (face, NN), (chronic, JJ), (obs...</td>\n",
       "      <td>[female, face, chronic, obstructive, pulmonary...</td>\n",
       "    </tr>\n",
       "    <tr>\n",
       "      <th>4</th>\n",
       "      <td>1427</td>\n",
       "      <td>the prevalence of korean adolescents with depr...</td>\n",
       "      <td>[prevalence, depression, suicide, rate, among,...</td>\n",
       "      <td>[(prevalence, NN), (depression, NN), (suicide,...</td>\n",
       "      <td>[(prevalence, NN), (depression, NN), (suicide,...</td>\n",
       "      <td>[prevalence, depression, suicide, rate, among,...</td>\n",
       "    </tr>\n",
       "  </tbody>\n",
       "</table>\n",
       "</div>"
      ],
      "text/plain": [
       "   PaperID                                           Abstract  \\\n",
       "0      236  the quality of the mother child relationship i...   \n",
       "1      323  perinatal depression affects      of women in ...   \n",
       "2      874  sexual minority  sm  young adults  such as tho...   \n",
       "3     1098  the increasingly female face of chronic obstru...   \n",
       "4     1427  the prevalence of korean adolescents with depr...   \n",
       "\n",
       "                                  Abstract_tokenized  \\\n",
       "0  [quality, mother, child, relationship, first, ...   \n",
       "1  [depression, south, health, depressive, change...   \n",
       "2  [sexual, minority, young, identify, gay, bisex...   \n",
       "3  [increasingly, female, face, chronic, obstruct...   \n",
       "4  [prevalence, depression, suicide, rate, among,...   \n",
       "\n",
       "                                     Abstract_tagged  \\\n",
       "0  [(quality, NN), (mother, CC), (child, NN), (re...   \n",
       "1  [(depression, NN), (south, VBZ), (health, NN),...   \n",
       "2  [(sexual, JJ), (minority, NN), (young, JJ), (i...   \n",
       "3  [(increasingly, RB), (female, JJ), (face, NN),...   \n",
       "4  [(prevalence, NN), (depression, NN), (suicide,...   \n",
       "\n",
       "                              Abstract_tagged_no_adv  \\\n",
       "0  [(quality, NN), (mother, CC), (child, NN), (re...   \n",
       "1  [(depression, NN), (south, VBZ), (health, NN),...   \n",
       "2  [(sexual, JJ), (minority, NN), (young, JJ), (i...   \n",
       "3  [(female, JJ), (face, NN), (chronic, JJ), (obs...   \n",
       "4  [(prevalence, NN), (depression, NN), (suicide,...   \n",
       "\n",
       "                                       Abstract_lemm  \n",
       "0  [quality, mother, child, relationship, first, ...  \n",
       "1  [depression, south, health, depressive, change...  \n",
       "2  [sexual, minority, young, identify, gay, bisex...  \n",
       "3  [female, face, chronic, obstructive, pulmonary...  \n",
       "4  [prevalence, depression, suicide, rate, among,...  "
      ]
     },
     "execution_count": 756,
     "metadata": {},
     "output_type": "execute_result"
    }
   ],
   "source": [
    "#inspect dataframe one last time\n",
    "df.head()"
   ]
  },
  {
   "cell_type": "code",
   "execution_count": 757,
   "id": "f15c5b68",
   "metadata": {},
   "outputs": [
    {
     "data": {
      "text/plain": [
       "0"
      ]
     },
     "execution_count": 757,
     "metadata": {},
     "output_type": "execute_result"
    }
   ],
   "source": [
    "df.duplicated(subset=['PaperID', 'Abstract'], keep=False).sum()"
   ]
  },
  {
   "cell_type": "code",
   "execution_count": 758,
   "id": "f3049ce2",
   "metadata": {},
   "outputs": [],
   "source": [
    "#save df as csv just in case\n",
    "#df.to_csv('abstracts_preprocessed.csv', index=False)"
   ]
  },
  {
   "cell_type": "code",
   "execution_count": 759,
   "id": "865b7fc9",
   "metadata": {},
   "outputs": [],
   "source": [
    "#drop redundant columns\n",
    "df.drop(['Abstract_tokenized', 'Abstract_tagged', 'Abstract_tagged_no_adv'],\n",
    "       axis=1,\n",
    "       inplace=True)"
   ]
  },
  {
   "cell_type": "code",
   "execution_count": 760,
   "id": "aa995a13",
   "metadata": {},
   "outputs": [],
   "source": [
    "#rename abstract lemm column\n",
    "df.rename(columns={'Abstract_lemm':'Abstract_modeling'}, inplace=True)"
   ]
  },
  {
   "cell_type": "code",
   "execution_count": 761,
   "id": "5be355fa",
   "metadata": {},
   "outputs": [
    {
     "data": {
      "text/html": [
       "<div>\n",
       "<style scoped>\n",
       "    .dataframe tbody tr th:only-of-type {\n",
       "        vertical-align: middle;\n",
       "    }\n",
       "\n",
       "    .dataframe tbody tr th {\n",
       "        vertical-align: top;\n",
       "    }\n",
       "\n",
       "    .dataframe thead th {\n",
       "        text-align: right;\n",
       "    }\n",
       "</style>\n",
       "<table border=\"1\" class=\"dataframe\">\n",
       "  <thead>\n",
       "    <tr style=\"text-align: right;\">\n",
       "      <th></th>\n",
       "      <th>PaperID</th>\n",
       "      <th>Abstract</th>\n",
       "      <th>Abstract_modeling</th>\n",
       "    </tr>\n",
       "  </thead>\n",
       "  <tbody>\n",
       "    <tr>\n",
       "      <th>0</th>\n",
       "      <td>236</td>\n",
       "      <td>the quality of the mother child relationship i...</td>\n",
       "      <td>[quality, mother, child, relationship, first, ...</td>\n",
       "    </tr>\n",
       "    <tr>\n",
       "      <th>1</th>\n",
       "      <td>323</td>\n",
       "      <td>perinatal depression affects      of women in ...</td>\n",
       "      <td>[depression, south, health, depressive, change...</td>\n",
       "    </tr>\n",
       "    <tr>\n",
       "      <th>2</th>\n",
       "      <td>874</td>\n",
       "      <td>sexual minority  sm  young adults  such as tho...</td>\n",
       "      <td>[sexual, minority, young, identify, gay, bisex...</td>\n",
       "    </tr>\n",
       "    <tr>\n",
       "      <th>3</th>\n",
       "      <td>1098</td>\n",
       "      <td>the increasingly female face of chronic obstru...</td>\n",
       "      <td>[female, face, chronic, obstructive, pulmonary...</td>\n",
       "    </tr>\n",
       "    <tr>\n",
       "      <th>4</th>\n",
       "      <td>1427</td>\n",
       "      <td>the prevalence of korean adolescents with depr...</td>\n",
       "      <td>[prevalence, depression, suicide, rate, among,...</td>\n",
       "    </tr>\n",
       "  </tbody>\n",
       "</table>\n",
       "</div>"
      ],
      "text/plain": [
       "   PaperID                                           Abstract  \\\n",
       "0      236  the quality of the mother child relationship i...   \n",
       "1      323  perinatal depression affects      of women in ...   \n",
       "2      874  sexual minority  sm  young adults  such as tho...   \n",
       "3     1098  the increasingly female face of chronic obstru...   \n",
       "4     1427  the prevalence of korean adolescents with depr...   \n",
       "\n",
       "                                   Abstract_modeling  \n",
       "0  [quality, mother, child, relationship, first, ...  \n",
       "1  [depression, south, health, depressive, change...  \n",
       "2  [sexual, minority, young, identify, gay, bisex...  \n",
       "3  [female, face, chronic, obstructive, pulmonary...  \n",
       "4  [prevalence, depression, suicide, rate, among,...  "
      ]
     },
     "execution_count": 761,
     "metadata": {},
     "output_type": "execute_result"
    }
   ],
   "source": [
    "df.head()"
   ]
  },
  {
   "cell_type": "markdown",
   "id": "ff0c01e9",
   "metadata": {},
   "source": [
    "### Save as CSV for modeling"
   ]
  },
  {
   "cell_type": "code",
   "execution_count": 762,
   "id": "d312ba75",
   "metadata": {},
   "outputs": [],
   "source": [
    "df.to_csv('abstracts_for_modeling_4.csv', index=False)"
   ]
  },
  {
   "cell_type": "code",
   "execution_count": null,
   "id": "287b54ce",
   "metadata": {},
   "outputs": [],
   "source": []
  }
 ],
 "metadata": {
  "kernelspec": {
   "display_name": "Python 3",
   "language": "python",
   "name": "python3"
  },
  "language_info": {
   "codemirror_mode": {
    "name": "ipython",
    "version": 3
   },
   "file_extension": ".py",
   "mimetype": "text/x-python",
   "name": "python",
   "nbconvert_exporter": "python",
   "pygments_lexer": "ipython3",
   "version": "3.8.8"
  }
 },
 "nbformat": 4,
 "nbformat_minor": 5
}
